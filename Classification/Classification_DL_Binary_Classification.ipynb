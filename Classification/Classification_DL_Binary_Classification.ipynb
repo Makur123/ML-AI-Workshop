{
 "cells": [
  {
   "cell_type": "markdown",
   "metadata": {},
   "source": [
    "# <font color='Blue'>Deep Learning - Binary Classification</font>"
   ]
  },
  {
   "cell_type": "markdown",
   "metadata": {},
   "source": [
    "# <font color='Blue'>Classification</font>"
   ]
  },
  {
   "cell_type": "markdown",
   "metadata": {},
   "source": [
    "Classification is the problem of identifying to which of a set of categories or label, a new observation belongs. Classification of the new observation is on the basis of a training set of data containing observations (or instances) whose category membership is known.\n",
    "\n",
    "Classification problems are an important category of problems in analytics in which the outcome variable or response variable \n",
    "takes discrete values. Primary objective of a classification model is to predict the probability of an observation belonging \n",
    "to a class, known as class probability. Few examples of classificiation problems are\n",
    "  \n",
    "  1. A bank would like to classify its customers as high-risk and low-risk\n",
    "  2. E-commerce company would like to predict if a customer would churn or not\n",
    "  3. Health service provider may like to classify a patient as positive or negative\n",
    "  4. Predicting whether India will win world-cup or not\n",
    "  5. Classifying sentiments of customers as positive or negative\n",
    "  6. Based on image of the plant, predict if the plant is infected with a specific diease or not\n",
    "  \n",
    "Classification problems may have binary or multiple outcomes and so are called as binary or multinomial classification. Some\n",
    "techniques for solving classification problems are logistic regression, decision trees, naive-bayes, support vector machines, \n",
    "neural network, kNN etc.\n",
    "  \n",
    "We shall discuss logistic regression, decision trees, naive-bayes."
   ]
  },
  {
   "cell_type": "markdown",
   "metadata": {},
   "source": [
    "## <font color='Blue'>Learning Objectives</font>\n",
    "  1. Apply Deepl Learning to a Binary Classification Problem"
   ]
  },
  {
   "cell_type": "markdown",
   "metadata": {},
   "source": [
    "## <font color='Blue'>Importing Libraries</font>"
   ]
  },
  {
   "cell_type": "code",
   "execution_count": 1,
   "metadata": {},
   "outputs": [
    {
     "name": "stderr",
     "output_type": "stream",
     "text": [
      "Using TensorFlow backend.\n"
     ]
    },
    {
     "data": {
      "text/plain": [
       "'2.3.1'"
      ]
     },
     "execution_count": 1,
     "metadata": {},
     "output_type": "execute_result"
    }
   ],
   "source": [
    "import keras\n",
    "keras.__version__"
   ]
  },
  {
   "cell_type": "code",
   "execution_count": 2,
   "metadata": {},
   "outputs": [],
   "source": [
    "import warnings\n",
    "warnings.filterwarnings('ignore')\n",
    "import pandas as pd\n",
    "import numpy as np\n",
    "from sklearn.model_selection import train_test_split\n",
    "\n",
    "import matplotlib.pyplot as plt\n",
    "import seaborn as sn\n",
    "%matplotlib inline\n",
    "from sklearn import metrics"
   ]
  },
  {
   "cell_type": "code",
   "execution_count": 3,
   "metadata": {},
   "outputs": [],
   "source": [
    "np.set_printoptions(suppress=True)"
   ]
  },
  {
   "cell_type": "markdown",
   "metadata": {},
   "source": [
    "### <font color='Blue'>1.0 Dataset </font>"
   ]
  },
  {
   "cell_type": "markdown",
   "metadata": {},
   "source": [
    "Let us use the German credit rating datasheet available at UCI Machine learning repository to predict whether a credit is a \n",
    "good or a bad credit. Credit classification is one of the popular classification problems encountered by financial \n",
    "institutions. For example, when a customer applies for a lon, financial institutions such as banks would like to predict the \n",
    "probability of default. "
   ]
  },
  {
   "cell_type": "markdown",
   "metadata": {},
   "source": [
    "### <font color='Blue'>1.1 Loading Data</font>"
   ]
  },
  {
   "cell_type": "code",
   "execution_count": 4,
   "metadata": {},
   "outputs": [
    {
     "name": "stdout",
     "output_type": "stream",
     "text": [
      "<class 'pandas.core.frame.DataFrame'>\n",
      "RangeIndex: 1000 entries, 0 to 999\n",
      "Data columns (total 14 columns):\n",
      " #   Column             Non-Null Count  Dtype \n",
      "---  ------             --------------  ----- \n",
      " 0   checkin_acc        1000 non-null   object\n",
      " 1   duration           1000 non-null   int64 \n",
      " 2   credit_history     1000 non-null   object\n",
      " 3   amount             1000 non-null   int64 \n",
      " 4   savings_acc        1000 non-null   object\n",
      " 5   present_emp_since  1000 non-null   object\n",
      " 6   inst_rate          1000 non-null   int64 \n",
      " 7   personal_status    1000 non-null   object\n",
      " 8   residing_since     1000 non-null   int64 \n",
      " 9   age                1000 non-null   int64 \n",
      " 10  inst_plans         1000 non-null   object\n",
      " 11  num_credits        1000 non-null   int64 \n",
      " 12  job                1000 non-null   object\n",
      " 13  status             1000 non-null   int64 \n",
      "dtypes: int64(7), object(7)\n",
      "memory usage: 109.5+ KB\n"
     ]
    }
   ],
   "source": [
    "credit_df = pd.read_csv( \"German Credit Data.csv\" )\n",
    "credit_df.info()"
   ]
  },
  {
   "cell_type": "markdown",
   "metadata": {},
   "source": [
    "Dataset contains 1000 records and 14 columns\n",
    "\n",
    "There are few categorical columns which are inferred as objects"
   ]
  },
  {
   "cell_type": "code",
   "execution_count": 5,
   "metadata": {
    "scrolled": true
   },
   "outputs": [
    {
     "data": {
      "text/html": [
       "<div>\n",
       "<style scoped>\n",
       "    .dataframe tbody tr th:only-of-type {\n",
       "        vertical-align: middle;\n",
       "    }\n",
       "\n",
       "    .dataframe tbody tr th {\n",
       "        vertical-align: top;\n",
       "    }\n",
       "\n",
       "    .dataframe thead th {\n",
       "        text-align: right;\n",
       "    }\n",
       "</style>\n",
       "<table border=\"1\" class=\"dataframe\">\n",
       "  <thead>\n",
       "    <tr style=\"text-align: right;\">\n",
       "      <th></th>\n",
       "      <th>checkin_acc</th>\n",
       "      <th>duration</th>\n",
       "      <th>credit_history</th>\n",
       "      <th>amount</th>\n",
       "      <th>savings_acc</th>\n",
       "      <th>present_emp_since</th>\n",
       "      <th>inst_rate</th>\n",
       "      <th>personal_status</th>\n",
       "      <th>residing_since</th>\n",
       "      <th>age</th>\n",
       "      <th>inst_plans</th>\n",
       "      <th>num_credits</th>\n",
       "      <th>job</th>\n",
       "      <th>status</th>\n",
       "    </tr>\n",
       "  </thead>\n",
       "  <tbody>\n",
       "    <tr>\n",
       "      <th>0</th>\n",
       "      <td>A11</td>\n",
       "      <td>6</td>\n",
       "      <td>A34</td>\n",
       "      <td>1169</td>\n",
       "      <td>A65</td>\n",
       "      <td>A75</td>\n",
       "      <td>4</td>\n",
       "      <td>A93</td>\n",
       "      <td>4</td>\n",
       "      <td>67</td>\n",
       "      <td>A143</td>\n",
       "      <td>2</td>\n",
       "      <td>A173</td>\n",
       "      <td>0</td>\n",
       "    </tr>\n",
       "    <tr>\n",
       "      <th>1</th>\n",
       "      <td>A12</td>\n",
       "      <td>48</td>\n",
       "      <td>A32</td>\n",
       "      <td>5951</td>\n",
       "      <td>A61</td>\n",
       "      <td>A73</td>\n",
       "      <td>2</td>\n",
       "      <td>A92</td>\n",
       "      <td>2</td>\n",
       "      <td>22</td>\n",
       "      <td>A143</td>\n",
       "      <td>1</td>\n",
       "      <td>A173</td>\n",
       "      <td>1</td>\n",
       "    </tr>\n",
       "    <tr>\n",
       "      <th>2</th>\n",
       "      <td>A14</td>\n",
       "      <td>12</td>\n",
       "      <td>A34</td>\n",
       "      <td>2096</td>\n",
       "      <td>A61</td>\n",
       "      <td>A74</td>\n",
       "      <td>2</td>\n",
       "      <td>A93</td>\n",
       "      <td>3</td>\n",
       "      <td>49</td>\n",
       "      <td>A143</td>\n",
       "      <td>1</td>\n",
       "      <td>A172</td>\n",
       "      <td>0</td>\n",
       "    </tr>\n",
       "    <tr>\n",
       "      <th>3</th>\n",
       "      <td>A11</td>\n",
       "      <td>42</td>\n",
       "      <td>A32</td>\n",
       "      <td>7882</td>\n",
       "      <td>A61</td>\n",
       "      <td>A74</td>\n",
       "      <td>2</td>\n",
       "      <td>A93</td>\n",
       "      <td>4</td>\n",
       "      <td>45</td>\n",
       "      <td>A143</td>\n",
       "      <td>1</td>\n",
       "      <td>A173</td>\n",
       "      <td>0</td>\n",
       "    </tr>\n",
       "    <tr>\n",
       "      <th>4</th>\n",
       "      <td>A11</td>\n",
       "      <td>24</td>\n",
       "      <td>A33</td>\n",
       "      <td>4870</td>\n",
       "      <td>A61</td>\n",
       "      <td>A73</td>\n",
       "      <td>3</td>\n",
       "      <td>A93</td>\n",
       "      <td>4</td>\n",
       "      <td>53</td>\n",
       "      <td>A143</td>\n",
       "      <td>2</td>\n",
       "      <td>A173</td>\n",
       "      <td>1</td>\n",
       "    </tr>\n",
       "  </tbody>\n",
       "</table>\n",
       "</div>"
      ],
      "text/plain": [
       "  checkin_acc  duration credit_history  amount savings_acc present_emp_since  \\\n",
       "0         A11         6            A34    1169         A65               A75   \n",
       "1         A12        48            A32    5951         A61               A73   \n",
       "2         A14        12            A34    2096         A61               A74   \n",
       "3         A11        42            A32    7882         A61               A74   \n",
       "4         A11        24            A33    4870         A61               A73   \n",
       "\n",
       "   inst_rate personal_status  residing_since  age inst_plans  num_credits  \\\n",
       "0          4             A93               4   67       A143            2   \n",
       "1          2             A92               2   22       A143            1   \n",
       "2          2             A93               3   49       A143            1   \n",
       "3          2             A93               4   45       A143            1   \n",
       "4          3             A93               4   53       A143            2   \n",
       "\n",
       "    job  status  \n",
       "0  A173       0  \n",
       "1  A173       1  \n",
       "2  A172       0  \n",
       "3  A173       0  \n",
       "4  A173       1  "
      ]
     },
     "execution_count": 5,
     "metadata": {},
     "output_type": "execute_result"
    }
   ],
   "source": [
    "credit_df.iloc[0:5,0:14]"
   ]
  },
  {
   "cell_type": "markdown",
   "metadata": {},
   "source": [
    "### <font color='Blue'>1.2 Class Variable and Proportions</font>\n",
    "\n",
    "    Status variable stands for \"good credit\" or \"bad credit\"\n",
    "    Status = 0 - Good Credit\n",
    "    Status = 1 - Bad Credit\n",
    "    Proportion of Classes = 70% [0] and 30% [1]"
   ]
  },
  {
   "cell_type": "code",
   "execution_count": 6,
   "metadata": {},
   "outputs": [
    {
     "data": {
      "text/plain": [
       "0    700\n",
       "1    300\n",
       "Name: status, dtype: int64"
      ]
     },
     "execution_count": 6,
     "metadata": {},
     "output_type": "execute_result"
    }
   ],
   "source": [
    "credit_df.status.value_counts()"
   ]
  },
  {
   "cell_type": "markdown",
   "metadata": {},
   "source": [
    "### <font color='Blue'>1.3 Obtaining Indpendent Variables and Encoding Categorical Variables </font>"
   ]
  },
  {
   "cell_type": "code",
   "execution_count": 7,
   "metadata": {},
   "outputs": [
    {
     "data": {
      "text/plain": [
       "['checkin_acc',\n",
       " 'duration',\n",
       " 'credit_history',\n",
       " 'amount',\n",
       " 'savings_acc',\n",
       " 'present_emp_since',\n",
       " 'inst_rate',\n",
       " 'personal_status',\n",
       " 'residing_since',\n",
       " 'age',\n",
       " 'inst_plans',\n",
       " 'num_credits',\n",
       " 'job']"
      ]
     },
     "execution_count": 7,
     "metadata": {},
     "output_type": "execute_result"
    }
   ],
   "source": [
    "X_features = list( credit_df.columns )\n",
    "X_features.remove( 'status' )\n",
    "X_features"
   ]
  },
  {
   "cell_type": "code",
   "execution_count": 8,
   "metadata": {},
   "outputs": [
    {
     "data": {
      "text/plain": [
       "['duration',\n",
       " 'amount',\n",
       " 'inst_rate',\n",
       " 'residing_since',\n",
       " 'age',\n",
       " 'num_credits',\n",
       " 'checkin_acc_A12',\n",
       " 'checkin_acc_A13',\n",
       " 'checkin_acc_A14',\n",
       " 'credit_history_A31',\n",
       " 'credit_history_A32',\n",
       " 'credit_history_A33',\n",
       " 'credit_history_A34',\n",
       " 'savings_acc_A62',\n",
       " 'savings_acc_A63',\n",
       " 'savings_acc_A64',\n",
       " 'savings_acc_A65',\n",
       " 'present_emp_since_A72',\n",
       " 'present_emp_since_A73',\n",
       " 'present_emp_since_A74',\n",
       " 'present_emp_since_A75',\n",
       " 'personal_status_A92',\n",
       " 'personal_status_A93',\n",
       " 'personal_status_A94',\n",
       " 'inst_plans_A142',\n",
       " 'inst_plans_A143',\n",
       " 'job_A172',\n",
       " 'job_A173',\n",
       " 'job_A174']"
      ]
     },
     "execution_count": 8,
     "metadata": {},
     "output_type": "execute_result"
    }
   ],
   "source": [
    "encoded_credit_df = pd.get_dummies( credit_df[X_features], drop_first = True )\n",
    "list(encoded_credit_df.columns)"
   ]
  },
  {
   "cell_type": "markdown",
   "metadata": {},
   "source": [
    "#### Checking some encoded features"
   ]
  },
  {
   "cell_type": "code",
   "execution_count": 9,
   "metadata": {},
   "outputs": [
    {
     "data": {
      "text/html": [
       "<div>\n",
       "<style scoped>\n",
       "    .dataframe tbody tr th:only-of-type {\n",
       "        vertical-align: middle;\n",
       "    }\n",
       "\n",
       "    .dataframe tbody tr th {\n",
       "        vertical-align: top;\n",
       "    }\n",
       "\n",
       "    .dataframe thead th {\n",
       "        text-align: right;\n",
       "    }\n",
       "</style>\n",
       "<table border=\"1\" class=\"dataframe\">\n",
       "  <thead>\n",
       "    <tr style=\"text-align: right;\">\n",
       "      <th></th>\n",
       "      <th>checkin_acc_A12</th>\n",
       "      <th>checkin_acc_A13</th>\n",
       "      <th>checkin_acc_A14</th>\n",
       "    </tr>\n",
       "  </thead>\n",
       "  <tbody>\n",
       "    <tr>\n",
       "      <th>0</th>\n",
       "      <td>0</td>\n",
       "      <td>0</td>\n",
       "      <td>0</td>\n",
       "    </tr>\n",
       "    <tr>\n",
       "      <th>1</th>\n",
       "      <td>1</td>\n",
       "      <td>0</td>\n",
       "      <td>0</td>\n",
       "    </tr>\n",
       "    <tr>\n",
       "      <th>2</th>\n",
       "      <td>0</td>\n",
       "      <td>0</td>\n",
       "      <td>1</td>\n",
       "    </tr>\n",
       "    <tr>\n",
       "      <th>3</th>\n",
       "      <td>0</td>\n",
       "      <td>0</td>\n",
       "      <td>0</td>\n",
       "    </tr>\n",
       "    <tr>\n",
       "      <th>4</th>\n",
       "      <td>0</td>\n",
       "      <td>0</td>\n",
       "      <td>0</td>\n",
       "    </tr>\n",
       "  </tbody>\n",
       "</table>\n",
       "</div>"
      ],
      "text/plain": [
       "   checkin_acc_A12  checkin_acc_A13  checkin_acc_A14\n",
       "0                0                0                0\n",
       "1                1                0                0\n",
       "2                0                0                1\n",
       "3                0                0                0\n",
       "4                0                0                0"
      ]
     },
     "execution_count": 9,
     "metadata": {},
     "output_type": "execute_result"
    }
   ],
   "source": [
    "encoded_credit_df[['checkin_acc_A12','checkin_acc_A13','checkin_acc_A14']].head(5)"
   ]
  },
  {
   "cell_type": "code",
   "execution_count": 10,
   "metadata": {},
   "outputs": [
    {
     "name": "stdout",
     "output_type": "stream",
     "text": [
      "<class 'pandas.core.frame.DataFrame'>\n",
      "RangeIndex: 1000 entries, 0 to 999\n",
      "Data columns (total 29 columns):\n",
      " #   Column                 Non-Null Count  Dtype\n",
      "---  ------                 --------------  -----\n",
      " 0   duration               1000 non-null   int64\n",
      " 1   amount                 1000 non-null   int64\n",
      " 2   inst_rate              1000 non-null   int64\n",
      " 3   residing_since         1000 non-null   int64\n",
      " 4   age                    1000 non-null   int64\n",
      " 5   num_credits            1000 non-null   int64\n",
      " 6   checkin_acc_A12        1000 non-null   uint8\n",
      " 7   checkin_acc_A13        1000 non-null   uint8\n",
      " 8   checkin_acc_A14        1000 non-null   uint8\n",
      " 9   credit_history_A31     1000 non-null   uint8\n",
      " 10  credit_history_A32     1000 non-null   uint8\n",
      " 11  credit_history_A33     1000 non-null   uint8\n",
      " 12  credit_history_A34     1000 non-null   uint8\n",
      " 13  savings_acc_A62        1000 non-null   uint8\n",
      " 14  savings_acc_A63        1000 non-null   uint8\n",
      " 15  savings_acc_A64        1000 non-null   uint8\n",
      " 16  savings_acc_A65        1000 non-null   uint8\n",
      " 17  present_emp_since_A72  1000 non-null   uint8\n",
      " 18  present_emp_since_A73  1000 non-null   uint8\n",
      " 19  present_emp_since_A74  1000 non-null   uint8\n",
      " 20  present_emp_since_A75  1000 non-null   uint8\n",
      " 21  personal_status_A92    1000 non-null   uint8\n",
      " 22  personal_status_A93    1000 non-null   uint8\n",
      " 23  personal_status_A94    1000 non-null   uint8\n",
      " 24  inst_plans_A142        1000 non-null   uint8\n",
      " 25  inst_plans_A143        1000 non-null   uint8\n",
      " 26  job_A172               1000 non-null   uint8\n",
      " 27  job_A173               1000 non-null   uint8\n",
      " 28  job_A174               1000 non-null   uint8\n",
      "dtypes: int64(6), uint8(23)\n",
      "memory usage: 69.5 KB\n"
     ]
    }
   ],
   "source": [
    "encoded_credit_df.info()"
   ]
  },
  {
   "cell_type": "code",
   "execution_count": 11,
   "metadata": {},
   "outputs": [],
   "source": [
    "Y = credit_df.status\n",
    "X = encoded_credit_df"
   ]
  },
  {
   "cell_type": "markdown",
   "metadata": {},
   "source": [
    "### <font color='Blue'>1.4 Splitting into Train and Validation Sets </font>"
   ]
  },
  {
   "cell_type": "code",
   "execution_count": 12,
   "metadata": {},
   "outputs": [],
   "source": [
    "train_data, test_data, train_targets, test_targets = train_test_split( X , Y, train_size = 0.7, random_state = 42 )"
   ]
  },
  {
   "cell_type": "markdown",
   "metadata": {},
   "source": [
    "### <font color='Blue'>1.5 Converting Data Frame into Array </font>"
   ]
  },
  {
   "cell_type": "markdown",
   "metadata": {},
   "source": [
    "#### <font color='Blue'>1.5.1 Converting Train and Test Targets into Array </font>"
   ]
  },
  {
   "cell_type": "code",
   "execution_count": 13,
   "metadata": {},
   "outputs": [],
   "source": [
    "train_targets = train_targets.to_numpy()\n",
    "test_targets = test_targets.to_numpy()"
   ]
  },
  {
   "cell_type": "code",
   "execution_count": 14,
   "metadata": {},
   "outputs": [
    {
     "data": {
      "text/plain": [
       "array([0, 0, 0, 0, 0, 1, 1, 0, 0, 0, 1, 0, 0, 1, 0, 0, 1, 0, 1, 1, 0, 0,\n",
       "       1, 0, 0, 0, 0, 1, 1, 0, 0, 0, 1, 0, 0, 0, 1, 0, 0, 0, 0, 0, 1, 0,\n",
       "       0, 0, 1, 0, 0, 0, 1, 1, 0, 0, 1, 1, 0, 1, 0, 0, 0, 1, 0, 0, 0, 0,\n",
       "       0, 0, 0, 0, 1, 0, 0, 0, 0, 0, 0, 0, 0, 1, 0, 0, 0, 0, 0, 0, 1, 0,\n",
       "       0, 0, 0, 0, 0, 0, 1, 1, 1, 0, 1, 0, 0, 0, 0, 1, 1, 0, 0, 0, 0, 1,\n",
       "       0, 0, 0, 0, 0, 0, 0, 1, 0, 0, 1, 0, 0, 0, 0, 0, 0, 0, 0, 0, 0, 0,\n",
       "       0, 0, 1, 0, 1, 1, 0, 0, 0, 0, 0, 1, 1, 0, 1, 0, 0, 0, 1, 0, 0, 0,\n",
       "       0, 1, 1, 0, 1, 1, 1, 1, 1, 0, 0, 0, 0, 0, 0, 1, 1, 1, 0, 1, 0, 0,\n",
       "       0, 0, 0, 1, 1, 0, 1, 0, 0, 0, 0, 0, 0, 0, 0, 1, 0, 0, 0, 0, 1, 1,\n",
       "       0, 0, 0, 0, 0, 1, 0, 0, 0, 0, 0, 1, 1, 1, 1, 1, 0, 0, 0, 0, 1, 0,\n",
       "       0, 0, 1, 0, 1, 0, 0, 1, 0, 0, 1, 1, 1, 0, 0, 0, 0, 0, 0, 1, 1, 0,\n",
       "       1, 0, 0, 0, 0, 0, 0, 0, 1, 0, 0, 0, 0, 0, 0, 1, 0, 1, 1, 0, 1, 1,\n",
       "       0, 1, 0, 1, 0, 1, 0, 1, 0, 0, 1, 1, 0, 1, 0, 0, 1, 0, 1, 1, 0, 0,\n",
       "       0, 0, 0, 1, 0, 1, 0, 1, 1, 0, 0, 1, 1, 0, 0, 1, 0, 0, 0, 0, 1, 0,\n",
       "       0, 0, 1, 1, 1, 0, 0, 0, 1, 1, 0, 0, 0, 0, 0, 0, 0, 0, 0, 0, 0, 0,\n",
       "       1, 0, 0, 0, 0, 0, 0, 0, 0, 1, 1, 0, 1, 0, 1, 0, 0, 1, 0, 0, 1, 0,\n",
       "       1, 1, 0, 0, 0, 0, 0, 0, 0, 0, 0, 1, 0, 1, 0, 0, 0, 1, 0, 0, 1, 0,\n",
       "       0, 0, 0, 0, 0, 0, 0, 0, 0, 0, 0, 0, 0, 1, 0, 0, 0, 0, 0, 0, 0, 0,\n",
       "       1, 0, 1, 0, 1, 1, 0, 0, 0, 0, 0, 0, 1, 1, 1, 0, 0, 0, 0, 1, 0, 1,\n",
       "       0, 1, 1, 1, 0, 0, 0, 0, 0, 0, 0, 0, 0, 0, 0, 0, 0, 1, 1, 1, 0, 1,\n",
       "       0, 0, 0, 0, 0, 0, 1, 0, 0, 1, 1, 0, 0, 0, 1, 0, 0, 1, 0, 1, 0, 0,\n",
       "       0, 0, 1, 0, 0, 1, 1, 0, 0, 0, 0, 1, 0, 0, 0, 0, 0, 0, 1, 0, 0, 0,\n",
       "       0, 0, 1, 1, 1, 0, 1, 1, 0, 0, 0, 0, 0, 0, 1, 1, 1, 0, 0, 0, 0, 1,\n",
       "       0, 0, 0, 1, 1, 1, 0, 0, 0, 0, 0, 0, 1, 1, 1, 0, 0, 0, 0, 0, 0, 0,\n",
       "       0, 0, 0, 1, 0, 0, 1, 0, 1, 0, 0, 0, 0, 0, 0, 0, 0, 1, 0, 0, 0, 0,\n",
       "       0, 0, 0, 0, 0, 0, 0, 1, 0, 0, 1, 0, 0, 1, 0, 0, 0, 0, 1, 1, 1, 0,\n",
       "       0, 0, 0, 0, 0, 1, 0, 0, 0, 0, 0, 0, 1, 0, 0, 0, 1, 1, 0, 0, 1, 1,\n",
       "       1, 0, 0, 0, 0, 0, 0, 1, 0, 0, 0, 1, 0, 0, 0, 0, 0, 1, 1, 0, 0, 1,\n",
       "       0, 0, 1, 1, 0, 0, 1, 0, 0, 1, 0, 0, 0, 0, 0, 0, 0, 0, 1, 1, 0, 0,\n",
       "       1, 1, 1, 0, 0, 0, 0, 1, 1, 1, 0, 1, 0, 0, 0, 0, 0, 0, 1, 0, 1, 0,\n",
       "       1, 0, 0, 1, 1, 0, 1, 0, 0, 0, 0, 1, 0, 1, 0, 1, 0, 0, 1, 1, 0, 0,\n",
       "       0, 0, 0, 1, 0, 0, 0, 1, 0, 1, 0, 1, 0, 1, 0, 0, 1, 0], dtype=int64)"
      ]
     },
     "execution_count": 14,
     "metadata": {},
     "output_type": "execute_result"
    }
   ],
   "source": [
    "train_targets"
   ]
  },
  {
   "cell_type": "code",
   "execution_count": 15,
   "metadata": {},
   "outputs": [
    {
     "data": {
      "text/plain": [
       "array([1, 0, 0, 0, 0, 0, 0, 0, 0, 0, 0, 1, 0, 1, 1, 1, 0, 0, 1, 0, 0, 1,\n",
       "       0, 0, 0, 1, 0, 0, 0, 0, 0, 0, 1, 0, 0, 0, 0, 0, 0, 1, 0, 0, 0, 0,\n",
       "       0, 0, 1, 1, 1, 0, 1, 0, 0, 1, 0, 0, 0, 1, 0, 0, 0, 1, 1, 0, 0, 0,\n",
       "       0, 0, 0, 1, 0, 0, 0, 0, 0, 1, 1, 0, 1, 1, 0, 0, 0, 0, 0, 1, 1, 1,\n",
       "       0, 0, 0, 0, 1, 0, 0, 0, 0, 0, 1, 1, 0, 1, 1, 0, 0, 0, 0, 0, 0, 1,\n",
       "       1, 0, 0, 0, 0, 0, 1, 1, 0, 0, 0, 0, 0, 0, 1, 1, 1, 0, 0, 0, 0, 1,\n",
       "       1, 0, 0, 0, 1, 0, 0, 0, 1, 0, 1, 0, 0, 1, 0, 0, 1, 1, 0, 0, 0, 1,\n",
       "       0, 0, 0, 0, 0, 1, 1, 0, 1, 0, 0, 1, 0, 0, 0, 0, 0, 0, 0, 0, 0, 0,\n",
       "       0, 0, 0, 1, 0, 0, 0, 0, 0, 1, 1, 0, 0, 0, 1, 0, 1, 1, 1, 0, 1, 0,\n",
       "       0, 0, 1, 1, 0, 1, 0, 1, 0, 1, 1, 0, 0, 0, 1, 1, 0, 1, 0, 1, 0, 0,\n",
       "       0, 0, 0, 0, 0, 0, 0, 0, 0, 0, 0, 0, 0, 0, 0, 0, 0, 1, 1, 1, 0, 0,\n",
       "       0, 0, 0, 0, 0, 0, 0, 0, 0, 0, 1, 0, 1, 0, 0, 0, 1, 0, 1, 0, 0, 0,\n",
       "       1, 0, 0, 0, 1, 1, 0, 1, 1, 0, 0, 1, 0, 1, 0, 1, 0, 0, 0, 0, 0, 0,\n",
       "       1, 1, 1, 0, 1, 1, 0, 0, 0, 0, 1, 0, 0, 1], dtype=int64)"
      ]
     },
     "execution_count": 15,
     "metadata": {},
     "output_type": "execute_result"
    }
   ],
   "source": [
    "test_targets"
   ]
  },
  {
   "cell_type": "markdown",
   "metadata": {},
   "source": [
    "#### <font color='Blue'>1.5.2 Converting Train and Test Data into Array </font>"
   ]
  },
  {
   "cell_type": "code",
   "execution_count": 16,
   "metadata": {},
   "outputs": [],
   "source": [
    "train_data = train_data.to_numpy()\n",
    "test_data = test_data.to_numpy()"
   ]
  },
  {
   "cell_type": "code",
   "execution_count": 17,
   "metadata": {},
   "outputs": [
    {
     "data": {
      "text/plain": [
       "(700, 29)"
      ]
     },
     "execution_count": 17,
     "metadata": {},
     "output_type": "execute_result"
    }
   ],
   "source": [
    "train_data.shape"
   ]
  },
  {
   "cell_type": "code",
   "execution_count": 18,
   "metadata": {},
   "outputs": [
    {
     "data": {
      "text/plain": [
       "(300, 29)"
      ]
     },
     "execution_count": 18,
     "metadata": {},
     "output_type": "execute_result"
    }
   ],
   "source": [
    "test_data.shape"
   ]
  },
  {
   "cell_type": "markdown",
   "metadata": {},
   "source": [
    "### <font color='Blue'>1.6 Data Normalization </font>"
   ]
  },
  {
   "cell_type": "markdown",
   "metadata": {},
   "source": [
    "It would be problematic to feed into a neural network values that all take wildly different ranges. The network might be able to \n",
    "automatically adapt to such heterogeneous data, but it would definitely make learning more difficult. A widespread best practice to deal with such data is to do feature-wise normalization: for each feature in the input data (a column in the input data matrix), we will subtract the mean of the feature and divide by the standard deviation, so that the feature will be centered around 0 and will have a unit standard deviation. This is easily done in Numpy:"
   ]
  },
  {
   "cell_type": "code",
   "execution_count": 19,
   "metadata": {},
   "outputs": [],
   "source": [
    "mean = train_data.mean(axis=0)\n",
    "std  = train_data.std(axis=0)\n",
    "\n",
    "train_data = train_data - mean\n",
    "train_data = train_data/std\n",
    "\n",
    "test_data = test_data - mean\n",
    "test_data = test_data/std"
   ]
  },
  {
   "cell_type": "code",
   "execution_count": 20,
   "metadata": {},
   "outputs": [
    {
     "data": {
      "text/plain": [
       "array([ 0.23101642, -0.46293616,  0.91116369,  1.05738521,  2.17938197,\n",
       "        0.99779903, -0.62581954, -0.25898489,  1.24316312, -0.2259448 ,\n",
       "       -1.02020406,  3.12557687, -0.65688115, -0.33597259, -0.2682825 ,\n",
       "       -0.22941573, -0.47530984, -0.45256964, -0.7063493 , -0.46852129,\n",
       "        1.73205081, -0.68149479,  0.90453403, -0.31722063, -0.20029696,\n",
       "        0.4662524 , -0.47530984,  0.76635604, -0.44337478])"
      ]
     },
     "execution_count": 20,
     "metadata": {},
     "output_type": "execute_result"
    }
   ],
   "source": [
    "train_data[0]"
   ]
  },
  {
   "cell_type": "code",
   "execution_count": 21,
   "metadata": {},
   "outputs": [
    {
     "data": {
      "text/plain": [
       "array([-0.27354362, -0.07300748, -0.87793753, -0.75675608, -1.02204185,\n",
       "       -0.72254413, -0.62581954, -0.25898489, -0.80439967, -0.2259448 ,\n",
       "        0.98019606, -0.31994094, -0.65688115, -0.33597259, -0.2682825 ,\n",
       "       -0.22941573, -0.47530984, -0.45256964,  1.41573015, -0.46852129,\n",
       "       -0.57735027,  1.46736265, -1.1055416 , -0.31722063, -0.20029696,\n",
       "        0.4662524 , -0.47530984,  0.76635604, -0.44337478])"
      ]
     },
     "execution_count": 21,
     "metadata": {},
     "output_type": "execute_result"
    }
   ],
   "source": [
    "test_data[0]"
   ]
  },
  {
   "cell_type": "markdown",
   "metadata": {},
   "source": [
    "### <font color='Blue'>1.7 Building (Defining our Network) </font>"
   ]
  },
  {
   "cell_type": "markdown",
   "metadata": {},
   "source": [
    "<img src=\"Activation Function Last Layer.jpg\" width=800 height = 600>   "
   ]
  },
  {
   "cell_type": "code",
   "execution_count": 22,
   "metadata": {},
   "outputs": [],
   "source": [
    "from keras import models\n",
    "from keras import layers"
   ]
  },
  {
   "cell_type": "code",
   "execution_count": 23,
   "metadata": {},
   "outputs": [],
   "source": [
    "from keras import backend as K\n",
    "K.clear_session()\n",
    "\n",
    "model = models.Sequential()\n",
    "model.add(layers.Dense(16, activation='relu',\n",
    "                           input_shape=(train_data.shape[1],)))\n",
    "model.add(layers.Dense(8, activation='relu'))\n",
    "model.add(layers.Dense(1, activation='sigmoid'))\n",
    "model.compile(loss='binary_crossentropy', optimizer='rmsprop', metrics=['accuracy'])"
   ]
  },
  {
   "cell_type": "markdown",
   "metadata": {},
   "source": [
    "We need to pick a loss function and an optimizer. Since we are facing a binary classification problem and the output of our network \n",
    "is a probability (we end our network with a single-unit layer with a sigmoid activation), is it best to use the `binary_crossentropy` loss. \n",
    "Crossentropy is a quantity from the field of Information Theory, that measures the \"distance\" between probability distributions, or in our case, between the ground-truth distribution and our predictions.\n",
    "\n",
    "Here's the step where we configure our model with the `rmsprop` optimizer and the `binary_crossentropy` loss function. \n",
    "Note that we will also monitor accuracy during training."
   ]
  },
  {
   "cell_type": "markdown",
   "metadata": {},
   "source": [
    "### <font color='Blue'>1.8 Fitting our Model </font>"
   ]
  },
  {
   "cell_type": "code",
   "execution_count": 24,
   "metadata": {},
   "outputs": [
    {
     "name": "stdout",
     "output_type": "stream",
     "text": [
      "Train on 700 samples, validate on 300 samples\n",
      "Epoch 1/100\n",
      " - 0s - loss: 0.6558 - accuracy: 0.6786 - val_loss: 0.6412 - val_accuracy: 0.6667\n",
      "Epoch 2/100\n",
      " - 0s - loss: 0.6115 - accuracy: 0.7014 - val_loss: 0.6167 - val_accuracy: 0.6667\n",
      "Epoch 3/100\n",
      " - 0s - loss: 0.5845 - accuracy: 0.7186 - val_loss: 0.5982 - val_accuracy: 0.6633\n",
      "Epoch 4/100\n",
      " - 0s - loss: 0.5644 - accuracy: 0.7257 - val_loss: 0.5827 - val_accuracy: 0.6767\n",
      "Epoch 5/100\n",
      " - 0s - loss: 0.5482 - accuracy: 0.7329 - val_loss: 0.5700 - val_accuracy: 0.6800\n",
      "Epoch 6/100\n",
      " - 0s - loss: 0.5336 - accuracy: 0.7414 - val_loss: 0.5588 - val_accuracy: 0.6967\n",
      "Epoch 7/100\n",
      " - 0s - loss: 0.5211 - accuracy: 0.7514 - val_loss: 0.5497 - val_accuracy: 0.7100\n",
      "Epoch 8/100\n",
      " - 0s - loss: 0.5110 - accuracy: 0.7714 - val_loss: 0.5426 - val_accuracy: 0.7133\n",
      "Epoch 9/100\n",
      " - 0s - loss: 0.5011 - accuracy: 0.7700 - val_loss: 0.5356 - val_accuracy: 0.7100\n",
      "Epoch 10/100\n",
      " - 0s - loss: 0.4921 - accuracy: 0.7743 - val_loss: 0.5295 - val_accuracy: 0.7100\n",
      "Epoch 11/100\n",
      " - 0s - loss: 0.4846 - accuracy: 0.7829 - val_loss: 0.5239 - val_accuracy: 0.7267\n",
      "Epoch 12/100\n",
      " - 0s - loss: 0.4773 - accuracy: 0.7886 - val_loss: 0.5200 - val_accuracy: 0.7267\n",
      "Epoch 13/100\n",
      " - 0s - loss: 0.4708 - accuracy: 0.7829 - val_loss: 0.5164 - val_accuracy: 0.7233\n",
      "Epoch 14/100\n",
      " - 0s - loss: 0.4648 - accuracy: 0.7871 - val_loss: 0.5130 - val_accuracy: 0.7333\n",
      "Epoch 15/100\n",
      " - 0s - loss: 0.4593 - accuracy: 0.7814 - val_loss: 0.5104 - val_accuracy: 0.7333\n",
      "Epoch 16/100\n",
      " - 0s - loss: 0.4543 - accuracy: 0.7900 - val_loss: 0.5080 - val_accuracy: 0.7333\n",
      "Epoch 17/100\n",
      " - 0s - loss: 0.4492 - accuracy: 0.7886 - val_loss: 0.5071 - val_accuracy: 0.7333\n",
      "Epoch 18/100\n",
      " - 0s - loss: 0.4449 - accuracy: 0.7900 - val_loss: 0.5052 - val_accuracy: 0.7433\n",
      "Epoch 19/100\n",
      " - 0s - loss: 0.4415 - accuracy: 0.7914 - val_loss: 0.5039 - val_accuracy: 0.7467\n",
      "Epoch 20/100\n",
      " - 0s - loss: 0.4369 - accuracy: 0.7929 - val_loss: 0.5034 - val_accuracy: 0.7433\n",
      "Epoch 21/100\n",
      " - 0s - loss: 0.4335 - accuracy: 0.7971 - val_loss: 0.5030 - val_accuracy: 0.7433\n",
      "Epoch 22/100\n",
      " - 0s - loss: 0.4299 - accuracy: 0.7957 - val_loss: 0.5028 - val_accuracy: 0.7333\n",
      "Epoch 23/100\n",
      " - 0s - loss: 0.4266 - accuracy: 0.8014 - val_loss: 0.5016 - val_accuracy: 0.7433\n",
      "Epoch 24/100\n",
      " - 0s - loss: 0.4232 - accuracy: 0.8057 - val_loss: 0.5028 - val_accuracy: 0.7433\n",
      "Epoch 25/100\n",
      " - 0s - loss: 0.4203 - accuracy: 0.8114 - val_loss: 0.5041 - val_accuracy: 0.7400\n",
      "Epoch 26/100\n",
      " - 0s - loss: 0.4175 - accuracy: 0.8114 - val_loss: 0.5029 - val_accuracy: 0.7467\n",
      "Epoch 27/100\n",
      " - 0s - loss: 0.4149 - accuracy: 0.8143 - val_loss: 0.5041 - val_accuracy: 0.7467\n",
      "Epoch 28/100\n",
      " - 0s - loss: 0.4121 - accuracy: 0.8114 - val_loss: 0.5037 - val_accuracy: 0.7533\n",
      "Epoch 29/100\n",
      " - 0s - loss: 0.4090 - accuracy: 0.8143 - val_loss: 0.5050 - val_accuracy: 0.7533\n",
      "Epoch 30/100\n",
      " - 0s - loss: 0.4063 - accuracy: 0.8129 - val_loss: 0.5049 - val_accuracy: 0.7533\n",
      "Epoch 31/100\n",
      " - 0s - loss: 0.4033 - accuracy: 0.8143 - val_loss: 0.5045 - val_accuracy: 0.7467\n",
      "Epoch 32/100\n",
      " - 0s - loss: 0.4006 - accuracy: 0.8171 - val_loss: 0.5056 - val_accuracy: 0.7433\n",
      "Epoch 33/100\n",
      " - 0s - loss: 0.3977 - accuracy: 0.8214 - val_loss: 0.5054 - val_accuracy: 0.7467\n",
      "Epoch 34/100\n",
      " - 0s - loss: 0.3956 - accuracy: 0.8214 - val_loss: 0.5065 - val_accuracy: 0.7467\n",
      "Epoch 35/100\n",
      " - 0s - loss: 0.3928 - accuracy: 0.8214 - val_loss: 0.5064 - val_accuracy: 0.7467\n",
      "Epoch 36/100\n",
      " - 0s - loss: 0.3896 - accuracy: 0.8314 - val_loss: 0.5067 - val_accuracy: 0.7433\n",
      "Epoch 37/100\n",
      " - 0s - loss: 0.3872 - accuracy: 0.8214 - val_loss: 0.5071 - val_accuracy: 0.7433\n",
      "Epoch 38/100\n",
      " - 0s - loss: 0.3854 - accuracy: 0.8243 - val_loss: 0.5079 - val_accuracy: 0.7400\n",
      "Epoch 39/100\n",
      " - 0s - loss: 0.3818 - accuracy: 0.8271 - val_loss: 0.5084 - val_accuracy: 0.7433\n",
      "Epoch 40/100\n",
      " - 0s - loss: 0.3802 - accuracy: 0.8314 - val_loss: 0.5091 - val_accuracy: 0.7367\n",
      "Epoch 41/100\n",
      " - 0s - loss: 0.3773 - accuracy: 0.8286 - val_loss: 0.5101 - val_accuracy: 0.7300\n",
      "Epoch 42/100\n",
      " - 0s - loss: 0.3751 - accuracy: 0.8386 - val_loss: 0.5110 - val_accuracy: 0.7333\n",
      "Epoch 43/100\n",
      " - 0s - loss: 0.3731 - accuracy: 0.8343 - val_loss: 0.5124 - val_accuracy: 0.7367\n",
      "Epoch 44/100\n",
      " - 0s - loss: 0.3705 - accuracy: 0.8443 - val_loss: 0.5127 - val_accuracy: 0.7367\n",
      "Epoch 45/100\n",
      " - 0s - loss: 0.3685 - accuracy: 0.8357 - val_loss: 0.5133 - val_accuracy: 0.7400\n",
      "Epoch 46/100\n",
      " - 0s - loss: 0.3659 - accuracy: 0.8400 - val_loss: 0.5141 - val_accuracy: 0.7400\n",
      "Epoch 47/100\n",
      " - 0s - loss: 0.3639 - accuracy: 0.8400 - val_loss: 0.5157 - val_accuracy: 0.7400\n",
      "Epoch 48/100\n",
      " - 0s - loss: 0.3616 - accuracy: 0.8386 - val_loss: 0.5162 - val_accuracy: 0.7400\n",
      "Epoch 49/100\n",
      " - 0s - loss: 0.3601 - accuracy: 0.8414 - val_loss: 0.5178 - val_accuracy: 0.7400\n",
      "Epoch 50/100\n",
      " - 0s - loss: 0.3572 - accuracy: 0.8471 - val_loss: 0.5186 - val_accuracy: 0.7400\n",
      "Epoch 51/100\n",
      " - 0s - loss: 0.3562 - accuracy: 0.8457 - val_loss: 0.5197 - val_accuracy: 0.7433\n",
      "Epoch 52/100\n",
      " - 0s - loss: 0.3535 - accuracy: 0.8457 - val_loss: 0.5211 - val_accuracy: 0.7400\n",
      "Epoch 53/100\n",
      " - 0s - loss: 0.3521 - accuracy: 0.8543 - val_loss: 0.5216 - val_accuracy: 0.7400\n",
      "Epoch 54/100\n",
      " - 0s - loss: 0.3501 - accuracy: 0.8486 - val_loss: 0.5221 - val_accuracy: 0.7400\n",
      "Epoch 55/100\n",
      " - 0s - loss: 0.3477 - accuracy: 0.8500 - val_loss: 0.5230 - val_accuracy: 0.7433\n",
      "Epoch 56/100\n",
      " - 0s - loss: 0.3460 - accuracy: 0.8486 - val_loss: 0.5244 - val_accuracy: 0.7433\n",
      "Epoch 57/100\n",
      " - 0s - loss: 0.3441 - accuracy: 0.8471 - val_loss: 0.5257 - val_accuracy: 0.7400\n",
      "Epoch 58/100\n",
      " - 0s - loss: 0.3425 - accuracy: 0.8486 - val_loss: 0.5265 - val_accuracy: 0.7400\n",
      "Epoch 59/100\n",
      " - 0s - loss: 0.3407 - accuracy: 0.8500 - val_loss: 0.5274 - val_accuracy: 0.7400\n",
      "Epoch 60/100\n",
      " - 0s - loss: 0.3380 - accuracy: 0.8543 - val_loss: 0.5279 - val_accuracy: 0.7433\n",
      "Epoch 61/100\n",
      " - 0s - loss: 0.3372 - accuracy: 0.8529 - val_loss: 0.5299 - val_accuracy: 0.7433\n",
      "Epoch 62/100\n",
      " - 0s - loss: 0.3344 - accuracy: 0.8557 - val_loss: 0.5307 - val_accuracy: 0.7400\n",
      "Epoch 63/100\n",
      " - 0s - loss: 0.3334 - accuracy: 0.8557 - val_loss: 0.5323 - val_accuracy: 0.7367\n",
      "Epoch 64/100\n",
      " - 0s - loss: 0.3309 - accuracy: 0.8557 - val_loss: 0.5337 - val_accuracy: 0.7433\n",
      "Epoch 65/100\n",
      " - 0s - loss: 0.3289 - accuracy: 0.8629 - val_loss: 0.5359 - val_accuracy: 0.7400\n",
      "Epoch 66/100\n",
      " - 0s - loss: 0.3273 - accuracy: 0.8671 - val_loss: 0.5381 - val_accuracy: 0.7400\n",
      "Epoch 67/100\n",
      " - 0s - loss: 0.3261 - accuracy: 0.8586 - val_loss: 0.5381 - val_accuracy: 0.7367\n",
      "Epoch 68/100\n",
      " - 0s - loss: 0.3237 - accuracy: 0.8600 - val_loss: 0.5399 - val_accuracy: 0.7367\n",
      "Epoch 69/100\n",
      " - 0s - loss: 0.3219 - accuracy: 0.8643 - val_loss: 0.5403 - val_accuracy: 0.7400\n",
      "Epoch 70/100\n",
      " - 0s - loss: 0.3216 - accuracy: 0.8600 - val_loss: 0.5421 - val_accuracy: 0.7400\n",
      "Epoch 71/100\n",
      " - 0s - loss: 0.3191 - accuracy: 0.8657 - val_loss: 0.5441 - val_accuracy: 0.7333\n",
      "Epoch 72/100\n",
      " - 0s - loss: 0.3172 - accuracy: 0.8629 - val_loss: 0.5458 - val_accuracy: 0.7367\n",
      "Epoch 73/100\n",
      " - 0s - loss: 0.3152 - accuracy: 0.8671 - val_loss: 0.5453 - val_accuracy: 0.7367\n",
      "Epoch 74/100\n",
      " - 0s - loss: 0.3130 - accuracy: 0.8671 - val_loss: 0.5491 - val_accuracy: 0.7400\n",
      "Epoch 75/100\n",
      " - 0s - loss: 0.3117 - accuracy: 0.8700 - val_loss: 0.5483 - val_accuracy: 0.7300\n",
      "Epoch 76/100\n",
      " - 0s - loss: 0.3099 - accuracy: 0.8700 - val_loss: 0.5496 - val_accuracy: 0.7333\n",
      "Epoch 77/100\n",
      " - 0s - loss: 0.3087 - accuracy: 0.8743 - val_loss: 0.5512 - val_accuracy: 0.7333\n",
      "Epoch 78/100\n",
      " - 0s - loss: 0.3062 - accuracy: 0.8657 - val_loss: 0.5528 - val_accuracy: 0.7300\n",
      "Epoch 79/100\n",
      " - 0s - loss: 0.3056 - accuracy: 0.8757 - val_loss: 0.5560 - val_accuracy: 0.7233\n",
      "Epoch 80/100\n",
      " - 0s - loss: 0.3034 - accuracy: 0.8757 - val_loss: 0.5572 - val_accuracy: 0.7367\n",
      "Epoch 81/100\n",
      " - 0s - loss: 0.3017 - accuracy: 0.8757 - val_loss: 0.5564 - val_accuracy: 0.7267\n",
      "Epoch 82/100\n",
      " - 0s - loss: 0.3002 - accuracy: 0.8771 - val_loss: 0.5575 - val_accuracy: 0.7333\n",
      "Epoch 83/100\n",
      " - 0s - loss: 0.2979 - accuracy: 0.8771 - val_loss: 0.5604 - val_accuracy: 0.7233\n",
      "Epoch 84/100\n",
      " - 0s - loss: 0.2972 - accuracy: 0.8886 - val_loss: 0.5609 - val_accuracy: 0.7267\n",
      "Epoch 85/100\n",
      " - 0s - loss: 0.2951 - accuracy: 0.8900 - val_loss: 0.5627 - val_accuracy: 0.7267\n",
      "Epoch 86/100\n",
      " - 0s - loss: 0.2939 - accuracy: 0.8800 - val_loss: 0.5647 - val_accuracy: 0.7200\n"
     ]
    },
    {
     "name": "stdout",
     "output_type": "stream",
     "text": [
      "Epoch 87/100\n",
      " - 0s - loss: 0.2916 - accuracy: 0.8843 - val_loss: 0.5658 - val_accuracy: 0.7333\n",
      "Epoch 88/100\n",
      " - 0s - loss: 0.2910 - accuracy: 0.8871 - val_loss: 0.5670 - val_accuracy: 0.7300\n",
      "Epoch 89/100\n",
      " - 0s - loss: 0.2892 - accuracy: 0.8886 - val_loss: 0.5693 - val_accuracy: 0.7300\n",
      "Epoch 90/100\n",
      " - 0s - loss: 0.2876 - accuracy: 0.8857 - val_loss: 0.5710 - val_accuracy: 0.7300\n",
      "Epoch 91/100\n",
      " - 0s - loss: 0.2860 - accuracy: 0.8857 - val_loss: 0.5728 - val_accuracy: 0.7300\n",
      "Epoch 92/100\n",
      " - 0s - loss: 0.2842 - accuracy: 0.8900 - val_loss: 0.5759 - val_accuracy: 0.7333\n",
      "Epoch 93/100\n",
      " - 0s - loss: 0.2833 - accuracy: 0.8900 - val_loss: 0.5785 - val_accuracy: 0.7333\n",
      "Epoch 94/100\n",
      " - 0s - loss: 0.2816 - accuracy: 0.8843 - val_loss: 0.5796 - val_accuracy: 0.7300\n",
      "Epoch 95/100\n",
      " - 0s - loss: 0.2803 - accuracy: 0.8871 - val_loss: 0.5823 - val_accuracy: 0.7367\n",
      "Epoch 96/100\n",
      " - 0s - loss: 0.2788 - accuracy: 0.8943 - val_loss: 0.5848 - val_accuracy: 0.7367\n",
      "Epoch 97/100\n",
      " - 0s - loss: 0.2764 - accuracy: 0.8886 - val_loss: 0.5862 - val_accuracy: 0.7400\n",
      "Epoch 98/100\n",
      " - 0s - loss: 0.2758 - accuracy: 0.8914 - val_loss: 0.5863 - val_accuracy: 0.7400\n",
      "Epoch 99/100\n",
      " - 0s - loss: 0.2743 - accuracy: 0.8943 - val_loss: 0.5926 - val_accuracy: 0.7333\n",
      "Epoch 100/100\n",
      " - 0s - loss: 0.2737 - accuracy: 0.8900 - val_loss: 0.5925 - val_accuracy: 0.7333\n"
     ]
    }
   ],
   "source": [
    "hist = model.fit(train_data, train_targets,\n",
    "                             epochs=100,\n",
    "                             batch_size=32,verbose=2,\n",
    "                             validation_data=(test_data, test_targets))"
   ]
  },
  {
   "cell_type": "code",
   "execution_count": 25,
   "metadata": {},
   "outputs": [
    {
     "data": {
      "text/plain": [
       "dict_keys(['val_loss', 'val_accuracy', 'loss', 'accuracy'])"
      ]
     },
     "execution_count": 25,
     "metadata": {},
     "output_type": "execute_result"
    }
   ],
   "source": [
    "history_dict = hist.history\n",
    "history_dict.keys()"
   ]
  },
  {
   "cell_type": "markdown",
   "metadata": {},
   "source": [
    "### <font color='Blue'>1.9 Comparison of Accuracy in Training and Test Data Set </font>"
   ]
  },
  {
   "cell_type": "code",
   "execution_count": 26,
   "metadata": {},
   "outputs": [],
   "source": [
    "epochs = range(1, 101)\n",
    "tra_acc = hist.history['accuracy']\n",
    "val_acc = hist.history['val_accuracy']\n",
    "\n",
    "tra_loss = hist.history['loss']\n",
    "val_loss = hist.history['val_loss']"
   ]
  },
  {
   "cell_type": "code",
   "execution_count": 27,
   "metadata": {},
   "outputs": [
    {
     "data": {
      "image/png": "[encoded data removed]",
      "text/plain": [
       "<Figure size 432x288 with 1 Axes>"
      ]
     },
     "metadata": {
      "needs_background": "light"
     },
     "output_type": "display_data"
    }
   ],
   "source": [
    "plt.plot(epochs, tra_acc, 'o', label='Training')\n",
    "plt.plot(epochs, val_acc, '+', label='Validation')\n",
    "plt.xlabel('Epochs')\n",
    "plt.ylabel('Accuracy')\n",
    "plt.title('Training vs Validation Accuracy')\n",
    "plt.legend()\n",
    "plt.show()"
   ]
  },
  {
   "cell_type": "code",
   "execution_count": 28,
   "metadata": {},
   "outputs": [
    {
     "data": {
      "image/png": "[encoded data removed]",
      "text/plain": [
       "<Figure size 432x288 with 1 Axes>"
      ]
     },
     "metadata": {
      "needs_background": "light"
     },
     "output_type": "display_data"
    }
   ],
   "source": [
    "plt.plot(epochs, tra_loss, 'o', label='Training')\n",
    "plt.plot(epochs, val_loss, '+', label='Validation')\n",
    "plt.xlabel('Epochs')\n",
    "plt.ylabel('Losses')\n",
    "plt.title('Training vs Validation Losses')\n",
    "plt.legend()\n",
    "plt.show()"
   ]
  },
  {
   "cell_type": "markdown",
   "metadata": {},
   "source": [
    "### <font color='Blue'>What Should you do ?</font>"
   ]
  },
  {
   "cell_type": "markdown",
   "metadata": {},
   "source": [
    "Let us Experiment. You will guide me. Try a Different Architecture. Different Optimizer ?"
   ]
  },
  {
   "cell_type": "markdown",
   "metadata": {},
   "source": [
    "### <font color='Blue'>1.10 Extracting Predicted Probabilities </font>"
   ]
  },
  {
   "cell_type": "code",
   "execution_count": 29,
   "metadata": {},
   "outputs": [],
   "source": [
    "pred_probs=model.predict(test_data)\n",
    "predicted_prob=pd.DataFrame(pred_probs)"
   ]
  },
  {
   "cell_type": "code",
   "execution_count": 30,
   "metadata": {},
   "outputs": [
    {
     "data": {
      "text/html": [
       "<div>\n",
       "<style scoped>\n",
       "    .dataframe tbody tr th:only-of-type {\n",
       "        vertical-align: middle;\n",
       "    }\n",
       "\n",
       "    .dataframe tbody tr th {\n",
       "        vertical-align: top;\n",
       "    }\n",
       "\n",
       "    .dataframe thead th {\n",
       "        text-align: right;\n",
       "    }\n",
       "</style>\n",
       "<table border=\"1\" class=\"dataframe\">\n",
       "  <thead>\n",
       "    <tr style=\"text-align: right;\">\n",
       "      <th></th>\n",
       "      <th>actual</th>\n",
       "      <th>predicted_prob</th>\n",
       "    </tr>\n",
       "  </thead>\n",
       "  <tbody>\n",
       "    <tr>\n",
       "      <th>0</th>\n",
       "      <td>1</td>\n",
       "      <td>0.485388</td>\n",
       "    </tr>\n",
       "    <tr>\n",
       "      <th>1</th>\n",
       "      <td>0</td>\n",
       "      <td>0.792686</td>\n",
       "    </tr>\n",
       "    <tr>\n",
       "      <th>2</th>\n",
       "      <td>0</td>\n",
       "      <td>0.820211</td>\n",
       "    </tr>\n",
       "    <tr>\n",
       "      <th>3</th>\n",
       "      <td>0</td>\n",
       "      <td>0.243997</td>\n",
       "    </tr>\n",
       "    <tr>\n",
       "      <th>4</th>\n",
       "      <td>0</td>\n",
       "      <td>0.008544</td>\n",
       "    </tr>\n",
       "    <tr>\n",
       "      <th>...</th>\n",
       "      <td>...</td>\n",
       "      <td>...</td>\n",
       "    </tr>\n",
       "    <tr>\n",
       "      <th>295</th>\n",
       "      <td>0</td>\n",
       "      <td>0.010977</td>\n",
       "    </tr>\n",
       "    <tr>\n",
       "      <th>296</th>\n",
       "      <td>1</td>\n",
       "      <td>0.316060</td>\n",
       "    </tr>\n",
       "    <tr>\n",
       "      <th>297</th>\n",
       "      <td>0</td>\n",
       "      <td>0.140617</td>\n",
       "    </tr>\n",
       "    <tr>\n",
       "      <th>298</th>\n",
       "      <td>0</td>\n",
       "      <td>0.947793</td>\n",
       "    </tr>\n",
       "    <tr>\n",
       "      <th>299</th>\n",
       "      <td>1</td>\n",
       "      <td>0.379972</td>\n",
       "    </tr>\n",
       "  </tbody>\n",
       "</table>\n",
       "<p>300 rows × 2 columns</p>\n",
       "</div>"
      ],
      "text/plain": [
       "     actual  predicted_prob\n",
       "0         1        0.485388\n",
       "1         0        0.792686\n",
       "2         0        0.820211\n",
       "3         0        0.243997\n",
       "4         0        0.008544\n",
       "..      ...             ...\n",
       "295       0        0.010977\n",
       "296       1        0.316060\n",
       "297       0        0.140617\n",
       "298       0        0.947793\n",
       "299       1        0.379972\n",
       "\n",
       "[300 rows x 2 columns]"
      ]
     },
     "execution_count": 30,
     "metadata": {},
     "output_type": "execute_result"
    }
   ],
   "source": [
    "y_pred_df = pd.DataFrame( { \"actual\": test_targets, \"predicted_prob\":predicted_prob[0]\n",
    "                          } )\n",
    "y_pred_df"
   ]
  },
  {
   "cell_type": "markdown",
   "metadata": {},
   "source": [
    "### <font color='Blue'>1.11 Classifier Performance </font>\n",
    "\n",
    "<b> RoC Curve </b>\n",
    "\n",
    "RoC Curve can be used to understand the overall performance of the classifier and used for model selection. <br>\n",
    "RoC Curve is a plot between False positive rate [FP / (TN + FP)] and True positive rate [TP / (TP+FN)] <br>\n",
    "\n",
    "Higher the AUC, better the model <br>\n",
    "AUC < 0.5 model is inferior to a case of having no model <br>\n",
    "AUC > 0.7 model is useful"
   ]
  },
  {
   "cell_type": "code",
   "execution_count": 31,
   "metadata": {},
   "outputs": [
    {
     "data": {
      "image/png": "[encoded data removed]",
      "text/plain": [
       "<Figure size 576x432 with 1 Axes>"
      ]
     },
     "metadata": {
      "needs_background": "light"
     },
     "output_type": "display_data"
    },
    {
     "name": "stdout",
     "output_type": "stream",
     "text": [
      "auc_score: 0.76\n"
     ]
    }
   ],
   "source": [
    "def draw_roc( actual, probs ):\n",
    "    fpr, \\\n",
    "    tpr, \\\n",
    "    thresholds = metrics.roc_curve( actual, probs, drop_intermediate = False )\n",
    "    auc_score = metrics.roc_auc_score( actual, probs )\n",
    "    plt.figure(figsize=(8, 6))\n",
    "    plt.plot( fpr, tpr, label='ROC curve (area = %0.2f)' % auc_score )\n",
    "    plt.plot([0, 1], [0, 1], 'k--')\n",
    "    plt.xlim([0.0, 1.0])\n",
    "    plt.ylim([0.0, 1.05])\n",
    "    plt.xlabel('False Positive Rate or [1 - True Negative Rate]')\n",
    "    plt.ylabel('True Positive Rate')\n",
    "    plt.legend(loc=\"lower right\")\n",
    "    plt.show()\n",
    "    return fpr, tpr, thresholds\n",
    "\n",
    "fpr, tpr, thresholds = draw_roc( y_pred_df.actual, y_pred_df.predicted_prob)\n",
    "\n",
    "auc_score = metrics.roc_auc_score( y_pred_df.actual, y_pred_df.predicted_prob )\n",
    "print(\"auc_score:\", round( float( auc_score ), 2 ))"
   ]
  },
  {
   "cell_type": "markdown",
   "metadata": {},
   "source": [
    "### <font color='Blue'>1.12 Choosing a threshold </font>"
   ]
  },
  {
   "cell_type": "code",
   "execution_count": 32,
   "metadata": {},
   "outputs": [
    {
     "data": {
      "image/png": "[encoded data removed]",
      "text/plain": [
       "<Figure size 576x432 with 1 Axes>"
      ]
     },
     "metadata": {
      "needs_background": "light"
     },
     "output_type": "display_data"
    }
   ],
   "source": [
    "plt.figure( figsize = (8,6) )\n",
    "sn.kdeplot( y_pred_df[y_pred_df.actual == 1][\"predicted_prob\"], color = 'b', shade=True,label = 'Bad Credit' )\n",
    "sn.kdeplot( y_pred_df[y_pred_df.actual == 0][\"predicted_prob\"], color = 'g', shade=True,label = 'Good Credit' )\n",
    "plt.legend()\n",
    "plt.show()"
   ]
  },
  {
   "cell_type": "markdown",
   "metadata": {},
   "source": [
    "### <font color='Blue'>1.13 Performance Measures from Confusion Matrix </font>"
   ]
  },
  {
   "cell_type": "code",
   "execution_count": 33,
   "metadata": {},
   "outputs": [
    {
     "data": {
      "image/png": "[encoded data removed]",
      "text/plain": [
       "<Figure size 432x288 with 2 Axes>"
      ]
     },
     "metadata": {
      "needs_background": "light"
     },
     "output_type": "display_data"
    }
   ],
   "source": [
    "y_pred_df['predicted'] = y_pred_df.predicted_prob.map(lambda x: 1 if x > 0.25 else 0)\n",
    "from confusion_matrix import make_confusion_matrix\n",
    "cf_matrix = metrics.confusion_matrix(y_pred_df.actual, y_pred_df.predicted)\n",
    "labels = [\"TN\",\"FP\",\"FN\",\"TP\"]\n",
    "categories = [\"GC [0]\",\"BC [1]\"]\n",
    "make_confusion_matrix(cf_matrix, \n",
    "                      group_names=labels,\n",
    "                      categories=categories, \n",
    "                      cmap=\"Greens\")"
   ]
  },
  {
   "cell_type": "code",
   "execution_count": 34,
   "metadata": {},
   "outputs": [
    {
     "name": "stdout",
     "output_type": "stream",
     "text": [
      "              precision    recall  f1-score   support\n",
      "\n",
      "           0       0.84      0.69      0.76       209\n",
      "           1       0.50      0.69      0.58        91\n",
      "\n",
      "    accuracy                           0.69       300\n",
      "   macro avg       0.67      0.69      0.67       300\n",
      "weighted avg       0.73      0.69      0.70       300\n",
      "\n"
     ]
    }
   ],
   "source": [
    "print( metrics.classification_report( y_pred_df.actual, y_pred_df.predicted ) )"
   ]
  },
  {
   "cell_type": "markdown",
   "metadata": {},
   "source": [
    "### <font color='Blue'>Conclusion</font>"
   ]
  },
  {
   "cell_type": "markdown",
   "metadata": {},
   "source": [
    "Here's what you should take away from this example:\n",
    "\n",
    "* There's usually quite a bit of preprocessing you need to do on your raw data in order to be able to feed it -- as tensors -- into a neural \n",
    "network. In the case of sequences of words, they can be encoded as binary vectors -- but there are other encoding options too.\n",
    "* Stacks of `Dense` layers with `relu` activations can solve a wide range of problems (including sentiment classification), and you will \n",
    "likely use them frequently.\n",
    "* In a binary classification problem (two output classes), your network should end with a `Dense` layer with 1 unit and a `sigmoid` activation, \n",
    "i.e. the output of your network should be a scalar between 0 and 1, encoding a probability.\n",
    "* With such a scalar sigmoid output, on a binary classification problem, the loss function you should use is `binary_crossentropy`.\n",
    "* The `rmsprop` optimizer is generally a good enough choice of optimizer, whatever your problem. That's one less thing for you to worry \n",
    "about.\n",
    "* As they get better on their training data, neural networks eventually start _overfitting_ and end up obtaining increasingly worse results on data \n",
    "never-seen-before. Make sure to always monitor performance on data that is outside of the training set."
   ]
  },
  {
   "cell_type": "markdown",
   "metadata": {},
   "source": [
    "### <font color='Blue'>Feature Importance Using Shap</font>"
   ]
  },
  {
   "cell_type": "markdown",
   "metadata": {},
   "source": [
    "For information of Shapley Values, See: https://towardsdatascience.com/shap-explained-the-way-i-wish-someone-explained-it-to-me-ab81cc69ef30"
   ]
  },
  {
   "cell_type": "code",
   "execution_count": 36,
   "metadata": {},
   "outputs": [],
   "source": [
    "#Run pip install shap before importing shap\n",
    "import shap"
   ]
  },
  {
   "cell_type": "code",
   "execution_count": 37,
   "metadata": {},
   "outputs": [
    {
     "name": "stderr",
     "output_type": "stream",
     "text": [
      "WARNING:shap:Using 700 background data samples could cause slower run times. Consider using shap.sample(data, K) or shap.kmeans(data, K) to summarize the background as K samples.\n"
     ]
    }
   ],
   "source": [
    "explainer = shap.KernelExplainer(model.predict,train_data)"
   ]
  },
  {
   "cell_type": "code",
   "execution_count": 38,
   "metadata": {},
   "outputs": [
    {
     "data": {
      "application/vnd.jupyter.widget-view+json": {
       "model_id": "6027ee6282c34afa93157926d806227b",
       "version_major": 2,
       "version_minor": 0
      },
      "text/plain": [
       "  0%|          | 0/300 [00:00<?, ?it/s]"
      ]
     },
     "metadata": {},
     "output_type": "display_data"
    }
   ],
   "source": [
    "shap_values = explainer.shap_values(test_data,nsamples=300)"
   ]
  },
  {
   "cell_type": "code",
   "execution_count": 41,
   "metadata": {},
   "outputs": [
    {
     "data": {
      "text/plain": [
       "Index(['duration', 'amount', 'inst_rate', 'residing_since', 'age',\n",
       "       'num_credits', 'checkin_acc_A12', 'checkin_acc_A13', 'checkin_acc_A14',\n",
       "       'credit_history_A31', 'credit_history_A32', 'credit_history_A33',\n",
       "       'credit_history_A34', 'savings_acc_A62', 'savings_acc_A63',\n",
       "       'savings_acc_A64', 'savings_acc_A65', 'present_emp_since_A72',\n",
       "       'present_emp_since_A73', 'present_emp_since_A74',\n",
       "       'present_emp_since_A75', 'personal_status_A92', 'personal_status_A93',\n",
       "       'personal_status_A94', 'inst_plans_A142', 'inst_plans_A143', 'job_A172',\n",
       "       'job_A173', 'job_A174'],\n",
       "      dtype='object')"
      ]
     },
     "execution_count": 41,
     "metadata": {},
     "output_type": "execute_result"
    }
   ],
   "source": [
    "features = encoded_credit_df.columns\n",
    "features"
   ]
  },
  {
   "cell_type": "code",
   "execution_count": 40,
   "metadata": {},
   "outputs": [
    {
     "data": {
      "image/png": "[encoded data removed]",
      "text/plain": [
       "<Figure size 576x684 with 1 Axes>"
      ]
     },
     "metadata": {
      "needs_background": "light"
     },
     "output_type": "display_data"
    }
   ],
   "source": [
    "shap.summary_plot(shap_values,test_data,feature_names=encoded_credit_df.columns)"
   ]
  },
  {
   "cell_type": "markdown",
   "metadata": {},
   "source": [
    "Each point of every row is a record of the test dataset. The features are sorted from the most important one to the less important. "
   ]
  },
  {
   "cell_type": "code",
   "execution_count": null,
   "metadata": {},
   "outputs": [],
   "source": []
  }
 ],
 "metadata": {
  "kernelspec": {
   "display_name": "Python 3",
   "language": "python",
   "name": "python3"
  },
  "language_info": {
   "codemirror_mode": {
    "name": "ipython",
    "version": 3
   },
   "file_extension": ".py",
   "mimetype": "text/x-python",
   "name": "python",
   "nbconvert_exporter": "python",
   "pygments_lexer": "ipython3",
   "version": "3.7.10"
  }
 },
 "nbformat": 4,
 "nbformat_minor": 4
}
