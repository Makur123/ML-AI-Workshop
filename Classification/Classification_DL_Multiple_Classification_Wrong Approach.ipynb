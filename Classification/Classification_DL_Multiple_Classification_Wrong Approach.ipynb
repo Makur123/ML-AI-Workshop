{
 "cells": [
  {
   "cell_type": "markdown",
   "metadata": {},
   "source": [
    "# <font color='Blue'>Deep Learning - Multiple Classification</font>"
   ]
  },
  {
   "cell_type": "markdown",
   "metadata": {},
   "source": [
    "# <font color='Blue'>Classification</font>"
   ]
  },
  {
   "cell_type": "markdown",
   "metadata": {},
   "source": [
    "Classification is the problem of identifying to which of a set of categories or label, a new observation belongs. Classification of the new observation is on the basis of a training set of data containing observations (or instances) whose category membership is known.\n",
    "\n",
    "Classification problems are an important category of problems in analytics in which the outcome variable or response variable \n",
    "takes discrete values. Primary objective of a classification model is to predict the probability of an observation belonging \n",
    "to a class, known as class probability. Few examples of classificiation problems are\n",
    "  \n",
    "  1. A bank would like to classify its customers as high-risk and low-risk\n",
    "  2. E-commerce company would like to predict if a customer would churn or not\n",
    "  3. Health service provider may like to classify a patient as positive or negative\n",
    "  4. Predicting whether India will win world-cup or not\n",
    "  5. Classifying sentiments of customers as positive or negative\n",
    "  6. Based on image of the plant, predict if the plant is infected with a specific diease or not\n",
    "  \n",
    "Classification problems may have binary or multiple outcomes and so are called as binary or multinomial classification. Some\n",
    "techniques for solving classification problems are logistic regression, decision trees, naive-bayes, support vector machines, \n",
    "neural network, kNN etc.\n",
    "  \n",
    "We shall discuss logistic regression, decision trees, naive-bayes."
   ]
  },
  {
   "cell_type": "markdown",
   "metadata": {},
   "source": [
    "## <font color='Blue'>Learning Objectives</font>\n",
    "  1. Apply Deep Learning to a Binary Classification Problem"
   ]
  },
  {
   "cell_type": "markdown",
   "metadata": {},
   "source": [
    "## <font color='Blue'>Importing Libraries</font>"
   ]
  },
  {
   "cell_type": "code",
   "execution_count": 83,
   "metadata": {},
   "outputs": [
    {
     "data": {
      "text/plain": [
       "'2.3.1'"
      ]
     },
     "execution_count": 83,
     "metadata": {},
     "output_type": "execute_result"
    }
   ],
   "source": [
    "import keras\n",
    "keras.__version__"
   ]
  },
  {
   "cell_type": "code",
   "execution_count": 84,
   "metadata": {},
   "outputs": [],
   "source": [
    "import warnings\n",
    "warnings.filterwarnings('ignore')\n",
    "import pandas as pd\n",
    "import numpy as np\n",
    "from sklearn.model_selection import train_test_split\n",
    "\n",
    "import matplotlib.pyplot as plt\n",
    "import seaborn as sn\n",
    "%matplotlib inline\n",
    "from sklearn import metrics"
   ]
  },
  {
   "cell_type": "code",
   "execution_count": 85,
   "metadata": {},
   "outputs": [],
   "source": [
    "np.set_printoptions(suppress=True)"
   ]
  },
  {
   "cell_type": "markdown",
   "metadata": {},
   "source": [
    "### <font color='Blue'>1.0 Dataset </font>"
   ]
  },
  {
   "cell_type": "markdown",
   "metadata": {},
   "source": [
    "The Goal is predict the plater position using player information.\n",
    "Source: https://www.kaggle.com/karangadiya/fifa19"
   ]
  },
  {
   "cell_type": "markdown",
   "metadata": {},
   "source": [
    "### <font color='Blue'>1.1 Loading Data</font>"
   ]
  },
  {
   "cell_type": "code",
   "execution_count": 86,
   "metadata": {},
   "outputs": [
    {
     "name": "stdout",
     "output_type": "stream",
     "text": [
      "<class 'pandas.core.frame.DataFrame'>\n",
      "RangeIndex: 18207 entries, 0 to 18206\n",
      "Data columns (total 88 columns):\n",
      " #   Column                    Non-Null Count  Dtype  \n",
      "---  ------                    --------------  -----  \n",
      " 0   ID                        18207 non-null  int64  \n",
      " 1   Name                      18207 non-null  object \n",
      " 2   Age                       18207 non-null  int64  \n",
      " 3   Photo                     18207 non-null  object \n",
      " 4   Nationality               18207 non-null  object \n",
      " 5   Flag                      18207 non-null  object \n",
      " 6   Overall                   18207 non-null  int64  \n",
      " 7   Potential                 18207 non-null  int64  \n",
      " 8   Club                      17966 non-null  object \n",
      " 9   Club Logo                 18207 non-null  object \n",
      " 10  Value                     18207 non-null  object \n",
      " 11  Wage                      18207 non-null  object \n",
      " 12  Special                   18207 non-null  int64  \n",
      " 13  Preferred Foot            18159 non-null  object \n",
      " 14  International Reputation  18159 non-null  float64\n",
      " 15  Weak Foot                 18159 non-null  float64\n",
      " 16  Skill Moves               18159 non-null  float64\n",
      " 17  Work Rate                 18159 non-null  object \n",
      " 18  Body Type                 18159 non-null  object \n",
      " 19  Real Face                 18159 non-null  object \n",
      " 20  Position                  18147 non-null  object \n",
      " 21  Jersey Number             18147 non-null  float64\n",
      " 22  Joined                    16654 non-null  object \n",
      " 23  Loaned From               1264 non-null   object \n",
      " 24  Contract Valid Until      17918 non-null  object \n",
      " 25  Height                    18159 non-null  object \n",
      " 26  Weight                    18159 non-null  object \n",
      " 27  LS                        16122 non-null  object \n",
      " 28  ST                        16122 non-null  object \n",
      " 29  RS                        16122 non-null  object \n",
      " 30  LW                        16122 non-null  object \n",
      " 31  LF                        16122 non-null  object \n",
      " 32  CF                        16122 non-null  object \n",
      " 33  RF                        16122 non-null  object \n",
      " 34  RW                        16122 non-null  object \n",
      " 35  LAM                       16122 non-null  object \n",
      " 36  CAM                       16122 non-null  object \n",
      " 37  RAM                       16122 non-null  object \n",
      " 38  LM                        16122 non-null  object \n",
      " 39  LCM                       16122 non-null  object \n",
      " 40  CM                        16122 non-null  object \n",
      " 41  RCM                       16122 non-null  object \n",
      " 42  RM                        16122 non-null  object \n",
      " 43  LWB                       16122 non-null  object \n",
      " 44  LDM                       16122 non-null  object \n",
      " 45  CDM                       16122 non-null  object \n",
      " 46  RDM                       16122 non-null  object \n",
      " 47  RWB                       16122 non-null  object \n",
      " 48  LB                        16122 non-null  object \n",
      " 49  LCB                       16122 non-null  object \n",
      " 50  CB                        16122 non-null  object \n",
      " 51  RCB                       16122 non-null  object \n",
      " 52  RB                        16122 non-null  object \n",
      " 53  Crossing                  18159 non-null  float64\n",
      " 54  Finishing                 18159 non-null  float64\n",
      " 55  HeadingAccuracy           18159 non-null  float64\n",
      " 56  ShortPassing              18159 non-null  float64\n",
      " 57  Volleys                   18159 non-null  float64\n",
      " 58  Dribbling                 18159 non-null  float64\n",
      " 59  Curve                     18159 non-null  float64\n",
      " 60  FKAccuracy                18159 non-null  float64\n",
      " 61  LongPassing               18159 non-null  float64\n",
      " 62  BallControl               18159 non-null  float64\n",
      " 63  Acceleration              18159 non-null  float64\n",
      " 64  SprintSpeed               18159 non-null  float64\n",
      " 65  Agility                   18159 non-null  float64\n",
      " 66  Reactions                 18159 non-null  float64\n",
      " 67  Balance                   18159 non-null  float64\n",
      " 68  ShotPower                 18159 non-null  float64\n",
      " 69  Jumping                   18159 non-null  float64\n",
      " 70  Stamina                   18159 non-null  float64\n",
      " 71  Strength                  18159 non-null  float64\n",
      " 72  LongShots                 18159 non-null  float64\n",
      " 73  Aggression                18159 non-null  float64\n",
      " 74  Interceptions             18159 non-null  float64\n",
      " 75  Positioning               18159 non-null  float64\n",
      " 76  Vision                    18159 non-null  float64\n",
      " 77  Penalties                 18159 non-null  float64\n",
      " 78  Composure                 18159 non-null  float64\n",
      " 79  Marking                   18159 non-null  float64\n",
      " 80  StandingTackle            18159 non-null  float64\n",
      " 81  SlidingTackle             18159 non-null  float64\n",
      " 82  GKDiving                  18159 non-null  float64\n",
      " 83  GKHandling                18159 non-null  float64\n",
      " 84  GKKicking                 18159 non-null  float64\n",
      " 85  GKPositioning             18159 non-null  float64\n",
      " 86  GKReflexes                18159 non-null  float64\n",
      " 87  Release Clause            16643 non-null  object \n",
      "dtypes: float64(38), int64(5), object(45)\n",
      "memory usage: 12.2+ MB\n"
     ]
    }
   ],
   "source": [
    "data_df = pd.read_csv( \"data.csv\" )\n",
    "data_df.info()"
   ]
  },
  {
   "cell_type": "markdown",
   "metadata": {},
   "source": []
  },
  {
   "cell_type": "code",
   "execution_count": 87,
   "metadata": {
    "scrolled": false
   },
   "outputs": [
    {
     "data": {
      "text/html": [
       "<div>\n",
       "<style scoped>\n",
       "    .dataframe tbody tr th:only-of-type {\n",
       "        vertical-align: middle;\n",
       "    }\n",
       "\n",
       "    .dataframe tbody tr th {\n",
       "        vertical-align: top;\n",
       "    }\n",
       "\n",
       "    .dataframe thead th {\n",
       "        text-align: right;\n",
       "    }\n",
       "</style>\n",
       "<table border=\"1\" class=\"dataframe\">\n",
       "  <thead>\n",
       "    <tr style=\"text-align: right;\">\n",
       "      <th></th>\n",
       "      <th>ID</th>\n",
       "      <th>Name</th>\n",
       "      <th>Age</th>\n",
       "      <th>Photo</th>\n",
       "      <th>Nationality</th>\n",
       "      <th>Flag</th>\n",
       "      <th>Overall</th>\n",
       "      <th>Potential</th>\n",
       "      <th>Club</th>\n",
       "      <th>Club Logo</th>\n",
       "      <th>Value</th>\n",
       "      <th>Wage</th>\n",
       "      <th>Special</th>\n",
       "      <th>Preferred Foot</th>\n",
       "    </tr>\n",
       "  </thead>\n",
       "  <tbody>\n",
       "    <tr>\n",
       "      <th>0</th>\n",
       "      <td>158023</td>\n",
       "      <td>L. Messi</td>\n",
       "      <td>31</td>\n",
       "      <td>https://cdn.sofifa.org/players/4/19/158023.png</td>\n",
       "      <td>Argentina</td>\n",
       "      <td>https://cdn.sofifa.org/flags/52.png</td>\n",
       "      <td>94</td>\n",
       "      <td>94</td>\n",
       "      <td>FC Barcelona</td>\n",
       "      <td>https://cdn.sofifa.org/teams/2/light/241.png</td>\n",
       "      <td>€110.5M</td>\n",
       "      <td>€565K</td>\n",
       "      <td>2202</td>\n",
       "      <td>Left</td>\n",
       "    </tr>\n",
       "    <tr>\n",
       "      <th>1</th>\n",
       "      <td>20801</td>\n",
       "      <td>Cristiano Ronaldo</td>\n",
       "      <td>33</td>\n",
       "      <td>https://cdn.sofifa.org/players/4/19/20801.png</td>\n",
       "      <td>Portugal</td>\n",
       "      <td>https://cdn.sofifa.org/flags/38.png</td>\n",
       "      <td>94</td>\n",
       "      <td>94</td>\n",
       "      <td>Juventus</td>\n",
       "      <td>https://cdn.sofifa.org/teams/2/light/45.png</td>\n",
       "      <td>€77M</td>\n",
       "      <td>€405K</td>\n",
       "      <td>2228</td>\n",
       "      <td>Right</td>\n",
       "    </tr>\n",
       "    <tr>\n",
       "      <th>2</th>\n",
       "      <td>190871</td>\n",
       "      <td>Neymar Jr</td>\n",
       "      <td>26</td>\n",
       "      <td>https://cdn.sofifa.org/players/4/19/190871.png</td>\n",
       "      <td>Brazil</td>\n",
       "      <td>https://cdn.sofifa.org/flags/54.png</td>\n",
       "      <td>92</td>\n",
       "      <td>93</td>\n",
       "      <td>Paris Saint-Germain</td>\n",
       "      <td>https://cdn.sofifa.org/teams/2/light/73.png</td>\n",
       "      <td>€118.5M</td>\n",
       "      <td>€290K</td>\n",
       "      <td>2143</td>\n",
       "      <td>Right</td>\n",
       "    </tr>\n",
       "    <tr>\n",
       "      <th>3</th>\n",
       "      <td>193080</td>\n",
       "      <td>De Gea</td>\n",
       "      <td>27</td>\n",
       "      <td>https://cdn.sofifa.org/players/4/19/193080.png</td>\n",
       "      <td>Spain</td>\n",
       "      <td>https://cdn.sofifa.org/flags/45.png</td>\n",
       "      <td>91</td>\n",
       "      <td>93</td>\n",
       "      <td>Manchester United</td>\n",
       "      <td>https://cdn.sofifa.org/teams/2/light/11.png</td>\n",
       "      <td>€72M</td>\n",
       "      <td>€260K</td>\n",
       "      <td>1471</td>\n",
       "      <td>Right</td>\n",
       "    </tr>\n",
       "    <tr>\n",
       "      <th>4</th>\n",
       "      <td>192985</td>\n",
       "      <td>K. De Bruyne</td>\n",
       "      <td>27</td>\n",
       "      <td>https://cdn.sofifa.org/players/4/19/192985.png</td>\n",
       "      <td>Belgium</td>\n",
       "      <td>https://cdn.sofifa.org/flags/7.png</td>\n",
       "      <td>91</td>\n",
       "      <td>92</td>\n",
       "      <td>Manchester City</td>\n",
       "      <td>https://cdn.sofifa.org/teams/2/light/10.png</td>\n",
       "      <td>€102M</td>\n",
       "      <td>€355K</td>\n",
       "      <td>2281</td>\n",
       "      <td>Right</td>\n",
       "    </tr>\n",
       "  </tbody>\n",
       "</table>\n",
       "</div>"
      ],
      "text/plain": [
       "       ID               Name  Age  \\\n",
       "0  158023           L. Messi   31   \n",
       "1   20801  Cristiano Ronaldo   33   \n",
       "2  190871          Neymar Jr   26   \n",
       "3  193080             De Gea   27   \n",
       "4  192985       K. De Bruyne   27   \n",
       "\n",
       "                                            Photo Nationality  \\\n",
       "0  https://cdn.sofifa.org/players/4/19/158023.png   Argentina   \n",
       "1   https://cdn.sofifa.org/players/4/19/20801.png    Portugal   \n",
       "2  https://cdn.sofifa.org/players/4/19/190871.png      Brazil   \n",
       "3  https://cdn.sofifa.org/players/4/19/193080.png       Spain   \n",
       "4  https://cdn.sofifa.org/players/4/19/192985.png     Belgium   \n",
       "\n",
       "                                  Flag  Overall  Potential  \\\n",
       "0  https://cdn.sofifa.org/flags/52.png       94         94   \n",
       "1  https://cdn.sofifa.org/flags/38.png       94         94   \n",
       "2  https://cdn.sofifa.org/flags/54.png       92         93   \n",
       "3  https://cdn.sofifa.org/flags/45.png       91         93   \n",
       "4   https://cdn.sofifa.org/flags/7.png       91         92   \n",
       "\n",
       "                  Club                                     Club Logo    Value  \\\n",
       "0         FC Barcelona  https://cdn.sofifa.org/teams/2/light/241.png  €110.5M   \n",
       "1             Juventus   https://cdn.sofifa.org/teams/2/light/45.png     €77M   \n",
       "2  Paris Saint-Germain   https://cdn.sofifa.org/teams/2/light/73.png  €118.5M   \n",
       "3    Manchester United   https://cdn.sofifa.org/teams/2/light/11.png     €72M   \n",
       "4      Manchester City   https://cdn.sofifa.org/teams/2/light/10.png    €102M   \n",
       "\n",
       "    Wage  Special Preferred Foot  \n",
       "0  €565K     2202           Left  \n",
       "1  €405K     2228          Right  \n",
       "2  €290K     2143          Right  \n",
       "3  €260K     1471          Right  \n",
       "4  €355K     2281          Right  "
      ]
     },
     "execution_count": 87,
     "metadata": {},
     "output_type": "execute_result"
    }
   ],
   "source": [
    "data_df.iloc[0:5,0:14]"
   ]
  },
  {
   "cell_type": "markdown",
   "metadata": {},
   "source": [
    "### <font color='Blue'>1.2 Removing Rows with missing Data in Positions</font>"
   ]
  },
  {
   "cell_type": "code",
   "execution_count": 88,
   "metadata": {},
   "outputs": [
    {
     "data": {
      "text/plain": [
       "(18147, 88)"
      ]
     },
     "execution_count": 88,
     "metadata": {},
     "output_type": "execute_result"
    }
   ],
   "source": [
    "na = pd.notnull(data_df[\"Position\"])\n",
    "data_df = data_df[na]\n",
    "data_df.shape"
   ]
  },
  {
   "cell_type": "markdown",
   "metadata": {},
   "source": [
    "### <font color='Blue'>1.3 Finding the number of Positions</font>\n",
    "     Position variable stands for the position of the players.\n",
    "     There are too many positions which will be categorized as forward, midfielder or defender"
   ]
  },
  {
   "cell_type": "code",
   "execution_count": 89,
   "metadata": {},
   "outputs": [
    {
     "data": {
      "text/plain": [
       "ST     2152\n",
       "GK     2025\n",
       "CB     1778\n",
       "CM     1394\n",
       "LB     1322\n",
       "RB     1291\n",
       "RM     1124\n",
       "LM     1095\n",
       "CAM     958\n",
       "CDM     948\n",
       "RCB     662\n",
       "LCB     648\n",
       "LCM     395\n",
       "RCM     391\n",
       "LW      381\n",
       "RW      370\n",
       "RDM     248\n",
       "LDM     243\n",
       "LS      207\n",
       "RS      203\n",
       "RWB      87\n",
       "LWB      78\n",
       "CF       74\n",
       "LAM      21\n",
       "RAM      21\n",
       "RF       16\n",
       "LF       15\n",
       "Name: Position, dtype: int64"
      ]
     },
     "execution_count": 89,
     "metadata": {},
     "output_type": "execute_result"
    }
   ],
   "source": [
    "data_df.Position.value_counts()"
   ]
  },
  {
   "cell_type": "markdown",
   "metadata": {},
   "source": [
    "### <font color='Blue'>1.4 Categorizing Positions</font>"
   ]
  },
  {
   "cell_type": "code",
   "execution_count": 90,
   "metadata": {},
   "outputs": [],
   "source": [
    "forward = [\"ST\", \"LW\", \"RW\", \"LF\", \"RF\", \"RS\",\"LS\", \"CF\"]\n",
    "midfielder = [\"CM\",\"RCM\",\"LCM\", \"CDM\",\"RDM\",\"LDM\", \"CAM\", \"LAM\", \"RAM\", \"RM\", \"LM\"]\n",
    "defender = [\"CB\", \"RCB\", \"LCB\", \"LWB\", \"RWB\", \"LB\", \"RB\"]"
   ]
  },
  {
   "cell_type": "code",
   "execution_count": 91,
   "metadata": {},
   "outputs": [],
   "source": [
    "data_df.loc[data_df[\"Position\"] == \"GK\", \"Position\"] = 0\n",
    "data_df.loc[data_df[\"Position\"].isin(defender), \"Position\"] = 1\n",
    "data_df.loc[data_df[\"Position\"].isin(midfielder), \"Position\"] = 2\n",
    "data_df.loc[data_df[\"Position\"].isin(forward), \"Position\"] = 3"
   ]
  },
  {
   "cell_type": "markdown",
   "metadata": {},
   "source": [
    "### <font color='Blue'>1.4.1 Getting the Class Labels and Counts</font>"
   ]
  },
  {
   "cell_type": "code",
   "execution_count": 92,
   "metadata": {},
   "outputs": [
    {
     "data": {
      "text/plain": [
       "2    6838\n",
       "1    5866\n",
       "3    3418\n",
       "0    2025\n",
       "Name: Position, dtype: int64"
      ]
     },
     "execution_count": 92,
     "metadata": {},
     "output_type": "execute_result"
    }
   ],
   "source": [
    "data_df.Position.value_counts()"
   ]
  },
  {
   "cell_type": "code",
   "execution_count": 93,
   "metadata": {},
   "outputs": [],
   "source": [
    "Y = data_df.Position"
   ]
  },
  {
   "cell_type": "markdown",
   "metadata": {},
   "source": [
    "### <font color='Blue'>1.5 Extracting Features </font>"
   ]
  },
  {
   "cell_type": "code",
   "execution_count": 94,
   "metadata": {},
   "outputs": [],
   "source": [
    "X_features = ['Finishing', 'HeadingAccuracy', 'ShortPassing', 'Volleys', 'Dribbling',\n",
    "               'Curve', 'FKAccuracy', 'LongPassing', 'BallControl', 'Acceleration',\n",
    "               'SprintSpeed', 'Agility', 'Reactions', 'Balance', 'ShotPower',\n",
    "               'Jumping', 'Stamina', 'Strength', 'LongShots', 'Aggression',\n",
    "               'Interceptions', 'Positioning', 'Vision', 'Penalties', 'Composure',\n",
    "               'Marking', 'StandingTackle', 'SlidingTackle', 'GKDiving', 'GKHandling',\n",
    "               'GKKicking', 'GKPositioning', 'GKReflexes']"
   ]
  },
  {
   "cell_type": "code",
   "execution_count": 95,
   "metadata": {},
   "outputs": [
    {
     "data": {
      "text/plain": [
       "['Finishing',\n",
       " 'HeadingAccuracy',\n",
       " 'ShortPassing',\n",
       " 'Volleys',\n",
       " 'Dribbling',\n",
       " 'Curve',\n",
       " 'FKAccuracy',\n",
       " 'LongPassing',\n",
       " 'BallControl',\n",
       " 'Acceleration',\n",
       " 'SprintSpeed',\n",
       " 'Agility',\n",
       " 'Reactions',\n",
       " 'Balance',\n",
       " 'ShotPower',\n",
       " 'Jumping',\n",
       " 'Stamina',\n",
       " 'Strength',\n",
       " 'LongShots',\n",
       " 'Aggression',\n",
       " 'Interceptions',\n",
       " 'Positioning',\n",
       " 'Vision',\n",
       " 'Penalties',\n",
       " 'Composure',\n",
       " 'Marking',\n",
       " 'StandingTackle',\n",
       " 'SlidingTackle',\n",
       " 'GKDiving',\n",
       " 'GKHandling',\n",
       " 'GKKicking',\n",
       " 'GKPositioning',\n",
       " 'GKReflexes']"
      ]
     },
     "execution_count": 95,
     "metadata": {},
     "output_type": "execute_result"
    }
   ],
   "source": [
    "encoded_data_df = pd.get_dummies( data_df[X_features], drop_first = True )\n",
    "list(encoded_data_df.columns)"
   ]
  },
  {
   "cell_type": "code",
   "execution_count": 96,
   "metadata": {},
   "outputs": [
    {
     "data": {
      "text/html": [
       "<div>\n",
       "<style scoped>\n",
       "    .dataframe tbody tr th:only-of-type {\n",
       "        vertical-align: middle;\n",
       "    }\n",
       "\n",
       "    .dataframe tbody tr th {\n",
       "        vertical-align: top;\n",
       "    }\n",
       "\n",
       "    .dataframe thead th {\n",
       "        text-align: right;\n",
       "    }\n",
       "</style>\n",
       "<table border=\"1\" class=\"dataframe\">\n",
       "  <thead>\n",
       "    <tr style=\"text-align: right;\">\n",
       "      <th></th>\n",
       "      <th>Finishing</th>\n",
       "      <th>HeadingAccuracy</th>\n",
       "      <th>ShortPassing</th>\n",
       "      <th>Volleys</th>\n",
       "      <th>Dribbling</th>\n",
       "      <th>Curve</th>\n",
       "      <th>FKAccuracy</th>\n",
       "      <th>LongPassing</th>\n",
       "      <th>BallControl</th>\n",
       "      <th>Acceleration</th>\n",
       "      <th>...</th>\n",
       "      <th>Penalties</th>\n",
       "      <th>Composure</th>\n",
       "      <th>Marking</th>\n",
       "      <th>StandingTackle</th>\n",
       "      <th>SlidingTackle</th>\n",
       "      <th>GKDiving</th>\n",
       "      <th>GKHandling</th>\n",
       "      <th>GKKicking</th>\n",
       "      <th>GKPositioning</th>\n",
       "      <th>GKReflexes</th>\n",
       "    </tr>\n",
       "  </thead>\n",
       "  <tbody>\n",
       "    <tr>\n",
       "      <th>0</th>\n",
       "      <td>95.0</td>\n",
       "      <td>70.0</td>\n",
       "      <td>90.0</td>\n",
       "      <td>86.0</td>\n",
       "      <td>97.0</td>\n",
       "      <td>93.0</td>\n",
       "      <td>94.0</td>\n",
       "      <td>87.0</td>\n",
       "      <td>96.0</td>\n",
       "      <td>91.0</td>\n",
       "      <td>...</td>\n",
       "      <td>75.0</td>\n",
       "      <td>96.0</td>\n",
       "      <td>33.0</td>\n",
       "      <td>28.0</td>\n",
       "      <td>26.0</td>\n",
       "      <td>6.0</td>\n",
       "      <td>11.0</td>\n",
       "      <td>15.0</td>\n",
       "      <td>14.0</td>\n",
       "      <td>8.0</td>\n",
       "    </tr>\n",
       "    <tr>\n",
       "      <th>1</th>\n",
       "      <td>94.0</td>\n",
       "      <td>89.0</td>\n",
       "      <td>81.0</td>\n",
       "      <td>87.0</td>\n",
       "      <td>88.0</td>\n",
       "      <td>81.0</td>\n",
       "      <td>76.0</td>\n",
       "      <td>77.0</td>\n",
       "      <td>94.0</td>\n",
       "      <td>89.0</td>\n",
       "      <td>...</td>\n",
       "      <td>85.0</td>\n",
       "      <td>95.0</td>\n",
       "      <td>28.0</td>\n",
       "      <td>31.0</td>\n",
       "      <td>23.0</td>\n",
       "      <td>7.0</td>\n",
       "      <td>11.0</td>\n",
       "      <td>15.0</td>\n",
       "      <td>14.0</td>\n",
       "      <td>11.0</td>\n",
       "    </tr>\n",
       "    <tr>\n",
       "      <th>2</th>\n",
       "      <td>87.0</td>\n",
       "      <td>62.0</td>\n",
       "      <td>84.0</td>\n",
       "      <td>84.0</td>\n",
       "      <td>96.0</td>\n",
       "      <td>88.0</td>\n",
       "      <td>87.0</td>\n",
       "      <td>78.0</td>\n",
       "      <td>95.0</td>\n",
       "      <td>94.0</td>\n",
       "      <td>...</td>\n",
       "      <td>81.0</td>\n",
       "      <td>94.0</td>\n",
       "      <td>27.0</td>\n",
       "      <td>24.0</td>\n",
       "      <td>33.0</td>\n",
       "      <td>9.0</td>\n",
       "      <td>9.0</td>\n",
       "      <td>15.0</td>\n",
       "      <td>15.0</td>\n",
       "      <td>11.0</td>\n",
       "    </tr>\n",
       "    <tr>\n",
       "      <th>3</th>\n",
       "      <td>13.0</td>\n",
       "      <td>21.0</td>\n",
       "      <td>50.0</td>\n",
       "      <td>13.0</td>\n",
       "      <td>18.0</td>\n",
       "      <td>21.0</td>\n",
       "      <td>19.0</td>\n",
       "      <td>51.0</td>\n",
       "      <td>42.0</td>\n",
       "      <td>57.0</td>\n",
       "      <td>...</td>\n",
       "      <td>40.0</td>\n",
       "      <td>68.0</td>\n",
       "      <td>15.0</td>\n",
       "      <td>21.0</td>\n",
       "      <td>13.0</td>\n",
       "      <td>90.0</td>\n",
       "      <td>85.0</td>\n",
       "      <td>87.0</td>\n",
       "      <td>88.0</td>\n",
       "      <td>94.0</td>\n",
       "    </tr>\n",
       "    <tr>\n",
       "      <th>4</th>\n",
       "      <td>82.0</td>\n",
       "      <td>55.0</td>\n",
       "      <td>92.0</td>\n",
       "      <td>82.0</td>\n",
       "      <td>86.0</td>\n",
       "      <td>85.0</td>\n",
       "      <td>83.0</td>\n",
       "      <td>91.0</td>\n",
       "      <td>91.0</td>\n",
       "      <td>78.0</td>\n",
       "      <td>...</td>\n",
       "      <td>79.0</td>\n",
       "      <td>88.0</td>\n",
       "      <td>68.0</td>\n",
       "      <td>58.0</td>\n",
       "      <td>51.0</td>\n",
       "      <td>15.0</td>\n",
       "      <td>13.0</td>\n",
       "      <td>5.0</td>\n",
       "      <td>10.0</td>\n",
       "      <td>13.0</td>\n",
       "    </tr>\n",
       "    <tr>\n",
       "      <th>...</th>\n",
       "      <td>...</td>\n",
       "      <td>...</td>\n",
       "      <td>...</td>\n",
       "      <td>...</td>\n",
       "      <td>...</td>\n",
       "      <td>...</td>\n",
       "      <td>...</td>\n",
       "      <td>...</td>\n",
       "      <td>...</td>\n",
       "      <td>...</td>\n",
       "      <td>...</td>\n",
       "      <td>...</td>\n",
       "      <td>...</td>\n",
       "      <td>...</td>\n",
       "      <td>...</td>\n",
       "      <td>...</td>\n",
       "      <td>...</td>\n",
       "      <td>...</td>\n",
       "      <td>...</td>\n",
       "      <td>...</td>\n",
       "      <td>...</td>\n",
       "    </tr>\n",
       "    <tr>\n",
       "      <th>18202</th>\n",
       "      <td>38.0</td>\n",
       "      <td>40.0</td>\n",
       "      <td>49.0</td>\n",
       "      <td>25.0</td>\n",
       "      <td>42.0</td>\n",
       "      <td>30.0</td>\n",
       "      <td>34.0</td>\n",
       "      <td>45.0</td>\n",
       "      <td>43.0</td>\n",
       "      <td>54.0</td>\n",
       "      <td>...</td>\n",
       "      <td>43.0</td>\n",
       "      <td>45.0</td>\n",
       "      <td>40.0</td>\n",
       "      <td>48.0</td>\n",
       "      <td>47.0</td>\n",
       "      <td>10.0</td>\n",
       "      <td>13.0</td>\n",
       "      <td>7.0</td>\n",
       "      <td>8.0</td>\n",
       "      <td>9.0</td>\n",
       "    </tr>\n",
       "    <tr>\n",
       "      <th>18203</th>\n",
       "      <td>52.0</td>\n",
       "      <td>52.0</td>\n",
       "      <td>43.0</td>\n",
       "      <td>36.0</td>\n",
       "      <td>39.0</td>\n",
       "      <td>32.0</td>\n",
       "      <td>20.0</td>\n",
       "      <td>25.0</td>\n",
       "      <td>40.0</td>\n",
       "      <td>41.0</td>\n",
       "      <td>...</td>\n",
       "      <td>43.0</td>\n",
       "      <td>42.0</td>\n",
       "      <td>22.0</td>\n",
       "      <td>15.0</td>\n",
       "      <td>19.0</td>\n",
       "      <td>10.0</td>\n",
       "      <td>9.0</td>\n",
       "      <td>9.0</td>\n",
       "      <td>5.0</td>\n",
       "      <td>12.0</td>\n",
       "    </tr>\n",
       "    <tr>\n",
       "      <th>18204</th>\n",
       "      <td>40.0</td>\n",
       "      <td>46.0</td>\n",
       "      <td>38.0</td>\n",
       "      <td>38.0</td>\n",
       "      <td>45.0</td>\n",
       "      <td>38.0</td>\n",
       "      <td>27.0</td>\n",
       "      <td>28.0</td>\n",
       "      <td>44.0</td>\n",
       "      <td>70.0</td>\n",
       "      <td>...</td>\n",
       "      <td>55.0</td>\n",
       "      <td>41.0</td>\n",
       "      <td>32.0</td>\n",
       "      <td>13.0</td>\n",
       "      <td>11.0</td>\n",
       "      <td>6.0</td>\n",
       "      <td>5.0</td>\n",
       "      <td>10.0</td>\n",
       "      <td>6.0</td>\n",
       "      <td>13.0</td>\n",
       "    </tr>\n",
       "    <tr>\n",
       "      <th>18205</th>\n",
       "      <td>50.0</td>\n",
       "      <td>39.0</td>\n",
       "      <td>42.0</td>\n",
       "      <td>40.0</td>\n",
       "      <td>51.0</td>\n",
       "      <td>34.0</td>\n",
       "      <td>32.0</td>\n",
       "      <td>32.0</td>\n",
       "      <td>52.0</td>\n",
       "      <td>61.0</td>\n",
       "      <td>...</td>\n",
       "      <td>50.0</td>\n",
       "      <td>46.0</td>\n",
       "      <td>20.0</td>\n",
       "      <td>25.0</td>\n",
       "      <td>27.0</td>\n",
       "      <td>14.0</td>\n",
       "      <td>6.0</td>\n",
       "      <td>14.0</td>\n",
       "      <td>8.0</td>\n",
       "      <td>9.0</td>\n",
       "    </tr>\n",
       "    <tr>\n",
       "      <th>18206</th>\n",
       "      <td>34.0</td>\n",
       "      <td>46.0</td>\n",
       "      <td>48.0</td>\n",
       "      <td>30.0</td>\n",
       "      <td>43.0</td>\n",
       "      <td>40.0</td>\n",
       "      <td>34.0</td>\n",
       "      <td>44.0</td>\n",
       "      <td>51.0</td>\n",
       "      <td>57.0</td>\n",
       "      <td>...</td>\n",
       "      <td>33.0</td>\n",
       "      <td>43.0</td>\n",
       "      <td>40.0</td>\n",
       "      <td>43.0</td>\n",
       "      <td>50.0</td>\n",
       "      <td>10.0</td>\n",
       "      <td>15.0</td>\n",
       "      <td>9.0</td>\n",
       "      <td>12.0</td>\n",
       "      <td>9.0</td>\n",
       "    </tr>\n",
       "  </tbody>\n",
       "</table>\n",
       "<p>18147 rows × 33 columns</p>\n",
       "</div>"
      ],
      "text/plain": [
       "       Finishing  HeadingAccuracy  ShortPassing  Volleys  Dribbling  Curve  \\\n",
       "0           95.0             70.0          90.0     86.0       97.0   93.0   \n",
       "1           94.0             89.0          81.0     87.0       88.0   81.0   \n",
       "2           87.0             62.0          84.0     84.0       96.0   88.0   \n",
       "3           13.0             21.0          50.0     13.0       18.0   21.0   \n",
       "4           82.0             55.0          92.0     82.0       86.0   85.0   \n",
       "...          ...              ...           ...      ...        ...    ...   \n",
       "18202       38.0             40.0          49.0     25.0       42.0   30.0   \n",
       "18203       52.0             52.0          43.0     36.0       39.0   32.0   \n",
       "18204       40.0             46.0          38.0     38.0       45.0   38.0   \n",
       "18205       50.0             39.0          42.0     40.0       51.0   34.0   \n",
       "18206       34.0             46.0          48.0     30.0       43.0   40.0   \n",
       "\n",
       "       FKAccuracy  LongPassing  BallControl  Acceleration  ...  Penalties  \\\n",
       "0            94.0         87.0         96.0          91.0  ...       75.0   \n",
       "1            76.0         77.0         94.0          89.0  ...       85.0   \n",
       "2            87.0         78.0         95.0          94.0  ...       81.0   \n",
       "3            19.0         51.0         42.0          57.0  ...       40.0   \n",
       "4            83.0         91.0         91.0          78.0  ...       79.0   \n",
       "...           ...          ...          ...           ...  ...        ...   \n",
       "18202        34.0         45.0         43.0          54.0  ...       43.0   \n",
       "18203        20.0         25.0         40.0          41.0  ...       43.0   \n",
       "18204        27.0         28.0         44.0          70.0  ...       55.0   \n",
       "18205        32.0         32.0         52.0          61.0  ...       50.0   \n",
       "18206        34.0         44.0         51.0          57.0  ...       33.0   \n",
       "\n",
       "       Composure  Marking  StandingTackle  SlidingTackle  GKDiving  \\\n",
       "0           96.0     33.0            28.0           26.0       6.0   \n",
       "1           95.0     28.0            31.0           23.0       7.0   \n",
       "2           94.0     27.0            24.0           33.0       9.0   \n",
       "3           68.0     15.0            21.0           13.0      90.0   \n",
       "4           88.0     68.0            58.0           51.0      15.0   \n",
       "...          ...      ...             ...            ...       ...   \n",
       "18202       45.0     40.0            48.0           47.0      10.0   \n",
       "18203       42.0     22.0            15.0           19.0      10.0   \n",
       "18204       41.0     32.0            13.0           11.0       6.0   \n",
       "18205       46.0     20.0            25.0           27.0      14.0   \n",
       "18206       43.0     40.0            43.0           50.0      10.0   \n",
       "\n",
       "       GKHandling  GKKicking  GKPositioning  GKReflexes  \n",
       "0            11.0       15.0           14.0         8.0  \n",
       "1            11.0       15.0           14.0        11.0  \n",
       "2             9.0       15.0           15.0        11.0  \n",
       "3            85.0       87.0           88.0        94.0  \n",
       "4            13.0        5.0           10.0        13.0  \n",
       "...           ...        ...            ...         ...  \n",
       "18202        13.0        7.0            8.0         9.0  \n",
       "18203         9.0        9.0            5.0        12.0  \n",
       "18204         5.0       10.0            6.0        13.0  \n",
       "18205         6.0       14.0            8.0         9.0  \n",
       "18206        15.0        9.0           12.0         9.0  \n",
       "\n",
       "[18147 rows x 33 columns]"
      ]
     },
     "execution_count": 96,
     "metadata": {},
     "output_type": "execute_result"
    }
   ],
   "source": [
    "encoded_data_df"
   ]
  },
  {
   "cell_type": "code",
   "execution_count": 97,
   "metadata": {},
   "outputs": [],
   "source": [
    "X = encoded_data_df"
   ]
  },
  {
   "cell_type": "code",
   "execution_count": 98,
   "metadata": {},
   "outputs": [],
   "source": [
    "Y = pd.get_dummies( Y, drop_first = False )"
   ]
  },
  {
   "cell_type": "code",
   "execution_count": 99,
   "metadata": {},
   "outputs": [
    {
     "data": {
      "text/html": [
       "<div>\n",
       "<style scoped>\n",
       "    .dataframe tbody tr th:only-of-type {\n",
       "        vertical-align: middle;\n",
       "    }\n",
       "\n",
       "    .dataframe tbody tr th {\n",
       "        vertical-align: top;\n",
       "    }\n",
       "\n",
       "    .dataframe thead th {\n",
       "        text-align: right;\n",
       "    }\n",
       "</style>\n",
       "<table border=\"1\" class=\"dataframe\">\n",
       "  <thead>\n",
       "    <tr style=\"text-align: right;\">\n",
       "      <th></th>\n",
       "      <th>0</th>\n",
       "      <th>1</th>\n",
       "      <th>2</th>\n",
       "      <th>3</th>\n",
       "    </tr>\n",
       "  </thead>\n",
       "  <tbody>\n",
       "    <tr>\n",
       "      <th>0</th>\n",
       "      <td>0</td>\n",
       "      <td>0</td>\n",
       "      <td>0</td>\n",
       "      <td>1</td>\n",
       "    </tr>\n",
       "    <tr>\n",
       "      <th>1</th>\n",
       "      <td>0</td>\n",
       "      <td>0</td>\n",
       "      <td>0</td>\n",
       "      <td>1</td>\n",
       "    </tr>\n",
       "    <tr>\n",
       "      <th>2</th>\n",
       "      <td>0</td>\n",
       "      <td>0</td>\n",
       "      <td>0</td>\n",
       "      <td>1</td>\n",
       "    </tr>\n",
       "    <tr>\n",
       "      <th>3</th>\n",
       "      <td>1</td>\n",
       "      <td>0</td>\n",
       "      <td>0</td>\n",
       "      <td>0</td>\n",
       "    </tr>\n",
       "    <tr>\n",
       "      <th>4</th>\n",
       "      <td>0</td>\n",
       "      <td>0</td>\n",
       "      <td>1</td>\n",
       "      <td>0</td>\n",
       "    </tr>\n",
       "    <tr>\n",
       "      <th>...</th>\n",
       "      <td>...</td>\n",
       "      <td>...</td>\n",
       "      <td>...</td>\n",
       "      <td>...</td>\n",
       "    </tr>\n",
       "    <tr>\n",
       "      <th>18202</th>\n",
       "      <td>0</td>\n",
       "      <td>0</td>\n",
       "      <td>1</td>\n",
       "      <td>0</td>\n",
       "    </tr>\n",
       "    <tr>\n",
       "      <th>18203</th>\n",
       "      <td>0</td>\n",
       "      <td>0</td>\n",
       "      <td>0</td>\n",
       "      <td>1</td>\n",
       "    </tr>\n",
       "    <tr>\n",
       "      <th>18204</th>\n",
       "      <td>0</td>\n",
       "      <td>0</td>\n",
       "      <td>0</td>\n",
       "      <td>1</td>\n",
       "    </tr>\n",
       "    <tr>\n",
       "      <th>18205</th>\n",
       "      <td>0</td>\n",
       "      <td>0</td>\n",
       "      <td>0</td>\n",
       "      <td>1</td>\n",
       "    </tr>\n",
       "    <tr>\n",
       "      <th>18206</th>\n",
       "      <td>0</td>\n",
       "      <td>0</td>\n",
       "      <td>1</td>\n",
       "      <td>0</td>\n",
       "    </tr>\n",
       "  </tbody>\n",
       "</table>\n",
       "<p>18147 rows × 4 columns</p>\n",
       "</div>"
      ],
      "text/plain": [
       "       0  1  2  3\n",
       "0      0  0  0  1\n",
       "1      0  0  0  1\n",
       "2      0  0  0  1\n",
       "3      1  0  0  0\n",
       "4      0  0  1  0\n",
       "...   .. .. .. ..\n",
       "18202  0  0  1  0\n",
       "18203  0  0  0  1\n",
       "18204  0  0  0  1\n",
       "18205  0  0  0  1\n",
       "18206  0  0  1  0\n",
       "\n",
       "[18147 rows x 4 columns]"
      ]
     },
     "execution_count": 99,
     "metadata": {},
     "output_type": "execute_result"
    }
   ],
   "source": [
    "Y"
   ]
  },
  {
   "cell_type": "markdown",
   "metadata": {},
   "source": [
    "### <font color='Blue'>1.6 Splitting into Train and Validation Sets </font>"
   ]
  },
  {
   "cell_type": "code",
   "execution_count": 100,
   "metadata": {},
   "outputs": [],
   "source": [
    "train_data, test_data, train_targets, test_targets = train_test_split( X , Y, train_size = 0.7, random_state = 42 )"
   ]
  },
  {
   "cell_type": "markdown",
   "metadata": {},
   "source": [
    "### <font color='Blue'>1.7 Converting Data Frame into Array </font>"
   ]
  },
  {
   "cell_type": "markdown",
   "metadata": {},
   "source": [
    "#### <font color='Blue'>1.7.1 Converting Train and Test Targets into Array </font>"
   ]
  },
  {
   "cell_type": "code",
   "execution_count": 101,
   "metadata": {},
   "outputs": [],
   "source": [
    "train_targets = train_targets.to_numpy()\n",
    "test_targets = test_targets.to_numpy()"
   ]
  },
  {
   "cell_type": "code",
   "execution_count": 102,
   "metadata": {},
   "outputs": [
    {
     "data": {
      "text/plain": [
       "array([[0, 1, 0, 0],\n",
       "       [0, 0, 1, 0],\n",
       "       [0, 0, 1, 0],\n",
       "       ...,\n",
       "       [0, 0, 1, 0],\n",
       "       [0, 0, 1, 0],\n",
       "       [0, 0, 0, 1]], dtype=uint8)"
      ]
     },
     "execution_count": 102,
     "metadata": {},
     "output_type": "execute_result"
    }
   ],
   "source": [
    "train_targets"
   ]
  },
  {
   "cell_type": "code",
   "execution_count": 103,
   "metadata": {},
   "outputs": [
    {
     "data": {
      "text/plain": [
       "array([[0, 1, 0, 0],\n",
       "       [0, 0, 1, 0],\n",
       "       [0, 0, 1, 0],\n",
       "       ...,\n",
       "       [0, 1, 0, 0],\n",
       "       [0, 1, 0, 0],\n",
       "       [0, 0, 1, 0]], dtype=uint8)"
      ]
     },
     "execution_count": 103,
     "metadata": {},
     "output_type": "execute_result"
    }
   ],
   "source": [
    "test_targets"
   ]
  },
  {
   "cell_type": "markdown",
   "metadata": {},
   "source": [
    "#### <font color='Blue'>1.7.2 Converting Train and Test Data into Array </font>"
   ]
  },
  {
   "cell_type": "code",
   "execution_count": 104,
   "metadata": {},
   "outputs": [],
   "source": [
    "train_data = train_data.to_numpy()\n",
    "test_data = test_data.to_numpy()"
   ]
  },
  {
   "cell_type": "code",
   "execution_count": 105,
   "metadata": {},
   "outputs": [
    {
     "data": {
      "text/plain": [
       "(12702, 33)"
      ]
     },
     "execution_count": 105,
     "metadata": {},
     "output_type": "execute_result"
    }
   ],
   "source": [
    "train_data.shape"
   ]
  },
  {
   "cell_type": "code",
   "execution_count": 106,
   "metadata": {},
   "outputs": [
    {
     "data": {
      "text/plain": [
       "(5445, 33)"
      ]
     },
     "execution_count": 106,
     "metadata": {},
     "output_type": "execute_result"
    }
   ],
   "source": [
    "test_data.shape"
   ]
  },
  {
   "cell_type": "markdown",
   "metadata": {},
   "source": [
    "It would be problematic to feed into a neural network values that all take wildly different ranges. The network might be able to \n",
    "automatically adapt to such heterogeneous data, but it would definitely make learning more difficult. A widespread best practice to deal with such data is to do feature-wise normalization: for each feature in the input data (a column in the input data matrix), we will subtract the mean of the feature and divide by the standard deviation, so that the feature will be centered around 0 and will have a unit standard deviation. This is easily done in Numpy:"
   ]
  },
  {
   "cell_type": "markdown",
   "metadata": {},
   "source": [
    "### <font color='Blue'>1.8 Data Normalization </font>"
   ]
  },
  {
   "cell_type": "code",
   "execution_count": 107,
   "metadata": {},
   "outputs": [],
   "source": [
    "mean = train_data.mean(axis=0)\n",
    "std  = train_data.std(axis=0)\n",
    "\n",
    "train_data = train_data - mean\n",
    "train_data = train_data/std\n",
    "\n",
    "test_data = test_data - mean\n",
    "test_data = test_data/std"
   ]
  },
  {
   "cell_type": "markdown",
   "metadata": {},
   "source": [
    "### <font color='Blue'>1.9 Building (Defining our Network) </font>"
   ]
  },
  {
   "cell_type": "markdown",
   "metadata": {},
   "source": [
    "<img src=\"Activation Function Last Layer.jpg\" width=800 height = 600>   "
   ]
  },
  {
   "cell_type": "code",
   "execution_count": 108,
   "metadata": {},
   "outputs": [],
   "source": [
    "from keras import models\n",
    "from keras import layers"
   ]
  },
  {
   "cell_type": "code",
   "execution_count": 109,
   "metadata": {},
   "outputs": [],
   "source": [
    "from keras import backend as K\n",
    "K.clear_session()\n",
    "\n",
    "model = models.Sequential()\n",
    "model.add(layers.Dense(16, activation='relu',\n",
    "                           input_shape=(train_data.shape[1],)))\n",
    "model.add(layers.Dense(8, activation='relu'))\n",
    "model.add(layers.Dense(4, activation='sigmoid'))\n",
    "model.compile(loss='categorical_crossentropy', optimizer='rmsprop', metrics=['accuracy'])"
   ]
  },
  {
   "cell_type": "markdown",
   "metadata": {},
   "source": [
    "### <font color='Blue'>What did we change compared to Binary Classification Problem ?</font>"
   ]
  },
  {
   "cell_type": "markdown",
   "metadata": {},
   "source": [
    "We need to pick a loss function and an optimizer. Since we are facing a multi-class classification problem and the output of our network \n",
    "is a probability (we end our network with a single-unit layer with a softmax activation), is it best to use the `categorical_crossentropy` loss. \n",
    "Crossentropy is a quantity from the field of Information Theory, that measures the \"distance\" between probability distributions, or in our case, between the ground-truth distribution and our predictions.\n",
    "\n",
    "Here's the step where we configure our model with the `rmsprop` optimizer and the `categorical_crossentropy` loss function. \n",
    "Note that we will also monitor accuracy during training."
   ]
  },
  {
   "cell_type": "markdown",
   "metadata": {},
   "source": [
    "### <font color='Blue'>1.8 Fitting our Model </font>"
   ]
  },
  {
   "cell_type": "code",
   "execution_count": 110,
   "metadata": {},
   "outputs": [
    {
     "name": "stdout",
     "output_type": "stream",
     "text": [
      "Train on 12702 samples, validate on 5445 samples\n",
      "Epoch 1/100\n",
      " - 1s - loss: 0.7191 - accuracy: 0.7472 - val_loss: 0.3943 - val_accuracy: 0.8380\n",
      "Epoch 2/100\n",
      " - 1s - loss: 0.3540 - accuracy: 0.8511 - val_loss: 0.3364 - val_accuracy: 0.8591\n",
      "Epoch 3/100\n",
      " - 1s - loss: 0.3232 - accuracy: 0.8651 - val_loss: 0.3199 - val_accuracy: 0.8670\n",
      "Epoch 4/100\n",
      " - 1s - loss: 0.3103 - accuracy: 0.8717 - val_loss: 0.3125 - val_accuracy: 0.8687\n",
      "Epoch 5/100\n",
      " - 1s - loss: 0.3041 - accuracy: 0.8737 - val_loss: 0.3113 - val_accuracy: 0.8676\n",
      "Epoch 6/100\n",
      " - 1s - loss: 0.2994 - accuracy: 0.8747 - val_loss: 0.3064 - val_accuracy: 0.8705\n",
      "Epoch 7/100\n",
      " - 1s - loss: 0.2965 - accuracy: 0.8763 - val_loss: 0.3050 - val_accuracy: 0.8744\n",
      "Epoch 8/100\n",
      " - 1s - loss: 0.2936 - accuracy: 0.8761 - val_loss: 0.3046 - val_accuracy: 0.8746\n",
      "Epoch 9/100\n",
      " - 1s - loss: 0.2917 - accuracy: 0.8768 - val_loss: 0.3042 - val_accuracy: 0.8747\n",
      "Epoch 10/100\n",
      " - 1s - loss: 0.2900 - accuracy: 0.8786 - val_loss: 0.3030 - val_accuracy: 0.8775\n",
      "Epoch 11/100\n",
      " - 1s - loss: 0.2880 - accuracy: 0.8792 - val_loss: 0.3030 - val_accuracy: 0.8781\n",
      "Epoch 12/100\n",
      " - 1s - loss: 0.2866 - accuracy: 0.8786 - val_loss: 0.3038 - val_accuracy: 0.8751\n",
      "Epoch 13/100\n",
      " - 1s - loss: 0.2846 - accuracy: 0.8812 - val_loss: 0.3049 - val_accuracy: 0.8757\n",
      "Epoch 14/100\n",
      " - 1s - loss: 0.2839 - accuracy: 0.8816 - val_loss: 0.3025 - val_accuracy: 0.8766\n",
      "Epoch 15/100\n",
      " - 1s - loss: 0.2829 - accuracy: 0.8813 - val_loss: 0.3030 - val_accuracy: 0.8777\n",
      "Epoch 16/100\n",
      " - 1s - loss: 0.2814 - accuracy: 0.8831 - val_loss: 0.3026 - val_accuracy: 0.8762\n",
      "Epoch 17/100\n",
      " - 1s - loss: 0.2800 - accuracy: 0.8825 - val_loss: 0.3113 - val_accuracy: 0.8724\n",
      "Epoch 18/100\n",
      " - 1s - loss: 0.2800 - accuracy: 0.8832 - val_loss: 0.3048 - val_accuracy: 0.8770\n",
      "Epoch 19/100\n",
      " - 1s - loss: 0.2798 - accuracy: 0.8810 - val_loss: 0.3004 - val_accuracy: 0.8757\n",
      "Epoch 20/100\n",
      " - 1s - loss: 0.2782 - accuracy: 0.8831 - val_loss: 0.3032 - val_accuracy: 0.8795\n",
      "Epoch 21/100\n",
      " - 1s - loss: 0.2778 - accuracy: 0.8832 - val_loss: 0.3011 - val_accuracy: 0.8764\n",
      "Epoch 22/100\n",
      " - 1s - loss: 0.2768 - accuracy: 0.8838 - val_loss: 0.3082 - val_accuracy: 0.8736\n",
      "Epoch 23/100\n",
      " - 1s - loss: 0.2767 - accuracy: 0.8843 - val_loss: 0.3047 - val_accuracy: 0.8781\n",
      "Epoch 24/100\n",
      " - 1s - loss: 0.2752 - accuracy: 0.8831 - val_loss: 0.3049 - val_accuracy: 0.8773\n",
      "Epoch 25/100\n",
      " - 1s - loss: 0.2748 - accuracy: 0.8843 - val_loss: 0.3034 - val_accuracy: 0.8788\n",
      "Epoch 26/100\n",
      " - 1s - loss: 0.2752 - accuracy: 0.8832 - val_loss: 0.3059 - val_accuracy: 0.8749\n",
      "Epoch 27/100\n",
      " - 1s - loss: 0.2735 - accuracy: 0.8856 - val_loss: 0.3013 - val_accuracy: 0.8760\n",
      "Epoch 28/100\n",
      " - 1s - loss: 0.2728 - accuracy: 0.8821 - val_loss: 0.3041 - val_accuracy: 0.8764\n",
      "Epoch 29/100\n",
      " - 1s - loss: 0.2727 - accuracy: 0.8855 - val_loss: 0.3020 - val_accuracy: 0.8799\n",
      "Epoch 30/100\n",
      " - 1s - loss: 0.2727 - accuracy: 0.8851 - val_loss: 0.3033 - val_accuracy: 0.8781\n",
      "Epoch 31/100\n",
      " - 1s - loss: 0.2723 - accuracy: 0.8848 - val_loss: 0.3064 - val_accuracy: 0.8770\n",
      "Epoch 32/100\n",
      " - 1s - loss: 0.2715 - accuracy: 0.8859 - val_loss: 0.3051 - val_accuracy: 0.8770\n",
      "Epoch 33/100\n",
      " - 1s - loss: 0.2713 - accuracy: 0.8854 - val_loss: 0.3027 - val_accuracy: 0.8797\n",
      "Epoch 34/100\n",
      " - 1s - loss: 0.2711 - accuracy: 0.8871 - val_loss: 0.3038 - val_accuracy: 0.8782\n",
      "Epoch 35/100\n",
      " - 1s - loss: 0.2703 - accuracy: 0.8845 - val_loss: 0.3012 - val_accuracy: 0.8797\n",
      "Epoch 36/100\n",
      " - 1s - loss: 0.2702 - accuracy: 0.8883 - val_loss: 0.3052 - val_accuracy: 0.8777\n",
      "Epoch 37/100\n",
      " - 1s - loss: 0.2696 - accuracy: 0.8852 - val_loss: 0.3041 - val_accuracy: 0.8781\n",
      "Epoch 38/100\n",
      " - 1s - loss: 0.2688 - accuracy: 0.8869 - val_loss: 0.3042 - val_accuracy: 0.8771\n",
      "Epoch 39/100\n",
      " - 1s - loss: 0.2689 - accuracy: 0.8858 - val_loss: 0.3024 - val_accuracy: 0.8795\n",
      "Epoch 40/100\n",
      " - 1s - loss: 0.2685 - accuracy: 0.8869 - val_loss: 0.3076 - val_accuracy: 0.8777\n",
      "Epoch 41/100\n",
      " - 1s - loss: 0.2683 - accuracy: 0.8862 - val_loss: 0.3097 - val_accuracy: 0.8757\n",
      "Epoch 42/100\n",
      " - 1s - loss: 0.2685 - accuracy: 0.8862 - val_loss: 0.3042 - val_accuracy: 0.8771\n",
      "Epoch 43/100\n",
      " - 1s - loss: 0.2682 - accuracy: 0.8873 - val_loss: 0.3057 - val_accuracy: 0.8793\n",
      "Epoch 44/100\n",
      " - 1s - loss: 0.2676 - accuracy: 0.8870 - val_loss: 0.3025 - val_accuracy: 0.8803\n",
      "Epoch 45/100\n",
      " - 1s - loss: 0.2671 - accuracy: 0.8871 - val_loss: 0.3047 - val_accuracy: 0.8784\n",
      "Epoch 46/100\n",
      " - 1s - loss: 0.2670 - accuracy: 0.8872 - val_loss: 0.3058 - val_accuracy: 0.8771\n",
      "Epoch 47/100\n",
      " - 1s - loss: 0.2662 - accuracy: 0.8888 - val_loss: 0.3029 - val_accuracy: 0.8799\n",
      "Epoch 48/100\n",
      " - 1s - loss: 0.2662 - accuracy: 0.8882 - val_loss: 0.3063 - val_accuracy: 0.8788\n",
      "Epoch 49/100\n",
      " - 1s - loss: 0.2657 - accuracy: 0.8879 - val_loss: 0.3060 - val_accuracy: 0.8779\n",
      "Epoch 50/100\n",
      " - 1s - loss: 0.2652 - accuracy: 0.8873 - val_loss: 0.3065 - val_accuracy: 0.8757\n",
      "Epoch 51/100\n",
      " - 1s - loss: 0.2657 - accuracy: 0.8889 - val_loss: 0.3046 - val_accuracy: 0.8790\n",
      "Epoch 52/100\n",
      " - 1s - loss: 0.2647 - accuracy: 0.8884 - val_loss: 0.3083 - val_accuracy: 0.8768\n",
      "Epoch 53/100\n",
      " - 1s - loss: 0.2645 - accuracy: 0.8888 - val_loss: 0.3076 - val_accuracy: 0.8757\n",
      "Epoch 54/100\n",
      " - 1s - loss: 0.2644 - accuracy: 0.8883 - val_loss: 0.3072 - val_accuracy: 0.8770\n",
      "Epoch 55/100\n",
      " - 1s - loss: 0.2646 - accuracy: 0.8874 - val_loss: 0.3078 - val_accuracy: 0.8758\n",
      "Epoch 56/100\n",
      " - 1s - loss: 0.2639 - accuracy: 0.8895 - val_loss: 0.3076 - val_accuracy: 0.8781\n",
      "Epoch 57/100\n",
      " - 1s - loss: 0.2637 - accuracy: 0.8882 - val_loss: 0.3083 - val_accuracy: 0.8801\n",
      "Epoch 58/100\n",
      " - 1s - loss: 0.2637 - accuracy: 0.8880 - val_loss: 0.3046 - val_accuracy: 0.8792\n",
      "Epoch 59/100\n",
      " - 1s - loss: 0.2635 - accuracy: 0.8892 - val_loss: 0.3083 - val_accuracy: 0.8801\n",
      "Epoch 60/100\n",
      " - 1s - loss: 0.2632 - accuracy: 0.8877 - val_loss: 0.3056 - val_accuracy: 0.8781\n",
      "Epoch 61/100\n",
      " - 1s - loss: 0.2634 - accuracy: 0.8881 - val_loss: 0.3062 - val_accuracy: 0.8801\n",
      "Epoch 62/100\n",
      " - 1s - loss: 0.2620 - accuracy: 0.8892 - val_loss: 0.3107 - val_accuracy: 0.8788\n",
      "Epoch 63/100\n",
      " - 1s - loss: 0.2621 - accuracy: 0.8903 - val_loss: 0.3080 - val_accuracy: 0.8812\n",
      "Epoch 64/100\n",
      " - 1s - loss: 0.2628 - accuracy: 0.8896 - val_loss: 0.3105 - val_accuracy: 0.8762\n",
      "Epoch 65/100\n",
      " - 1s - loss: 0.2619 - accuracy: 0.8892 - val_loss: 0.3093 - val_accuracy: 0.8786\n",
      "Epoch 66/100\n",
      " - 1s - loss: 0.2622 - accuracy: 0.8894 - val_loss: 0.3105 - val_accuracy: 0.8788\n",
      "Epoch 67/100\n",
      " - 1s - loss: 0.2619 - accuracy: 0.8884 - val_loss: 0.3105 - val_accuracy: 0.8788\n",
      "Epoch 68/100\n",
      " - 1s - loss: 0.2613 - accuracy: 0.8917 - val_loss: 0.3100 - val_accuracy: 0.8768\n",
      "Epoch 69/100\n",
      " - 1s - loss: 0.2617 - accuracy: 0.8901 - val_loss: 0.3177 - val_accuracy: 0.8744\n",
      "Epoch 70/100\n",
      " - 1s - loss: 0.2607 - accuracy: 0.8893 - val_loss: 0.3202 - val_accuracy: 0.8738\n",
      "Epoch 71/100\n",
      " - 1s - loss: 0.2609 - accuracy: 0.8904 - val_loss: 0.3123 - val_accuracy: 0.8788\n",
      "Epoch 72/100\n",
      " - 1s - loss: 0.2606 - accuracy: 0.8880 - val_loss: 0.3082 - val_accuracy: 0.8808\n",
      "Epoch 73/100\n",
      " - 1s - loss: 0.2607 - accuracy: 0.8907 - val_loss: 0.3185 - val_accuracy: 0.8762\n",
      "Epoch 74/100\n",
      " - 1s - loss: 0.2608 - accuracy: 0.8913 - val_loss: 0.3111 - val_accuracy: 0.8790\n",
      "Epoch 75/100\n",
      " - 1s - loss: 0.2605 - accuracy: 0.8899 - val_loss: 0.3125 - val_accuracy: 0.8766\n",
      "Epoch 76/100\n",
      " - 1s - loss: 0.2600 - accuracy: 0.8906 - val_loss: 0.3132 - val_accuracy: 0.8786\n",
      "Epoch 77/100\n",
      " - 1s - loss: 0.2604 - accuracy: 0.8906 - val_loss: 0.3104 - val_accuracy: 0.8771\n",
      "Epoch 78/100\n",
      " - 1s - loss: 0.2599 - accuracy: 0.8911 - val_loss: 0.3102 - val_accuracy: 0.8812\n",
      "Epoch 79/100\n",
      " - 1s - loss: 0.2599 - accuracy: 0.8899 - val_loss: 0.3110 - val_accuracy: 0.8799\n",
      "Epoch 80/100\n",
      " - 1s - loss: 0.2594 - accuracy: 0.8904 - val_loss: 0.3148 - val_accuracy: 0.8768\n",
      "Epoch 81/100\n",
      " - 1s - loss: 0.2593 - accuracy: 0.8914 - val_loss: 0.3130 - val_accuracy: 0.8766\n",
      "Epoch 82/100\n",
      " - 1s - loss: 0.2591 - accuracy: 0.8916 - val_loss: 0.3100 - val_accuracy: 0.8790\n",
      "Epoch 83/100\n",
      " - 1s - loss: 0.2590 - accuracy: 0.8912 - val_loss: 0.3128 - val_accuracy: 0.8801\n",
      "Epoch 84/100\n",
      " - 1s - loss: 0.2592 - accuracy: 0.8910 - val_loss: 0.3139 - val_accuracy: 0.8808\n",
      "Epoch 85/100\n",
      " - 1s - loss: 0.2593 - accuracy: 0.8932 - val_loss: 0.3145 - val_accuracy: 0.8777\n",
      "Epoch 86/100\n",
      " - 1s - loss: 0.2592 - accuracy: 0.8913 - val_loss: 0.3117 - val_accuracy: 0.8793\n"
     ]
    },
    {
     "name": "stdout",
     "output_type": "stream",
     "text": [
      "Epoch 87/100\n",
      " - 1s - loss: 0.2580 - accuracy: 0.8913 - val_loss: 0.3122 - val_accuracy: 0.8795\n",
      "Epoch 88/100\n",
      " - 1s - loss: 0.2587 - accuracy: 0.8910 - val_loss: 0.3146 - val_accuracy: 0.8793\n",
      "Epoch 89/100\n",
      " - 1s - loss: 0.2582 - accuracy: 0.8917 - val_loss: 0.3171 - val_accuracy: 0.8764\n",
      "Epoch 90/100\n",
      " - 1s - loss: 0.2585 - accuracy: 0.8901 - val_loss: 0.3139 - val_accuracy: 0.8781\n",
      "Epoch 91/100\n",
      " - 1s - loss: 0.2583 - accuracy: 0.8917 - val_loss: 0.3143 - val_accuracy: 0.8782\n",
      "Epoch 92/100\n",
      " - 1s - loss: 0.2579 - accuracy: 0.8916 - val_loss: 0.3143 - val_accuracy: 0.8771\n",
      "Epoch 93/100\n",
      " - 1s - loss: 0.2581 - accuracy: 0.8918 - val_loss: 0.3170 - val_accuracy: 0.8773\n",
      "Epoch 94/100\n",
      " - 1s - loss: 0.2579 - accuracy: 0.8914 - val_loss: 0.3167 - val_accuracy: 0.8771\n",
      "Epoch 95/100\n",
      " - 1s - loss: 0.2575 - accuracy: 0.8935 - val_loss: 0.3160 - val_accuracy: 0.8777\n",
      "Epoch 96/100\n",
      " - 1s - loss: 0.2574 - accuracy: 0.8911 - val_loss: 0.3134 - val_accuracy: 0.8801\n",
      "Epoch 97/100\n",
      " - 1s - loss: 0.2573 - accuracy: 0.8925 - val_loss: 0.3155 - val_accuracy: 0.8775\n",
      "Epoch 98/100\n",
      " - 1s - loss: 0.2572 - accuracy: 0.8920 - val_loss: 0.3200 - val_accuracy: 0.8760\n",
      "Epoch 99/100\n",
      " - 1s - loss: 0.2569 - accuracy: 0.8925 - val_loss: 0.3167 - val_accuracy: 0.8770\n",
      "Epoch 100/100\n",
      " - 1s - loss: 0.2564 - accuracy: 0.8925 - val_loss: 0.3196 - val_accuracy: 0.8768\n"
     ]
    }
   ],
   "source": [
    "hist = model.fit(train_data, train_targets,\n",
    "                             epochs=100,\n",
    "                             batch_size=32,verbose=2,\n",
    "                             validation_data=(test_data, test_targets))"
   ]
  },
  {
   "cell_type": "code",
   "execution_count": 111,
   "metadata": {},
   "outputs": [
    {
     "data": {
      "text/plain": [
       "dict_keys(['val_loss', 'val_accuracy', 'loss', 'accuracy'])"
      ]
     },
     "execution_count": 111,
     "metadata": {},
     "output_type": "execute_result"
    }
   ],
   "source": [
    "history_dict = hist.history\n",
    "history_dict.keys()"
   ]
  },
  {
   "cell_type": "markdown",
   "metadata": {},
   "source": [
    "### <font color='Blue'>1.9 Comparison of Accuracy in Training and Test Data Set </font>"
   ]
  },
  {
   "cell_type": "code",
   "execution_count": 112,
   "metadata": {},
   "outputs": [],
   "source": [
    "epochs = range(1, 101)\n",
    "tra_acc = hist.history['accuracy']\n",
    "val_acc = hist.history['val_accuracy']\n",
    "\n",
    "tra_loss = hist.history['loss']\n",
    "val_loss = hist.history['val_loss']"
   ]
  },
  {
   "cell_type": "code",
   "execution_count": 113,
   "metadata": {},
   "outputs": [
    {
     "data": {
      "image/png": "[encoded data removed]",
      "text/plain": [
       "<Figure size 432x288 with 1 Axes>"
      ]
     },
     "metadata": {
      "needs_background": "light"
     },
     "output_type": "display_data"
    }
   ],
   "source": [
    "plt.plot(epochs, tra_acc, 'o', label='Training')\n",
    "plt.plot(epochs, val_acc, '+', label='Validation')\n",
    "plt.xlabel('Epochs')\n",
    "plt.ylabel('Accuracy')\n",
    "plt.title('Training vs Validation Accuracy')\n",
    "plt.legend()\n",
    "plt.show()"
   ]
  },
  {
   "cell_type": "code",
   "execution_count": 114,
   "metadata": {},
   "outputs": [
    {
     "data": {
      "image/png": "[encoded data removed]",
      "text/plain": [
       "<Figure size 432x288 with 1 Axes>"
      ]
     },
     "metadata": {
      "needs_background": "light"
     },
     "output_type": "display_data"
    }
   ],
   "source": [
    "plt.plot(epochs, tra_loss, 'o', label='Training')\n",
    "plt.plot(epochs, val_loss, '+', label='Validation')\n",
    "plt.xlabel('Epochs')\n",
    "plt.ylabel('Losses')\n",
    "plt.title('Training vs Validation Losses')\n",
    "plt.legend()\n",
    "plt.show()"
   ]
  },
  {
   "cell_type": "markdown",
   "metadata": {},
   "source": [
    "### <font color='Blue'>What Should you do ?</font>"
   ]
  },
  {
   "cell_type": "markdown",
   "metadata": {},
   "source": [
    "Let us Experiment. You will guide me. Try a Different Architecture. Different Optimizer ?"
   ]
  },
  {
   "cell_type": "markdown",
   "metadata": {},
   "source": [
    "### <font color='Blue'>1.10 Extracting Predicted Probabilities </font>"
   ]
  },
  {
   "cell_type": "code",
   "execution_count": 115,
   "metadata": {},
   "outputs": [
    {
     "data": {
      "text/html": [
       "<div>\n",
       "<style scoped>\n",
       "    .dataframe tbody tr th:only-of-type {\n",
       "        vertical-align: middle;\n",
       "    }\n",
       "\n",
       "    .dataframe tbody tr th {\n",
       "        vertical-align: top;\n",
       "    }\n",
       "\n",
       "    .dataframe thead th {\n",
       "        text-align: right;\n",
       "    }\n",
       "</style>\n",
       "<table border=\"1\" class=\"dataframe\">\n",
       "  <thead>\n",
       "    <tr style=\"text-align: right;\">\n",
       "      <th></th>\n",
       "      <th>0</th>\n",
       "      <th>1</th>\n",
       "      <th>2</th>\n",
       "      <th>3</th>\n",
       "      <th>actual</th>\n",
       "    </tr>\n",
       "  </thead>\n",
       "  <tbody>\n",
       "    <tr>\n",
       "      <th>0</th>\n",
       "      <td>0</td>\n",
       "      <td>1</td>\n",
       "      <td>0</td>\n",
       "      <td>0</td>\n",
       "      <td>1</td>\n",
       "    </tr>\n",
       "    <tr>\n",
       "      <th>1</th>\n",
       "      <td>0</td>\n",
       "      <td>0</td>\n",
       "      <td>1</td>\n",
       "      <td>0</td>\n",
       "      <td>2</td>\n",
       "    </tr>\n",
       "    <tr>\n",
       "      <th>2</th>\n",
       "      <td>0</td>\n",
       "      <td>0</td>\n",
       "      <td>1</td>\n",
       "      <td>0</td>\n",
       "      <td>2</td>\n",
       "    </tr>\n",
       "    <tr>\n",
       "      <th>3</th>\n",
       "      <td>0</td>\n",
       "      <td>0</td>\n",
       "      <td>0</td>\n",
       "      <td>1</td>\n",
       "      <td>3</td>\n",
       "    </tr>\n",
       "    <tr>\n",
       "      <th>4</th>\n",
       "      <td>0</td>\n",
       "      <td>0</td>\n",
       "      <td>1</td>\n",
       "      <td>0</td>\n",
       "      <td>2</td>\n",
       "    </tr>\n",
       "    <tr>\n",
       "      <th>...</th>\n",
       "      <td>...</td>\n",
       "      <td>...</td>\n",
       "      <td>...</td>\n",
       "      <td>...</td>\n",
       "      <td>...</td>\n",
       "    </tr>\n",
       "    <tr>\n",
       "      <th>5440</th>\n",
       "      <td>0</td>\n",
       "      <td>0</td>\n",
       "      <td>1</td>\n",
       "      <td>0</td>\n",
       "      <td>2</td>\n",
       "    </tr>\n",
       "    <tr>\n",
       "      <th>5441</th>\n",
       "      <td>0</td>\n",
       "      <td>1</td>\n",
       "      <td>0</td>\n",
       "      <td>0</td>\n",
       "      <td>1</td>\n",
       "    </tr>\n",
       "    <tr>\n",
       "      <th>5442</th>\n",
       "      <td>0</td>\n",
       "      <td>1</td>\n",
       "      <td>0</td>\n",
       "      <td>0</td>\n",
       "      <td>1</td>\n",
       "    </tr>\n",
       "    <tr>\n",
       "      <th>5443</th>\n",
       "      <td>0</td>\n",
       "      <td>1</td>\n",
       "      <td>0</td>\n",
       "      <td>0</td>\n",
       "      <td>1</td>\n",
       "    </tr>\n",
       "    <tr>\n",
       "      <th>5444</th>\n",
       "      <td>0</td>\n",
       "      <td>0</td>\n",
       "      <td>1</td>\n",
       "      <td>0</td>\n",
       "      <td>2</td>\n",
       "    </tr>\n",
       "  </tbody>\n",
       "</table>\n",
       "<p>5445 rows × 5 columns</p>\n",
       "</div>"
      ],
      "text/plain": [
       "      0  1  2  3  actual\n",
       "0     0  1  0  0       1\n",
       "1     0  0  1  0       2\n",
       "2     0  0  1  0       2\n",
       "3     0  0  0  1       3\n",
       "4     0  0  1  0       2\n",
       "...  .. .. .. ..     ...\n",
       "5440  0  0  1  0       2\n",
       "5441  0  1  0  0       1\n",
       "5442  0  1  0  0       1\n",
       "5443  0  1  0  0       1\n",
       "5444  0  0  1  0       2\n",
       "\n",
       "[5445 rows x 5 columns]"
      ]
     },
     "execution_count": 115,
     "metadata": {},
     "output_type": "execute_result"
    }
   ],
   "source": [
    "test_df = pd.DataFrame(test_targets)\n",
    "test_df['actual']= pd.Series(test_df.columns[np.where(test_df!=0)[1]])\n",
    "test_df"
   ]
  },
  {
   "cell_type": "code",
   "execution_count": 116,
   "metadata": {},
   "outputs": [],
   "source": [
    "pred_probs = model.predict(test_data)\n",
    "pred_class = np.argmax(pred_probs, axis=1)"
   ]
  },
  {
   "cell_type": "code",
   "execution_count": 117,
   "metadata": {},
   "outputs": [
    {
     "data": {
      "text/html": [
       "<div>\n",
       "<style scoped>\n",
       "    .dataframe tbody tr th:only-of-type {\n",
       "        vertical-align: middle;\n",
       "    }\n",
       "\n",
       "    .dataframe tbody tr th {\n",
       "        vertical-align: top;\n",
       "    }\n",
       "\n",
       "    .dataframe thead th {\n",
       "        text-align: right;\n",
       "    }\n",
       "</style>\n",
       "<table border=\"1\" class=\"dataframe\">\n",
       "  <thead>\n",
       "    <tr style=\"text-align: right;\">\n",
       "      <th></th>\n",
       "      <th>0</th>\n",
       "      <th>1</th>\n",
       "      <th>2</th>\n",
       "      <th>3</th>\n",
       "      <th>pred_class</th>\n",
       "      <th>act_class</th>\n",
       "      <th>sum_prob</th>\n",
       "    </tr>\n",
       "  </thead>\n",
       "  <tbody>\n",
       "    <tr>\n",
       "      <th>0</th>\n",
       "      <td>3.129230e-19</td>\n",
       "      <td>2.433365e-01</td>\n",
       "      <td>0.014967</td>\n",
       "      <td>9.284174e-08</td>\n",
       "      <td>1</td>\n",
       "      <td>1</td>\n",
       "      <td>0.258303</td>\n",
       "    </tr>\n",
       "    <tr>\n",
       "      <th>1</th>\n",
       "      <td>8.992693e-20</td>\n",
       "      <td>2.970732e-04</td>\n",
       "      <td>0.834144</td>\n",
       "      <td>1.719356e-04</td>\n",
       "      <td>2</td>\n",
       "      <td>2</td>\n",
       "      <td>0.834613</td>\n",
       "    </tr>\n",
       "    <tr>\n",
       "      <th>2</th>\n",
       "      <td>7.184027e-13</td>\n",
       "      <td>8.869390e-05</td>\n",
       "      <td>0.063681</td>\n",
       "      <td>8.290322e-05</td>\n",
       "      <td>2</td>\n",
       "      <td>2</td>\n",
       "      <td>0.063852</td>\n",
       "    </tr>\n",
       "    <tr>\n",
       "      <th>3</th>\n",
       "      <td>3.880673e-11</td>\n",
       "      <td>3.186213e-06</td>\n",
       "      <td>0.437805</td>\n",
       "      <td>5.270420e-01</td>\n",
       "      <td>3</td>\n",
       "      <td>3</td>\n",
       "      <td>0.964851</td>\n",
       "    </tr>\n",
       "    <tr>\n",
       "      <th>4</th>\n",
       "      <td>3.648933e-13</td>\n",
       "      <td>7.161914e-07</td>\n",
       "      <td>0.540968</td>\n",
       "      <td>1.086748e-01</td>\n",
       "      <td>2</td>\n",
       "      <td>2</td>\n",
       "      <td>0.649644</td>\n",
       "    </tr>\n",
       "    <tr>\n",
       "      <th>...</th>\n",
       "      <td>...</td>\n",
       "      <td>...</td>\n",
       "      <td>...</td>\n",
       "      <td>...</td>\n",
       "      <td>...</td>\n",
       "      <td>...</td>\n",
       "      <td>...</td>\n",
       "    </tr>\n",
       "    <tr>\n",
       "      <th>5440</th>\n",
       "      <td>6.476800e-12</td>\n",
       "      <td>2.325676e-06</td>\n",
       "      <td>0.517359</td>\n",
       "      <td>1.022325e-01</td>\n",
       "      <td>2</td>\n",
       "      <td>2</td>\n",
       "      <td>0.619594</td>\n",
       "    </tr>\n",
       "    <tr>\n",
       "      <th>5441</th>\n",
       "      <td>8.832196e-19</td>\n",
       "      <td>2.816173e-01</td>\n",
       "      <td>0.012227</td>\n",
       "      <td>1.726160e-06</td>\n",
       "      <td>1</td>\n",
       "      <td>1</td>\n",
       "      <td>0.293846</td>\n",
       "    </tr>\n",
       "    <tr>\n",
       "      <th>5442</th>\n",
       "      <td>5.267266e-13</td>\n",
       "      <td>5.755420e-01</td>\n",
       "      <td>0.012995</td>\n",
       "      <td>2.812100e-06</td>\n",
       "      <td>1</td>\n",
       "      <td>1</td>\n",
       "      <td>0.588540</td>\n",
       "    </tr>\n",
       "    <tr>\n",
       "      <th>5443</th>\n",
       "      <td>8.394984e-18</td>\n",
       "      <td>7.055866e-01</td>\n",
       "      <td>0.008104</td>\n",
       "      <td>7.926326e-09</td>\n",
       "      <td>1</td>\n",
       "      <td>1</td>\n",
       "      <td>0.713690</td>\n",
       "    </tr>\n",
       "    <tr>\n",
       "      <th>5444</th>\n",
       "      <td>1.612905e-19</td>\n",
       "      <td>1.319999e-03</td>\n",
       "      <td>0.517728</td>\n",
       "      <td>8.181269e-05</td>\n",
       "      <td>2</td>\n",
       "      <td>2</td>\n",
       "      <td>0.519130</td>\n",
       "    </tr>\n",
       "  </tbody>\n",
       "</table>\n",
       "<p>5445 rows × 7 columns</p>\n",
       "</div>"
      ],
      "text/plain": [
       "                 0             1         2             3  pred_class  \\\n",
       "0     3.129230e-19  2.433365e-01  0.014967  9.284174e-08           1   \n",
       "1     8.992693e-20  2.970732e-04  0.834144  1.719356e-04           2   \n",
       "2     7.184027e-13  8.869390e-05  0.063681  8.290322e-05           2   \n",
       "3     3.880673e-11  3.186213e-06  0.437805  5.270420e-01           3   \n",
       "4     3.648933e-13  7.161914e-07  0.540968  1.086748e-01           2   \n",
       "...            ...           ...       ...           ...         ...   \n",
       "5440  6.476800e-12  2.325676e-06  0.517359  1.022325e-01           2   \n",
       "5441  8.832196e-19  2.816173e-01  0.012227  1.726160e-06           1   \n",
       "5442  5.267266e-13  5.755420e-01  0.012995  2.812100e-06           1   \n",
       "5443  8.394984e-18  7.055866e-01  0.008104  7.926326e-09           1   \n",
       "5444  1.612905e-19  1.319999e-03  0.517728  8.181269e-05           2   \n",
       "\n",
       "      act_class  sum_prob  \n",
       "0             1  0.258303  \n",
       "1             2  0.834613  \n",
       "2             2  0.063852  \n",
       "3             3  0.964851  \n",
       "4             2  0.649644  \n",
       "...         ...       ...  \n",
       "5440          2  0.619594  \n",
       "5441          1  0.293846  \n",
       "5442          1  0.588540  \n",
       "5443          1  0.713690  \n",
       "5444          2  0.519130  \n",
       "\n",
       "[5445 rows x 7 columns]"
      ]
     },
     "execution_count": 117,
     "metadata": {},
     "output_type": "execute_result"
    }
   ],
   "source": [
    "y_pred_df = pd.DataFrame(pred_probs)\n",
    "y_pred_df[\"pred_class\"] = pred_class\n",
    "y_pred_df[\"act_class\"] = test_df['actual']\n",
    "y_pred_df[\"sum_prob\"] = y_pred_df[0]+y_pred_df[1]+y_pred_df[2]+y_pred_df[3]\n",
    "y_pred_df"
   ]
  },
  {
   "cell_type": "markdown",
   "metadata": {},
   "source": [
    "### <font color='Blue'>If we sum up the probabilities - What should be the answer ? </font>"
   ]
  },
  {
   "cell_type": "markdown",
   "metadata": {},
   "source": [
    "### <font color='Blue'>1.11 Classifier Performance </font>"
   ]
  },
  {
   "cell_type": "markdown",
   "metadata": {},
   "source": [
    "#### <font color='Blue'>1.11 Classifier Performance - Goal Keeper</font>"
   ]
  },
  {
   "cell_type": "code",
   "execution_count": 118,
   "metadata": {},
   "outputs": [
    {
     "data": {
      "image/png": "[encoded data removed]",
      "text/plain": [
       "<Figure size 432x288 with 1 Axes>"
      ]
     },
     "metadata": {
      "needs_background": "light"
     },
     "output_type": "display_data"
    }
   ],
   "source": [
    "sn.kdeplot( y_pred_df[0], color = 'b', shade=True );"
   ]
  },
  {
   "cell_type": "markdown",
   "metadata": {},
   "source": [
    "#### <font color='Blue'>1.11 Classifier Performance - Defender</font>"
   ]
  },
  {
   "cell_type": "code",
   "execution_count": 119,
   "metadata": {},
   "outputs": [
    {
     "data": {
      "image/png": "[encoded data removed]",
      "text/plain": [
       "<Figure size 432x288 with 1 Axes>"
      ]
     },
     "metadata": {
      "needs_background": "light"
     },
     "output_type": "display_data"
    }
   ],
   "source": [
    "sn.kdeplot( y_pred_df[1], color = 'g', shade=True );"
   ]
  },
  {
   "cell_type": "markdown",
   "metadata": {},
   "source": [
    "#### <font color='Blue'>1.11 Classifier Performance - Midfielder</font>"
   ]
  },
  {
   "cell_type": "code",
   "execution_count": 120,
   "metadata": {},
   "outputs": [
    {
     "data": {
      "image/png": "[encoded data removed]",
      "text/plain": [
       "<Figure size 432x288 with 1 Axes>"
      ]
     },
     "metadata": {
      "needs_background": "light"
     },
     "output_type": "display_data"
    }
   ],
   "source": [
    "sn.kdeplot( y_pred_df[2], color = 'm', shade=True );"
   ]
  },
  {
   "cell_type": "markdown",
   "metadata": {},
   "source": [
    "#### <font color='Blue'>1.11 Classifier Performance - Forward</font>"
   ]
  },
  {
   "cell_type": "code",
   "execution_count": 121,
   "metadata": {},
   "outputs": [
    {
     "data": {
      "image/png": "[encoded data removed]",
      "text/plain": [
       "<Figure size 432x288 with 1 Axes>"
      ]
     },
     "metadata": {
      "needs_background": "light"
     },
     "output_type": "display_data"
    }
   ],
   "source": [
    "sn.kdeplot( y_pred_df[3], color = 'y', shade=True );"
   ]
  },
  {
   "cell_type": "markdown",
   "metadata": {},
   "source": [
    "### <font color='Blue'>1.12 Performance Measures from Confusion Matrix </font>"
   ]
  },
  {
   "cell_type": "code",
   "execution_count": 122,
   "metadata": {},
   "outputs": [
    {
     "data": {
      "image/png": "[encoded data removed]",
      "text/plain": [
       "<Figure size 432x288 with 2 Axes>"
      ]
     },
     "metadata": {
      "needs_background": "light"
     },
     "output_type": "display_data"
    }
   ],
   "source": [
    "from confusion_matrix import make_confusion_matrix\n",
    "cf_matrix = metrics.confusion_matrix(y_pred_df.act_class, y_pred_df.pred_class)\n",
    "labels = [\"TN\",\"FP\",\"FN\",\"TP\"]\n",
    "categories = [\"Goal Keeper\",\"Defender\",\"Mid Fielder\",\"Forward\"]\n",
    "make_confusion_matrix(cf_matrix, \n",
    "                      group_names=labels,\n",
    "                      categories=categories, \n",
    "                      cmap=\"Greens\")"
   ]
  },
  {
   "cell_type": "code",
   "execution_count": 123,
   "metadata": {},
   "outputs": [
    {
     "name": "stdout",
     "output_type": "stream",
     "text": [
      "              precision    recall  f1-score   support\n",
      "\n",
      "           0       1.00      1.00      1.00       607\n",
      "           1       0.92      0.91      0.91      1747\n",
      "           2       0.82      0.87      0.85      2075\n",
      "           3       0.85      0.75      0.80      1016\n",
      "\n",
      "    accuracy                           0.88      5445\n",
      "   macro avg       0.90      0.88      0.89      5445\n",
      "weighted avg       0.88      0.88      0.88      5445\n",
      "\n"
     ]
    }
   ],
   "source": [
    "print( metrics.classification_report( y_pred_df.act_class, y_pred_df.pred_class ) )"
   ]
  },
  {
   "cell_type": "markdown",
   "metadata": {},
   "source": [
    "### <font color='Blue'>Conclusion</font>"
   ]
  },
  {
   "cell_type": "markdown",
   "metadata": {},
   "source": [
    "Here's what you should take away from this example:\n",
    "\n",
    "* There's usually quite a bit of preprocessing you need to do on your raw data in order to be able to feed it -- as tensors -- into a neural \n",
    "network. In the case of sequences of words, they can be encoded as binary vectors -- but there are other encoding options too.\n",
    "* Stacks of `Dense` layers with `relu` activations can solve a wide range of problems (including sentiment classification), and you will \n",
    "likely use them frequently.\n",
    "* In a binary classification problem (two output classes), your network should end with a `Dense` layer with 1 unit and a `sigmoid` activation, \n",
    "i.e. the output of your network should be a scalar between 0 and 1, encoding a probability.\n",
    "* With such a scalar sigmoid output, on a binary classification problem, the loss function you should use is `binary_crossentropy`.\n",
    "* The `rmsprop` optimizer is generally a good enough choice of optimizer, whatever your problem. That's one less thing for you to worry \n",
    "about.\n",
    "* As they get better on their training data, neural networks eventually start _overfitting_ and end up obtaining increasingly worse results on data \n",
    "never-seen-before. Make sure to always monitor performance on data that is outside of the training set."
   ]
  },
  {
   "cell_type": "markdown",
   "metadata": {},
   "source": [
    "### <font color='Blue'>Feature Importance Using Shap</font>"
   ]
  },
  {
   "cell_type": "markdown",
   "metadata": {},
   "source": [
    "For information of Shapley Values, See: https://towardsdatascience.com/shap-explained-the-way-i-wish-someone-explained-it-to-me-ab81cc69ef30"
   ]
  },
  {
   "cell_type": "code",
   "execution_count": 124,
   "metadata": {},
   "outputs": [],
   "source": [
    "#Run pip install shap before importing shap\n",
    "import shap"
   ]
  },
  {
   "cell_type": "code",
   "execution_count": 125,
   "metadata": {},
   "outputs": [
    {
     "name": "stderr",
     "output_type": "stream",
     "text": [
      "WARNING:shap:Using 1000 background data samples could cause slower run times. Consider using shap.sample(data, K) or shap.kmeans(data, K) to summarize the background as K samples.\n"
     ]
    }
   ],
   "source": [
    "explainer = shap.KernelExplainer(model.predict,shap.sample(train_data,1000))"
   ]
  },
  {
   "cell_type": "code",
   "execution_count": 126,
   "metadata": {},
   "outputs": [
    {
     "data": {
      "application/vnd.jupyter.widget-view+json": {
       "model_id": "6f46eb33ac134a71aa727a57556733ee",
       "version_major": 2,
       "version_minor": 0
      },
      "text/plain": [
       "  0%|          | 0/100 [00:00<?, ?it/s]"
      ]
     },
     "metadata": {},
     "output_type": "display_data"
    }
   ],
   "source": [
    "shap_values = explainer.shap_values(shap.sample(test_data,100),nsamples=200)"
   ]
  },
  {
   "cell_type": "code",
   "execution_count": 127,
   "metadata": {},
   "outputs": [
    {
     "data": {
      "image/png": "[encoded data removed]",
      "text/plain": [
       "<Figure size 576x684 with 1 Axes>"
      ]
     },
     "metadata": {
      "needs_background": "light"
     },
     "output_type": "display_data"
    }
   ],
   "source": [
    "shap.summary_plot(shap_values,test_data,feature_names=X_features)"
   ]
  },
  {
   "cell_type": "markdown",
   "metadata": {},
   "source": [
    "Each point of every row is a record of the test dataset. The features are sorted from the most important one to the less important. "
   ]
  },
  {
   "cell_type": "code",
   "execution_count": null,
   "metadata": {},
   "outputs": [],
   "source": []
  }
 ],
 "metadata": {
  "kernelspec": {
   "display_name": "Python 3",
   "language": "python",
   "name": "python3"
  },
  "language_info": {
   "codemirror_mode": {
    "name": "ipython",
    "version": 3
   },
   "file_extension": ".py",
   "mimetype": "text/x-python",
   "name": "python",
   "nbconvert_exporter": "python",
   "pygments_lexer": "ipython3",
   "version": "3.7.10"
  }
 },
 "nbformat": 4,
 "nbformat_minor": 4
}
