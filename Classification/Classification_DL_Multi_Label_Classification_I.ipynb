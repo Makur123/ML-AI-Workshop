{
 "cells": [
  {
   "cell_type": "markdown",
   "metadata": {},
   "source": [
    "# <font color='Blue'>Deep Learning - Multi-Label Classification - I</font>"
   ]
  },
  {
   "cell_type": "markdown",
   "metadata": {},
   "source": [
    "# <font color='Blue'>Classification</font>"
   ]
  },
  {
   "cell_type": "markdown",
   "metadata": {},
   "source": [
    "Multi-label classification involves predicting zero or more class labels.\n",
    "\n",
    "Unlike normal classification tasks where class labels are mutually exclusive, multi-label classification requires specialized machine learning algorithms that support predicting multiple mutually non-exclusive classes or “labels.”"
   ]
  },
  {
   "cell_type": "markdown",
   "metadata": {},
   "source": [
    "## <font color='Blue'>Learning Objectives</font>\n",
    "  1. Apply Deep Learning to a Multi-Label Classification Problem"
   ]
  },
  {
   "cell_type": "markdown",
   "metadata": {},
   "source": [
    "## <font color='Blue'>Importing Libraries</font>"
   ]
  },
  {
   "cell_type": "code",
   "execution_count": 20,
   "metadata": {},
   "outputs": [
    {
     "data": {
      "text/plain": [
       "'2.3.1'"
      ]
     },
     "execution_count": 20,
     "metadata": {},
     "output_type": "execute_result"
    }
   ],
   "source": [
    "import keras\n",
    "keras.__version__"
   ]
  },
  {
   "cell_type": "code",
   "execution_count": 21,
   "metadata": {},
   "outputs": [],
   "source": [
    "import warnings\n",
    "warnings.filterwarnings('ignore')\n",
    "import pandas as pd\n",
    "import numpy as np\n",
    "from sklearn.model_selection import train_test_split\n",
    "\n",
    "import matplotlib.pyplot as plt\n",
    "import seaborn as sn\n",
    "%matplotlib inline\n",
    "from sklearn import metrics"
   ]
  },
  {
   "cell_type": "code",
   "execution_count": 22,
   "metadata": {},
   "outputs": [],
   "source": [
    "np.set_printoptions(suppress=True)"
   ]
  },
  {
   "cell_type": "markdown",
   "metadata": {},
   "source": [
    "### <font color='Blue'>1.0 Dataset </font>"
   ]
  },
  {
   "cell_type": "code",
   "execution_count": 23,
   "metadata": {},
   "outputs": [],
   "source": [
    "from sklearn.datasets import make_multilabel_classification"
   ]
  },
  {
   "cell_type": "code",
   "execution_count": 24,
   "metadata": {},
   "outputs": [
    {
     "name": "stdout",
     "output_type": "stream",
     "text": [
      "(1000, 10) (1000, 3)\n"
     ]
    }
   ],
   "source": [
    "X, Y = make_multilabel_classification(n_samples=1000, n_features=10, n_classes=3, n_labels=2, random_state=1)\n",
    "print(X.shape, Y.shape)"
   ]
  },
  {
   "cell_type": "code",
   "execution_count": 25,
   "metadata": {},
   "outputs": [
    {
     "name": "stdout",
     "output_type": "stream",
     "text": [
      "[ 3.  3.  6.  7.  8.  2. 11. 11.  1.  3.] [1 1 0]\n",
      "[7. 6. 4. 4. 6. 8. 3. 4. 6. 4.] [0 0 0]\n",
      "[ 5.  5. 13.  7.  6.  3.  6. 11.  4.  2.] [1 1 0]\n",
      "[1. 1. 5. 5. 7. 3. 4. 6. 4. 4.] [1 1 1]\n",
      "[ 4.  2.  3. 13.  7.  2.  4. 12.  1.  7.] [0 1 0]\n",
      "[ 4.  3.  3.  2.  5.  2.  3.  7.  2. 10.] [0 0 0]\n",
      "[ 3.  3.  3. 11.  6.  3.  4. 14.  1.  3.] [0 1 0]\n",
      "[ 2.  1.  7.  8.  4.  5. 10.  4.  6.  6.] [1 1 1]\n",
      "[ 5.  1.  9.  5.  3.  4. 11.  8.  1.  8.] [1 1 1]\n",
      "[ 2. 11.  7.  6.  2.  2.  9. 11.  9.  3.] [1 1 1]\n"
     ]
    }
   ],
   "source": [
    "for i in range(10):\n",
    "    print(X[i], Y[i])"
   ]
  },
  {
   "cell_type": "markdown",
   "metadata": {},
   "source": [
    "### <font color='Blue'>What do infer from above data ?</font>"
   ]
  },
  {
   "cell_type": "markdown",
   "metadata": {},
   "source": [
    "### <font color='Blue'>1.2 Splitting into Train and Validation Sets </font>"
   ]
  },
  {
   "cell_type": "code",
   "execution_count": 26,
   "metadata": {},
   "outputs": [],
   "source": [
    "train_data, test_data, train_targets, test_targets = train_test_split( X , Y, train_size = 0.7, random_state = 42 )"
   ]
  },
  {
   "cell_type": "markdown",
   "metadata": {},
   "source": [
    "### <font color='Blue'>1.3 Data Normalization </font>"
   ]
  },
  {
   "cell_type": "code",
   "execution_count": 27,
   "metadata": {},
   "outputs": [],
   "source": [
    "mean = train_data.mean(axis=0)\n",
    "std  = train_data.std(axis=0)\n",
    "\n",
    "train_data = train_data - mean\n",
    "train_data = train_data/std\n",
    "\n",
    "test_data = test_data - mean\n",
    "test_data = test_data/std"
   ]
  },
  {
   "cell_type": "markdown",
   "metadata": {},
   "source": [
    "### <font color='Blue'>1.4 Building (Defining our Network) </font>"
   ]
  },
  {
   "cell_type": "markdown",
   "metadata": {},
   "source": [
    "### <font color='Blue'>How should we approach this ?</font>"
   ]
  },
  {
   "cell_type": "markdown",
   "metadata": {},
   "source": [
    "<img src=\"Activation Function Last Layer.jpg\" width=800 height = 600>   "
   ]
  },
  {
   "cell_type": "code",
   "execution_count": 28,
   "metadata": {},
   "outputs": [],
   "source": [
    "from keras import models\n",
    "from keras import layers"
   ]
  },
  {
   "cell_type": "code",
   "execution_count": 29,
   "metadata": {},
   "outputs": [],
   "source": [
    "from keras import backend as K\n",
    "K.clear_session()\n",
    "\n",
    "model = models.Sequential()\n",
    "model.add(layers.Dense(16, activation='relu',\n",
    "                           input_shape=(train_data.shape[1],)))\n",
    "model.add(layers.Dense(8, activation='relu'))\n",
    "model.add(layers.Dense(3, activation='sigmoid'))\n",
    "model.compile(loss='binary_crossentropy', optimizer='rmsprop', metrics=['accuracy'])"
   ]
  },
  {
   "cell_type": "markdown",
   "metadata": {},
   "source": [
    "Define the Architecture such that\n",
    "\n",
    "    1.Number of nodes in the output layer matches the number of labels.\n",
    "    2.Sigmoid activation for each node in the output layer.\n",
    "    3.Binary cross-entropy loss function."
   ]
  },
  {
   "cell_type": "markdown",
   "metadata": {},
   "source": [
    "### <font color='Blue'>1.8 Fitting our Model </font>"
   ]
  },
  {
   "cell_type": "code",
   "execution_count": 30,
   "metadata": {},
   "outputs": [
    {
     "name": "stdout",
     "output_type": "stream",
     "text": [
      "Train on 700 samples, validate on 300 samples\n",
      "Epoch 1/100\n",
      " - 1s - loss: 0.6293 - accuracy: 0.6438 - val_loss: 0.5904 - val_accuracy: 0.6778\n",
      "Epoch 2/100\n",
      " - 0s - loss: 0.5664 - accuracy: 0.7267 - val_loss: 0.5443 - val_accuracy: 0.7256\n",
      "Epoch 3/100\n",
      " - 0s - loss: 0.5194 - accuracy: 0.7700 - val_loss: 0.5076 - val_accuracy: 0.7644\n",
      "Epoch 4/100\n",
      " - 0s - loss: 0.4809 - accuracy: 0.7976 - val_loss: 0.4793 - val_accuracy: 0.7778\n",
      "Epoch 5/100\n",
      " - 0s - loss: 0.4490 - accuracy: 0.8114 - val_loss: 0.4560 - val_accuracy: 0.7889\n",
      "Epoch 6/100\n",
      " - 0s - loss: 0.4218 - accuracy: 0.8271 - val_loss: 0.4371 - val_accuracy: 0.7956\n",
      "Epoch 7/100\n",
      " - 0s - loss: 0.3984 - accuracy: 0.8448 - val_loss: 0.4215 - val_accuracy: 0.8000\n",
      "Epoch 8/100\n",
      " - 0s - loss: 0.3786 - accuracy: 0.8495 - val_loss: 0.4082 - val_accuracy: 0.8089\n",
      "Epoch 9/100\n",
      " - 0s - loss: 0.3615 - accuracy: 0.8538 - val_loss: 0.3956 - val_accuracy: 0.8078\n",
      "Epoch 10/100\n",
      " - 0s - loss: 0.3465 - accuracy: 0.8571 - val_loss: 0.3847 - val_accuracy: 0.8089\n",
      "Epoch 11/100\n",
      " - 0s - loss: 0.3334 - accuracy: 0.8610 - val_loss: 0.3750 - val_accuracy: 0.8122\n",
      "Epoch 12/100\n",
      " - 0s - loss: 0.3215 - accuracy: 0.8657 - val_loss: 0.3640 - val_accuracy: 0.8156\n",
      "Epoch 13/100\n",
      " - 0s - loss: 0.3106 - accuracy: 0.8681 - val_loss: 0.3550 - val_accuracy: 0.8156\n",
      "Epoch 14/100\n",
      " - 0s - loss: 0.3005 - accuracy: 0.8724 - val_loss: 0.3448 - val_accuracy: 0.8222\n",
      "Epoch 15/100\n",
      " - 0s - loss: 0.2911 - accuracy: 0.8767 - val_loss: 0.3358 - val_accuracy: 0.8200\n",
      "Epoch 16/100\n",
      " - 0s - loss: 0.2823 - accuracy: 0.8767 - val_loss: 0.3279 - val_accuracy: 0.8200\n",
      "Epoch 17/100\n",
      " - 0s - loss: 0.2735 - accuracy: 0.8771 - val_loss: 0.3193 - val_accuracy: 0.8233\n",
      "Epoch 18/100\n",
      " - 0s - loss: 0.2656 - accuracy: 0.8790 - val_loss: 0.3108 - val_accuracy: 0.8300\n",
      "Epoch 19/100\n",
      " - 0s - loss: 0.2583 - accuracy: 0.8790 - val_loss: 0.3037 - val_accuracy: 0.8389\n",
      "Epoch 20/100\n",
      " - 0s - loss: 0.2513 - accuracy: 0.8843 - val_loss: 0.2949 - val_accuracy: 0.8422\n",
      "Epoch 21/100\n",
      " - 0s - loss: 0.2447 - accuracy: 0.8890 - val_loss: 0.2878 - val_accuracy: 0.8567\n",
      "Epoch 22/100\n",
      " - 0s - loss: 0.2388 - accuracy: 0.8938 - val_loss: 0.2798 - val_accuracy: 0.8644\n",
      "Epoch 23/100\n",
      " - 0s - loss: 0.2331 - accuracy: 0.8967 - val_loss: 0.2736 - val_accuracy: 0.8689\n",
      "Epoch 24/100\n",
      " - 0s - loss: 0.2280 - accuracy: 0.9038 - val_loss: 0.2684 - val_accuracy: 0.8733\n",
      "Epoch 25/100\n",
      " - 0s - loss: 0.2227 - accuracy: 0.9067 - val_loss: 0.2630 - val_accuracy: 0.8733\n",
      "Epoch 26/100\n",
      " - 0s - loss: 0.2178 - accuracy: 0.9081 - val_loss: 0.2564 - val_accuracy: 0.8822\n",
      "Epoch 27/100\n",
      " - 0s - loss: 0.2136 - accuracy: 0.9129 - val_loss: 0.2513 - val_accuracy: 0.8922\n",
      "Epoch 28/100\n",
      " - 0s - loss: 0.2095 - accuracy: 0.9114 - val_loss: 0.2470 - val_accuracy: 0.8944\n",
      "Epoch 29/100\n",
      " - 0s - loss: 0.2056 - accuracy: 0.9157 - val_loss: 0.2428 - val_accuracy: 0.8956\n",
      "Epoch 30/100\n",
      " - 0s - loss: 0.2018 - accuracy: 0.9181 - val_loss: 0.2386 - val_accuracy: 0.9044\n",
      "Epoch 31/100\n",
      " - 0s - loss: 0.1986 - accuracy: 0.9190 - val_loss: 0.2360 - val_accuracy: 0.9067\n",
      "Epoch 32/100\n",
      " - 0s - loss: 0.1953 - accuracy: 0.9205 - val_loss: 0.2306 - val_accuracy: 0.9067\n",
      "Epoch 33/100\n",
      " - 0s - loss: 0.1923 - accuracy: 0.9238 - val_loss: 0.2289 - val_accuracy: 0.9111\n",
      "Epoch 34/100\n",
      " - 0s - loss: 0.1898 - accuracy: 0.9248 - val_loss: 0.2254 - val_accuracy: 0.9100\n",
      "Epoch 35/100\n",
      " - 0s - loss: 0.1874 - accuracy: 0.9276 - val_loss: 0.2230 - val_accuracy: 0.9111\n",
      "Epoch 36/100\n",
      " - 0s - loss: 0.1848 - accuracy: 0.9281 - val_loss: 0.2206 - val_accuracy: 0.9144\n",
      "Epoch 37/100\n",
      " - 0s - loss: 0.1830 - accuracy: 0.9290 - val_loss: 0.2176 - val_accuracy: 0.9144\n",
      "Epoch 38/100\n",
      " - 0s - loss: 0.1806 - accuracy: 0.9310 - val_loss: 0.2152 - val_accuracy: 0.9156\n",
      "Epoch 39/100\n",
      " - 0s - loss: 0.1785 - accuracy: 0.9338 - val_loss: 0.2120 - val_accuracy: 0.9144\n",
      "Epoch 40/100\n",
      " - 0s - loss: 0.1767 - accuracy: 0.9329 - val_loss: 0.2102 - val_accuracy: 0.9178\n",
      "Epoch 41/100\n",
      " - 0s - loss: 0.1751 - accuracy: 0.9338 - val_loss: 0.2091 - val_accuracy: 0.9178\n",
      "Epoch 42/100\n",
      " - 0s - loss: 0.1730 - accuracy: 0.9333 - val_loss: 0.2089 - val_accuracy: 0.9178\n",
      "Epoch 43/100\n",
      " - 0s - loss: 0.1718 - accuracy: 0.9343 - val_loss: 0.2071 - val_accuracy: 0.9178\n",
      "Epoch 44/100\n",
      " - 0s - loss: 0.1701 - accuracy: 0.9338 - val_loss: 0.2060 - val_accuracy: 0.9189\n",
      "Epoch 45/100\n",
      " - 0s - loss: 0.1685 - accuracy: 0.9348 - val_loss: 0.2021 - val_accuracy: 0.9200\n",
      "Epoch 46/100\n",
      " - 0s - loss: 0.1671 - accuracy: 0.9338 - val_loss: 0.2017 - val_accuracy: 0.9211\n",
      "Epoch 47/100\n",
      " - 0s - loss: 0.1659 - accuracy: 0.9333 - val_loss: 0.1988 - val_accuracy: 0.9244\n",
      "Epoch 48/100\n",
      " - 0s - loss: 0.1641 - accuracy: 0.9338 - val_loss: 0.1998 - val_accuracy: 0.9211\n",
      "Epoch 49/100\n",
      " - 0s - loss: 0.1633 - accuracy: 0.9352 - val_loss: 0.1981 - val_accuracy: 0.9211\n",
      "Epoch 50/100\n",
      " - 0s - loss: 0.1619 - accuracy: 0.9348 - val_loss: 0.1985 - val_accuracy: 0.9244\n",
      "Epoch 51/100\n",
      " - 0s - loss: 0.1611 - accuracy: 0.9348 - val_loss: 0.1973 - val_accuracy: 0.9267\n",
      "Epoch 52/100\n",
      " - 0s - loss: 0.1600 - accuracy: 0.9357 - val_loss: 0.1955 - val_accuracy: 0.9244\n",
      "Epoch 53/100\n",
      " - 0s - loss: 0.1590 - accuracy: 0.9348 - val_loss: 0.1946 - val_accuracy: 0.9244\n",
      "Epoch 54/100\n",
      " - 0s - loss: 0.1578 - accuracy: 0.9362 - val_loss: 0.1930 - val_accuracy: 0.9244\n",
      "Epoch 55/100\n",
      " - 0s - loss: 0.1572 - accuracy: 0.9352 - val_loss: 0.1923 - val_accuracy: 0.9256\n",
      "Epoch 56/100\n",
      " - 0s - loss: 0.1558 - accuracy: 0.9357 - val_loss: 0.1928 - val_accuracy: 0.9222\n",
      "Epoch 57/100\n",
      " - 0s - loss: 0.1552 - accuracy: 0.9362 - val_loss: 0.1928 - val_accuracy: 0.9222\n",
      "Epoch 58/100\n",
      " - 0s - loss: 0.1543 - accuracy: 0.9381 - val_loss: 0.1911 - val_accuracy: 0.9244\n",
      "Epoch 59/100\n",
      " - 0s - loss: 0.1537 - accuracy: 0.9357 - val_loss: 0.1914 - val_accuracy: 0.9244\n",
      "Epoch 60/100\n",
      " - 0s - loss: 0.1527 - accuracy: 0.9371 - val_loss: 0.1901 - val_accuracy: 0.9233\n",
      "Epoch 61/100\n",
      " - 0s - loss: 0.1520 - accuracy: 0.9381 - val_loss: 0.1900 - val_accuracy: 0.9233\n",
      "Epoch 62/100\n",
      " - 0s - loss: 0.1511 - accuracy: 0.9390 - val_loss: 0.1892 - val_accuracy: 0.9222\n",
      "Epoch 63/100\n",
      " - 0s - loss: 0.1504 - accuracy: 0.9376 - val_loss: 0.1889 - val_accuracy: 0.9244\n",
      "Epoch 64/100\n",
      " - 0s - loss: 0.1497 - accuracy: 0.9386 - val_loss: 0.1874 - val_accuracy: 0.9233\n",
      "Epoch 65/100\n",
      " - 0s - loss: 0.1489 - accuracy: 0.9381 - val_loss: 0.1883 - val_accuracy: 0.9244\n",
      "Epoch 66/100\n",
      " - 0s - loss: 0.1478 - accuracy: 0.9395 - val_loss: 0.1852 - val_accuracy: 0.9267\n",
      "Epoch 67/100\n",
      " - 0s - loss: 0.1475 - accuracy: 0.9390 - val_loss: 0.1858 - val_accuracy: 0.9256\n",
      "Epoch 68/100\n",
      " - 0s - loss: 0.1469 - accuracy: 0.9400 - val_loss: 0.1856 - val_accuracy: 0.9256\n",
      "Epoch 69/100\n",
      " - 0s - loss: 0.1460 - accuracy: 0.9405 - val_loss: 0.1837 - val_accuracy: 0.9267\n",
      "Epoch 70/100\n",
      " - 0s - loss: 0.1456 - accuracy: 0.9400 - val_loss: 0.1848 - val_accuracy: 0.9278\n",
      "Epoch 71/100\n",
      " - 0s - loss: 0.1450 - accuracy: 0.9390 - val_loss: 0.1852 - val_accuracy: 0.9267\n",
      "Epoch 72/100\n",
      " - 0s - loss: 0.1445 - accuracy: 0.9410 - val_loss: 0.1844 - val_accuracy: 0.9278\n",
      "Epoch 73/100\n",
      " - 0s - loss: 0.1436 - accuracy: 0.9395 - val_loss: 0.1838 - val_accuracy: 0.9267\n",
      "Epoch 74/100\n",
      " - 0s - loss: 0.1433 - accuracy: 0.9405 - val_loss: 0.1835 - val_accuracy: 0.9278\n",
      "Epoch 75/100\n",
      " - 0s - loss: 0.1423 - accuracy: 0.9395 - val_loss: 0.1849 - val_accuracy: 0.9256\n",
      "Epoch 76/100\n",
      " - 0s - loss: 0.1416 - accuracy: 0.9405 - val_loss: 0.1839 - val_accuracy: 0.9256\n",
      "Epoch 77/100\n",
      " - 0s - loss: 0.1414 - accuracy: 0.9405 - val_loss: 0.1838 - val_accuracy: 0.9267\n",
      "Epoch 78/100\n",
      " - 0s - loss: 0.1405 - accuracy: 0.9395 - val_loss: 0.1825 - val_accuracy: 0.9278\n",
      "Epoch 79/100\n",
      " - 0s - loss: 0.1400 - accuracy: 0.9414 - val_loss: 0.1834 - val_accuracy: 0.9278\n",
      "Epoch 80/100\n",
      " - 0s - loss: 0.1393 - accuracy: 0.9414 - val_loss: 0.1837 - val_accuracy: 0.9267\n",
      "Epoch 81/100\n",
      " - 0s - loss: 0.1390 - accuracy: 0.9424 - val_loss: 0.1825 - val_accuracy: 0.9267\n",
      "Epoch 82/100\n",
      " - 0s - loss: 0.1391 - accuracy: 0.9414 - val_loss: 0.1826 - val_accuracy: 0.9278\n",
      "Epoch 83/100\n",
      " - 0s - loss: 0.1376 - accuracy: 0.9410 - val_loss: 0.1835 - val_accuracy: 0.9278\n",
      "Epoch 84/100\n",
      " - 0s - loss: 0.1375 - accuracy: 0.9405 - val_loss: 0.1832 - val_accuracy: 0.9278\n",
      "Epoch 85/100\n",
      " - 0s - loss: 0.1368 - accuracy: 0.9424 - val_loss: 0.1830 - val_accuracy: 0.9278\n",
      "Epoch 86/100\n",
      " - 0s - loss: 0.1366 - accuracy: 0.9429 - val_loss: 0.1838 - val_accuracy: 0.9267\n"
     ]
    },
    {
     "name": "stdout",
     "output_type": "stream",
     "text": [
      "Epoch 87/100\n",
      " - 0s - loss: 0.1363 - accuracy: 0.9429 - val_loss: 0.1835 - val_accuracy: 0.9278\n",
      "Epoch 88/100\n",
      " - 0s - loss: 0.1356 - accuracy: 0.9419 - val_loss: 0.1831 - val_accuracy: 0.9278\n",
      "Epoch 89/100\n",
      " - 0s - loss: 0.1354 - accuracy: 0.9419 - val_loss: 0.1826 - val_accuracy: 0.9289\n",
      "Epoch 90/100\n",
      " - 0s - loss: 0.1346 - accuracy: 0.9443 - val_loss: 0.1807 - val_accuracy: 0.9300\n",
      "Epoch 91/100\n",
      " - 0s - loss: 0.1341 - accuracy: 0.9457 - val_loss: 0.1834 - val_accuracy: 0.9278\n",
      "Epoch 92/100\n",
      " - 0s - loss: 0.1343 - accuracy: 0.9448 - val_loss: 0.1832 - val_accuracy: 0.9267\n",
      "Epoch 93/100\n",
      " - 0s - loss: 0.1334 - accuracy: 0.9457 - val_loss: 0.1820 - val_accuracy: 0.9289\n",
      "Epoch 94/100\n",
      " - 0s - loss: 0.1328 - accuracy: 0.9457 - val_loss: 0.1849 - val_accuracy: 0.9267\n",
      "Epoch 95/100\n",
      " - 0s - loss: 0.1328 - accuracy: 0.9452 - val_loss: 0.1841 - val_accuracy: 0.9289\n",
      "Epoch 96/100\n",
      " - 0s - loss: 0.1323 - accuracy: 0.9457 - val_loss: 0.1831 - val_accuracy: 0.9267\n",
      "Epoch 97/100\n",
      " - 0s - loss: 0.1322 - accuracy: 0.9457 - val_loss: 0.1824 - val_accuracy: 0.9278\n",
      "Epoch 98/100\n",
      " - 0s - loss: 0.1313 - accuracy: 0.9462 - val_loss: 0.1825 - val_accuracy: 0.9300\n",
      "Epoch 99/100\n",
      " - 0s - loss: 0.1316 - accuracy: 0.9457 - val_loss: 0.1813 - val_accuracy: 0.9300\n",
      "Epoch 100/100\n",
      " - 0s - loss: 0.1311 - accuracy: 0.9467 - val_loss: 0.1815 - val_accuracy: 0.9289\n"
     ]
    }
   ],
   "source": [
    "hist = model.fit(train_data, train_targets,\n",
    "                             epochs=100,\n",
    "                             batch_size=32,verbose=2,\n",
    "                             validation_data=(test_data, test_targets))"
   ]
  },
  {
   "cell_type": "code",
   "execution_count": 31,
   "metadata": {},
   "outputs": [
    {
     "data": {
      "text/plain": [
       "dict_keys(['val_loss', 'val_accuracy', 'loss', 'accuracy'])"
      ]
     },
     "execution_count": 31,
     "metadata": {},
     "output_type": "execute_result"
    }
   ],
   "source": [
    "history_dict = hist.history\n",
    "history_dict.keys()"
   ]
  },
  {
   "cell_type": "markdown",
   "metadata": {},
   "source": [
    "### <font color='Blue'>1.9 Comparison of Accuracy in Training and Test Data Set </font>"
   ]
  },
  {
   "cell_type": "code",
   "execution_count": 32,
   "metadata": {},
   "outputs": [],
   "source": [
    "epochs = range(1, 101)\n",
    "tra_acc = hist.history['accuracy']\n",
    "val_acc = hist.history['val_accuracy']\n",
    "\n",
    "tra_loss = hist.history['loss']\n",
    "val_loss = hist.history['val_loss']"
   ]
  },
  {
   "cell_type": "code",
   "execution_count": 33,
   "metadata": {},
   "outputs": [
    {
     "data": {
      "image/png": "[encoded data removed]",
      "text/plain": [
       "<Figure size 432x288 with 1 Axes>"
      ]
     },
     "metadata": {
      "needs_background": "light"
     },
     "output_type": "display_data"
    }
   ],
   "source": [
    "plt.plot(epochs, tra_acc, 'o', label='Training')\n",
    "plt.plot(epochs, val_acc, '+', label='Validation')\n",
    "plt.xlabel('Epochs')\n",
    "plt.ylabel('Accuracy')\n",
    "plt.title('Training vs Validation Accuracy')\n",
    "plt.legend()\n",
    "plt.show()"
   ]
  },
  {
   "cell_type": "code",
   "execution_count": 34,
   "metadata": {},
   "outputs": [
    {
     "data": {
      "image/png": "[encoded data removed]",
      "text/plain": [
       "<Figure size 432x288 with 1 Axes>"
      ]
     },
     "metadata": {
      "needs_background": "light"
     },
     "output_type": "display_data"
    }
   ],
   "source": [
    "plt.plot(epochs, tra_loss, 'o', label='Training')\n",
    "plt.plot(epochs, val_loss, '+', label='Validation')\n",
    "plt.xlabel('Epochs')\n",
    "plt.ylabel('Losses')\n",
    "plt.title('Training vs Validation Losses')\n",
    "plt.legend()\n",
    "plt.show()"
   ]
  },
  {
   "cell_type": "markdown",
   "metadata": {},
   "source": [
    "### <font color='Blue'>What Should you do ?</font>"
   ]
  },
  {
   "cell_type": "markdown",
   "metadata": {},
   "source": [
    "Let us Experiment. You will guide me. Try a Different Architecture. Different Optimizer ?"
   ]
  },
  {
   "cell_type": "markdown",
   "metadata": {},
   "source": [
    "### <font color='Blue'>1.10 Extracting Predicted Probabilities for Each Label </font>"
   ]
  },
  {
   "cell_type": "code",
   "execution_count": 35,
   "metadata": {},
   "outputs": [
    {
     "data": {
      "text/html": [
       "<div>\n",
       "<style scoped>\n",
       "    .dataframe tbody tr th:only-of-type {\n",
       "        vertical-align: middle;\n",
       "    }\n",
       "\n",
       "    .dataframe tbody tr th {\n",
       "        vertical-align: top;\n",
       "    }\n",
       "\n",
       "    .dataframe thead th {\n",
       "        text-align: right;\n",
       "    }\n",
       "</style>\n",
       "<table border=\"1\" class=\"dataframe\">\n",
       "  <thead>\n",
       "    <tr style=\"text-align: right;\">\n",
       "      <th></th>\n",
       "      <th>Act_Label_0</th>\n",
       "      <th>Act_Label_1</th>\n",
       "      <th>Act_Label_2</th>\n",
       "    </tr>\n",
       "  </thead>\n",
       "  <tbody>\n",
       "    <tr>\n",
       "      <th>0</th>\n",
       "      <td>1</td>\n",
       "      <td>0</td>\n",
       "      <td>0</td>\n",
       "    </tr>\n",
       "    <tr>\n",
       "      <th>1</th>\n",
       "      <td>1</td>\n",
       "      <td>1</td>\n",
       "      <td>0</td>\n",
       "    </tr>\n",
       "    <tr>\n",
       "      <th>2</th>\n",
       "      <td>1</td>\n",
       "      <td>1</td>\n",
       "      <td>1</td>\n",
       "    </tr>\n",
       "    <tr>\n",
       "      <th>3</th>\n",
       "      <td>1</td>\n",
       "      <td>1</td>\n",
       "      <td>0</td>\n",
       "    </tr>\n",
       "    <tr>\n",
       "      <th>4</th>\n",
       "      <td>0</td>\n",
       "      <td>1</td>\n",
       "      <td>0</td>\n",
       "    </tr>\n",
       "    <tr>\n",
       "      <th>...</th>\n",
       "      <td>...</td>\n",
       "      <td>...</td>\n",
       "      <td>...</td>\n",
       "    </tr>\n",
       "    <tr>\n",
       "      <th>295</th>\n",
       "      <td>0</td>\n",
       "      <td>1</td>\n",
       "      <td>0</td>\n",
       "    </tr>\n",
       "    <tr>\n",
       "      <th>296</th>\n",
       "      <td>1</td>\n",
       "      <td>1</td>\n",
       "      <td>1</td>\n",
       "    </tr>\n",
       "    <tr>\n",
       "      <th>297</th>\n",
       "      <td>0</td>\n",
       "      <td>1</td>\n",
       "      <td>0</td>\n",
       "    </tr>\n",
       "    <tr>\n",
       "      <th>298</th>\n",
       "      <td>1</td>\n",
       "      <td>1</td>\n",
       "      <td>1</td>\n",
       "    </tr>\n",
       "    <tr>\n",
       "      <th>299</th>\n",
       "      <td>0</td>\n",
       "      <td>1</td>\n",
       "      <td>0</td>\n",
       "    </tr>\n",
       "  </tbody>\n",
       "</table>\n",
       "<p>300 rows × 3 columns</p>\n",
       "</div>"
      ],
      "text/plain": [
       "     Act_Label_0  Act_Label_1  Act_Label_2\n",
       "0              1            0            0\n",
       "1              1            1            0\n",
       "2              1            1            1\n",
       "3              1            1            0\n",
       "4              0            1            0\n",
       "..           ...          ...          ...\n",
       "295            0            1            0\n",
       "296            1            1            1\n",
       "297            0            1            0\n",
       "298            1            1            1\n",
       "299            0            1            0\n",
       "\n",
       "[300 rows x 3 columns]"
      ]
     },
     "execution_count": 35,
     "metadata": {},
     "output_type": "execute_result"
    }
   ],
   "source": [
    "test_df = pd.DataFrame(test_targets)\n",
    "test_df.columns =['Act_Label_0', 'Act_Label_1', 'Act_Label_2']\n",
    "test_df"
   ]
  },
  {
   "cell_type": "code",
   "execution_count": 36,
   "metadata": {},
   "outputs": [
    {
     "data": {
      "text/html": [
       "<div>\n",
       "<style scoped>\n",
       "    .dataframe tbody tr th:only-of-type {\n",
       "        vertical-align: middle;\n",
       "    }\n",
       "\n",
       "    .dataframe tbody tr th {\n",
       "        vertical-align: top;\n",
       "    }\n",
       "\n",
       "    .dataframe thead th {\n",
       "        text-align: right;\n",
       "    }\n",
       "</style>\n",
       "<table border=\"1\" class=\"dataframe\">\n",
       "  <thead>\n",
       "    <tr style=\"text-align: right;\">\n",
       "      <th></th>\n",
       "      <th>Prob_0</th>\n",
       "      <th>Prob_1</th>\n",
       "      <th>Prob_2</th>\n",
       "    </tr>\n",
       "  </thead>\n",
       "  <tbody>\n",
       "    <tr>\n",
       "      <th>0</th>\n",
       "      <td>0.999998</td>\n",
       "      <td>0.002193</td>\n",
       "      <td>0.000028</td>\n",
       "    </tr>\n",
       "    <tr>\n",
       "      <th>1</th>\n",
       "      <td>0.996886</td>\n",
       "      <td>0.998973</td>\n",
       "      <td>0.003775</td>\n",
       "    </tr>\n",
       "    <tr>\n",
       "      <th>2</th>\n",
       "      <td>0.992502</td>\n",
       "      <td>0.995792</td>\n",
       "      <td>0.985264</td>\n",
       "    </tr>\n",
       "    <tr>\n",
       "      <th>3</th>\n",
       "      <td>0.963005</td>\n",
       "      <td>0.999193</td>\n",
       "      <td>0.782049</td>\n",
       "    </tr>\n",
       "    <tr>\n",
       "      <th>4</th>\n",
       "      <td>0.010476</td>\n",
       "      <td>0.999880</td>\n",
       "      <td>0.000023</td>\n",
       "    </tr>\n",
       "    <tr>\n",
       "      <th>...</th>\n",
       "      <td>...</td>\n",
       "      <td>...</td>\n",
       "      <td>...</td>\n",
       "    </tr>\n",
       "    <tr>\n",
       "      <th>295</th>\n",
       "      <td>0.633483</td>\n",
       "      <td>0.997352</td>\n",
       "      <td>0.405763</td>\n",
       "    </tr>\n",
       "    <tr>\n",
       "      <th>296</th>\n",
       "      <td>0.831279</td>\n",
       "      <td>0.883062</td>\n",
       "      <td>0.830399</td>\n",
       "    </tr>\n",
       "    <tr>\n",
       "      <th>297</th>\n",
       "      <td>0.022683</td>\n",
       "      <td>1.000000</td>\n",
       "      <td>0.000380</td>\n",
       "    </tr>\n",
       "    <tr>\n",
       "      <th>298</th>\n",
       "      <td>0.988614</td>\n",
       "      <td>0.993310</td>\n",
       "      <td>0.984694</td>\n",
       "    </tr>\n",
       "    <tr>\n",
       "      <th>299</th>\n",
       "      <td>0.130817</td>\n",
       "      <td>0.999939</td>\n",
       "      <td>0.019150</td>\n",
       "    </tr>\n",
       "  </tbody>\n",
       "</table>\n",
       "<p>300 rows × 3 columns</p>\n",
       "</div>"
      ],
      "text/plain": [
       "       Prob_0    Prob_1    Prob_2\n",
       "0    0.999998  0.002193  0.000028\n",
       "1    0.996886  0.998973  0.003775\n",
       "2    0.992502  0.995792  0.985264\n",
       "3    0.963005  0.999193  0.782049\n",
       "4    0.010476  0.999880  0.000023\n",
       "..        ...       ...       ...\n",
       "295  0.633483  0.997352  0.405763\n",
       "296  0.831279  0.883062  0.830399\n",
       "297  0.022683  1.000000  0.000380\n",
       "298  0.988614  0.993310  0.984694\n",
       "299  0.130817  0.999939  0.019150\n",
       "\n",
       "[300 rows x 3 columns]"
      ]
     },
     "execution_count": 36,
     "metadata": {},
     "output_type": "execute_result"
    }
   ],
   "source": [
    "pred_probs = model.predict(test_data)\n",
    "pred_probs = pd.DataFrame(pred_probs)\n",
    "pred_probs.columns =['Prob_0', 'Prob_1', 'Prob_2']\n",
    "pred_probs"
   ]
  },
  {
   "cell_type": "code",
   "execution_count": 37,
   "metadata": {},
   "outputs": [
    {
     "data": {
      "text/html": [
       "<div>\n",
       "<style scoped>\n",
       "    .dataframe tbody tr th:only-of-type {\n",
       "        vertical-align: middle;\n",
       "    }\n",
       "\n",
       "    .dataframe tbody tr th {\n",
       "        vertical-align: top;\n",
       "    }\n",
       "\n",
       "    .dataframe thead th {\n",
       "        text-align: right;\n",
       "    }\n",
       "</style>\n",
       "<table border=\"1\" class=\"dataframe\">\n",
       "  <thead>\n",
       "    <tr style=\"text-align: right;\">\n",
       "      <th></th>\n",
       "      <th>Act_Label_0</th>\n",
       "      <th>Act_Label_1</th>\n",
       "      <th>Act_Label_2</th>\n",
       "      <th>Prob_0</th>\n",
       "      <th>Prob_1</th>\n",
       "      <th>Prob_2</th>\n",
       "    </tr>\n",
       "  </thead>\n",
       "  <tbody>\n",
       "    <tr>\n",
       "      <th>0</th>\n",
       "      <td>1</td>\n",
       "      <td>0</td>\n",
       "      <td>0</td>\n",
       "      <td>0.999998</td>\n",
       "      <td>0.002193</td>\n",
       "      <td>0.000028</td>\n",
       "    </tr>\n",
       "    <tr>\n",
       "      <th>1</th>\n",
       "      <td>1</td>\n",
       "      <td>1</td>\n",
       "      <td>0</td>\n",
       "      <td>0.996886</td>\n",
       "      <td>0.998973</td>\n",
       "      <td>0.003775</td>\n",
       "    </tr>\n",
       "    <tr>\n",
       "      <th>2</th>\n",
       "      <td>1</td>\n",
       "      <td>1</td>\n",
       "      <td>1</td>\n",
       "      <td>0.992502</td>\n",
       "      <td>0.995792</td>\n",
       "      <td>0.985264</td>\n",
       "    </tr>\n",
       "    <tr>\n",
       "      <th>3</th>\n",
       "      <td>1</td>\n",
       "      <td>1</td>\n",
       "      <td>0</td>\n",
       "      <td>0.963005</td>\n",
       "      <td>0.999193</td>\n",
       "      <td>0.782049</td>\n",
       "    </tr>\n",
       "    <tr>\n",
       "      <th>4</th>\n",
       "      <td>0</td>\n",
       "      <td>1</td>\n",
       "      <td>0</td>\n",
       "      <td>0.010476</td>\n",
       "      <td>0.999880</td>\n",
       "      <td>0.000023</td>\n",
       "    </tr>\n",
       "    <tr>\n",
       "      <th>...</th>\n",
       "      <td>...</td>\n",
       "      <td>...</td>\n",
       "      <td>...</td>\n",
       "      <td>...</td>\n",
       "      <td>...</td>\n",
       "      <td>...</td>\n",
       "    </tr>\n",
       "    <tr>\n",
       "      <th>295</th>\n",
       "      <td>0</td>\n",
       "      <td>1</td>\n",
       "      <td>0</td>\n",
       "      <td>0.633483</td>\n",
       "      <td>0.997352</td>\n",
       "      <td>0.405763</td>\n",
       "    </tr>\n",
       "    <tr>\n",
       "      <th>296</th>\n",
       "      <td>1</td>\n",
       "      <td>1</td>\n",
       "      <td>1</td>\n",
       "      <td>0.831279</td>\n",
       "      <td>0.883062</td>\n",
       "      <td>0.830399</td>\n",
       "    </tr>\n",
       "    <tr>\n",
       "      <th>297</th>\n",
       "      <td>0</td>\n",
       "      <td>1</td>\n",
       "      <td>0</td>\n",
       "      <td>0.022683</td>\n",
       "      <td>1.000000</td>\n",
       "      <td>0.000380</td>\n",
       "    </tr>\n",
       "    <tr>\n",
       "      <th>298</th>\n",
       "      <td>1</td>\n",
       "      <td>1</td>\n",
       "      <td>1</td>\n",
       "      <td>0.988614</td>\n",
       "      <td>0.993310</td>\n",
       "      <td>0.984694</td>\n",
       "    </tr>\n",
       "    <tr>\n",
       "      <th>299</th>\n",
       "      <td>0</td>\n",
       "      <td>1</td>\n",
       "      <td>0</td>\n",
       "      <td>0.130817</td>\n",
       "      <td>0.999939</td>\n",
       "      <td>0.019150</td>\n",
       "    </tr>\n",
       "  </tbody>\n",
       "</table>\n",
       "<p>300 rows × 6 columns</p>\n",
       "</div>"
      ],
      "text/plain": [
       "     Act_Label_0  Act_Label_1  Act_Label_2    Prob_0    Prob_1    Prob_2\n",
       "0              1            0            0  0.999998  0.002193  0.000028\n",
       "1              1            1            0  0.996886  0.998973  0.003775\n",
       "2              1            1            1  0.992502  0.995792  0.985264\n",
       "3              1            1            0  0.963005  0.999193  0.782049\n",
       "4              0            1            0  0.010476  0.999880  0.000023\n",
       "..           ...          ...          ...       ...       ...       ...\n",
       "295            0            1            0  0.633483  0.997352  0.405763\n",
       "296            1            1            1  0.831279  0.883062  0.830399\n",
       "297            0            1            0  0.022683  1.000000  0.000380\n",
       "298            1            1            1  0.988614  0.993310  0.984694\n",
       "299            0            1            0  0.130817  0.999939  0.019150\n",
       "\n",
       "[300 rows x 6 columns]"
      ]
     },
     "execution_count": 37,
     "metadata": {},
     "output_type": "execute_result"
    }
   ],
   "source": [
    "y_pred_df = pd.concat([test_df, pred_probs], axis=1)\n",
    "y_pred_df"
   ]
  },
  {
   "cell_type": "markdown",
   "metadata": {},
   "source": [
    "### <font color='Blue'>1.11 Classifier Performance </font>"
   ]
  },
  {
   "cell_type": "code",
   "execution_count": 38,
   "metadata": {},
   "outputs": [
    {
     "data": {
      "image/png": "[encoded data removed]",
      "text/plain": [
       "<Figure size 576x432 with 1 Axes>"
      ]
     },
     "metadata": {
      "needs_background": "light"
     },
     "output_type": "display_data"
    }
   ],
   "source": [
    "plt.figure( figsize = (8,6) )\n",
    "sn.kdeplot( y_pred_df[y_pred_df.Act_Label_0 == 1][\"Prob_0\"], color = 'b', shade=True,label = 'Act_Label_0 = 1' )\n",
    "sn.kdeplot( y_pred_df[y_pred_df.Act_Label_0 == 0][\"Prob_0\"], color = 'g', shade=True,label = 'Act_Label_0 = 0' )\n",
    "plt.legend()\n",
    "plt.show()"
   ]
  },
  {
   "cell_type": "code",
   "execution_count": 39,
   "metadata": {},
   "outputs": [
    {
     "data": {
      "image/png": "[encoded data removed]",
      "text/plain": [
       "<Figure size 576x432 with 1 Axes>"
      ]
     },
     "metadata": {
      "needs_background": "light"
     },
     "output_type": "display_data"
    }
   ],
   "source": [
    "plt.figure( figsize = (8,6) )\n",
    "sn.kdeplot( y_pred_df[y_pred_df.Act_Label_1 == 1][\"Prob_1\"], color = 'b', shade=True,label = 'Act_Label_1 = 1' )\n",
    "sn.kdeplot( y_pred_df[y_pred_df.Act_Label_1 == 0][\"Prob_1\"], color = 'g', shade=True,label = 'Act_Label_1 = 0' )\n",
    "plt.legend()\n",
    "plt.show()"
   ]
  },
  {
   "cell_type": "code",
   "execution_count": 40,
   "metadata": {},
   "outputs": [
    {
     "data": {
      "image/png": "[encoded data removed]",
      "text/plain": [
       "<Figure size 576x432 with 1 Axes>"
      ]
     },
     "metadata": {
      "needs_background": "light"
     },
     "output_type": "display_data"
    }
   ],
   "source": [
    "plt.figure( figsize = (8,6) )\n",
    "sn.kdeplot( y_pred_df[y_pred_df.Act_Label_2 == 1][\"Prob_2\"], color = 'b', shade=True,label = 'Act_Label_2 = 1' )\n",
    "sn.kdeplot( y_pred_df[y_pred_df.Act_Label_2 == 0][\"Prob_2\"], color = 'g', shade=True,label = 'Act_Label_2 = 0' )\n",
    "plt.legend()\n",
    "plt.show()"
   ]
  },
  {
   "cell_type": "markdown",
   "metadata": {},
   "source": [
    "### <font color='Blue'>1.12 Performance Measures from Confusion Matrix </font>"
   ]
  },
  {
   "cell_type": "markdown",
   "metadata": {},
   "source": [
    "#### <font color='Blue'>1.12 Get Predicted Labels Based on probability Distributions </font>"
   ]
  },
  {
   "cell_type": "code",
   "execution_count": 41,
   "metadata": {},
   "outputs": [
    {
     "data": {
      "text/html": [
       "<div>\n",
       "<style scoped>\n",
       "    .dataframe tbody tr th:only-of-type {\n",
       "        vertical-align: middle;\n",
       "    }\n",
       "\n",
       "    .dataframe tbody tr th {\n",
       "        vertical-align: top;\n",
       "    }\n",
       "\n",
       "    .dataframe thead th {\n",
       "        text-align: right;\n",
       "    }\n",
       "</style>\n",
       "<table border=\"1\" class=\"dataframe\">\n",
       "  <thead>\n",
       "    <tr style=\"text-align: right;\">\n",
       "      <th></th>\n",
       "      <th>Act_Label_0</th>\n",
       "      <th>Act_Label_1</th>\n",
       "      <th>Act_Label_2</th>\n",
       "      <th>Prob_0</th>\n",
       "      <th>Prob_1</th>\n",
       "      <th>Prob_2</th>\n",
       "      <th>Pred_label_0</th>\n",
       "      <th>Pred_label_1</th>\n",
       "      <th>Pred_label_2</th>\n",
       "    </tr>\n",
       "  </thead>\n",
       "  <tbody>\n",
       "    <tr>\n",
       "      <th>0</th>\n",
       "      <td>1</td>\n",
       "      <td>0</td>\n",
       "      <td>0</td>\n",
       "      <td>0.999998</td>\n",
       "      <td>0.002193</td>\n",
       "      <td>0.000028</td>\n",
       "      <td>1</td>\n",
       "      <td>0</td>\n",
       "      <td>0</td>\n",
       "    </tr>\n",
       "    <tr>\n",
       "      <th>1</th>\n",
       "      <td>1</td>\n",
       "      <td>1</td>\n",
       "      <td>0</td>\n",
       "      <td>0.996886</td>\n",
       "      <td>0.998973</td>\n",
       "      <td>0.003775</td>\n",
       "      <td>1</td>\n",
       "      <td>1</td>\n",
       "      <td>0</td>\n",
       "    </tr>\n",
       "    <tr>\n",
       "      <th>2</th>\n",
       "      <td>1</td>\n",
       "      <td>1</td>\n",
       "      <td>1</td>\n",
       "      <td>0.992502</td>\n",
       "      <td>0.995792</td>\n",
       "      <td>0.985264</td>\n",
       "      <td>1</td>\n",
       "      <td>1</td>\n",
       "      <td>1</td>\n",
       "    </tr>\n",
       "    <tr>\n",
       "      <th>3</th>\n",
       "      <td>1</td>\n",
       "      <td>1</td>\n",
       "      <td>0</td>\n",
       "      <td>0.963005</td>\n",
       "      <td>0.999193</td>\n",
       "      <td>0.782049</td>\n",
       "      <td>1</td>\n",
       "      <td>1</td>\n",
       "      <td>1</td>\n",
       "    </tr>\n",
       "    <tr>\n",
       "      <th>4</th>\n",
       "      <td>0</td>\n",
       "      <td>1</td>\n",
       "      <td>0</td>\n",
       "      <td>0.010476</td>\n",
       "      <td>0.999880</td>\n",
       "      <td>0.000023</td>\n",
       "      <td>0</td>\n",
       "      <td>1</td>\n",
       "      <td>0</td>\n",
       "    </tr>\n",
       "    <tr>\n",
       "      <th>...</th>\n",
       "      <td>...</td>\n",
       "      <td>...</td>\n",
       "      <td>...</td>\n",
       "      <td>...</td>\n",
       "      <td>...</td>\n",
       "      <td>...</td>\n",
       "      <td>...</td>\n",
       "      <td>...</td>\n",
       "      <td>...</td>\n",
       "    </tr>\n",
       "    <tr>\n",
       "      <th>295</th>\n",
       "      <td>0</td>\n",
       "      <td>1</td>\n",
       "      <td>0</td>\n",
       "      <td>0.633483</td>\n",
       "      <td>0.997352</td>\n",
       "      <td>0.405763</td>\n",
       "      <td>1</td>\n",
       "      <td>1</td>\n",
       "      <td>0</td>\n",
       "    </tr>\n",
       "    <tr>\n",
       "      <th>296</th>\n",
       "      <td>1</td>\n",
       "      <td>1</td>\n",
       "      <td>1</td>\n",
       "      <td>0.831279</td>\n",
       "      <td>0.883062</td>\n",
       "      <td>0.830399</td>\n",
       "      <td>1</td>\n",
       "      <td>1</td>\n",
       "      <td>1</td>\n",
       "    </tr>\n",
       "    <tr>\n",
       "      <th>297</th>\n",
       "      <td>0</td>\n",
       "      <td>1</td>\n",
       "      <td>0</td>\n",
       "      <td>0.022683</td>\n",
       "      <td>1.000000</td>\n",
       "      <td>0.000380</td>\n",
       "      <td>0</td>\n",
       "      <td>1</td>\n",
       "      <td>0</td>\n",
       "    </tr>\n",
       "    <tr>\n",
       "      <th>298</th>\n",
       "      <td>1</td>\n",
       "      <td>1</td>\n",
       "      <td>1</td>\n",
       "      <td>0.988614</td>\n",
       "      <td>0.993310</td>\n",
       "      <td>0.984694</td>\n",
       "      <td>1</td>\n",
       "      <td>1</td>\n",
       "      <td>1</td>\n",
       "    </tr>\n",
       "    <tr>\n",
       "      <th>299</th>\n",
       "      <td>0</td>\n",
       "      <td>1</td>\n",
       "      <td>0</td>\n",
       "      <td>0.130817</td>\n",
       "      <td>0.999939</td>\n",
       "      <td>0.019150</td>\n",
       "      <td>0</td>\n",
       "      <td>1</td>\n",
       "      <td>0</td>\n",
       "    </tr>\n",
       "  </tbody>\n",
       "</table>\n",
       "<p>300 rows × 9 columns</p>\n",
       "</div>"
      ],
      "text/plain": [
       "     Act_Label_0  Act_Label_1  Act_Label_2    Prob_0    Prob_1    Prob_2  \\\n",
       "0              1            0            0  0.999998  0.002193  0.000028   \n",
       "1              1            1            0  0.996886  0.998973  0.003775   \n",
       "2              1            1            1  0.992502  0.995792  0.985264   \n",
       "3              1            1            0  0.963005  0.999193  0.782049   \n",
       "4              0            1            0  0.010476  0.999880  0.000023   \n",
       "..           ...          ...          ...       ...       ...       ...   \n",
       "295            0            1            0  0.633483  0.997352  0.405763   \n",
       "296            1            1            1  0.831279  0.883062  0.830399   \n",
       "297            0            1            0  0.022683  1.000000  0.000380   \n",
       "298            1            1            1  0.988614  0.993310  0.984694   \n",
       "299            0            1            0  0.130817  0.999939  0.019150   \n",
       "\n",
       "     Pred_label_0  Pred_label_1  Pred_label_2  \n",
       "0               1             0             0  \n",
       "1               1             1             0  \n",
       "2               1             1             1  \n",
       "3               1             1             1  \n",
       "4               0             1             0  \n",
       "..            ...           ...           ...  \n",
       "295             1             1             0  \n",
       "296             1             1             1  \n",
       "297             0             1             0  \n",
       "298             1             1             1  \n",
       "299             0             1             0  \n",
       "\n",
       "[300 rows x 9 columns]"
      ]
     },
     "execution_count": 41,
     "metadata": {},
     "output_type": "execute_result"
    }
   ],
   "source": [
    "y_pred_df['Pred_label_0'] = y_pred_df.Prob_0.map(lambda x: 1 if x > 0.5 else 0)\n",
    "y_pred_df['Pred_label_1'] = y_pred_df.Prob_1.map(lambda x: 1 if x > 0.5 else 0)\n",
    "y_pred_df['Pred_label_2'] = y_pred_df.Prob_2.map(lambda x: 1 if x > 0.5 else 0)\n",
    "y_pred_df          "
   ]
  },
  {
   "cell_type": "markdown",
   "metadata": {},
   "source": [
    "#### <font color='Blue'>1.12 Performance Measures from Confusion Matrix: Label_0 </font>"
   ]
  },
  {
   "cell_type": "code",
   "execution_count": 42,
   "metadata": {},
   "outputs": [
    {
     "data": {
      "image/png": "[encoded data removed]",
      "text/plain": [
       "<Figure size 432x288 with 2 Axes>"
      ]
     },
     "metadata": {
      "needs_background": "light"
     },
     "output_type": "display_data"
    }
   ],
   "source": [
    "from confusion_matrix import make_confusion_matrix\n",
    "cf_matrix = metrics.confusion_matrix(y_pred_df.Act_Label_0, y_pred_df.Pred_label_0)\n",
    "labels = [\"TN\",\"FP\",\"FN\",\"TP\"]\n",
    "categories = [\"0\",\"1\"]\n",
    "make_confusion_matrix(cf_matrix, \n",
    "                      group_names=labels,\n",
    "                      categories=categories, \n",
    "                      cmap=\"Greens\")"
   ]
  },
  {
   "cell_type": "markdown",
   "metadata": {},
   "source": [
    "#### <font color='Blue'>1.12 Performance Measures from Confusion Matrix: Label_1 </font>"
   ]
  },
  {
   "cell_type": "code",
   "execution_count": 43,
   "metadata": {},
   "outputs": [
    {
     "data": {
      "image/png": "[encoded data removed]",
      "text/plain": [
       "<Figure size 432x288 with 2 Axes>"
      ]
     },
     "metadata": {
      "needs_background": "light"
     },
     "output_type": "display_data"
    }
   ],
   "source": [
    "from confusion_matrix import make_confusion_matrix\n",
    "cf_matrix = metrics.confusion_matrix(y_pred_df.Act_Label_1, y_pred_df.Pred_label_1)\n",
    "labels = [\"TN\",\"FP\",\"FN\",\"TP\"]\n",
    "categories = [\"0\",\"1\"]\n",
    "make_confusion_matrix(cf_matrix, \n",
    "                      group_names=labels,\n",
    "                      categories=categories, \n",
    "                      cmap=\"Greens\")"
   ]
  },
  {
   "cell_type": "markdown",
   "metadata": {},
   "source": [
    "#### <font color='Blue'>1.12 Performance Measures from Confusion Matrix: Label_2 </font>"
   ]
  },
  {
   "cell_type": "code",
   "execution_count": 44,
   "metadata": {},
   "outputs": [
    {
     "data": {
      "image/png": "[encoded data removed]",
      "text/plain": [
       "<Figure size 432x288 with 2 Axes>"
      ]
     },
     "metadata": {
      "needs_background": "light"
     },
     "output_type": "display_data"
    }
   ],
   "source": [
    "from confusion_matrix import make_confusion_matrix\n",
    "cf_matrix = metrics.confusion_matrix(y_pred_df.Act_Label_2, y_pred_df.Pred_label_2)\n",
    "labels = [\"TN\",\"FP\",\"FN\",\"TP\"]\n",
    "categories = [\"0\",\"1\"]\n",
    "make_confusion_matrix(cf_matrix, \n",
    "                      group_names=labels,\n",
    "                      categories=categories, \n",
    "                      cmap=\"Greens\")"
   ]
  },
  {
   "cell_type": "markdown",
   "metadata": {},
   "source": [
    "### <font color='Blue'>Conclusion</font>"
   ]
  },
  {
   "cell_type": "markdown",
   "metadata": {},
   "source": [
    "Here's what you should take away from this example:\n",
    "\n",
    "* There's usually quite a bit of preprocessing you need to do on your raw data in order to be able to feed it -- as tensors -- into a neural \n",
    "network. In the case of sequences of words, they can be encoded as binary vectors -- but there are other encoding options too.\n",
    "* Stacks of `Dense` layers with `relu` activations can solve a wide range of problems (including sentiment classification), and you will \n",
    "likely use them frequently.\n",
    "* In a binary classification problem (two output classes), your network should end with a `Dense` layer with 1 unit and a `sigmoid` activation, \n",
    "i.e. the output of your network should be a scalar between 0 and 1, encoding a probability.\n",
    "* With such a scalar sigmoid output, on a binary classification problem, the loss function you should use is `binary_crossentropy`.\n",
    "* The `rmsprop` optimizer is generally a good enough choice of optimizer, whatever your problem. That's one less thing for you to worry \n",
    "about.\n",
    "* As they get better on their training data, neural networks eventually start _overfitting_ and end up obtaining increasingly worse results on data \n",
    "never-seen-before. Make sure to always monitor performance on data that is outside of the training set."
   ]
  },
  {
   "cell_type": "code",
   "execution_count": null,
   "metadata": {},
   "outputs": [],
   "source": []
  }
 ],
 "metadata": {
  "kernelspec": {
   "display_name": "Python 3",
   "language": "python",
   "name": "python3"
  },
  "language_info": {
   "codemirror_mode": {
    "name": "ipython",
    "version": 3
   },
   "file_extension": ".py",
   "mimetype": "text/x-python",
   "name": "python",
   "nbconvert_exporter": "python",
   "pygments_lexer": "ipython3",
   "version": "3.7.10"
  }
 },
 "nbformat": 4,
 "nbformat_minor": 4
}
