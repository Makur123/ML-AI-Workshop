{
 "cells": [
  {
   "cell_type": "markdown",
   "metadata": {},
   "source": [
    "# <font color='Blue'>Linear Regression</font>"
   ]
  },
  {
   "cell_type": "markdown",
   "metadata": {},
   "source": [
    "## <font color='Blue'>Objectives</font>\n",
    "   1. Understand the concept of multiple linear regression and its applications in predictive analytics\n",
    "   2. Build multiple linear regession models using python packages\n",
    "   3. Apply Regression Diagnostics\n",
    "   4. Perform model validation tasks and make predictions\n",
    "   \n",
    "### <font color='Blue'>References</font>\n",
    "   1. Machine Learning Using Python,Pradhan Manaranjan and U Dinesh Kumar, Wiley Publications\n",
    "   2. Applied Multivariate Statistical analysis, Sixth Edition, Richard A Johnson and Dean W Wichern\n",
    "   3. Multivariate Data Analysis, Seventh Edition, Hair et al., Pearson publication\n",
    "   4. Internet sources, for pictures, under fair use policy\n",
    "      https://towardsdatascience.com/linear-regression-explained-1b36f97b7572\n",
    "      https://www.keboola.com/blog/linear-regression-machine-learning"
   ]
  },
  {
   "cell_type": "markdown",
   "metadata": {},
   "source": [
    "## <font color='Blue'>Contents</font>   \n",
    "\n",
    "  ### <font color='Blue'>1. What is Multiple Linear Regression</font>\n",
    "  ### <font color='Blue'>2. Multiple Linear Regression Application</font>\n",
    "  ### <font color='Blue'>3. Building a Multiple Linear Regression Model</font>\n",
    "     STEP 1: Collect, Extract, Analyze Data\n",
    "             [Predicting the SOLD Price (Auction Price) of Players]\n",
    "     STEP 2: Processing Data\n",
    "             [Create Feature Set]\n",
    "             [Encoding Categorical Features]\n",
    "     STEP 3: Dividing data into training and validation datasets\n",
    "     STEP 4: Build the model\n",
    "     STEP 5: Multi-Collinearity: Measurement and Management\n",
    "             - Variance Inflation Factor (VIF)\n",
    "             - Handling attributes with high VIF\n",
    "     STEP 5: Perform model diagnostics\n",
    "             Residual Analysis (LINE Principle)\n",
    "             - Linearity\n",
    "             - Independence of residuals\n",
    "             - Normality of residuals\n",
    "             - Homoscedasticity\n",
    "     STEP 6: Influencer Analysis\n",
    "     STEP 7: Measure model accuracy and validate model\n",
    "     STEP 8: Make Predictions"
   ]
  },
  {
   "cell_type": "markdown",
   "metadata": {},
   "source": [
    "## <font color='Blue'>1. What is Multiple Linear Regression</font>\n",
    "\n",
    "  Multiple Linear Regression is a statistical technique for finding the existence of an associaton relationship between a \n",
    "  dependent variable (aka response variable or outcome variable) and several independent variables (aka explanatory variable,  \n",
    "  predictor variable or feature). \n",
    "\n",
    "    \n",
    "### <font color='Blue'>Mathematical Background</font>\n",
    " \n",
    "#### <font color='Blue'>Functional Form of SLR</font>\n",
    "      Y  = β0 + β1.X1 + β2.X2 + β3.X3 + ... + βn.Xn + ε                                           \n",
    "      [Response] = [mean value depending on X's] + error               \n",
    "      Linear refers to the fact that mean is a linear function of unknown parameters β0 and β1.\n",
    "      ε = Y - β0 - β1.X1 - β2.X2 - β3.X3 - ... - βn.Xn\n",
    "        \n",
    "<img src=\"Regression_Plane.jpg\" width=\"600\" height=\"800\">\n",
    " \n",
    "#### <font color='Blue'>Regression Objective</font>\n",
    "      Let the number of samples be n                    \n",
    "      Minimize sum of squared residuals                  \n",
    "      Minimize  ∑(yi - ŷi)^2 over i=1 to i=n    \n",
    "                where ŷi = β0 + β1.X1i + β2.X2i - β3.X3i                   \n",
    "                yi is the actual value of y             \n",
    "                ŷi is the predicted value of y           \n",
    "      Minimize  ∑(yi - β1.X1i - β2.X2i - β3.X3i - ... - βn.Xni )^2 over i=1 to i=n     \n",
    "      by finding β0, β1, ..., βn that minimizes the above equation\n",
    "      \n",
    "#### <font color='Blue'>Regression Properties</font>\n",
    "      In eqn form:     Y  = β0 + β1.X1 + β2.X2 + β3.X3 + ... + βn.Xn  + ε\n",
    "      In matrix form: [Y] = [β][X] + [ε]\n",
    "                     (nx1)  (nx(r+1) (nx1)\n",
    "      where n is the number of samples\n",
    "            r is the number of predictors\n",
    "      E(ε) = 0\n",
    "      Var(ε) = constant    \n",
    "      Relation between Y and X is linear\n",
    "      Residuals are independent\n",
    "      \n",
    "<img src=\"MLR_Matrix.jpg\"  width=\"500\" height=\"600\">\n",
    "      \n",
    "####  <font color='Blue'>Regression Properties to be tested (Diagnostics)</font>\n",
    "1. Linearity        - The relationship between y and x is linear\n",
    "2. Independence     - The errors are independent of each other (not correlated, especially in a time series)\n",
    "3. Normality        - The errors (aka residuals) εi follow a normal distribution with mean(ε) = 0\n",
    "4. Homoscedasticity - The variance var(ε) is constant for different values of X. When var(ε) is constant, it in known as homoscedasticity. When var(ε) is not constant, it is heteroscedasticity   \n",
    "\n",
    "<img src=\"Regression_Assumptions.jpg\"  width=\"500\" height=\"600\">"
   ]
  },
  {
   "cell_type": "markdown",
   "metadata": {},
   "source": [
    "## <font color='Blue'>2. Multiple Linear Regression Application</font>\n",
    "\n",
    "<b> Case Description to be Added <b>"
   ]
  },
  {
   "cell_type": "markdown",
   "metadata": {},
   "source": [
    "## <font color='Blue'>3. Building a Simple Linear Regression Model</font>\n",
    "     STEP 1: Collect, Extract, Analyze Data\n",
    "             [Predicting the SOLD Price (Auction Price) of Players]\n",
    "     STEP 2: Process Data\n",
    "             [Create Feature Set]\n",
    "             [Encoding Categorical Features]\n",
    "     STEP 3: Dividing data into training and validation datasets\n",
    "     STEP 4: Build the model\n",
    "     STEP 5: Multi-Collinearity: Measurement and Management\n",
    "             - Variance Inflation Factor (VIF)\n",
    "             - Handling attributes with high VIF\n",
    "     STEP 5: Perform model diagnostics\n",
    "             Residual Analysis (LINE Principle)\n",
    "             - Linearity\n",
    "             - Independence of residuals\n",
    "             - Normality of residuals\n",
    "             - Homoscedasticity\n",
    "     STEP 6: Influencer Analysis\n",
    "     STEP 7: Measure model accuracy and validate model\n",
    "     STEP 8: Make Predictions"
   ]
  },
  {
   "cell_type": "markdown",
   "metadata": {},
   "source": [
    "### <font color='Green'>Loading Libraries</font>"
   ]
  },
  {
   "cell_type": "code",
   "execution_count": 1,
   "metadata": {},
   "outputs": [],
   "source": [
    "import warnings\n",
    "warnings.filterwarnings('ignore')\n",
    "import pandas as pd\n",
    "import numpy as np \n",
    "from scipy.stats import zscore\n",
    "import statsmodels.api as sm\n",
    "from statsmodels.stats.outliers_influence import variance_inflation_factor\n",
    "from sklearn.metrics import r2_score, mean_squared_error\n",
    "from sklearn.model_selection import train_test_split\n",
    "import matplotlib.pyplot as plt\n",
    "import seaborn as sn\n",
    "\n",
    "# Setting pandas print option to limit decimal places to 4\n",
    "np.set_printoptions(precision=4, linewidth=100) "
   ]
  },
  {
   "cell_type": "markdown",
   "metadata": {},
   "source": [
    "### <font color='Green'>STEP 1: Collect, Extract, Analyze Data</font>"
   ]
  },
  {
   "cell_type": "code",
   "execution_count": 2,
   "metadata": {},
   "outputs": [],
   "source": [
    "# Loading Data\n",
    "data_df = pd.read_excel('IMB529-XLS-ENG.XLSX',sheet_name='MH-Modified Data')"
   ]
  },
  {
   "cell_type": "markdown",
   "metadata": {},
   "source": [
    "<b> There are 248 observations and 26 features in the data. No missing values </b>"
   ]
  },
  {
   "cell_type": "code",
   "execution_count": 3,
   "metadata": {},
   "outputs": [
    {
     "name": "stdout",
     "output_type": "stream",
     "text": [
      "<class 'pandas.core.frame.DataFrame'>\n",
      "RangeIndex: 248 entries, 0 to 247\n",
      "Data columns (total 50 columns):\n",
      " #   Column                        Non-Null Count  Dtype  \n",
      "---  ------                        --------------  -----  \n",
      " 0   SL.                           248 non-null    int64  \n",
      " 1   AGE                           248 non-null    float64\n",
      " 2   GEN                           248 non-null    object \n",
      " 3   GENDER                        248 non-null    int64  \n",
      " 4   MARITAL_STATUS                248 non-null    object \n",
      " 5   UNMARRIED                     248 non-null    int64  \n",
      " 6   KEY COMPLAINTS_CODE           212 non-null    object \n",
      " 7   ACHD                          248 non-null    int64  \n",
      " 8   CAD_DVD                       248 non-null    int64  \n",
      " 9   CAD_SVD                       248 non-null    int64  \n",
      " 10  CAD_TVD                       248 non-null    int64  \n",
      " 11  CAD_VSD                       248 non-null    int64  \n",
      " 12  OS_ASD                        248 non-null    int64  \n",
      " 13  other_heart                   248 non-null    int64  \n",
      " 14  other_respiratory             248 non-null    int64  \n",
      " 15  other_general                 248 non-null    int64  \n",
      " 16  other_nervous                 248 non-null    int64  \n",
      " 17  other_tertalogy               248 non-null    int64  \n",
      " 18  PM_VSD                        248 non-null    int64  \n",
      " 19  RHD                           248 non-null    int64  \n",
      " 20  BODY_WEIGHT                   248 non-null    float64\n",
      " 21  BODY_HEIGHT                   248 non-null    int64  \n",
      " 22  HR_PULSE                      248 non-null    int64  \n",
      " 23  BP_HIGH                       225 non-null    float64\n",
      " 24  BP_LOW                        225 non-null    float64\n",
      " 25  RR                            248 non-null    int64  \n",
      " 26  PAST_MEDICAL_HISTORY_CODE     75 non-null     object \n",
      " 27  Diabetes1                     248 non-null    int64  \n",
      " 28  Diabetes2                     248 non-null    int64  \n",
      " 29  hypertension1                 248 non-null    int64  \n",
      " 30  hypertension2                 248 non-null    int64  \n",
      " 31  hypertension3                 248 non-null    int64  \n",
      " 32  other                         248 non-null    int64  \n",
      " 33  HB                            246 non-null    float64\n",
      " 34  UREA                          235 non-null    float64\n",
      " 35  CREATININE                    215 non-null    float64\n",
      " 36  MODE_OF_ARRIVAL               248 non-null    object \n",
      " 37  AMBULANCE                     248 non-null    int64  \n",
      " 38  TRANSFERRED                   248 non-null    int64  \n",
      " 39  STATE_AT_THE_TIME_OF_ARRIVAL  248 non-null    object \n",
      " 40  ALERT                         248 non-null    int64  \n",
      " 41  TYPE_OF_ADMSN                 248 non-null    object \n",
      " 42  ELECTIVE                      248 non-null    int64  \n",
      " 43  TOTAL_COST_TO_HOSPITAL        248 non-null    float64\n",
      " 44  TOTAL_LENGTH_OF_STAY          248 non-null    int64  \n",
      " 45  LENGTH_OF_STAY_ICU            248 non-null    int64  \n",
      " 46  LENGTH_OF_STAY_WARD           248 non-null    int64  \n",
      " 47  IMPLANT_USED_(Y/N)            248 non-null    object \n",
      " 48  IMPLANT                       248 non-null    int64  \n",
      " 49  COST_OF_IMPLANT               248 non-null    int64  \n",
      "dtypes: float64(8), int64(34), object(8)\n",
      "memory usage: 97.0+ KB\n"
     ]
    }
   ],
   "source": [
    "# Displaying 10 columns of few records\n",
    "data_df.info()"
   ]
  },
  {
   "cell_type": "markdown",
   "metadata": {},
   "source": [
    "<b> Notes </b>\n",
    "\n",
    "    Male(Female)        = 0(1)\n",
    "    Married(Unmarried)  = 0(1) \n",
    "    Alert(unconsious)   = 1(0)\n",
    "    Elective(Emergency) = 1(0) \n",
    "    Implant(no implant) = 1(0)"
   ]
  },
  {
   "cell_type": "markdown",
   "metadata": {},
   "source": [
    "###  <font color='Green'>STEP 2: Process Data</font>\n",
    "#### <font color='Green'>STEP 2.1: Detecting and Removing Outliers</font>"
   ]
  },
  {
   "cell_type": "code",
   "execution_count": 4,
   "metadata": {},
   "outputs": [
    {
     "name": "stdout",
     "output_type": "stream",
     "text": [
      "(248, 50)\n"
     ]
    }
   ],
   "source": [
    "print(data_df.shape)"
   ]
  },
  {
   "cell_type": "markdown",
   "metadata": {},
   "source": [
    "#### <font color='Green'>Detecting Removing Outliers</font>"
   ]
  },
  {
   "cell_type": "code",
   "execution_count": 5,
   "metadata": {},
   "outputs": [],
   "source": [
    "data_df['z_score_tc'] = zscore( data_df['TOTAL_COST_TO_HOSPITAL'] )"
   ]
  },
  {
   "cell_type": "code",
   "execution_count": 6,
   "metadata": {},
   "outputs": [
    {
     "data": {
      "text/html": [
       "<div>\n",
       "<style scoped>\n",
       "    .dataframe tbody tr th:only-of-type {\n",
       "        vertical-align: middle;\n",
       "    }\n",
       "\n",
       "    .dataframe tbody tr th {\n",
       "        vertical-align: top;\n",
       "    }\n",
       "\n",
       "    .dataframe thead th {\n",
       "        text-align: right;\n",
       "    }\n",
       "</style>\n",
       "<table border=\"1\" class=\"dataframe\">\n",
       "  <thead>\n",
       "    <tr style=\"text-align: right;\">\n",
       "      <th></th>\n",
       "      <th>SL.</th>\n",
       "      <th>AGE</th>\n",
       "      <th>GEN</th>\n",
       "      <th>GENDER</th>\n",
       "      <th>MARITAL_STATUS</th>\n",
       "      <th>UNMARRIED</th>\n",
       "      <th>KEY COMPLAINTS_CODE</th>\n",
       "      <th>ACHD</th>\n",
       "      <th>CAD_DVD</th>\n",
       "      <th>CAD_SVD</th>\n",
       "      <th>...</th>\n",
       "      <th>TYPE_OF_ADMSN</th>\n",
       "      <th>ELECTIVE</th>\n",
       "      <th>TOTAL_COST_TO_HOSPITAL</th>\n",
       "      <th>TOTAL_LENGTH_OF_STAY</th>\n",
       "      <th>LENGTH_OF_STAY_ICU</th>\n",
       "      <th>LENGTH_OF_STAY_WARD</th>\n",
       "      <th>IMPLANT_USED_(Y/N)</th>\n",
       "      <th>IMPLANT</th>\n",
       "      <th>COST_OF_IMPLANT</th>\n",
       "      <th>z_score_tc</th>\n",
       "    </tr>\n",
       "  </thead>\n",
       "  <tbody>\n",
       "    <tr>\n",
       "      <th>0</th>\n",
       "      <td>1</td>\n",
       "      <td>58.0</td>\n",
       "      <td>M</td>\n",
       "      <td>0</td>\n",
       "      <td>MARRIED</td>\n",
       "      <td>0</td>\n",
       "      <td>other- heart</td>\n",
       "      <td>0</td>\n",
       "      <td>0</td>\n",
       "      <td>0</td>\n",
       "      <td>...</td>\n",
       "      <td>EMERGENCY</td>\n",
       "      <td>0</td>\n",
       "      <td>660293.0</td>\n",
       "      <td>25</td>\n",
       "      <td>12</td>\n",
       "      <td>13</td>\n",
       "      <td>Y</td>\n",
       "      <td>1</td>\n",
       "      <td>38000</td>\n",
       "      <td>3.772841</td>\n",
       "    </tr>\n",
       "    <tr>\n",
       "      <th>1</th>\n",
       "      <td>2</td>\n",
       "      <td>59.0</td>\n",
       "      <td>M</td>\n",
       "      <td>0</td>\n",
       "      <td>MARRIED</td>\n",
       "      <td>0</td>\n",
       "      <td>CAD-DVD</td>\n",
       "      <td>0</td>\n",
       "      <td>1</td>\n",
       "      <td>0</td>\n",
       "      <td>...</td>\n",
       "      <td>EMERGENCY</td>\n",
       "      <td>0</td>\n",
       "      <td>809130.0</td>\n",
       "      <td>41</td>\n",
       "      <td>20</td>\n",
       "      <td>21</td>\n",
       "      <td>Y</td>\n",
       "      <td>1</td>\n",
       "      <td>39690</td>\n",
       "      <td>4.989425</td>\n",
       "    </tr>\n",
       "    <tr>\n",
       "      <th>3</th>\n",
       "      <td>4</td>\n",
       "      <td>46.0</td>\n",
       "      <td>M</td>\n",
       "      <td>0</td>\n",
       "      <td>MARRIED</td>\n",
       "      <td>0</td>\n",
       "      <td>CAD-DVD</td>\n",
       "      <td>0</td>\n",
       "      <td>1</td>\n",
       "      <td>0</td>\n",
       "      <td>...</td>\n",
       "      <td>EMERGENCY</td>\n",
       "      <td>0</td>\n",
       "      <td>629990.0</td>\n",
       "      <td>14</td>\n",
       "      <td>13</td>\n",
       "      <td>1</td>\n",
       "      <td>Y</td>\n",
       "      <td>1</td>\n",
       "      <td>89450</td>\n",
       "      <td>3.525146</td>\n",
       "    </tr>\n",
       "    <tr>\n",
       "      <th>6</th>\n",
       "      <td>7</td>\n",
       "      <td>73.0</td>\n",
       "      <td>M</td>\n",
       "      <td>0</td>\n",
       "      <td>MARRIED</td>\n",
       "      <td>0</td>\n",
       "      <td>CAD-TVD</td>\n",
       "      <td>0</td>\n",
       "      <td>0</td>\n",
       "      <td>0</td>\n",
       "      <td>...</td>\n",
       "      <td>ELECTIVE</td>\n",
       "      <td>1</td>\n",
       "      <td>887350.0</td>\n",
       "      <td>15</td>\n",
       "      <td>15</td>\n",
       "      <td>0</td>\n",
       "      <td>N</td>\n",
       "      <td>0</td>\n",
       "      <td>0</td>\n",
       "      <td>5.628790</td>\n",
       "    </tr>\n",
       "    <tr>\n",
       "      <th>12</th>\n",
       "      <td>13</td>\n",
       "      <td>40.0</td>\n",
       "      <td>M</td>\n",
       "      <td>0</td>\n",
       "      <td>MARRIED</td>\n",
       "      <td>0</td>\n",
       "      <td>RHD</td>\n",
       "      <td>0</td>\n",
       "      <td>0</td>\n",
       "      <td>0</td>\n",
       "      <td>...</td>\n",
       "      <td>ELECTIVE</td>\n",
       "      <td>1</td>\n",
       "      <td>711616.0</td>\n",
       "      <td>17</td>\n",
       "      <td>10</td>\n",
       "      <td>7</td>\n",
       "      <td>Y</td>\n",
       "      <td>1</td>\n",
       "      <td>196848</td>\n",
       "      <td>4.192352</td>\n",
       "    </tr>\n",
       "  </tbody>\n",
       "</table>\n",
       "<p>5 rows × 51 columns</p>\n",
       "</div>"
      ],
      "text/plain": [
       "    SL.   AGE GEN  GENDER MARITAL_STATUS  UNMARRIED KEY COMPLAINTS_CODE  ACHD  \\\n",
       "0     1  58.0   M       0        MARRIED          0        other- heart     0   \n",
       "1     2  59.0   M       0        MARRIED          0             CAD-DVD     0   \n",
       "3     4  46.0   M       0        MARRIED          0             CAD-DVD     0   \n",
       "6     7  73.0   M       0        MARRIED          0             CAD-TVD     0   \n",
       "12   13  40.0   M       0        MARRIED          0                 RHD     0   \n",
       "\n",
       "    CAD_DVD  CAD_SVD  ...  TYPE_OF_ADMSN  ELECTIVE  TOTAL_COST_TO_HOSPITAL  \\\n",
       "0         0        0  ...      EMERGENCY         0                660293.0   \n",
       "1         1        0  ...      EMERGENCY         0                809130.0   \n",
       "3         1        0  ...      EMERGENCY         0                629990.0   \n",
       "6         0        0  ...       ELECTIVE         1                887350.0   \n",
       "12        0        0  ...       ELECTIVE         1                711616.0   \n",
       "\n",
       "    TOTAL_LENGTH_OF_STAY  LENGTH_OF_STAY_ICU  LENGTH_OF_STAY_WARD  \\\n",
       "0                     25                  12                   13   \n",
       "1                     41                  20                   21   \n",
       "3                     14                  13                    1   \n",
       "6                     15                  15                    0   \n",
       "12                    17                  10                    7   \n",
       "\n",
       "    IMPLANT_USED_(Y/N)  IMPLANT  COST_OF_IMPLANT  z_score_tc  \n",
       "0                    Y        1            38000    3.772841  \n",
       "1                    Y        1            39690    4.989425  \n",
       "3                    Y        1            89450    3.525146  \n",
       "6                    N        0                0    5.628790  \n",
       "12                   Y        1           196848    4.192352  \n",
       "\n",
       "[5 rows x 51 columns]"
      ]
     },
     "execution_count": 6,
     "metadata": {},
     "output_type": "execute_result"
    }
   ],
   "source": [
    "data_df[ ( data_df.z_score_tc > 3.0) | ( data_df.z_score_tc < -3.0) ]"
   ]
  },
  {
   "cell_type": "markdown",
   "metadata": {},
   "source": [
    "#### <font color='Green'>Removing Outliers</font>"
   ]
  },
  {
   "cell_type": "code",
   "execution_count": 7,
   "metadata": {},
   "outputs": [
    {
     "data": {
      "text/plain": [
       "(243, 50)"
      ]
     },
     "execution_count": 7,
     "metadata": {},
     "output_type": "execute_result"
    }
   ],
   "source": [
    "data_df = data_df.drop([0, 1,3,6,12])\n",
    "data_df = data_df.drop(['z_score_tc'],axis=1)\n",
    "data_df.shape "
   ]
  },
  {
   "cell_type": "markdown",
   "metadata": {},
   "source": [
    "#### <font color='Green'>STEP 2.2: Create Feature Set</font>"
   ]
  },
  {
   "cell_type": "markdown",
   "metadata": {},
   "source": [
    "#### <font color='Green'>Cleaning Data</font>"
   ]
  },
  {
   "cell_type": "code",
   "execution_count": 8,
   "metadata": {},
   "outputs": [
    {
     "name": "stdout",
     "output_type": "stream",
     "text": [
      "Index(['SL.', 'AGE', 'GEN', 'GENDER', 'MARITAL_STATUS', 'UNMARRIED',\n",
      "       'KEY COMPLAINTS_CODE', 'ACHD', 'CAD_DVD', 'CAD_SVD', 'CAD_TVD',\n",
      "       'CAD_VSD', 'OS_ASD', 'other_heart', 'other_respiratory',\n",
      "       'other_general', 'other_nervous', 'other_tertalogy', 'PM_VSD', 'RHD',\n",
      "       'BODY_WEIGHT', 'BODY_HEIGHT', 'HR_PULSE', 'BP_HIGH', 'BP_LOW', 'RR',\n",
      "       'PAST_MEDICAL_HISTORY_CODE', 'Diabetes1', 'Diabetes2', 'hypertension1',\n",
      "       'hypertension2', 'hypertension3', 'other', 'HB', 'UREA', 'CREATININE',\n",
      "       'MODE_OF_ARRIVAL', 'AMBULANCE', 'TRANSFERRED',\n",
      "       'STATE_AT_THE_TIME_OF_ARRIVAL', 'ALERT', 'TYPE_OF_ADMSN', 'ELECTIVE',\n",
      "       'TOTAL_COST_TO_HOSPITAL', 'TOTAL_LENGTH_OF_STAY', 'LENGTH_OF_STAY_ICU',\n",
      "       'LENGTH_OF_STAY_WARD', 'IMPLANT_USED_(Y/N)', 'IMPLANT',\n",
      "       'COST_OF_IMPLANT'],\n",
      "      dtype='object')\n",
      "\n",
      "Index(['AGE', 'GEN', 'GENDER', 'MARITAL_STATUS', 'UNMARRIED',\n",
      "       'KEY COMPLAINTS_CODE', 'ACHD', 'CAD_DVD', 'CAD_SVD', 'CAD_TVD',\n",
      "       'CAD_VSD', 'OS_ASD', 'other_heart', 'other_respiratory',\n",
      "       'other_general', 'other_nervous', 'other_tertalogy', 'PM_VSD', 'RHD',\n",
      "       'BODY_WEIGHT', 'BODY_HEIGHT', 'HR_PULSE', 'BP_HIGH', 'BP_LOW', 'RR',\n",
      "       'PAST_MEDICAL_HISTORY_CODE', 'Diabetes1', 'Diabetes2', 'hypertension1',\n",
      "       'hypertension2', 'hypertension3', 'other', 'HB', 'UREA', 'CREATININE',\n",
      "       'MODE_OF_ARRIVAL', 'AMBULANCE', 'TRANSFERRED',\n",
      "       'STATE_AT_THE_TIME_OF_ARRIVAL', 'ALERT', 'TYPE_OF_ADMSN', 'ELECTIVE',\n",
      "       'TOTAL_COST_TO_HOSPITAL', 'LENGTH_OF_STAY_ICU', 'LENGTH_OF_STAY_WARD',\n",
      "       'IMPLANT_USED_(Y/N)', 'IMPLANT', 'COST_OF_IMPLANT'],\n",
      "      dtype='object')\n"
     ]
    }
   ],
   "source": [
    "# Identifying Columns\n",
    "print(data_df.columns)\n",
    "print(\"\")\n",
    "\n",
    "# Remove attributes that cannot be predictors - 'Sl.'\n",
    "data_df = data_df.drop(['SL.','TOTAL_LENGTH_OF_STAY'],axis=1)\n",
    "# data_df = sm.add_constant( data_df, prepend=True ) \n",
    "print(data_df.columns)"
   ]
  },
  {
   "cell_type": "markdown",
   "metadata": {},
   "source": [
    "#### <font color='Green'>Removing Rows with Missing Values</font>"
   ]
  },
  {
   "cell_type": "code",
   "execution_count": 9,
   "metadata": {},
   "outputs": [
    {
     "data": {
      "text/plain": [
       "(243, 40)"
      ]
     },
     "execution_count": 9,
     "metadata": {},
     "output_type": "execute_result"
    }
   ],
   "source": [
    "features =    ['AGE', 'GENDER', 'UNMARRIED', 'ACHD', 'CAD_DVD', 'CAD_SVD', 'CAD_TVD',\n",
    "              'CAD_VSD', 'OS_ASD', 'other_heart', 'other_respiratory',\n",
    "              'other_general', 'other_nervous', 'other_tertalogy', 'PM_VSD', 'RHD',\n",
    "              'BODY_WEIGHT', 'BODY_HEIGHT', 'HR_PULSE', 'BP_HIGH', 'BP_LOW', 'RR',\n",
    "              'Diabetes1', 'Diabetes2', 'hypertension1', 'hypertension2',\n",
    "              'hypertension3', 'other', 'HB', 'UREA', 'CREATININE', 'AMBULANCE',\n",
    "              'TRANSFERRED', 'ALERT', 'ELECTIVE',  \n",
    "              'LENGTH_OF_STAY_ICU', 'LENGTH_OF_STAY_WARD', 'IMPLANT', 'COST_OF_IMPLANT','TOTAL_COST_TO_HOSPITAL']\n",
    "data_df_cleaned = data_df[features]\n",
    "data_df_cleaned.shape"
   ]
  },
  {
   "cell_type": "code",
   "execution_count": 10,
   "metadata": {},
   "outputs": [
    {
     "data": {
      "text/plain": [
       "(186, 40)"
      ]
     },
     "execution_count": 10,
     "metadata": {},
     "output_type": "execute_result"
    }
   ],
   "source": [
    "data_df_cleaned = data_df_cleaned.dropna()\n",
    "data_df_cleaned.shape"
   ]
  },
  {
   "cell_type": "code",
   "execution_count": 11,
   "metadata": {},
   "outputs": [],
   "source": [
    "# Creating Feature Set\n",
    "# We have use only those variables, which are available at the time of admitting a patient\n",
    "# So remove 'LENGTH_OF_STAY_ICU', 'LENGTH_OF_STAY_WARD', 'IMPLANT', 'COST_OF_IMPLANT'\n",
    " \n",
    "X_features = ['AGE', 'GENDER', 'UNMARRIED', 'ACHD', 'CAD_DVD', 'CAD_SVD', 'CAD_TVD',\n",
    "              'CAD_VSD', 'OS_ASD', 'other_heart', 'other_respiratory',\n",
    "              'other_general', 'other_nervous', 'other_tertalogy', 'PM_VSD', 'RHD',\n",
    "              'BODY_WEIGHT', 'BODY_HEIGHT', 'HR_PULSE', 'BP_HIGH', 'BP_LOW', 'RR',\n",
    "              'Diabetes1', 'Diabetes2', 'hypertension1', 'hypertension2',\n",
    "              'hypertension3', 'other', 'HB', 'UREA', 'CREATININE', 'AMBULANCE',\n",
    "              'TRANSFERRED', 'ALERT', 'ELECTIVE']\n",
    "\n",
    "X = data_df_cleaned[X_features]\n",
    "\n",
    "Y = data_df_cleaned['TOTAL_COST_TO_HOSPITAL']"
   ]
  },
  {
   "cell_type": "code",
   "execution_count": 12,
   "metadata": {},
   "outputs": [
    {
     "data": {
      "text/plain": [
       "(186, 36)"
      ]
     },
     "execution_count": 12,
     "metadata": {},
     "output_type": "execute_result"
    }
   ],
   "source": [
    "X = sm.add_constant(X,has_constant='add') \n",
    "X.shape"
   ]
  },
  {
   "cell_type": "markdown",
   "metadata": {},
   "source": [
    "### <font color='Green'>STEP 3: Dividing data into training and validation datasets</font>"
   ]
  },
  {
   "cell_type": "code",
   "execution_count": 13,
   "metadata": {},
   "outputs": [
    {
     "name": "stdout",
     "output_type": "stream",
     "text": [
      "Rows Train X: 130 Columns Train X: 36\n",
      "Rows Test X: 56 Columns Test X: 36\n",
      "Length Train y: 130\n",
      "Length Test y: 56\n"
     ]
    }
   ],
   "source": [
    "# Splitting Data into Train and Validation Sets\n",
    "# Add constant - 1 to X, it will ensure that β0 is calculated\n",
    "\n",
    "train_X, test_X, train_y, test_y = train_test_split( X , Y, train_size = 0.7, random_state = 42 )\n",
    "\n",
    "print(\"Rows Train X:\", len(train_X.index), \"Columns Train X:\", len(train_X.columns))\n",
    "print(\"Rows Test X:\", len(test_X.index), \"Columns Test X:\", len(test_X.columns))\n",
    "print(\"Length Train y:\", len(train_y))\n",
    "print(\"Length Test y:\", len(test_y))"
   ]
  },
  {
   "cell_type": "markdown",
   "metadata": {},
   "source": [
    "### <font color='Green'>STEP 4: Build the model</font>"
   ]
  },
  {
   "cell_type": "code",
   "execution_count": 14,
   "metadata": {},
   "outputs": [
    {
     "data": {
      "text/html": [
       "<table class=\"simpletable\">\n",
       "<tr>\n",
       "        <td>Model:</td>                  <td>OLS</td>            <td>Adj. R-squared:</td>      <td>0.295</td>  \n",
       "</tr>\n",
       "<tr>\n",
       "  <td>Dependent Variable:</td> <td>TOTAL_COST_TO_HOSPITAL</td>        <td>AIC:</td>          <td>3344.5276</td>\n",
       "</tr>\n",
       "<tr>\n",
       "         <td>Date:</td>           <td>2021-07-21 12:08</td>           <td>BIC:</td>          <td>3442.0238</td>\n",
       "</tr>\n",
       "<tr>\n",
       "   <td>No. Observations:</td>            <td>130</td>            <td>Log-Likelihood:</td>     <td>-1638.3</td> \n",
       "</tr>\n",
       "<tr>\n",
       "       <td>Df Model:</td>                <td>33</td>              <td>F-statistic:</td>        <td>2.633</td>  \n",
       "</tr>\n",
       "<tr>\n",
       "     <td>Df Residuals:</td>              <td>96</td>           <td>Prob (F-statistic):</td>  <td>0.000132</td> \n",
       "</tr>\n",
       "<tr>\n",
       "      <td>R-squared:</td>               <td>0.475</td>               <td>Scale:</td>        <td>7.0013e+09</td>\n",
       "</tr>\n",
       "</table>\n",
       "<table class=\"simpletable\">\n",
       "<tr>\n",
       "          <td></td>              <th>Coef.</th>     <th>Std.Err.</th>      <th>t</th>     <th>P>|t|</th>    <th>[0.025</th>      <th>0.975]</th>   \n",
       "</tr>\n",
       "<tr>\n",
       "  <th>const</th>              <td>36212.0584</td>  <td>78769.9876</td>  <td>0.4597</td>  <td>0.6468</td> <td>-120145.1313</td> <td>192569.2480</td>\n",
       "</tr>\n",
       "<tr>\n",
       "  <th>AGE</th>                 <td>1454.0717</td>   <td>791.9261</td>   <td>1.8361</td>  <td>0.0694</td>   <td>-117.8892</td>   <td>3026.0326</td> \n",
       "</tr>\n",
       "<tr>\n",
       "  <th>GENDER</th>              <td>2715.6136</td>  <td>18958.7835</td>  <td>0.1432</td>  <td>0.8864</td>  <td>-34917.2743</td> <td>40348.5014</td> \n",
       "</tr>\n",
       "<tr>\n",
       "  <th>UNMARRIED</th>          <td>19427.1682</td>  <td>37259.3293</td>  <td>0.5214</td>  <td>0.6033</td>  <td>-54532.0159</td> <td>93386.3523</td> \n",
       "</tr>\n",
       "<tr>\n",
       "  <th>ACHD</th>               <td>31499.2255</td>  <td>38060.4503</td>  <td>0.8276</td>  <td>0.4099</td>  <td>-44050.1712</td> <td>107048.6222</td>\n",
       "</tr>\n",
       "<tr>\n",
       "  <th>CAD_DVD</th>            <td>83478.6519</td>  <td>35915.3932</td>  <td>2.3243</td>  <td>0.0222</td>  <td>12187.1599</td>  <td>154770.1440</td>\n",
       "</tr>\n",
       "<tr>\n",
       "  <th>CAD_SVD</th>            <td>89166.5189</td>  <td>70189.6043</td>  <td>1.2704</td>  <td>0.2070</td>  <td>-50158.7443</td> <td>228491.7822</td>\n",
       "</tr>\n",
       "<tr>\n",
       "  <th>CAD_TVD</th>            <td>68093.5136</td>  <td>37773.0540</td>  <td>1.8027</td>  <td>0.0746</td>  <td>-6885.4060</td>  <td>143072.4332</td>\n",
       "</tr>\n",
       "<tr>\n",
       "  <th>CAD_VSD</th>              <td>0.0000</td>      <td>0.0000</td>    <td>0.3025</td>  <td>0.7629</td>    <td>-0.0000</td>     <td>0.0000</td>   \n",
       "</tr>\n",
       "<tr>\n",
       "  <th>OS_ASD</th>             <td>28634.6760</td>  <td>40616.5251</td>  <td>0.7050</td>  <td>0.4825</td>  <td>-51988.4891</td> <td>109257.8410</td>\n",
       "</tr>\n",
       "<tr>\n",
       "  <th>other_heart</th>        <td>77392.2647</td>  <td>31245.4860</td>  <td>2.4769</td>  <td>0.0150</td>  <td>15370.4652</td>  <td>139414.0643</td>\n",
       "</tr>\n",
       "<tr>\n",
       "  <th>other_respiratory</th>  <td>49095.3244</td>  <td>57110.9640</td>  <td>0.8596</td>  <td>0.3921</td>  <td>-64269.0433</td> <td>162459.6920</td>\n",
       "</tr>\n",
       "<tr>\n",
       "  <th>other_general</th>     <td>-185201.2238</td> <td>113438.2111</td> <td>-1.6326</td> <td>0.1058</td> <td>-410374.2931</td> <td>39971.8456</td> \n",
       "</tr>\n",
       "<tr>\n",
       "  <th>other_nervous</th>      <td>106288.1934</td> <td>91043.0219</td>  <td>1.1675</td>  <td>0.2459</td>  <td>-74430.7767</td> <td>287007.1636</td>\n",
       "</tr>\n",
       "<tr>\n",
       "  <th>other_tertalogy</th>    <td>76109.2786</td>  <td>46312.9256</td>  <td>1.6434</td>  <td>0.1036</td>  <td>-15821.1522</td> <td>168039.7094</td>\n",
       "</tr>\n",
       "<tr>\n",
       "  <th>PM_VSD</th>             <td>57517.2691</td>  <td>69626.5871</td>  <td>0.8261</td>  <td>0.4108</td>  <td>-80690.4139</td> <td>195724.9521</td>\n",
       "</tr>\n",
       "<tr>\n",
       "  <th>RHD</th>                <td>71479.1230</td>  <td>35259.6200</td>  <td>2.0272</td>  <td>0.0454</td>   <td>1489.3305</td>  <td>141468.9156</td>\n",
       "</tr>\n",
       "<tr>\n",
       "  <th>BODY_WEIGHT</th>         <td>847.6254</td>    <td>1065.1499</td>  <td>0.7958</td>  <td>0.4281</td>  <td>-1266.6805</td>   <td>2961.9313</td> \n",
       "</tr>\n",
       "<tr>\n",
       "  <th>BODY_HEIGHT</th>         <td>155.5368</td>    <td>433.6532</td>   <td>0.3587</td>  <td>0.7206</td>   <td>-705.2581</td>   <td>1016.3316</td> \n",
       "</tr>\n",
       "<tr>\n",
       "  <th>HR_PULSE</th>            <td>958.3256</td>    <td>513.2198</td>   <td>1.8673</td>  <td>0.0649</td>   <td>-60.4076</td>    <td>1977.0588</td> \n",
       "</tr>\n",
       "<tr>\n",
       "  <th>BP_HIGH</th>             <td>317.5716</td>    <td>615.8179</td>   <td>0.5157</td>  <td>0.6073</td>   <td>-904.8173</td>   <td>1539.9604</td> \n",
       "</tr>\n",
       "<tr>\n",
       "  <th>BP_LOW</th>             <td>-1326.8068</td>   <td>799.7997</td>   <td>-1.6589</td> <td>0.1004</td>  <td>-2914.3967</td>   <td>260.7832</td>  \n",
       "</tr>\n",
       "<tr>\n",
       "  <th>RR</th>                  <td>1836.4820</td>   <td>2821.7123</td>  <td>0.6508</td>  <td>0.5167</td>  <td>-3764.5726</td>   <td>7437.5367</td> \n",
       "</tr>\n",
       "<tr>\n",
       "  <th>Diabetes1</th>           <td>9828.8399</td>  <td>51648.9753</td>  <td>0.1903</td>  <td>0.8495</td>  <td>-92693.5657</td> <td>112351.2455</td>\n",
       "</tr>\n",
       "<tr>\n",
       "  <th>Diabetes2</th>          <td>43730.4595</td>  <td>47420.3037</td>  <td>0.9222</td>  <td>0.3587</td>  <td>-50398.0994</td> <td>137859.0184</td>\n",
       "</tr>\n",
       "<tr>\n",
       "  <th>hypertension1</th>      <td>-21510.5807</td> <td>32008.2140</td>  <td>-0.6720</td> <td>0.5032</td>  <td>-85046.3834</td> <td>42025.2220</td> \n",
       "</tr>\n",
       "<tr>\n",
       "  <th>hypertension2</th>      <td>-79746.8487</td> <td>35165.1735</td>  <td>-2.2678</td> <td>0.0256</td> <td>-149549.1664</td> <td>-9944.5310</td> \n",
       "</tr>\n",
       "<tr>\n",
       "  <th>hypertension3</th>      <td>-23920.6150</td> <td>65777.3172</td>  <td>-0.3637</td> <td>0.7169</td> <td>-154487.5578</td> <td>106646.3278</td>\n",
       "</tr>\n",
       "<tr>\n",
       "  <th>other</th>              <td>-22636.4941</td> <td>30873.7952</td>  <td>-0.7332</td> <td>0.4652</td>  <td>-83920.4932</td> <td>38647.5051</td> \n",
       "</tr>\n",
       "<tr>\n",
       "  <th>HB</th>                  <td>233.9789</td>    <td>3202.9022</td>  <td>0.0731</td>  <td>0.9419</td>  <td>-6123.7316</td>   <td>6591.6895</td> \n",
       "</tr>\n",
       "<tr>\n",
       "  <th>UREA</th>                <td>-419.0682</td>   <td>829.8093</td>   <td>-0.5050</td> <td>0.6147</td>  <td>-2066.2266</td>   <td>1228.0901</td> \n",
       "</tr>\n",
       "<tr>\n",
       "  <th>CREATININE</th>         <td>51203.1684</td>  <td>32319.1445</td>  <td>1.5843</td>  <td>0.1164</td>  <td>-12949.8265</td> <td>115356.1632</td>\n",
       "</tr>\n",
       "<tr>\n",
       "  <th>AMBULANCE</th>         <td>-138184.1753</td> <td>98363.8839</td>  <td>-1.4048</td> <td>0.1633</td> <td>-333434.9416</td> <td>57066.5911</td> \n",
       "</tr>\n",
       "<tr>\n",
       "  <th>TRANSFERRED</th>        <td>-40056.1132</td> <td>50723.7588</td>  <td>-0.7897</td> <td>0.4317</td> <td>-140741.9785</td> <td>60629.7522</td> \n",
       "</tr>\n",
       "<tr>\n",
       "  <th>ALERT</th>              <td>36212.0584</td>  <td>78769.9876</td>  <td>0.4597</td>  <td>0.6468</td> <td>-120145.1313</td> <td>192569.2480</td>\n",
       "</tr>\n",
       "<tr>\n",
       "  <th>ELECTIVE</th>          <td>-139533.2101</td> <td>96000.5529</td>  <td>-1.4535</td> <td>0.1494</td> <td>-330092.8015</td> <td>51026.3814</td> \n",
       "</tr>\n",
       "</table>\n",
       "<table class=\"simpletable\">\n",
       "<tr>\n",
       "     <td>Omnibus:</td>    <td>34.356</td>  <td>Durbin-Watson:</td>         <td>2.105</td>      \n",
       "</tr>\n",
       "<tr>\n",
       "  <td>Prob(Omnibus):</td>  <td>0.000</td> <td>Jarque-Bera (JB):</td>      <td>72.071</td>      \n",
       "</tr>\n",
       "<tr>\n",
       "       <td>Skew:</td>      <td>1.105</td>     <td>Prob(JB):</td>           <td>0.000</td>      \n",
       "</tr>\n",
       "<tr>\n",
       "     <td>Kurtosis:</td>    <td>5.902</td>  <td>Condition No.:</td>   <td>10156155210233772</td>\n",
       "</tr>\n",
       "</table>"
      ],
      "text/plain": [
       "<class 'statsmodels.iolib.summary2.Summary'>\n",
       "\"\"\"\n",
       "                         Results: Ordinary least squares\n",
       "==================================================================================\n",
       "Model:                 OLS                       Adj. R-squared:        0.295     \n",
       "Dependent Variable:    TOTAL_COST_TO_HOSPITAL    AIC:                   3344.5276 \n",
       "Date:                  2021-07-21 12:08          BIC:                   3442.0238 \n",
       "No. Observations:      130                       Log-Likelihood:        -1638.3   \n",
       "Df Model:              33                        F-statistic:           2.633     \n",
       "Df Residuals:          96                        Prob (F-statistic):    0.000132  \n",
       "R-squared:             0.475                     Scale:                 7.0013e+09\n",
       "----------------------------------------------------------------------------------\n",
       "                     Coef.       Std.Err.     t    P>|t|     [0.025       0.975]  \n",
       "----------------------------------------------------------------------------------\n",
       "const               36212.0584  78769.9876  0.4597 0.6468 -120145.1313 192569.2480\n",
       "AGE                  1454.0717    791.9261  1.8361 0.0694    -117.8892   3026.0326\n",
       "GENDER               2715.6136  18958.7835  0.1432 0.8864  -34917.2743  40348.5014\n",
       "UNMARRIED           19427.1682  37259.3293  0.5214 0.6033  -54532.0159  93386.3523\n",
       "ACHD                31499.2255  38060.4503  0.8276 0.4099  -44050.1712 107048.6222\n",
       "CAD_DVD             83478.6519  35915.3932  2.3243 0.0222   12187.1599 154770.1440\n",
       "CAD_SVD             89166.5189  70189.6043  1.2704 0.2070  -50158.7443 228491.7822\n",
       "CAD_TVD             68093.5136  37773.0540  1.8027 0.0746   -6885.4060 143072.4332\n",
       "CAD_VSD                 0.0000      0.0000  0.3025 0.7629      -0.0000      0.0000\n",
       "OS_ASD              28634.6760  40616.5251  0.7050 0.4825  -51988.4891 109257.8410\n",
       "other_heart         77392.2647  31245.4860  2.4769 0.0150   15370.4652 139414.0643\n",
       "other_respiratory   49095.3244  57110.9640  0.8596 0.3921  -64269.0433 162459.6920\n",
       "other_general     -185201.2238 113438.2111 -1.6326 0.1058 -410374.2931  39971.8456\n",
       "other_nervous      106288.1934  91043.0219  1.1675 0.2459  -74430.7767 287007.1636\n",
       "other_tertalogy     76109.2786  46312.9256  1.6434 0.1036  -15821.1522 168039.7094\n",
       "PM_VSD              57517.2691  69626.5871  0.8261 0.4108  -80690.4139 195724.9521\n",
       "RHD                 71479.1230  35259.6200  2.0272 0.0454    1489.3305 141468.9156\n",
       "BODY_WEIGHT           847.6254   1065.1499  0.7958 0.4281   -1266.6805   2961.9313\n",
       "BODY_HEIGHT           155.5368    433.6532  0.3587 0.7206    -705.2581   1016.3316\n",
       "HR_PULSE              958.3256    513.2198  1.8673 0.0649     -60.4076   1977.0588\n",
       "BP_HIGH               317.5716    615.8179  0.5157 0.6073    -904.8173   1539.9604\n",
       "BP_LOW              -1326.8068    799.7997 -1.6589 0.1004   -2914.3967    260.7832\n",
       "RR                   1836.4820   2821.7123  0.6508 0.5167   -3764.5726   7437.5367\n",
       "Diabetes1            9828.8399  51648.9753  0.1903 0.8495  -92693.5657 112351.2455\n",
       "Diabetes2           43730.4595  47420.3037  0.9222 0.3587  -50398.0994 137859.0184\n",
       "hypertension1      -21510.5807  32008.2140 -0.6720 0.5032  -85046.3834  42025.2220\n",
       "hypertension2      -79746.8487  35165.1735 -2.2678 0.0256 -149549.1664  -9944.5310\n",
       "hypertension3      -23920.6150  65777.3172 -0.3637 0.7169 -154487.5578 106646.3278\n",
       "other              -22636.4941  30873.7952 -0.7332 0.4652  -83920.4932  38647.5051\n",
       "HB                    233.9789   3202.9022  0.0731 0.9419   -6123.7316   6591.6895\n",
       "UREA                 -419.0682    829.8093 -0.5050 0.6147   -2066.2266   1228.0901\n",
       "CREATININE          51203.1684  32319.1445  1.5843 0.1164  -12949.8265 115356.1632\n",
       "AMBULANCE         -138184.1753  98363.8839 -1.4048 0.1633 -333434.9416  57066.5911\n",
       "TRANSFERRED        -40056.1132  50723.7588 -0.7897 0.4317 -140741.9785  60629.7522\n",
       "ALERT               36212.0584  78769.9876  0.4597 0.6468 -120145.1313 192569.2480\n",
       "ELECTIVE          -139533.2101  96000.5529 -1.4535 0.1494 -330092.8015  51026.3814\n",
       "----------------------------------------------------------------------------------\n",
       "Omnibus:                34.356         Durbin-Watson:            2.105            \n",
       "Prob(Omnibus):          0.000          Jarque-Bera (JB):         72.071           \n",
       "Skew:                   1.105          Prob(JB):                 0.000            \n",
       "Kurtosis:               5.902          Condition No.:            10156155210233772\n",
       "==================================================================================\n",
       "* The condition number is large (1e+16). This might indicate             strong\n",
       "multicollinearity or other numerical problems.\n",
       "\"\"\""
      ]
     },
     "execution_count": 14,
     "metadata": {},
     "output_type": "execute_result"
    }
   ],
   "source": [
    "# Building the model using training dataset\n",
    "# Model Building process will take several iterations\n",
    "model_1 = sm.OLS(train_y, train_X).fit()\n",
    "model_1.summary2()"
   ]
  },
  {
   "cell_type": "markdown",
   "metadata": {},
   "source": [
    "#### <font color='Green'>Extracting Significant Features</font>\n",
    "Look for pvalues < 0.05 in model object"
   ]
  },
  {
   "cell_type": "code",
   "execution_count": 15,
   "metadata": {},
   "outputs": [
    {
     "data": {
      "text/plain": [
       "CAD_DVD          0.022217\n",
       "other_heart      0.015002\n",
       "RHD              0.045412\n",
       "hypertension2    0.025584\n",
       "dtype: float64"
      ]
     },
     "execution_count": 15,
     "metadata": {},
     "output_type": "execute_result"
    }
   ],
   "source": [
    "significant_vars = model_1.pvalues.where(model_1.pvalues < 0.05).dropna()\n",
    "significant_vars "
   ]
  },
  {
   "cell_type": "markdown",
   "metadata": {},
   "source": [
    "#### <font color='Green'>STEP 5: Multi-Collinearity: Measurement and Management</font>"
   ]
  },
  {
   "cell_type": "markdown",
   "metadata": {},
   "source": [
    "#### <font color='Green'>Multi-Collinearity</font>\n",
    "\n",
    "When a dataset has a large number of independent variables (features), it is possible that few of these independent variables\n",
    "  are highly correlated. The existence of high correlation between independent variables is called multicollinearity. \n",
    "  Multicollinearity may destabilize the model and have the following impacts.\n",
    "  1. The standard error (SD) of β is inflated\n",
    "  2. A statististically significant variable may be rendered insignificanct as its std error is inflated.\n",
    "  3. The sign of regression coefficient may be different\n",
    "  4. Adding / Removing regression coefficient may cause a large change in regression coefficient\n",
    "  \n",
    "#### <font color='Green'>Measurement using Variance Inflation Factor (VIF)</font>\n",
    "\n",
    "  VIF measures the variance in a variable that can be explained by other variables.\n",
    "  \n",
    "  VIF = X, means (1 - 1/X) % of variance in the variable can be explained by other variables\n",
    "  VIF = 1, means (1 - 1/1 = 0%)  of variance in the variable can be explained by other variables. \n",
    "  VIF = 1  means that the variable is not correlated with other variables\n",
    "  VIF = 2, means (1 - 1/2 = 50%) of variance in the variable can be explained by other variables\n",
    "  VIF = 3, means (1 - 1/3 = 67%) of variance in the variable can be explained by other variables\n",
    "  VIF = 4, means (1 - 1/2 = 75%) of variance in the variable can be explained by other variables\n",
    "  VIF = 5, means (1 - 1/5 = 80%) of variance in the variable can be explained by other variables\n",
    "  and so on.\n",
    "  \n",
    "  So higher VIF indicates heavy multicollinearity.\n",
    "  \n",
    "#### <font color='Green'>Multicollinearity Management</font>\n",
    "  1. Identify Variables with VIF > 4 [authors differ in opinion, but usually not higher than 10 is permitted]\n",
    "  2. Check correlations of variables with VIF > 4\n",
    "  3. Among a group of variables with VIF > 4, retain only one.\n",
    "  4. Reconstruct the model"
   ]
  },
  {
   "cell_type": "markdown",
   "metadata": {},
   "source": [
    "#### <font color='Green'>Determining VIF</font>"
   ]
  },
  {
   "cell_type": "code",
   "execution_count": 16,
   "metadata": {},
   "outputs": [],
   "source": [
    "def get_vif_factors( X ):\n",
    "    X_matrix = np.asmatrix(X)\n",
    "    vif = [ variance_inflation_factor( X_matrix, i ) for i in range( X_matrix.shape[1] ) ]\n",
    "    vif_factors = pd.DataFrame()\n",
    "    vif_factors['column'] = X.columns\n",
    "    vif_factors['vif'] = vif\n",
    "    return vif_factors"
   ]
  },
  {
   "cell_type": "code",
   "execution_count": 17,
   "metadata": {},
   "outputs": [
    {
     "data": {
      "text/html": [
       "<div>\n",
       "<style scoped>\n",
       "    .dataframe tbody tr th:only-of-type {\n",
       "        vertical-align: middle;\n",
       "    }\n",
       "\n",
       "    .dataframe tbody tr th {\n",
       "        vertical-align: top;\n",
       "    }\n",
       "\n",
       "    .dataframe thead th {\n",
       "        text-align: right;\n",
       "    }\n",
       "</style>\n",
       "<table border=\"1\" class=\"dataframe\">\n",
       "  <thead>\n",
       "    <tr style=\"text-align: right;\">\n",
       "      <th></th>\n",
       "      <th>column</th>\n",
       "      <th>vif</th>\n",
       "    </tr>\n",
       "  </thead>\n",
       "  <tbody>\n",
       "    <tr>\n",
       "      <th>4</th>\n",
       "      <td>BP_HIGH</td>\n",
       "      <td>81.764169</td>\n",
       "    </tr>\n",
       "    <tr>\n",
       "      <th>5</th>\n",
       "      <td>BP_LOW</td>\n",
       "      <td>60.020473</td>\n",
       "    </tr>\n",
       "    <tr>\n",
       "      <th>2</th>\n",
       "      <td>BODY_HEIGHT</td>\n",
       "      <td>43.936685</td>\n",
       "    </tr>\n",
       "    <tr>\n",
       "      <th>6</th>\n",
       "      <td>RR</td>\n",
       "      <td>37.481537</td>\n",
       "    </tr>\n",
       "    <tr>\n",
       "      <th>1</th>\n",
       "      <td>BODY_WEIGHT</td>\n",
       "      <td>28.550010</td>\n",
       "    </tr>\n",
       "    <tr>\n",
       "      <th>3</th>\n",
       "      <td>HR_PULSE</td>\n",
       "      <td>27.053130</td>\n",
       "    </tr>\n",
       "    <tr>\n",
       "      <th>7</th>\n",
       "      <td>HB</td>\n",
       "      <td>20.825533</td>\n",
       "    </tr>\n",
       "    <tr>\n",
       "      <th>9</th>\n",
       "      <td>CREATININE</td>\n",
       "      <td>10.709841</td>\n",
       "    </tr>\n",
       "    <tr>\n",
       "      <th>0</th>\n",
       "      <td>AGE</td>\n",
       "      <td>9.687708</td>\n",
       "    </tr>\n",
       "    <tr>\n",
       "      <th>8</th>\n",
       "      <td>UREA</td>\n",
       "      <td>6.020978</td>\n",
       "    </tr>\n",
       "  </tbody>\n",
       "</table>\n",
       "</div>"
      ],
      "text/plain": [
       "        column        vif\n",
       "4      BP_HIGH  81.764169\n",
       "5       BP_LOW  60.020473\n",
       "2  BODY_HEIGHT  43.936685\n",
       "6           RR  37.481537\n",
       "1  BODY_WEIGHT  28.550010\n",
       "3     HR_PULSE  27.053130\n",
       "7           HB  20.825533\n",
       "9   CREATININE  10.709841\n",
       "0          AGE   9.687708\n",
       "8         UREA   6.020978"
      ]
     },
     "execution_count": 17,
     "metadata": {},
     "output_type": "execute_result"
    }
   ],
   "source": [
    "features_vif = ['AGE', 'BODY_WEIGHT', 'BODY_HEIGHT', 'HR_PULSE', 'BP_HIGH', 'BP_LOW', 'RR',\n",
    "                'HB', 'UREA', 'CREATININE']\n",
    "vif_factors = get_vif_factors( X[features_vif] )\n",
    "vif_factors = vif_factors.sort_values('vif',ascending=False)\n",
    "vif_factors"
   ]
  },
  {
   "cell_type": "markdown",
   "metadata": {},
   "source": [
    "#### <font color='Green'>Extracting attributes with VIF > 10</font>"
   ]
  },
  {
   "cell_type": "code",
   "execution_count": 18,
   "metadata": {},
   "outputs": [
    {
     "name": "stdout",
     "output_type": "stream",
     "text": [
      "4        BP_HIGH\n",
      "5         BP_LOW\n",
      "2    BODY_HEIGHT\n",
      "6             RR\n",
      "1    BODY_WEIGHT\n",
      "3       HR_PULSE\n",
      "7             HB\n",
      "9     CREATININE\n",
      "Name: column, dtype: object\n"
     ]
    }
   ],
   "source": [
    "columns_with_large_vif = vif_factors[vif_factors.vif > 10].column\n",
    "print(columns_with_large_vif)"
   ]
  },
  {
   "cell_type": "markdown",
   "metadata": {},
   "source": [
    "#### <font color='Green'>Plotting correlation map of attributes with VIF > 10</font>"
   ]
  },
  {
   "cell_type": "code",
   "execution_count": 19,
   "metadata": {},
   "outputs": [
    {
     "data": {
      "image/png": "[encoded data removed]",
      "text/plain": [
       "<Figure size 864x720 with 2 Axes>"
      ]
     },
     "metadata": {
      "needs_background": "light"
     },
     "output_type": "display_data"
    }
   ],
   "source": [
    "plt.figure( figsize = (12,10) )\n",
    "sn.heatmap( X[columns_with_large_vif].corr(), annot = True );\n",
    "plt.title( \"Figure - Heatmap depicting correlation between features\");"
   ]
  },
  {
   "cell_type": "markdown",
   "metadata": {},
   "source": [
    "#### <font color='Green'>Iterative process for removing Variables with VIF > 10</font>\n",
    "\n",
    "Start with variables [BP_HIGH] in descending order and keep removing attributes one by one. <br>\n",
    "Keep repeating the process unless there is no variable with VIF > 10.<br>\n",
    "After several iterations - found that has to be removed ['BP_HIGH','BODY_HEIGHT','RR','BP_LOW','BODY_WEIGHT','HR_PULSE'] <br>\n",
    "The remaining variables captured in X_N for regression"
   ]
  },
  {
   "cell_type": "markdown",
   "metadata": {},
   "source": [
    "#### <font color='Green'>Began Process with Columns</font>\n"
   ]
  },
  {
   "cell_type": "code",
   "execution_count": 20,
   "metadata": {},
   "outputs": [],
   "source": [
    "#columns_to_be_removed = ['BP_HIGH','BP_LOW','BODY_HEIGHT','RR','BODY_WEIGHT','HR_PULSE','HB','CREATININE']"
   ]
  },
  {
   "cell_type": "markdown",
   "metadata": {},
   "source": [
    "#### <font color='Green'>Ended Process with Columns</font>\n"
   ]
  },
  {
   "cell_type": "code",
   "execution_count": 21,
   "metadata": {},
   "outputs": [],
   "source": [
    "columns_to_be_removed = ['BP_HIGH','BODY_HEIGHT','RR','BP_LOW','BODY_WEIGHT','HB']"
   ]
  },
  {
   "cell_type": "code",
   "execution_count": 22,
   "metadata": {},
   "outputs": [
    {
     "data": {
      "text/html": [
       "<div>\n",
       "<style scoped>\n",
       "    .dataframe tbody tr th:only-of-type {\n",
       "        vertical-align: middle;\n",
       "    }\n",
       "\n",
       "    .dataframe tbody tr th {\n",
       "        vertical-align: top;\n",
       "    }\n",
       "\n",
       "    .dataframe thead th {\n",
       "        text-align: right;\n",
       "    }\n",
       "</style>\n",
       "<table border=\"1\" class=\"dataframe\">\n",
       "  <thead>\n",
       "    <tr style=\"text-align: right;\">\n",
       "      <th></th>\n",
       "      <th>column</th>\n",
       "      <th>vif</th>\n",
       "    </tr>\n",
       "  </thead>\n",
       "  <tbody>\n",
       "    <tr>\n",
       "      <th>2</th>\n",
       "      <td>CREATININE</td>\n",
       "      <td>8.521651</td>\n",
       "    </tr>\n",
       "    <tr>\n",
       "      <th>0</th>\n",
       "      <td>UREA</td>\n",
       "      <td>5.669107</td>\n",
       "    </tr>\n",
       "    <tr>\n",
       "      <th>3</th>\n",
       "      <td>AGE</td>\n",
       "      <td>4.299010</td>\n",
       "    </tr>\n",
       "    <tr>\n",
       "      <th>1</th>\n",
       "      <td>HR_PULSE</td>\n",
       "      <td>3.493714</td>\n",
       "    </tr>\n",
       "  </tbody>\n",
       "</table>\n",
       "</div>"
      ],
      "text/plain": [
       "       column       vif\n",
       "2  CREATININE  8.521651\n",
       "0        UREA  5.669107\n",
       "3         AGE  4.299010\n",
       "1    HR_PULSE  3.493714"
      ]
     },
     "execution_count": 22,
     "metadata": {},
     "output_type": "execute_result"
    }
   ],
   "source": [
    "new_features_vif = list( set(features_vif) - set(columns_to_be_removed) )\n",
    "vif_factors = get_vif_factors( X[new_features_vif] )\n",
    "vif_factors = vif_factors.sort_values('vif',ascending=False)\n",
    "vif_factors"
   ]
  },
  {
   "cell_type": "markdown",
   "metadata": {},
   "source": [
    "<b> We shall use \"new_features_vif\" attributes along with categorical variables for re-building regression model. </b>"
   ]
  },
  {
   "cell_type": "code",
   "execution_count": 23,
   "metadata": {},
   "outputs": [
    {
     "name": "stdout",
     "output_type": "stream",
     "text": [
      "['CAD_DVD', 'AMBULANCE', 'TRANSFERRED', 'Diabetes2', 'CREATININE', 'other_general', 'PM_VSD', 'OS_ASD', 'ALERT', 'other', 'ELECTIVE', 'GENDER', 'hypertension1', 'CAD_TVD', 'other_respiratory', 'other_tertalogy', 'AGE', 'hypertension3', 'other_nervous', 'ACHD', 'RHD', 'Diabetes1', 'hypertension2', 'UREA', 'CAD_SVD', 'other_heart', 'UNMARRIED', 'HR_PULSE', 'CAD_VSD']\n"
     ]
    }
   ],
   "source": [
    "X_new_features = list( set(X_features) - set(columns_to_be_removed) )\n",
    "print(X_new_features)"
   ]
  },
  {
   "cell_type": "markdown",
   "metadata": {},
   "source": [
    "#### <font color='Green'>Regenerate Train and Test</font>"
   ]
  },
  {
   "cell_type": "code",
   "execution_count": 24,
   "metadata": {},
   "outputs": [
    {
     "name": "stdout",
     "output_type": "stream",
     "text": [
      "Rows Train X: 130 Columns Train X: 30\n",
      "Rows Test X: 56 Columns Test X: 30\n",
      "Length Train y: 130\n",
      "Length Test y: 56\n"
     ]
    }
   ],
   "source": [
    "#Re-add 'const' to X_new_features\n",
    "X_new_features.insert(0, 'const')\n",
    "train_X = train_X[X_new_features]\n",
    "test_X  = test_X[X_new_features]\n",
    "\n",
    "print(\"Rows Train X:\", len(train_X.index), \"Columns Train X:\", len(train_X.columns))\n",
    "print(\"Rows Test X:\", len(test_X.index), \"Columns Test X:\", len(test_X.columns))\n",
    "print(\"Length Train y:\", len(train_y))\n",
    "print(\"Length Test y:\", len(test_y))"
   ]
  },
  {
   "cell_type": "markdown",
   "metadata": {},
   "source": [
    "#### <font color='Green'>Regenerate Model</font>"
   ]
  },
  {
   "cell_type": "code",
   "execution_count": 25,
   "metadata": {},
   "outputs": [
    {
     "data": {
      "text/html": [
       "<table class=\"simpletable\">\n",
       "<tr>\n",
       "        <td>Model:</td>                  <td>OLS</td>            <td>Adj. R-squared:</td>      <td>0.306</td>  \n",
       "</tr>\n",
       "<tr>\n",
       "  <td>Dependent Variable:</td> <td>TOTAL_COST_TO_HOSPITAL</td>        <td>AIC:</td>          <td>3338.2859</td>\n",
       "</tr>\n",
       "<tr>\n",
       "         <td>Date:</td>           <td>2021-07-21 12:08</td>           <td>BIC:</td>          <td>3418.5768</td>\n",
       "</tr>\n",
       "<tr>\n",
       "   <td>No. Observations:</td>            <td>130</td>            <td>Log-Likelihood:</td>     <td>-1641.1</td> \n",
       "</tr>\n",
       "<tr>\n",
       "       <td>Df Model:</td>                <td>27</td>              <td>F-statistic:</td>        <td>3.108</td>  \n",
       "</tr>\n",
       "<tr>\n",
       "     <td>Df Residuals:</td>              <td>102</td>          <td>Prob (F-statistic):</td>  <td>2.02e-05</td> \n",
       "</tr>\n",
       "<tr>\n",
       "      <td>R-squared:</td>               <td>0.451</td>               <td>Scale:</td>        <td>6.8879e+09</td>\n",
       "</tr>\n",
       "</table>\n",
       "<table class=\"simpletable\">\n",
       "<tr>\n",
       "          <td></td>              <th>Coef.</th>     <th>Std.Err.</th>      <th>t</th>     <th>P>|t|</th>    <th>[0.025</th>      <th>0.975]</th>   \n",
       "</tr>\n",
       "<tr>\n",
       "  <th>const</th>              <td>52697.4595</td>  <td>57390.9561</td>  <td>0.9182</td>  <td>0.3607</td>  <td>-61137.2299</td> <td>166532.1488</td>\n",
       "</tr>\n",
       "<tr>\n",
       "  <th>CAD_DVD</th>            <td>80848.8776</td>  <td>33841.8586</td>  <td>2.3890</td>  <td>0.0187</td>  <td>13723.7116</td>  <td>147974.0436</td>\n",
       "</tr>\n",
       "<tr>\n",
       "  <th>AMBULANCE</th>         <td>-107298.7131</td> <td>92542.4320</td>  <td>-1.1595</td> <td>0.2490</td> <td>-290856.1882</td> <td>76258.7621</td> \n",
       "</tr>\n",
       "<tr>\n",
       "  <th>TRANSFERRED</th>        <td>-36498.8988</td> <td>49842.5526</td>  <td>-0.7323</td> <td>0.4657</td> <td>-135361.3655</td> <td>62363.5679</td> \n",
       "</tr>\n",
       "<tr>\n",
       "  <th>Diabetes2</th>          <td>53873.1499</td>  <td>46395.3400</td>  <td>1.1612</td>  <td>0.2483</td>  <td>-38151.7870</td> <td>145898.0868</td>\n",
       "</tr>\n",
       "<tr>\n",
       "  <th>CREATININE</th>         <td>57093.4233</td>  <td>30423.4670</td>  <td>1.8766</td>  <td>0.0634</td>  <td>-3251.3792</td>  <td>117438.2258</td>\n",
       "</tr>\n",
       "<tr>\n",
       "  <th>other_general</th>     <td>-160515.1378</td> <td>110952.4705</td> <td>-1.4467</td> <td>0.1510</td> <td>-380588.8370</td> <td>59558.5613</td> \n",
       "</tr>\n",
       "<tr>\n",
       "  <th>PM_VSD</th>             <td>32980.3012</td>  <td>65325.7254</td>  <td>0.5049</td>  <td>0.6147</td>  <td>-96592.9654</td> <td>162553.5679</td>\n",
       "</tr>\n",
       "<tr>\n",
       "  <th>OS_ASD</th>             <td>21350.1694</td>  <td>39179.0742</td>  <td>0.5449</td>  <td>0.5870</td>  <td>-56361.3384</td> <td>99061.6772</td> \n",
       "</tr>\n",
       "<tr>\n",
       "  <th>ALERT</th>              <td>52697.4595</td>  <td>57390.9561</td>  <td>0.9182</td>  <td>0.3607</td>  <td>-61137.2299</td> <td>166532.1488</td>\n",
       "</tr>\n",
       "<tr>\n",
       "  <th>other</th>              <td>-26713.0053</td> <td>29430.9665</td>  <td>-0.9076</td> <td>0.3662</td>  <td>-85089.1879</td> <td>31663.1772</td> \n",
       "</tr>\n",
       "<tr>\n",
       "  <th>ELECTIVE</th>          <td>-107240.1770</td> <td>90399.7650</td>  <td>-1.1863</td> <td>0.2383</td> <td>-286547.6823</td> <td>72067.3283</td> \n",
       "</tr>\n",
       "<tr>\n",
       "  <th>GENDER</th>              <td>949.0740</td>   <td>18471.0354</td>  <td>0.0514</td>  <td>0.9591</td>  <td>-35688.1372</td> <td>37586.2852</td> \n",
       "</tr>\n",
       "<tr>\n",
       "  <th>hypertension1</th>      <td>-15808.4499</td> <td>30365.3737</td>  <td>-0.5206</td> <td>0.6038</td>  <td>-76038.0247</td> <td>44421.1249</td> \n",
       "</tr>\n",
       "<tr>\n",
       "  <th>CAD_TVD</th>            <td>65920.4878</td>  <td>36074.2868</td>  <td>1.8274</td>  <td>0.0706</td>  <td>-5632.6890</td>  <td>137473.6647</td>\n",
       "</tr>\n",
       "<tr>\n",
       "  <th>other_respiratory</th>  <td>52274.8554</td>  <td>55399.6259</td>  <td>0.9436</td>  <td>0.3476</td>  <td>-57610.0400</td> <td>162159.7507</td>\n",
       "</tr>\n",
       "<tr>\n",
       "  <th>other_tertalogy</th>    <td>62860.8032</td>  <td>40931.1462</td>  <td>1.5358</td>  <td>0.1277</td>  <td>-18325.9313</td> <td>144047.5377</td>\n",
       "</tr>\n",
       "<tr>\n",
       "  <th>AGE</th>                 <td>1446.2693</td>   <td>708.3382</td>   <td>2.0418</td>  <td>0.0438</td>    <td>41.2837</td>    <td>2851.2548</td> \n",
       "</tr>\n",
       "<tr>\n",
       "  <th>hypertension3</th>      <td>-25413.3105</td> <td>62778.3095</td>  <td>-0.4048</td> <td>0.6865</td> <td>-149933.7898</td> <td>99107.1687</td> \n",
       "</tr>\n",
       "<tr>\n",
       "  <th>other_nervous</th>      <td>97914.2448</td>  <td>88076.3903</td>  <td>1.1117</td>  <td>0.2689</td>  <td>-76784.8579</td> <td>272613.3474</td>\n",
       "</tr>\n",
       "<tr>\n",
       "  <th>ACHD</th>               <td>25397.1977</td>  <td>37077.0085</td>  <td>0.6850</td>  <td>0.4949</td>  <td>-48144.8728</td> <td>98939.2681</td> \n",
       "</tr>\n",
       "<tr>\n",
       "  <th>RHD</th>                <td>76741.5145</td>  <td>33932.9279</td>  <td>2.2616</td>  <td>0.0258</td>   <td>9435.7129</td>  <td>144047.3162</td>\n",
       "</tr>\n",
       "<tr>\n",
       "  <th>Diabetes1</th>          <td>12009.2387</td>  <td>50711.4779</td>  <td>0.2368</td>  <td>0.8133</td>  <td>-88576.7373</td> <td>112595.2148</td>\n",
       "</tr>\n",
       "<tr>\n",
       "  <th>hypertension2</th>      <td>-75112.4590</td> <td>34176.1391</td>  <td>-2.1978</td> <td>0.0302</td> <td>-142900.6689</td> <td>-7324.2490</td> \n",
       "</tr>\n",
       "<tr>\n",
       "  <th>UREA</th>                <td>-453.2343</td>   <td>806.9166</td>   <td>-0.5617</td> <td>0.5756</td>  <td>-2053.7496</td>   <td>1147.2810</td> \n",
       "</tr>\n",
       "<tr>\n",
       "  <th>CAD_SVD</th>            <td>96139.5713</td>  <td>68352.0734</td>  <td>1.4065</td>  <td>0.1626</td>  <td>-39436.4421</td> <td>231715.5847</td>\n",
       "</tr>\n",
       "<tr>\n",
       "  <th>other_heart</th>        <td>65817.2513</td>  <td>29740.8805</td>  <td>2.2130</td>  <td>0.0291</td>   <td>6826.3559</td>  <td>124808.1466</td>\n",
       "</tr>\n",
       "<tr>\n",
       "  <th>UNMARRIED</th>           <td>7341.5691</td>  <td>34746.6735</td>  <td>0.2113</td>  <td>0.8331</td>  <td>-61578.2930</td> <td>76261.4313</td> \n",
       "</tr>\n",
       "<tr>\n",
       "  <th>HR_PULSE</th>            <td>782.6002</td>    <td>461.7690</td>   <td>1.6948</td>  <td>0.0932</td>   <td>-133.3164</td>   <td>1698.5168</td> \n",
       "</tr>\n",
       "<tr>\n",
       "  <th>CAD_VSD</th>              <td>0.0000</td>      <td>0.0000</td>      <td>nan</td>     <td>nan</td>     <td>0.0000</td>      <td>0.0000</td>   \n",
       "</tr>\n",
       "</table>\n",
       "<table class=\"simpletable\">\n",
       "<tr>\n",
       "     <td>Omnibus:</td>    <td>37.286</td>  <td>Durbin-Watson:</td>         <td>2.153</td>      \n",
       "</tr>\n",
       "<tr>\n",
       "  <td>Prob(Omnibus):</td>  <td>0.000</td> <td>Jarque-Bera (JB):</td>      <td>84.916</td>      \n",
       "</tr>\n",
       "<tr>\n",
       "       <td>Skew:</td>      <td>1.162</td>     <td>Prob(JB):</td>           <td>0.000</td>      \n",
       "</tr>\n",
       "<tr>\n",
       "     <td>Kurtosis:</td>    <td>6.206</td>  <td>Condition No.:</td>   <td>53818120930839200</td>\n",
       "</tr>\n",
       "</table>"
      ],
      "text/plain": [
       "<class 'statsmodels.iolib.summary2.Summary'>\n",
       "\"\"\"\n",
       "                         Results: Ordinary least squares\n",
       "==================================================================================\n",
       "Model:                 OLS                       Adj. R-squared:        0.306     \n",
       "Dependent Variable:    TOTAL_COST_TO_HOSPITAL    AIC:                   3338.2859 \n",
       "Date:                  2021-07-21 12:08          BIC:                   3418.5768 \n",
       "No. Observations:      130                       Log-Likelihood:        -1641.1   \n",
       "Df Model:              27                        F-statistic:           3.108     \n",
       "Df Residuals:          102                       Prob (F-statistic):    2.02e-05  \n",
       "R-squared:             0.451                     Scale:                 6.8879e+09\n",
       "----------------------------------------------------------------------------------\n",
       "                     Coef.       Std.Err.     t    P>|t|     [0.025       0.975]  \n",
       "----------------------------------------------------------------------------------\n",
       "const               52697.4595  57390.9561  0.9182 0.3607  -61137.2299 166532.1488\n",
       "CAD_DVD             80848.8776  33841.8586  2.3890 0.0187   13723.7116 147974.0436\n",
       "AMBULANCE         -107298.7131  92542.4320 -1.1595 0.2490 -290856.1882  76258.7621\n",
       "TRANSFERRED        -36498.8988  49842.5526 -0.7323 0.4657 -135361.3655  62363.5679\n",
       "Diabetes2           53873.1499  46395.3400  1.1612 0.2483  -38151.7870 145898.0868\n",
       "CREATININE          57093.4233  30423.4670  1.8766 0.0634   -3251.3792 117438.2258\n",
       "other_general     -160515.1378 110952.4705 -1.4467 0.1510 -380588.8370  59558.5613\n",
       "PM_VSD              32980.3012  65325.7254  0.5049 0.6147  -96592.9654 162553.5679\n",
       "OS_ASD              21350.1694  39179.0742  0.5449 0.5870  -56361.3384  99061.6772\n",
       "ALERT               52697.4595  57390.9561  0.9182 0.3607  -61137.2299 166532.1488\n",
       "other              -26713.0053  29430.9665 -0.9076 0.3662  -85089.1879  31663.1772\n",
       "ELECTIVE          -107240.1770  90399.7650 -1.1863 0.2383 -286547.6823  72067.3283\n",
       "GENDER                949.0740  18471.0354  0.0514 0.9591  -35688.1372  37586.2852\n",
       "hypertension1      -15808.4499  30365.3737 -0.5206 0.6038  -76038.0247  44421.1249\n",
       "CAD_TVD             65920.4878  36074.2868  1.8274 0.0706   -5632.6890 137473.6647\n",
       "other_respiratory   52274.8554  55399.6259  0.9436 0.3476  -57610.0400 162159.7507\n",
       "other_tertalogy     62860.8032  40931.1462  1.5358 0.1277  -18325.9313 144047.5377\n",
       "AGE                  1446.2693    708.3382  2.0418 0.0438      41.2837   2851.2548\n",
       "hypertension3      -25413.3105  62778.3095 -0.4048 0.6865 -149933.7898  99107.1687\n",
       "other_nervous       97914.2448  88076.3903  1.1117 0.2689  -76784.8579 272613.3474\n",
       "ACHD                25397.1977  37077.0085  0.6850 0.4949  -48144.8728  98939.2681\n",
       "RHD                 76741.5145  33932.9279  2.2616 0.0258    9435.7129 144047.3162\n",
       "Diabetes1           12009.2387  50711.4779  0.2368 0.8133  -88576.7373 112595.2148\n",
       "hypertension2      -75112.4590  34176.1391 -2.1978 0.0302 -142900.6689  -7324.2490\n",
       "UREA                 -453.2343    806.9166 -0.5617 0.5756   -2053.7496   1147.2810\n",
       "CAD_SVD             96139.5713  68352.0734  1.4065 0.1626  -39436.4421 231715.5847\n",
       "other_heart         65817.2513  29740.8805  2.2130 0.0291    6826.3559 124808.1466\n",
       "UNMARRIED            7341.5691  34746.6735  0.2113 0.8331  -61578.2930  76261.4313\n",
       "HR_PULSE              782.6002    461.7690  1.6948 0.0932    -133.3164   1698.5168\n",
       "CAD_VSD                 0.0000      0.0000     nan    nan       0.0000      0.0000\n",
       "----------------------------------------------------------------------------------\n",
       "Omnibus:                37.286         Durbin-Watson:            2.153            \n",
       "Prob(Omnibus):          0.000          Jarque-Bera (JB):         84.916           \n",
       "Skew:                   1.162          Prob(JB):                 0.000            \n",
       "Kurtosis:               6.206          Condition No.:            53818120930839200\n",
       "==================================================================================\n",
       "* The condition number is large (5e+16). This might indicate             strong\n",
       "multicollinearity or other numerical problems.\n",
       "\"\"\""
      ]
     },
     "execution_count": 25,
     "metadata": {},
     "output_type": "execute_result"
    }
   ],
   "source": [
    "# Building the model using training dataset\n",
    "# Model Building process will take several iterations\n",
    "model_2 = sm.OLS(train_y, train_X).fit()\n",
    "model_2.summary2()"
   ]
  },
  {
   "cell_type": "markdown",
   "metadata": {},
   "source": [
    "#### <font color='Green'>Extracting Significant Features</font>\n",
    "Look for pvalues < 0.05 in model object"
   ]
  },
  {
   "cell_type": "code",
   "execution_count": 26,
   "metadata": {},
   "outputs": [
    {
     "data": {
      "text/plain": [
       "['CAD_DVD', 'AGE', 'RHD', 'hypertension2', 'other_heart']"
      ]
     },
     "execution_count": 26,
     "metadata": {},
     "output_type": "execute_result"
    }
   ],
   "source": [
    "significant_vars = model_2.pvalues.where(model_2.pvalues < 0.05).dropna()\n",
    "significant_vars = significant_vars.index.tolist()\n",
    "significant_vars"
   ]
  },
  {
   "cell_type": "code",
   "execution_count": 27,
   "metadata": {},
   "outputs": [
    {
     "name": "stdout",
     "output_type": "stream",
     "text": [
      "Rows Train X: 130 Columns Train X: 4\n",
      "Rows Test X: 56 Columns Test X: 4\n",
      "Length Train y: 130\n",
      "Length Test y: 56\n"
     ]
    }
   ],
   "source": [
    "significant_vars = ['const', 'hypertension2', 'CAD_DVD', 'AGE']\n",
    "# Other_heart and RHD turned out to be insignificant later. So removed them\n",
    "train_X = train_X[significant_vars]\n",
    "test_X  = test_X[significant_vars]\n",
    "\n",
    "print(\"Rows Train X:\", len(train_X.index), \"Columns Train X:\", len(train_X.columns))\n",
    "print(\"Rows Test X:\", len(test_X.index), \"Columns Test X:\", len(test_X.columns))\n",
    "print(\"Length Train y:\", len(train_y))\n",
    "print(\"Length Test y:\", len(test_y))"
   ]
  },
  {
   "cell_type": "markdown",
   "metadata": {},
   "source": [
    "#### <font color='Green'>Regenerate Model</font>"
   ]
  },
  {
   "cell_type": "code",
   "execution_count": 28,
   "metadata": {},
   "outputs": [
    {
     "data": {
      "text/html": [
       "<table class=\"simpletable\">\n",
       "<tr>\n",
       "        <td>Model:</td>                  <td>OLS</td>            <td>Adj. R-squared:</td>      <td>0.239</td>  \n",
       "</tr>\n",
       "<tr>\n",
       "  <td>Dependent Variable:</td> <td>TOTAL_COST_TO_HOSPITAL</td>        <td>AIC:</td>          <td>3329.6711</td>\n",
       "</tr>\n",
       "<tr>\n",
       "         <td>Date:</td>           <td>2021-07-21 12:08</td>           <td>BIC:</td>          <td>3341.1412</td>\n",
       "</tr>\n",
       "<tr>\n",
       "   <td>No. Observations:</td>            <td>130</td>            <td>Log-Likelihood:</td>     <td>-1660.8</td> \n",
       "</tr>\n",
       "<tr>\n",
       "       <td>Df Model:</td>                 <td>3</td>              <td>F-statistic:</td>        <td>14.54</td>  \n",
       "</tr>\n",
       "<tr>\n",
       "     <td>Df Residuals:</td>              <td>126</td>          <td>Prob (F-statistic):</td>  <td>3.43e-08</td> \n",
       "</tr>\n",
       "<tr>\n",
       "      <td>R-squared:</td>               <td>0.257</td>               <td>Scale:</td>        <td>7.5491e+09</td>\n",
       "</tr>\n",
       "</table>\n",
       "<table class=\"simpletable\">\n",
       "<tr>\n",
       "        <td></td>           <th>Coef.</th>     <th>Std.Err.</th>     <th>t</th>     <th>P>|t|</th>    <th>[0.025</th>      <th>0.975]</th>   \n",
       "</tr>\n",
       "<tr>\n",
       "  <th>const</th>         <td>142218.9547</td> <td>12227.5373</td> <td>11.6310</td> <td>0.0000</td>  <td>118021.0178</td> <td>166416.8916</td>\n",
       "</tr>\n",
       "<tr>\n",
       "  <th>hypertension2</th> <td>-71036.9121</td> <td>30584.2925</td> <td>-2.3227</td> <td>0.0218</td> <td>-131562.3278</td> <td>-10511.4964</td>\n",
       "</tr>\n",
       "<tr>\n",
       "  <th>CAD_DVD</th>       <td>55104.4507</td>  <td>26465.4855</td> <td>2.0821</td>  <td>0.0394</td>   <td>2730.0328</td>  <td>107478.8685</td>\n",
       "</tr>\n",
       "<tr>\n",
       "  <th>AGE</th>            <td>1503.6297</td>   <td>313.8505</td>  <td>4.7909</td>  <td>0.0000</td>   <td>882.5288</td>    <td>2124.7306</td> \n",
       "</tr>\n",
       "</table>\n",
       "<table class=\"simpletable\">\n",
       "<tr>\n",
       "     <td>Omnibus:</td>    <td>18.601</td>  <td>Durbin-Watson:</td>    <td>2.223</td>\n",
       "</tr>\n",
       "<tr>\n",
       "  <td>Prob(Omnibus):</td>  <td>0.000</td> <td>Jarque-Bera (JB):</td> <td>24.017</td>\n",
       "</tr>\n",
       "<tr>\n",
       "       <td>Skew:</td>      <td>0.805</td>     <td>Prob(JB):</td>      <td>0.000</td>\n",
       "</tr>\n",
       "<tr>\n",
       "     <td>Kurtosis:</td>    <td>4.357</td>  <td>Condition No.:</td>     <td>175</td> \n",
       "</tr>\n",
       "</table>"
      ],
      "text/plain": [
       "<class 'statsmodels.iolib.summary2.Summary'>\n",
       "\"\"\"\n",
       "                      Results: Ordinary least squares\n",
       "============================================================================\n",
       "Model:               OLS                     Adj. R-squared:      0.239     \n",
       "Dependent Variable:  TOTAL_COST_TO_HOSPITAL  AIC:                 3329.6711 \n",
       "Date:                2021-07-21 12:08        BIC:                 3341.1412 \n",
       "No. Observations:    130                     Log-Likelihood:      -1660.8   \n",
       "Df Model:            3                       F-statistic:         14.54     \n",
       "Df Residuals:        126                     Prob (F-statistic):  3.43e-08  \n",
       "R-squared:           0.257                   Scale:               7.5491e+09\n",
       "----------------------------------------------------------------------------\n",
       "                 Coef.     Std.Err.     t    P>|t|     [0.025       0.975]  \n",
       "----------------------------------------------------------------------------\n",
       "const         142218.9547 12227.5373 11.6310 0.0000  118021.0178 166416.8916\n",
       "hypertension2 -71036.9121 30584.2925 -2.3227 0.0218 -131562.3278 -10511.4964\n",
       "CAD_DVD        55104.4507 26465.4855  2.0821 0.0394    2730.0328 107478.8685\n",
       "AGE             1503.6297   313.8505  4.7909 0.0000     882.5288   2124.7306\n",
       "----------------------------------------------------------------------------\n",
       "Omnibus:                 18.601           Durbin-Watson:              2.223 \n",
       "Prob(Omnibus):           0.000            Jarque-Bera (JB):           24.017\n",
       "Skew:                    0.805            Prob(JB):                   0.000 \n",
       "Kurtosis:                4.357            Condition No.:              175   \n",
       "============================================================================\n",
       "\n",
       "\"\"\""
      ]
     },
     "execution_count": 28,
     "metadata": {},
     "output_type": "execute_result"
    }
   ],
   "source": [
    "model_3 = sm.OLS(train_y, train_X).fit()\n",
    "model_3.summary2()"
   ]
  },
  {
   "cell_type": "markdown",
   "metadata": {},
   "source": [
    "### <font color='Green'>STEP 5: Model Diagnostics </font>"
   ]
  },
  {
   "cell_type": "markdown",
   "metadata": {},
   "source": [
    "#### <font color='Green'>5.1: Perform Model Diagnostics: Linearity of Relationship</font>"
   ]
  },
  {
   "cell_type": "markdown",
   "metadata": {},
   "source": [
    "We can check this by plotting scatterplot of X and Y. Scatterplot shows that SOLD PRICE is linearly related with SIXERS and ODI-WKTS"
   ]
  },
  {
   "cell_type": "code",
   "execution_count": 29,
   "metadata": {},
   "outputs": [
    {
     "data": {
      "image/png": "[encoded data removed]",
      "text/plain": [
       "<Figure size 360x360 with 6 Axes>"
      ]
     },
     "metadata": {
      "needs_background": "light"
     },
     "output_type": "display_data"
    }
   ],
   "source": [
    "columns = ['AGE','TOTAL_COST_TO_HOSPITAL']\n",
    "df = data_df_cleaned[columns]\n",
    "sn.pairplot(df)  \n",
    "plt.show()"
   ]
  },
  {
   "cell_type": "markdown",
   "metadata": {},
   "source": [
    "#### <font color='Green'>5.2: Perform Model Diagnostics: Independence of Residuals</font>"
   ]
  },
  {
   "cell_type": "markdown",
   "metadata": {},
   "source": [
    "How do we check this?\n",
    "    This is hard to check. If the data is naturally chronological, then the plot of residuals over time may be observed for any specific pattern. Usually, in time-series data, Durbin-Watson Test may be used for assess the independence of time-series data. <br>\n",
    "    \n",
    "<b> Durbin Watson Test: </b> <br>\n",
    "The Durbin Watson Test is a measure of autocorrelation (also called serial correlation) in residuals from regression analysis. Autocorrelation is the similarity of a time series over successive time intervals. The Durbin Watson test reports a test statistic, with a value from 0 to 4, where: <br>\n",
    "\n",
    "    (A). 2 is no autocorrelation <br>\n",
    "    (B). 0 to <2 is positive autocorrelation (common in time series data) <br>\n",
    "    (C). >2 to 4 is negative autocorrelation (less common in time series data) <br>\n",
    "    Usually value of 1.5 to 2.5 is considered acceptable. <br>\n",
    "    \n",
    "In our case, the data is not time series, so we assume independence of residuals. Further, the Durbin Watson test statistic is in acceptable range."
   ]
  },
  {
   "cell_type": "markdown",
   "metadata": {},
   "source": [
    "#### <font color='Green'>5.3: Perform Model Diagnostics: Normality of Residuals</font>"
   ]
  },
  {
   "cell_type": "code",
   "execution_count": 30,
   "metadata": {},
   "outputs": [],
   "source": [
    "# Standardization function\n",
    "def get_standardized_values( vals ):\n",
    "    return (vals - vals.mean())/vals.std()"
   ]
  },
  {
   "cell_type": "code",
   "execution_count": 31,
   "metadata": {},
   "outputs": [
    {
     "data": {
      "image/png": "[encoded data removed]",
      "text/plain": [
       "<Figure size 432x288 with 1 Axes>"
      ]
     },
     "metadata": {
      "needs_background": "light"
     },
     "output_type": "display_data"
    },
    {
     "data": {
      "image/png": "[encoded data removed]",
      "text/plain": [
       "<Figure size 432x288 with 1 Axes>"
      ]
     },
     "metadata": {
      "needs_background": "light"
     },
     "output_type": "display_data"
    }
   ],
   "source": [
    "# Gathering residuals and standardizing them\n",
    "resid = model_3.resid\n",
    "resid_std =get_standardized_values(resid)\n",
    "\n",
    "# QQ plot\n",
    "sm.qqplot(resid_std) \n",
    "plt.title( \"Q-Q Plot of Standardized Regression Residuals\" );\n",
    "plt.show()\n",
    "\n",
    "# Density Plot\n",
    "sn.distplot(resid_std, color = 'darkblue',hist_kws={'edgecolor':'black'});"
   ]
  },
  {
   "cell_type": "markdown",
   "metadata": {},
   "source": [
    "<b> Both QQ Plot and Distribution Plot show that residuals are approximately normally distributed </b> <br>\n",
    "<b> We are working with a small sample size </b>"
   ]
  },
  {
   "cell_type": "markdown",
   "metadata": {},
   "source": [
    "#### <font color='Green'>STEP 5.4: Perform Model Diagnostics: Homoscedasticity of residuals  </font>\n",
    "\n",
    "The homoscedasticity can be observed by a drawing a residual plot, which is a plot between standardised residual value and standardized predicted value. The plot must be random and any pattern (especially fan-shape) indicates heteroscedasticity"
   ]
  },
  {
   "cell_type": "code",
   "execution_count": 32,
   "metadata": {},
   "outputs": [
    {
     "data": {
      "image/png": "[encoded data removed]",
      "text/plain": [
       "<Figure size 432x288 with 1 Axes>"
      ]
     },
     "metadata": {
      "needs_background": "light"
     },
     "output_type": "display_data"
    }
   ],
   "source": [
    "fittedvalues_std = get_standardized_values( model_3.fittedvalues )\n",
    "plt.scatter( fittedvalues_std, resid_std)\n",
    "plt.title( \" Residual Plot: IPL Sold Price Prediction\" );\n",
    "plt.xlabel( \"Standardized predicted values\")\n",
    "plt.ylabel( \"Standardized Residuals\");"
   ]
  },
  {
   "cell_type": "markdown",
   "metadata": {},
   "source": [
    "Plot shows that residuals are random and doesnot show any pattern. So residuals are homoscedastic\n",
    "\n",
    "Incases, where normality and homoscedasticity does not hold, it means that we are unable to build a model that can predict well. We may look at variable transformations. May also, look at respecification of model, by including predictors. Weighted-least squares can help overcome heteroscedasticity."
   ]
  },
  {
   "cell_type": "markdown",
   "metadata": {},
   "source": [
    "### <font color='Green'>STEP 6.0: Influencer Analysis  </font>"
   ]
  },
  {
   "cell_type": "markdown",
   "metadata": {},
   "source": [
    "#### <font color='Green'>STEP 6.1: Leverage Values  </font>"
   ]
  },
  {
   "cell_type": "code",
   "execution_count": 33,
   "metadata": {},
   "outputs": [
    {
     "name": "stdout",
     "output_type": "stream",
     "text": [
      "Number of variables: 4  and number of observations: 130\n",
      "Cutoff for leverage value:  0.115\n"
     ]
    }
   ],
   "source": [
    "# Detecting Influencers\n",
    "\n",
    "k = train_X.shape[1]\n",
    "n = train_X.shape[0]\n",
    "print( \"Number of variables:\", k, \" and number of observations:\", n)\n",
    "\n",
    "# Threshold for influence = 3*((k + 1)/n)\n",
    "leverage_cutoff = 3*((k + 1)/n)\n",
    "print( \"Cutoff for leverage value: \", round(leverage_cutoff, 3) )"
   ]
  },
  {
   "cell_type": "code",
   "execution_count": 34,
   "metadata": {},
   "outputs": [
    {
     "data": {
      "image/png": "[encoded data removed]",
      "text/plain": [
       "<Figure size 864x864 with 1 Axes>"
      ]
     },
     "metadata": {
      "needs_background": "light"
     },
     "output_type": "display_data"
    }
   ],
   "source": [
    "# Influence plot\n",
    "\n",
    "from statsmodels.graphics.regressionplots import influence_plot\n",
    "fig, ax = plt.subplots(figsize=(12, 12))\n",
    "fig = influence_plot(model_3, ax=ax)\n",
    "plt.title( \"Leverage Value Vs Residuals\")\n",
    "plt.grid()"
   ]
  },
  {
   "cell_type": "markdown",
   "metadata": {},
   "source": [
    "<b> We can remove observations with H values more than 0.115 and rerun the model </b>"
   ]
  },
  {
   "cell_type": "markdown",
   "metadata": {},
   "source": [
    "#### <font color='Green'>STEP 6.2: Cook's Distance  </font>\n",
    "\n",
    "Cook's distance measures how much the predicted value of the dependent variable changes for all the observations in the sample when a particular observation is excluded from the sample for the estimation of regression parameters. A Cook's distance value of > 1 indicates highly influential observation.\n",
    "\n",
    "No influential variables as per Cooks Distance"
   ]
  },
  {
   "cell_type": "code",
   "execution_count": 35,
   "metadata": {},
   "outputs": [
    {
     "name": "stdout",
     "output_type": "stream",
     "text": [
      "values and indices [] (array([], dtype=int64),)\n"
     ]
    },
    {
     "data": {
      "image/png": "[encoded data removed]",
      "text/plain": [
       "<Figure size 432x288 with 1 Axes>"
      ]
     },
     "metadata": {
      "needs_background": "light"
     },
     "output_type": "display_data"
    }
   ],
   "source": [
    "model_influence = model_3.get_influence()\n",
    "(c, p) = model_influence.cooks_distance\n",
    "plt.stem( np.arange( len( train_X) ), np.round( c, 3 ), markerfmt=\",\" );\n",
    "plt.title( \"Cooks distance for all observations in IPL data set\" );\n",
    "plt.xlabel( \"Row index\")\n",
    "plt.ylabel( \"Cooks Distance\");\n",
    "print(\"values and indices\",c[c>1.0],np.nonzero(c>1.0))"
   ]
  },
  {
   "cell_type": "markdown",
   "metadata": {},
   "source": [
    "### <font color='Green'>STEP 7.0: Measure model accuracy and validate model  </font>"
   ]
  },
  {
   "cell_type": "code",
   "execution_count": 36,
   "metadata": {},
   "outputs": [
    {
     "name": "stdout",
     "output_type": "stream",
     "text": [
      "R-Square_Train:  0.2572  RMSE_Train:  85538.2913\n",
      "R-Square_Valid:  0.3687  RMSE_Valid:  70252.3063\n"
     ]
    }
   ],
   "source": [
    "pred_y = model_3.predict( test_X[train_X.columns] )\n",
    "\n",
    "rsquare_train = round(r2_score(train_y, model_3.fittedvalues),4)\n",
    "rsquare_valid = round(r2_score(test_y, pred_y),4)\n",
    "\n",
    "rmse_train = round(np.sqrt(mean_squared_error(train_y,model_3.fittedvalues)),4)\n",
    "rmse_valid = round(np.sqrt(mean_squared_error(test_y,pred_y)),4)\n",
    "\n",
    "print(\"R-Square_Train: \", rsquare_train, \" RMSE_Train: \", rmse_train)\n",
    "print(\"R-Square_Valid: \", rsquare_valid, \" RMSE_Valid: \", rmse_valid)"
   ]
  },
  {
   "cell_type": "markdown",
   "metadata": {},
   "source": [
    "### <font color='Green'>STEP 8.0: Making Predictions  </font>"
   ]
  },
  {
   "cell_type": "code",
   "execution_count": 37,
   "metadata": {},
   "outputs": [
    {
     "data": {
      "text/html": [
       "<div>\n",
       "<style scoped>\n",
       "    .dataframe tbody tr th:only-of-type {\n",
       "        vertical-align: middle;\n",
       "    }\n",
       "\n",
       "    .dataframe tbody tr th {\n",
       "        vertical-align: top;\n",
       "    }\n",
       "\n",
       "    .dataframe thead th {\n",
       "        text-align: right;\n",
       "    }\n",
       "</style>\n",
       "<table border=\"1\" class=\"dataframe\">\n",
       "  <thead>\n",
       "    <tr style=\"text-align: right;\">\n",
       "      <th></th>\n",
       "      <th>test_y</th>\n",
       "      <th>pred_y</th>\n",
       "      <th>pred_y_left</th>\n",
       "      <th>pred_y_right</th>\n",
       "      <th>pred_interval_size</th>\n",
       "    </tr>\n",
       "  </thead>\n",
       "  <tbody>\n",
       "    <tr>\n",
       "      <th>153</th>\n",
       "      <td>140545.00</td>\n",
       "      <td>146729.84</td>\n",
       "      <td>-26726.63</td>\n",
       "      <td>320186.31</td>\n",
       "      <td>346912.94</td>\n",
       "    </tr>\n",
       "    <tr>\n",
       "      <th>220</th>\n",
       "      <td>205998.00</td>\n",
       "      <td>178306.07</td>\n",
       "      <td>5562.55</td>\n",
       "      <td>351049.59</td>\n",
       "      <td>345487.04</td>\n",
       "    </tr>\n",
       "    <tr>\n",
       "      <th>227</th>\n",
       "      <td>212287.00</td>\n",
       "      <td>239954.89</td>\n",
       "      <td>65773.81</td>\n",
       "      <td>414135.96</td>\n",
       "      <td>348362.15</td>\n",
       "    </tr>\n",
       "    <tr>\n",
       "      <th>139</th>\n",
       "      <td>84002.50</td>\n",
       "      <td>224918.59</td>\n",
       "      <td>51431.36</td>\n",
       "      <td>398405.82</td>\n",
       "      <td>346974.46</td>\n",
       "    </tr>\n",
       "    <tr>\n",
       "      <th>138</th>\n",
       "      <td>97060.80</td>\n",
       "      <td>158758.88</td>\n",
       "      <td>-14310.47</td>\n",
       "      <td>331828.23</td>\n",
       "      <td>346138.70</td>\n",
       "    </tr>\n",
       "    <tr>\n",
       "      <th>20</th>\n",
       "      <td>341109.00</td>\n",
       "      <td>278519.41</td>\n",
       "      <td>100450.46</td>\n",
       "      <td>456588.36</td>\n",
       "      <td>356137.90</td>\n",
       "    </tr>\n",
       "    <tr>\n",
       "      <th>239</th>\n",
       "      <td>124860.00</td>\n",
       "      <td>158758.88</td>\n",
       "      <td>-14310.47</td>\n",
       "      <td>331828.23</td>\n",
       "      <td>346138.70</td>\n",
       "    </tr>\n",
       "    <tr>\n",
       "      <th>46</th>\n",
       "      <td>133130.00</td>\n",
       "      <td>200860.51</td>\n",
       "      <td>28024.36</td>\n",
       "      <td>373696.66</td>\n",
       "      <td>345672.30</td>\n",
       "    </tr>\n",
       "    <tr>\n",
       "      <th>160</th>\n",
       "      <td>155352.00</td>\n",
       "      <td>151240.73</td>\n",
       "      <td>-22053.97</td>\n",
       "      <td>324535.44</td>\n",
       "      <td>346589.41</td>\n",
       "    </tr>\n",
       "    <tr>\n",
       "      <th>201</th>\n",
       "      <td>109117.00</td>\n",
       "      <td>151240.73</td>\n",
       "      <td>-22053.97</td>\n",
       "      <td>324535.44</td>\n",
       "      <td>346589.41</td>\n",
       "    </tr>\n",
       "    <tr>\n",
       "      <th>30</th>\n",
       "      <td>247473.00</td>\n",
       "      <td>266490.37</td>\n",
       "      <td>88208.05</td>\n",
       "      <td>444772.70</td>\n",
       "      <td>356564.65</td>\n",
       "    </tr>\n",
       "    <tr>\n",
       "      <th>108</th>\n",
       "      <td>129684.00</td>\n",
       "      <td>152744.36</td>\n",
       "      <td>-20500.84</td>\n",
       "      <td>325989.57</td>\n",
       "      <td>346490.41</td>\n",
       "    </tr>\n",
       "    <tr>\n",
       "      <th>207</th>\n",
       "      <td>73218.00</td>\n",
       "      <td>148233.47</td>\n",
       "      <td>-25166.87</td>\n",
       "      <td>321633.81</td>\n",
       "      <td>346800.68</td>\n",
       "    </tr>\n",
       "    <tr>\n",
       "      <th>159</th>\n",
       "      <td>49700.00</td>\n",
       "      <td>160262.51</td>\n",
       "      <td>-12768.42</td>\n",
       "      <td>333293.44</td>\n",
       "      <td>346061.86</td>\n",
       "    </tr>\n",
       "    <tr>\n",
       "      <th>100</th>\n",
       "      <td>179613.25</td>\n",
       "      <td>145226.21</td>\n",
       "      <td>-28288.59</td>\n",
       "      <td>318741.02</td>\n",
       "      <td>347029.61</td>\n",
       "    </tr>\n",
       "    <tr>\n",
       "      <th>21</th>\n",
       "      <td>288960.00</td>\n",
       "      <td>235444.00</td>\n",
       "      <td>61494.07</td>\n",
       "      <td>409393.93</td>\n",
       "      <td>347899.86</td>\n",
       "    </tr>\n",
       "    <tr>\n",
       "      <th>164</th>\n",
       "      <td>141232.17</td>\n",
       "      <td>155751.62</td>\n",
       "      <td>-17401.22</td>\n",
       "      <td>328904.47</td>\n",
       "      <td>346305.69</td>\n",
       "    </tr>\n",
       "    <tr>\n",
       "      <th>40</th>\n",
       "      <td>144037.23</td>\n",
       "      <td>235444.00</td>\n",
       "      <td>61494.07</td>\n",
       "      <td>409393.93</td>\n",
       "      <td>347899.86</td>\n",
       "    </tr>\n",
       "    <tr>\n",
       "      <th>180</th>\n",
       "      <td>160250.00</td>\n",
       "      <td>161766.14</td>\n",
       "      <td>-11228.59</td>\n",
       "      <td>334760.87</td>\n",
       "      <td>345989.46</td>\n",
       "    </tr>\n",
       "    <tr>\n",
       "      <th>24</th>\n",
       "      <td>361738.00</td>\n",
       "      <td>232436.74</td>\n",
       "      <td>58629.98</td>\n",
       "      <td>406243.50</td>\n",
       "      <td>347613.52</td>\n",
       "    </tr>\n",
       "    <tr>\n",
       "      <th>107</th>\n",
       "      <td>253471.00</td>\n",
       "      <td>203867.77</td>\n",
       "      <td>30981.34</td>\n",
       "      <td>376754.21</td>\n",
       "      <td>345772.87</td>\n",
       "    </tr>\n",
       "    <tr>\n",
       "      <th>155</th>\n",
       "      <td>131727.00</td>\n",
       "      <td>149737.10</td>\n",
       "      <td>-23609.32</td>\n",
       "      <td>323083.52</td>\n",
       "      <td>346692.84</td>\n",
       "    </tr>\n",
       "    <tr>\n",
       "      <th>168</th>\n",
       "      <td>253368.00</td>\n",
       "      <td>280023.04</td>\n",
       "      <td>101971.03</td>\n",
       "      <td>458075.05</td>\n",
       "      <td>356104.02</td>\n",
       "    </tr>\n",
       "    <tr>\n",
       "      <th>195</th>\n",
       "      <td>135019.00</td>\n",
       "      <td>143722.58</td>\n",
       "      <td>-29852.76</td>\n",
       "      <td>317297.93</td>\n",
       "      <td>347150.69</td>\n",
       "    </tr>\n",
       "    <tr>\n",
       "      <th>101</th>\n",
       "      <td>151156.52</td>\n",
       "      <td>154247.99</td>\n",
       "      <td>-18949.92</td>\n",
       "      <td>327445.91</td>\n",
       "      <td>346395.83</td>\n",
       "    </tr>\n",
       "    <tr>\n",
       "      <th>14</th>\n",
       "      <td>495968.70</td>\n",
       "      <td>299570.23</td>\n",
       "      <td>121541.29</td>\n",
       "      <td>477599.16</td>\n",
       "      <td>356057.87</td>\n",
       "    </tr>\n",
       "    <tr>\n",
       "      <th>170</th>\n",
       "      <td>293271.00</td>\n",
       "      <td>188831.48</td>\n",
       "      <td>16107.25</td>\n",
       "      <td>361555.70</td>\n",
       "      <td>345448.45</td>\n",
       "    </tr>\n",
       "    <tr>\n",
       "      <th>181</th>\n",
       "      <td>193543.00</td>\n",
       "      <td>199356.88</td>\n",
       "      <td>26542.53</td>\n",
       "      <td>372171.23</td>\n",
       "      <td>345628.70</td>\n",
       "    </tr>\n",
       "    <tr>\n",
       "      <th>23</th>\n",
       "      <td>345590.00</td>\n",
       "      <td>302577.49</td>\n",
       "      <td>124519.60</td>\n",
       "      <td>480635.37</td>\n",
       "      <td>356115.77</td>\n",
       "    </tr>\n",
       "    <tr>\n",
       "      <th>222</th>\n",
       "      <td>175576.00</td>\n",
       "      <td>167780.66</td>\n",
       "      <td>-5091.53</td>\n",
       "      <td>340652.85</td>\n",
       "      <td>345744.38</td>\n",
       "    </tr>\n",
       "    <tr>\n",
       "      <th>238</th>\n",
       "      <td>132997.00</td>\n",
       "      <td>221911.33</td>\n",
       "      <td>48536.50</td>\n",
       "      <td>395286.16</td>\n",
       "      <td>346749.66</td>\n",
       "    </tr>\n",
       "    <tr>\n",
       "      <th>230</th>\n",
       "      <td>133436.00</td>\n",
       "      <td>152744.36</td>\n",
       "      <td>-20500.84</td>\n",
       "      <td>325989.57</td>\n",
       "      <td>346490.41</td>\n",
       "    </tr>\n",
       "    <tr>\n",
       "      <th>54</th>\n",
       "      <td>133009.00</td>\n",
       "      <td>221911.33</td>\n",
       "      <td>48536.50</td>\n",
       "      <td>395286.16</td>\n",
       "      <td>346749.66</td>\n",
       "    </tr>\n",
       "    <tr>\n",
       "      <th>150</th>\n",
       "      <td>72374.00</td>\n",
       "      <td>151240.73</td>\n",
       "      <td>-22053.97</td>\n",
       "      <td>324535.44</td>\n",
       "      <td>346589.41</td>\n",
       "    </tr>\n",
       "    <tr>\n",
       "      <th>57</th>\n",
       "      <td>163372.00</td>\n",
       "      <td>157255.25</td>\n",
       "      <td>-15854.73</td>\n",
       "      <td>330365.24</td>\n",
       "      <td>346219.97</td>\n",
       "    </tr>\n",
       "    <tr>\n",
       "      <th>99</th>\n",
       "      <td>208535.71</td>\n",
       "      <td>143722.58</td>\n",
       "      <td>-29852.76</td>\n",
       "      <td>317297.93</td>\n",
       "      <td>347150.69</td>\n",
       "    </tr>\n",
       "    <tr>\n",
       "      <th>215</th>\n",
       "      <td>143482.00</td>\n",
       "      <td>209882.29</td>\n",
       "      <td>36868.58</td>\n",
       "      <td>382896.01</td>\n",
       "      <td>346027.43</td>\n",
       "    </tr>\n",
       "    <tr>\n",
       "      <th>39</th>\n",
       "      <td>162364.00</td>\n",
       "      <td>242962.15</td>\n",
       "      <td>68616.08</td>\n",
       "      <td>417308.21</td>\n",
       "      <td>348692.13</td>\n",
       "    </tr>\n",
       "    <tr>\n",
       "      <th>165</th>\n",
       "      <td>102537.85</td>\n",
       "      <td>274008.52</td>\n",
       "      <td>95875.77</td>\n",
       "      <td>452141.27</td>\n",
       "      <td>356265.50</td>\n",
       "    </tr>\n",
       "    <tr>\n",
       "      <th>179</th>\n",
       "      <td>144134.00</td>\n",
       "      <td>264986.74</td>\n",
       "      <td>86668.03</td>\n",
       "      <td>443305.46</td>\n",
       "      <td>356637.43</td>\n",
       "    </tr>\n",
       "    <tr>\n",
       "      <th>198</th>\n",
       "      <td>132585.00</td>\n",
       "      <td>152744.36</td>\n",
       "      <td>-20500.84</td>\n",
       "      <td>325989.57</td>\n",
       "      <td>346490.41</td>\n",
       "    </tr>\n",
       "    <tr>\n",
       "      <th>41</th>\n",
       "      <td>183204.00</td>\n",
       "      <td>245969.40</td>\n",
       "      <td>71449.66</td>\n",
       "      <td>420489.15</td>\n",
       "      <td>349039.49</td>\n",
       "    </tr>\n",
       "    <tr>\n",
       "      <th>17</th>\n",
       "      <td>343984.00</td>\n",
       "      <td>230933.11</td>\n",
       "      <td>57194.65</td>\n",
       "      <td>404671.57</td>\n",
       "      <td>347476.92</td>\n",
       "    </tr>\n",
       "    <tr>\n",
       "      <th>53</th>\n",
       "      <td>162957.32</td>\n",
       "      <td>143356.27</td>\n",
       "      <td>-38828.38</td>\n",
       "      <td>325540.92</td>\n",
       "      <td>364369.30</td>\n",
       "    </tr>\n",
       "    <tr>\n",
       "      <th>74</th>\n",
       "      <td>122892.00</td>\n",
       "      <td>161766.14</td>\n",
       "      <td>-11228.59</td>\n",
       "      <td>334760.87</td>\n",
       "      <td>345989.46</td>\n",
       "    </tr>\n",
       "    <tr>\n",
       "      <th>83</th>\n",
       "      <td>334955.00</td>\n",
       "      <td>235444.00</td>\n",
       "      <td>61494.07</td>\n",
       "      <td>409393.93</td>\n",
       "      <td>347899.86</td>\n",
       "    </tr>\n",
       "    <tr>\n",
       "      <th>129</th>\n",
       "      <td>153445.00</td>\n",
       "      <td>143722.58</td>\n",
       "      <td>-29852.76</td>\n",
       "      <td>317297.93</td>\n",
       "      <td>347150.69</td>\n",
       "    </tr>\n",
       "    <tr>\n",
       "      <th>126</th>\n",
       "      <td>145362.00</td>\n",
       "      <td>154247.99</td>\n",
       "      <td>-18949.92</td>\n",
       "      <td>327445.91</td>\n",
       "      <td>346395.83</td>\n",
       "    </tr>\n",
       "    <tr>\n",
       "      <th>97</th>\n",
       "      <td>165000.00</td>\n",
       "      <td>145226.21</td>\n",
       "      <td>-28288.59</td>\n",
       "      <td>318741.02</td>\n",
       "      <td>347029.61</td>\n",
       "    </tr>\n",
       "    <tr>\n",
       "      <th>50</th>\n",
       "      <td>120131.00</td>\n",
       "      <td>224918.59</td>\n",
       "      <td>51431.36</td>\n",
       "      <td>398405.82</td>\n",
       "      <td>346974.46</td>\n",
       "    </tr>\n",
       "    <tr>\n",
       "      <th>81</th>\n",
       "      <td>199268.00</td>\n",
       "      <td>274008.52</td>\n",
       "      <td>95875.77</td>\n",
       "      <td>452141.27</td>\n",
       "      <td>356265.50</td>\n",
       "    </tr>\n",
       "    <tr>\n",
       "      <th>136</th>\n",
       "      <td>131738.27</td>\n",
       "      <td>149737.10</td>\n",
       "      <td>-23609.32</td>\n",
       "      <td>323083.52</td>\n",
       "      <td>346692.84</td>\n",
       "    </tr>\n",
       "    <tr>\n",
       "      <th>202</th>\n",
       "      <td>174074.00</td>\n",
       "      <td>152744.36</td>\n",
       "      <td>-20500.84</td>\n",
       "      <td>325989.57</td>\n",
       "      <td>346490.41</td>\n",
       "    </tr>\n",
       "    <tr>\n",
       "      <th>134</th>\n",
       "      <td>79302.00</td>\n",
       "      <td>145226.21</td>\n",
       "      <td>-28288.59</td>\n",
       "      <td>318741.02</td>\n",
       "      <td>347029.61</td>\n",
       "    </tr>\n",
       "    <tr>\n",
       "      <th>5</th>\n",
       "      <td>372357.00</td>\n",
       "      <td>310095.63</td>\n",
       "      <td>131927.50</td>\n",
       "      <td>488263.77</td>\n",
       "      <td>356336.27</td>\n",
       "    </tr>\n",
       "    <tr>\n",
       "      <th>152</th>\n",
       "      <td>142326.04</td>\n",
       "      <td>145226.21</td>\n",
       "      <td>-28288.59</td>\n",
       "      <td>318741.02</td>\n",
       "      <td>347029.61</td>\n",
       "    </tr>\n",
       "  </tbody>\n",
       "</table>\n",
       "</div>"
      ],
      "text/plain": [
       "        test_y     pred_y  pred_y_left  pred_y_right  pred_interval_size\n",
       "153  140545.00  146729.84    -26726.63     320186.31           346912.94\n",
       "220  205998.00  178306.07      5562.55     351049.59           345487.04\n",
       "227  212287.00  239954.89     65773.81     414135.96           348362.15\n",
       "139   84002.50  224918.59     51431.36     398405.82           346974.46\n",
       "138   97060.80  158758.88    -14310.47     331828.23           346138.70\n",
       "20   341109.00  278519.41    100450.46     456588.36           356137.90\n",
       "239  124860.00  158758.88    -14310.47     331828.23           346138.70\n",
       "46   133130.00  200860.51     28024.36     373696.66           345672.30\n",
       "160  155352.00  151240.73    -22053.97     324535.44           346589.41\n",
       "201  109117.00  151240.73    -22053.97     324535.44           346589.41\n",
       "30   247473.00  266490.37     88208.05     444772.70           356564.65\n",
       "108  129684.00  152744.36    -20500.84     325989.57           346490.41\n",
       "207   73218.00  148233.47    -25166.87     321633.81           346800.68\n",
       "159   49700.00  160262.51    -12768.42     333293.44           346061.86\n",
       "100  179613.25  145226.21    -28288.59     318741.02           347029.61\n",
       "21   288960.00  235444.00     61494.07     409393.93           347899.86\n",
       "164  141232.17  155751.62    -17401.22     328904.47           346305.69\n",
       "40   144037.23  235444.00     61494.07     409393.93           347899.86\n",
       "180  160250.00  161766.14    -11228.59     334760.87           345989.46\n",
       "24   361738.00  232436.74     58629.98     406243.50           347613.52\n",
       "107  253471.00  203867.77     30981.34     376754.21           345772.87\n",
       "155  131727.00  149737.10    -23609.32     323083.52           346692.84\n",
       "168  253368.00  280023.04    101971.03     458075.05           356104.02\n",
       "195  135019.00  143722.58    -29852.76     317297.93           347150.69\n",
       "101  151156.52  154247.99    -18949.92     327445.91           346395.83\n",
       "14   495968.70  299570.23    121541.29     477599.16           356057.87\n",
       "170  293271.00  188831.48     16107.25     361555.70           345448.45\n",
       "181  193543.00  199356.88     26542.53     372171.23           345628.70\n",
       "23   345590.00  302577.49    124519.60     480635.37           356115.77\n",
       "222  175576.00  167780.66     -5091.53     340652.85           345744.38\n",
       "238  132997.00  221911.33     48536.50     395286.16           346749.66\n",
       "230  133436.00  152744.36    -20500.84     325989.57           346490.41\n",
       "54   133009.00  221911.33     48536.50     395286.16           346749.66\n",
       "150   72374.00  151240.73    -22053.97     324535.44           346589.41\n",
       "57   163372.00  157255.25    -15854.73     330365.24           346219.97\n",
       "99   208535.71  143722.58    -29852.76     317297.93           347150.69\n",
       "215  143482.00  209882.29     36868.58     382896.01           346027.43\n",
       "39   162364.00  242962.15     68616.08     417308.21           348692.13\n",
       "165  102537.85  274008.52     95875.77     452141.27           356265.50\n",
       "179  144134.00  264986.74     86668.03     443305.46           356637.43\n",
       "198  132585.00  152744.36    -20500.84     325989.57           346490.41\n",
       "41   183204.00  245969.40     71449.66     420489.15           349039.49\n",
       "17   343984.00  230933.11     57194.65     404671.57           347476.92\n",
       "53   162957.32  143356.27    -38828.38     325540.92           364369.30\n",
       "74   122892.00  161766.14    -11228.59     334760.87           345989.46\n",
       "83   334955.00  235444.00     61494.07     409393.93           347899.86\n",
       "129  153445.00  143722.58    -29852.76     317297.93           347150.69\n",
       "126  145362.00  154247.99    -18949.92     327445.91           346395.83\n",
       "97   165000.00  145226.21    -28288.59     318741.02           347029.61\n",
       "50   120131.00  224918.59     51431.36     398405.82           346974.46\n",
       "81   199268.00  274008.52     95875.77     452141.27           356265.50\n",
       "136  131738.27  149737.10    -23609.32     323083.52           346692.84\n",
       "202  174074.00  152744.36    -20500.84     325989.57           346490.41\n",
       "134   79302.00  145226.21    -28288.59     318741.02           347029.61\n",
       "5    372357.00  310095.63    131927.50     488263.77           356336.27\n",
       "152  142326.04  145226.21    -28288.59     318741.02           347029.61"
      ]
     },
     "execution_count": 37,
     "metadata": {},
     "output_type": "execute_result"
    }
   ],
   "source": [
    "# Calculating Prediction Intervals\n",
    "\n",
    "predictions = model_3.get_prediction(test_X[train_X.columns])\n",
    "predictions_df = round(predictions.summary_frame(alpha=0.05),2)\n",
    "predictions_df\n",
    "\n",
    "# Store all the values in a dataframe\n",
    "pred_y_df = pd.DataFrame( { 'test_y': test_y,\n",
    "                            'pred_y': predictions_df['mean'],\n",
    "                            'pred_y_left': predictions_df['obs_ci_lower'],\n",
    "                            'pred_y_right': predictions_df['obs_ci_upper'],\n",
    "                            'pred_interval_size':predictions_df['obs_ci_upper']-predictions_df['obs_ci_lower']} )\n",
    "pred_y_df"
   ]
  },
  {
   "cell_type": "code",
   "execution_count": null,
   "metadata": {},
   "outputs": [],
   "source": []
  },
  {
   "cell_type": "code",
   "execution_count": null,
   "metadata": {},
   "outputs": [],
   "source": []
  }
 ],
 "metadata": {
  "kernelspec": {
   "display_name": "Python 3",
   "language": "python",
   "name": "python3"
  },
  "language_info": {
   "codemirror_mode": {
    "name": "ipython",
    "version": 3
   },
   "file_extension": ".py",
   "mimetype": "text/x-python",
   "name": "python",
   "nbconvert_exporter": "python",
   "pygments_lexer": "ipython3",
   "version": "3.7.10"
  }
 },
 "nbformat": 4,
 "nbformat_minor": 4
}
