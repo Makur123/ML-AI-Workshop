{
 "cells": [
  {
   "cell_type": "markdown",
   "metadata": {},
   "source": [
    "# <font color='Blue'>Linear Regression</font>"
   ]
  },
  {
   "cell_type": "markdown",
   "metadata": {},
   "source": [
    "## <font color='Blue'>Objectives</font>\n",
    "   1. Understand the concept of multiple linear regression and its applications in predictive analytics\n",
    "   2. Build multiple linear regession models using python packages\n",
    "   3. Apply Regression Diagnostics\n",
    "   4. Perform model validation tasks and make predictions\n",
    "   \n",
    "### <font color='Blue'>References</font>\n",
    "   1. Machine Learning Using Python,Pradhan Manaranjan and U Dinesh Kumar, Wiley Publications\n",
    "   2. Applied Multivariate Statistical analysis, Sixth Edition, Richard A Johnson and Dean W Wichern\n",
    "   3. Multivariate Data Analysis, Seventh Edition, Hair et al., Pearson publication\n",
    "   4. Internet sources, for pictures, under fair use policy\n",
    "      https://towardsdatascience.com/linear-regression-explained-1b36f97b7572\n",
    "      https://www.keboola.com/blog/linear-regression-machine-learning"
   ]
  },
  {
   "cell_type": "markdown",
   "metadata": {},
   "source": [
    "## <font color='Blue'>Contents</font>   \n",
    "\n",
    "  ### <font color='Blue'>1. What is Multiple Linear Regression</font>\n",
    "  ### <font color='Blue'>2. Multiple Linear Regression Application</font>\n",
    "  ### <font color='Blue'>3. Building a Multiple Linear Regression Model</font>\n",
    "     STEP 1: Collect, Extract, Analyze Data\n",
    "             [Predicting the SOLD Price (Auction Price) of Players]\n",
    "     STEP 2: Processing Data\n",
    "             [Create Feature Set]\n",
    "             [Encoding Categorical Features]\n",
    "     STEP 3: Dividing data into training and validation datasets\n",
    "     STEP 4: Build the model\n",
    "     STEP 5: Multi-Collinearity: Measurement and Management\n",
    "             - Variance Inflation Factor (VIF)\n",
    "             - Handling attributes with high VIF\n",
    "     STEP 5: Perform model diagnostics\n",
    "             Residual Analysis (LINE Principle)\n",
    "             - Linearity\n",
    "             - Independence of residuals\n",
    "             - Normality of residuals\n",
    "             - Homoscedasticity\n",
    "     STEP 6: Influencer Analysis\n",
    "     STEP 7: Measure model accuracy and validate model\n",
    "     STEP 8: Make Predictions"
   ]
  },
  {
   "cell_type": "markdown",
   "metadata": {},
   "source": [
    "## <font color='Blue'>1. What is Multiple Linear Regression</font>\n",
    "\n",
    "  Multiple Linear Regression is a statistical technique for finding the existence of an associaton relationship between a \n",
    "  dependent variable (aka response variable or outcome variable) and several independent variables (aka explanatory variable,  \n",
    "  predictor variable or feature). \n",
    "\n",
    "    \n",
    "### <font color='Blue'>Mathematical Background</font>\n",
    " \n",
    "#### <font color='Blue'>Functional Form of SLR</font>\n",
    "      Y  = β0 + β1.X1 + β2.X2 + β3.X3 + ... + βn.Xn + ε                                           \n",
    "      [Response] = [mean value depending on X's] + error               \n",
    "      Linear refers to the fact that mean is a linear function of unknown parameters β0 and β1.\n",
    "      ε = Y - β0 - β1.X1 - β2.X2 - β3.X3 - ... - βn.Xn\n",
    "        \n",
    "<img src=\"Regression_Plane.jpg\" width=\"600\" height=\"800\">\n",
    " \n",
    "#### <font color='Blue'>Regression Objective</font>\n",
    "      Let the number of samples be n                    \n",
    "      Minimize sum of squared residuals                  \n",
    "      Minimize  ∑(yi - ŷi)^2 over i=1 to i=n    \n",
    "                where ŷi = β0 + β1.X1i + β2.X2i - β3.X3i                   \n",
    "                yi is the actual value of y             \n",
    "                ŷi is the predicted value of y           \n",
    "      Minimize  ∑(yi - β1.X1i - β2.X2i - β3.X3i - ... - βn.Xni )^2 over i=1 to i=n     \n",
    "      by finding β0, β1, ..., βn that minimizes the above equation\n",
    "      \n",
    "#### <font color='Blue'>Regression Properties</font>\n",
    "      In eqn form:     Y  = β0 + β1.X1 + β2.X2 + β3.X3 + ... + βn.Xn  + ε\n",
    "      In matrix form: [Y] = [β][X] + [ε]\n",
    "                     (nx1)  (nx(r+1) (nx1)\n",
    "      where n is the number of samples\n",
    "            r is the number of predictors\n",
    "      E(ε) = 0\n",
    "      Var(ε) = constant    \n",
    "      Relation between Y and X is linear\n",
    "      Residuals are independent\n",
    "      \n",
    "<img src=\"MLR_Matrix.jpg\"  width=\"500\" height=\"600\">\n",
    "      \n",
    "####  <font color='Blue'>Regression Properties to be tested (Diagnostics)</font>\n",
    "1. Linearity        - The relationship between y and x is linear\n",
    "2. Independence     - The errors are independent of each other (not correlated, especially in a time series)\n",
    "3. Normality        - The errors (aka residuals) εi follow a normal distribution with mean(ε) = 0\n",
    "4. Homoscedasticity - The variance var(ε) is constant for different values of X. When var(ε) is constant, it in known as homoscedasticity. When var(ε) is not constant, it is heteroscedasticity   \n",
    "\n",
    "<img src=\"Regression_Assumptions.jpg\"  width=\"500\" height=\"600\">"
   ]
  },
  {
   "cell_type": "markdown",
   "metadata": {},
   "source": [
    "## <font color='Blue'>2. Multiple Linear Regression Application</font>\n",
    "\n",
    "<b> Case Description to be Added <b>"
   ]
  },
  {
   "cell_type": "markdown",
   "metadata": {},
   "source": [
    "## <font color='Blue'>3. Building a Simple Linear Regression Model</font>\n",
    "     STEP 1: Collect, Extract, Analyze Data\n",
    "             [Predicting the SOLD Price (Auction Price) of Players]\n",
    "     STEP 2: Process Data\n",
    "             [Create Feature Set]\n",
    "             [Encoding Categorical Features]\n",
    "     STEP 3: Dividing data into training and validation datasets\n",
    "     STEP 4: Build the model\n",
    "     STEP 5: Multi-Collinearity: Measurement and Management\n",
    "             - Variance Inflation Factor (VIF)\n",
    "             - Handling attributes with high VIF\n",
    "     STEP 5: Perform model diagnostics\n",
    "             Residual Analysis (LINE Principle)\n",
    "             - Linearity\n",
    "             - Independence of residuals\n",
    "             - Normality of residuals\n",
    "             - Homoscedasticity\n",
    "     STEP 6: Influencer Analysis\n",
    "     STEP 7: Measure model accuracy and validate model\n",
    "     STEP 8: Make Predictions"
   ]
  },
  {
   "cell_type": "markdown",
   "metadata": {},
   "source": [
    "### <font color='Green'>Loading Libraries</font>"
   ]
  },
  {
   "cell_type": "code",
   "execution_count": 1,
   "metadata": {},
   "outputs": [],
   "source": [
    "import warnings\n",
    "warnings.filterwarnings('ignore')\n",
    "import pandas as pd\n",
    "import numpy as np \n",
    "from scipy.stats import zscore\n",
    "import statsmodels.api as sm\n",
    "from statsmodels.stats.outliers_influence import variance_inflation_factor\n",
    "from sklearn.metrics import r2_score, mean_squared_error\n",
    "from sklearn.model_selection import train_test_split\n",
    "import matplotlib.pyplot as plt\n",
    "import seaborn as sn\n",
    "\n",
    "# Setting pandas print option to limit decimal places to 4\n",
    "np.set_printoptions(precision=4, linewidth=100) "
   ]
  },
  {
   "cell_type": "markdown",
   "metadata": {},
   "source": [
    "### <font color='Green'>STEP 1: Collect, Extract, Analyze Data</font>"
   ]
  },
  {
   "cell_type": "code",
   "execution_count": 2,
   "metadata": {},
   "outputs": [],
   "source": [
    "# Loading Data\n",
    "data_df = pd.read_excel('IMB529-XLS-ENG.XLSX',sheet_name='MH-Modified Data')"
   ]
  },
  {
   "cell_type": "markdown",
   "metadata": {},
   "source": [
    "<b> There are 248 observations and 26 features in the data. No missing values </b>"
   ]
  },
  {
   "cell_type": "code",
   "execution_count": 3,
   "metadata": {},
   "outputs": [
    {
     "name": "stdout",
     "output_type": "stream",
     "text": [
      "<class 'pandas.core.frame.DataFrame'>\n",
      "RangeIndex: 248 entries, 0 to 247\n",
      "Data columns (total 50 columns):\n",
      " #   Column                        Non-Null Count  Dtype  \n",
      "---  ------                        --------------  -----  \n",
      " 0   SL.                           248 non-null    int64  \n",
      " 1   AGE                           248 non-null    float64\n",
      " 2   GEN                           248 non-null    object \n",
      " 3   GENDER                        248 non-null    int64  \n",
      " 4   MARITAL_STATUS                248 non-null    object \n",
      " 5   UNMARRIED                     248 non-null    int64  \n",
      " 6   KEY COMPLAINTS_CODE           212 non-null    object \n",
      " 7   ACHD                          248 non-null    int64  \n",
      " 8   CAD_DVD                       248 non-null    int64  \n",
      " 9   CAD_SVD                       248 non-null    int64  \n",
      " 10  CAD_TVD                       248 non-null    int64  \n",
      " 11  CAD_VSD                       248 non-null    int64  \n",
      " 12  OS_ASD                        248 non-null    int64  \n",
      " 13  other_heart                   248 non-null    int64  \n",
      " 14  other_respiratory             248 non-null    int64  \n",
      " 15  other_general                 248 non-null    int64  \n",
      " 16  other_nervous                 248 non-null    int64  \n",
      " 17  other_tertalogy               248 non-null    int64  \n",
      " 18  PM_VSD                        248 non-null    int64  \n",
      " 19  RHD                           248 non-null    int64  \n",
      " 20  BODY_WEIGHT                   248 non-null    float64\n",
      " 21  BODY_HEIGHT                   248 non-null    int64  \n",
      " 22  HR_PULSE                      248 non-null    int64  \n",
      " 23  BP_HIGH                       225 non-null    float64\n",
      " 24  BP_LOW                        225 non-null    float64\n",
      " 25  RR                            248 non-null    int64  \n",
      " 26  PAST_MEDICAL_HISTORY_CODE     75 non-null     object \n",
      " 27  Diabetes1                     248 non-null    int64  \n",
      " 28  Diabetes2                     248 non-null    int64  \n",
      " 29  hypertension1                 248 non-null    int64  \n",
      " 30  hypertension2                 248 non-null    int64  \n",
      " 31  hypertension3                 248 non-null    int64  \n",
      " 32  other                         248 non-null    int64  \n",
      " 33  HB                            246 non-null    float64\n",
      " 34  UREA                          235 non-null    float64\n",
      " 35  CREATININE                    215 non-null    float64\n",
      " 36  MODE_OF_ARRIVAL               248 non-null    object \n",
      " 37  AMBULANCE                     248 non-null    int64  \n",
      " 38  TRANSFERRED                   248 non-null    int64  \n",
      " 39  STATE_AT_THE_TIME_OF_ARRIVAL  248 non-null    object \n",
      " 40  ALERT                         248 non-null    int64  \n",
      " 41  TYPE_OF_ADMSN                 248 non-null    object \n",
      " 42  ELECTIVE                      248 non-null    int64  \n",
      " 43  TOTAL_COST_TO_HOSPITAL        248 non-null    float64\n",
      " 44  TOTAL_LENGTH_OF_STAY          248 non-null    int64  \n",
      " 45  LENGTH_OF_STAY_ICU            248 non-null    int64  \n",
      " 46  LENGTH_OF_STAY_WARD           248 non-null    int64  \n",
      " 47  IMPLANT_USED_(Y/N)            248 non-null    object \n",
      " 48  IMPLANT                       248 non-null    int64  \n",
      " 49  COST_OF_IMPLANT               248 non-null    int64  \n",
      "dtypes: float64(8), int64(34), object(8)\n",
      "memory usage: 97.0+ KB\n"
     ]
    }
   ],
   "source": [
    "# Displaying 10 columns of few records\n",
    "data_df.info()"
   ]
  },
  {
   "cell_type": "markdown",
   "metadata": {},
   "source": [
    "<b> Notes </b>\n",
    "\n",
    "    Male(Female)        = 0(1)\n",
    "    Married(Unmarried)  = 0(1) \n",
    "    Alert(unconsious)   = 1(0)\n",
    "    Elective(Emergency) = 1(0) \n",
    "    Implant(no implant) = 1(0)"
   ]
  },
  {
   "cell_type": "markdown",
   "metadata": {},
   "source": [
    "###  <font color='Green'>STEP 2: Process Data</font>\n",
    "#### <font color='Green'>STEP 2.1: Detecting and Removing Outliers</font>"
   ]
  },
  {
   "cell_type": "code",
   "execution_count": 4,
   "metadata": {},
   "outputs": [
    {
     "name": "stdout",
     "output_type": "stream",
     "text": [
      "(248, 50)\n"
     ]
    }
   ],
   "source": [
    "print(data_df.shape)"
   ]
  },
  {
   "cell_type": "markdown",
   "metadata": {},
   "source": [
    "#### <font color='Green'>Detecting Removing Outliers</font>"
   ]
  },
  {
   "cell_type": "code",
   "execution_count": 5,
   "metadata": {},
   "outputs": [],
   "source": [
    "data_df['z_score_tc'] = zscore( data_df['TOTAL_COST_TO_HOSPITAL'] )"
   ]
  },
  {
   "cell_type": "code",
   "execution_count": 6,
   "metadata": {},
   "outputs": [
    {
     "data": {
      "text/html": [
       "<div>\n",
       "<style scoped>\n",
       "    .dataframe tbody tr th:only-of-type {\n",
       "        vertical-align: middle;\n",
       "    }\n",
       "\n",
       "    .dataframe tbody tr th {\n",
       "        vertical-align: top;\n",
       "    }\n",
       "\n",
       "    .dataframe thead th {\n",
       "        text-align: right;\n",
       "    }\n",
       "</style>\n",
       "<table border=\"1\" class=\"dataframe\">\n",
       "  <thead>\n",
       "    <tr style=\"text-align: right;\">\n",
       "      <th></th>\n",
       "      <th>SL.</th>\n",
       "      <th>AGE</th>\n",
       "      <th>GEN</th>\n",
       "      <th>GENDER</th>\n",
       "      <th>MARITAL_STATUS</th>\n",
       "      <th>UNMARRIED</th>\n",
       "      <th>KEY COMPLAINTS_CODE</th>\n",
       "      <th>ACHD</th>\n",
       "      <th>CAD_DVD</th>\n",
       "      <th>CAD_SVD</th>\n",
       "      <th>...</th>\n",
       "      <th>TYPE_OF_ADMSN</th>\n",
       "      <th>ELECTIVE</th>\n",
       "      <th>TOTAL_COST_TO_HOSPITAL</th>\n",
       "      <th>TOTAL_LENGTH_OF_STAY</th>\n",
       "      <th>LENGTH_OF_STAY_ICU</th>\n",
       "      <th>LENGTH_OF_STAY_WARD</th>\n",
       "      <th>IMPLANT_USED_(Y/N)</th>\n",
       "      <th>IMPLANT</th>\n",
       "      <th>COST_OF_IMPLANT</th>\n",
       "      <th>z_score_tc</th>\n",
       "    </tr>\n",
       "  </thead>\n",
       "  <tbody>\n",
       "    <tr>\n",
       "      <th>0</th>\n",
       "      <td>1</td>\n",
       "      <td>58.0</td>\n",
       "      <td>M</td>\n",
       "      <td>0</td>\n",
       "      <td>MARRIED</td>\n",
       "      <td>0</td>\n",
       "      <td>other- heart</td>\n",
       "      <td>0</td>\n",
       "      <td>0</td>\n",
       "      <td>0</td>\n",
       "      <td>...</td>\n",
       "      <td>EMERGENCY</td>\n",
       "      <td>0</td>\n",
       "      <td>660293.0</td>\n",
       "      <td>25</td>\n",
       "      <td>12</td>\n",
       "      <td>13</td>\n",
       "      <td>Y</td>\n",
       "      <td>1</td>\n",
       "      <td>38000</td>\n",
       "      <td>3.772841</td>\n",
       "    </tr>\n",
       "    <tr>\n",
       "      <th>1</th>\n",
       "      <td>2</td>\n",
       "      <td>59.0</td>\n",
       "      <td>M</td>\n",
       "      <td>0</td>\n",
       "      <td>MARRIED</td>\n",
       "      <td>0</td>\n",
       "      <td>CAD-DVD</td>\n",
       "      <td>0</td>\n",
       "      <td>1</td>\n",
       "      <td>0</td>\n",
       "      <td>...</td>\n",
       "      <td>EMERGENCY</td>\n",
       "      <td>0</td>\n",
       "      <td>809130.0</td>\n",
       "      <td>41</td>\n",
       "      <td>20</td>\n",
       "      <td>21</td>\n",
       "      <td>Y</td>\n",
       "      <td>1</td>\n",
       "      <td>39690</td>\n",
       "      <td>4.989425</td>\n",
       "    </tr>\n",
       "    <tr>\n",
       "      <th>3</th>\n",
       "      <td>4</td>\n",
       "      <td>46.0</td>\n",
       "      <td>M</td>\n",
       "      <td>0</td>\n",
       "      <td>MARRIED</td>\n",
       "      <td>0</td>\n",
       "      <td>CAD-DVD</td>\n",
       "      <td>0</td>\n",
       "      <td>1</td>\n",
       "      <td>0</td>\n",
       "      <td>...</td>\n",
       "      <td>EMERGENCY</td>\n",
       "      <td>0</td>\n",
       "      <td>629990.0</td>\n",
       "      <td>14</td>\n",
       "      <td>13</td>\n",
       "      <td>1</td>\n",
       "      <td>Y</td>\n",
       "      <td>1</td>\n",
       "      <td>89450</td>\n",
       "      <td>3.525146</td>\n",
       "    </tr>\n",
       "    <tr>\n",
       "      <th>6</th>\n",
       "      <td>7</td>\n",
       "      <td>73.0</td>\n",
       "      <td>M</td>\n",
       "      <td>0</td>\n",
       "      <td>MARRIED</td>\n",
       "      <td>0</td>\n",
       "      <td>CAD-TVD</td>\n",
       "      <td>0</td>\n",
       "      <td>0</td>\n",
       "      <td>0</td>\n",
       "      <td>...</td>\n",
       "      <td>ELECTIVE</td>\n",
       "      <td>1</td>\n",
       "      <td>887350.0</td>\n",
       "      <td>15</td>\n",
       "      <td>15</td>\n",
       "      <td>0</td>\n",
       "      <td>N</td>\n",
       "      <td>0</td>\n",
       "      <td>0</td>\n",
       "      <td>5.628790</td>\n",
       "    </tr>\n",
       "    <tr>\n",
       "      <th>12</th>\n",
       "      <td>13</td>\n",
       "      <td>40.0</td>\n",
       "      <td>M</td>\n",
       "      <td>0</td>\n",
       "      <td>MARRIED</td>\n",
       "      <td>0</td>\n",
       "      <td>RHD</td>\n",
       "      <td>0</td>\n",
       "      <td>0</td>\n",
       "      <td>0</td>\n",
       "      <td>...</td>\n",
       "      <td>ELECTIVE</td>\n",
       "      <td>1</td>\n",
       "      <td>711616.0</td>\n",
       "      <td>17</td>\n",
       "      <td>10</td>\n",
       "      <td>7</td>\n",
       "      <td>Y</td>\n",
       "      <td>1</td>\n",
       "      <td>196848</td>\n",
       "      <td>4.192352</td>\n",
       "    </tr>\n",
       "  </tbody>\n",
       "</table>\n",
       "<p>5 rows × 51 columns</p>\n",
       "</div>"
      ],
      "text/plain": [
       "    SL.   AGE GEN  GENDER MARITAL_STATUS  UNMARRIED KEY COMPLAINTS_CODE  ACHD  \\\n",
       "0     1  58.0   M       0        MARRIED          0        other- heart     0   \n",
       "1     2  59.0   M       0        MARRIED          0             CAD-DVD     0   \n",
       "3     4  46.0   M       0        MARRIED          0             CAD-DVD     0   \n",
       "6     7  73.0   M       0        MARRIED          0             CAD-TVD     0   \n",
       "12   13  40.0   M       0        MARRIED          0                 RHD     0   \n",
       "\n",
       "    CAD_DVD  CAD_SVD  ...  TYPE_OF_ADMSN  ELECTIVE  TOTAL_COST_TO_HOSPITAL  \\\n",
       "0         0        0  ...      EMERGENCY         0                660293.0   \n",
       "1         1        0  ...      EMERGENCY         0                809130.0   \n",
       "3         1        0  ...      EMERGENCY         0                629990.0   \n",
       "6         0        0  ...       ELECTIVE         1                887350.0   \n",
       "12        0        0  ...       ELECTIVE         1                711616.0   \n",
       "\n",
       "    TOTAL_LENGTH_OF_STAY  LENGTH_OF_STAY_ICU  LENGTH_OF_STAY_WARD  \\\n",
       "0                     25                  12                   13   \n",
       "1                     41                  20                   21   \n",
       "3                     14                  13                    1   \n",
       "6                     15                  15                    0   \n",
       "12                    17                  10                    7   \n",
       "\n",
       "    IMPLANT_USED_(Y/N)  IMPLANT  COST_OF_IMPLANT  z_score_tc  \n",
       "0                    Y        1            38000    3.772841  \n",
       "1                    Y        1            39690    4.989425  \n",
       "3                    Y        1            89450    3.525146  \n",
       "6                    N        0                0    5.628790  \n",
       "12                   Y        1           196848    4.192352  \n",
       "\n",
       "[5 rows x 51 columns]"
      ]
     },
     "execution_count": 6,
     "metadata": {},
     "output_type": "execute_result"
    }
   ],
   "source": [
    "data_df[ ( data_df.z_score_tc > 3.0) | ( data_df.z_score_tc < -3.0) ]"
   ]
  },
  {
   "cell_type": "markdown",
   "metadata": {},
   "source": [
    "#### <font color='Green'>Removing Outliers</font>"
   ]
  },
  {
   "cell_type": "code",
   "execution_count": 7,
   "metadata": {},
   "outputs": [
    {
     "data": {
      "text/plain": [
       "(243, 50)"
      ]
     },
     "execution_count": 7,
     "metadata": {},
     "output_type": "execute_result"
    }
   ],
   "source": [
    "data_df = data_df.drop([0, 1,3,6,12])\n",
    "data_df = data_df.drop(['z_score_tc'],axis=1)\n",
    "data_df.shape "
   ]
  },
  {
   "cell_type": "markdown",
   "metadata": {},
   "source": [
    "#### <font color='Green'>STEP 2.2: Create Feature Set</font>"
   ]
  },
  {
   "cell_type": "markdown",
   "metadata": {},
   "source": [
    "#### <font color='Green'>Cleaning Data</font>"
   ]
  },
  {
   "cell_type": "code",
   "execution_count": 8,
   "metadata": {},
   "outputs": [
    {
     "name": "stdout",
     "output_type": "stream",
     "text": [
      "Index(['SL.', 'AGE', 'GEN', 'GENDER', 'MARITAL_STATUS', 'UNMARRIED',\n",
      "       'KEY COMPLAINTS_CODE', 'ACHD', 'CAD_DVD', 'CAD_SVD', 'CAD_TVD',\n",
      "       'CAD_VSD', 'OS_ASD', 'other_heart', 'other_respiratory',\n",
      "       'other_general', 'other_nervous', 'other_tertalogy', 'PM_VSD', 'RHD',\n",
      "       'BODY_WEIGHT', 'BODY_HEIGHT', 'HR_PULSE', 'BP_HIGH', 'BP_LOW', 'RR',\n",
      "       'PAST_MEDICAL_HISTORY_CODE', 'Diabetes1', 'Diabetes2', 'hypertension1',\n",
      "       'hypertension2', 'hypertension3', 'other', 'HB', 'UREA', 'CREATININE',\n",
      "       'MODE_OF_ARRIVAL', 'AMBULANCE', 'TRANSFERRED',\n",
      "       'STATE_AT_THE_TIME_OF_ARRIVAL', 'ALERT', 'TYPE_OF_ADMSN', 'ELECTIVE',\n",
      "       'TOTAL_COST_TO_HOSPITAL', 'TOTAL_LENGTH_OF_STAY', 'LENGTH_OF_STAY_ICU',\n",
      "       'LENGTH_OF_STAY_WARD', 'IMPLANT_USED_(Y/N)', 'IMPLANT',\n",
      "       'COST_OF_IMPLANT'],\n",
      "      dtype='object')\n",
      "\n",
      "Index(['AGE', 'GEN', 'GENDER', 'MARITAL_STATUS', 'UNMARRIED',\n",
      "       'KEY COMPLAINTS_CODE', 'ACHD', 'CAD_DVD', 'CAD_SVD', 'CAD_TVD',\n",
      "       'CAD_VSD', 'OS_ASD', 'other_heart', 'other_respiratory',\n",
      "       'other_general', 'other_nervous', 'other_tertalogy', 'PM_VSD', 'RHD',\n",
      "       'BODY_WEIGHT', 'BODY_HEIGHT', 'HR_PULSE', 'BP_HIGH', 'BP_LOW', 'RR',\n",
      "       'PAST_MEDICAL_HISTORY_CODE', 'Diabetes1', 'Diabetes2', 'hypertension1',\n",
      "       'hypertension2', 'hypertension3', 'other', 'HB', 'UREA', 'CREATININE',\n",
      "       'MODE_OF_ARRIVAL', 'AMBULANCE', 'TRANSFERRED',\n",
      "       'STATE_AT_THE_TIME_OF_ARRIVAL', 'ALERT', 'TYPE_OF_ADMSN', 'ELECTIVE',\n",
      "       'TOTAL_COST_TO_HOSPITAL', 'LENGTH_OF_STAY_ICU', 'LENGTH_OF_STAY_WARD',\n",
      "       'IMPLANT_USED_(Y/N)', 'IMPLANT', 'COST_OF_IMPLANT'],\n",
      "      dtype='object')\n"
     ]
    }
   ],
   "source": [
    "# Identifying Columns\n",
    "print(data_df.columns)\n",
    "print(\"\")\n",
    "\n",
    "# Remove attributes that cannot be predictors - 'Sl.'\n",
    "data_df = data_df.drop(['SL.','TOTAL_LENGTH_OF_STAY'],axis=1)\n",
    "# data_df = sm.add_constant( data_df, prepend=True ) \n",
    "print(data_df.columns)"
   ]
  },
  {
   "cell_type": "markdown",
   "metadata": {},
   "source": [
    "#### <font color='Green'>Removing Rows with Missing Values</font>"
   ]
  },
  {
   "cell_type": "code",
   "execution_count": 9,
   "metadata": {},
   "outputs": [
    {
     "data": {
      "text/plain": [
       "(243, 40)"
      ]
     },
     "execution_count": 9,
     "metadata": {},
     "output_type": "execute_result"
    }
   ],
   "source": [
    "features =    ['AGE', 'GENDER', 'UNMARRIED', 'ACHD', 'CAD_DVD', 'CAD_SVD', 'CAD_TVD',\n",
    "              'CAD_VSD', 'OS_ASD', 'other_heart', 'other_respiratory',\n",
    "              'other_general', 'other_nervous', 'other_tertalogy', 'PM_VSD', 'RHD',\n",
    "              'BODY_WEIGHT', 'BODY_HEIGHT', 'HR_PULSE', 'BP_HIGH', 'BP_LOW', 'RR',\n",
    "              'Diabetes1', 'Diabetes2', 'hypertension1', 'hypertension2',\n",
    "              'hypertension3', 'other', 'HB', 'UREA', 'CREATININE', 'AMBULANCE',\n",
    "              'TRANSFERRED', 'ALERT', 'ELECTIVE',  \n",
    "              'LENGTH_OF_STAY_ICU', 'LENGTH_OF_STAY_WARD', 'IMPLANT', 'COST_OF_IMPLANT','TOTAL_COST_TO_HOSPITAL']\n",
    "data_df_cleaned = data_df[features]\n",
    "data_df_cleaned.shape"
   ]
  },
  {
   "cell_type": "code",
   "execution_count": 10,
   "metadata": {},
   "outputs": [
    {
     "data": {
      "text/plain": [
       "(186, 40)"
      ]
     },
     "execution_count": 10,
     "metadata": {},
     "output_type": "execute_result"
    }
   ],
   "source": [
    "data_df_cleaned = data_df_cleaned.dropna()\n",
    "data_df_cleaned.shape"
   ]
  },
  {
   "cell_type": "code",
   "execution_count": 11,
   "metadata": {},
   "outputs": [],
   "source": [
    "# Creating Feature Set\n",
    " \n",
    "X_features = ['AGE', 'GENDER', 'UNMARRIED', 'ACHD', 'CAD_DVD', 'CAD_SVD', 'CAD_TVD',\n",
    "              'CAD_VSD', 'OS_ASD', 'other_heart', 'other_respiratory',\n",
    "              'other_general', 'other_nervous', 'other_tertalogy', 'PM_VSD', 'RHD',\n",
    "              'BODY_WEIGHT', 'BODY_HEIGHT', 'HR_PULSE', 'BP_HIGH', 'BP_LOW', 'RR',\n",
    "              'Diabetes1', 'Diabetes2', 'hypertension1', 'hypertension2',\n",
    "              'hypertension3', 'other', 'HB', 'UREA', 'CREATININE', 'AMBULANCE',\n",
    "              'TRANSFERRED', 'ALERT', 'ELECTIVE',  \n",
    "              'LENGTH_OF_STAY_ICU', 'LENGTH_OF_STAY_WARD', 'IMPLANT', 'COST_OF_IMPLANT']\n",
    "\n",
    "X = data_df_cleaned[X_features]\n",
    "\n",
    "Y = data_df_cleaned['TOTAL_COST_TO_HOSPITAL']"
   ]
  },
  {
   "cell_type": "code",
   "execution_count": 12,
   "metadata": {},
   "outputs": [
    {
     "data": {
      "text/plain": [
       "(186, 40)"
      ]
     },
     "execution_count": 12,
     "metadata": {},
     "output_type": "execute_result"
    }
   ],
   "source": [
    "X = sm.add_constant(X,has_constant='add') \n",
    "X.shape"
   ]
  },
  {
   "cell_type": "markdown",
   "metadata": {},
   "source": [
    "### <font color='Green'>STEP 3: Dividing data into training and validation datasets</font>"
   ]
  },
  {
   "cell_type": "code",
   "execution_count": 13,
   "metadata": {},
   "outputs": [
    {
     "name": "stdout",
     "output_type": "stream",
     "text": [
      "Rows Train X: 130 Columns Train X: 40\n",
      "Rows Test X: 56 Columns Test X: 40\n",
      "Length Train y: 130\n",
      "Length Test y: 56\n"
     ]
    }
   ],
   "source": [
    "# Splitting Data into Train and Validation Sets\n",
    "# Add constant - 1 to X, it will ensure that β0 is calculated\n",
    "\n",
    "train_X, test_X, train_y, test_y = train_test_split( X , Y, train_size = 0.7, random_state = 42 )\n",
    "\n",
    "print(\"Rows Train X:\", len(train_X.index), \"Columns Train X:\", len(train_X.columns))\n",
    "print(\"Rows Test X:\", len(test_X.index), \"Columns Test X:\", len(test_X.columns))\n",
    "print(\"Length Train y:\", len(train_y))\n",
    "print(\"Length Test y:\", len(test_y))"
   ]
  },
  {
   "cell_type": "markdown",
   "metadata": {},
   "source": [
    "### <font color='Green'>STEP 4: Build the model</font>"
   ]
  },
  {
   "cell_type": "code",
   "execution_count": 14,
   "metadata": {},
   "outputs": [
    {
     "data": {
      "text/html": [
       "<table class=\"simpletable\">\n",
       "<tr>\n",
       "        <td>Model:</td>                  <td>OLS</td>            <td>Adj. R-squared:</td>      <td>0.868</td>  \n",
       "</tr>\n",
       "<tr>\n",
       "  <td>Dependent Variable:</td> <td>TOTAL_COST_TO_HOSPITAL</td>        <td>AIC:</td>          <td>3128.9430</td>\n",
       "</tr>\n",
       "<tr>\n",
       "         <td>Date:</td>           <td>2021-07-21 12:06</td>           <td>BIC:</td>          <td>3237.9093</td>\n",
       "</tr>\n",
       "<tr>\n",
       "   <td>No. Observations:</td>            <td>130</td>            <td>Log-Likelihood:</td>     <td>-1526.5</td> \n",
       "</tr>\n",
       "<tr>\n",
       "       <td>Df Model:</td>                <td>37</td>              <td>F-statistic:</td>        <td>23.97</td>  \n",
       "</tr>\n",
       "<tr>\n",
       "     <td>Df Residuals:</td>              <td>92</td>           <td>Prob (F-statistic):</td>  <td>2.06e-33</td> \n",
       "</tr>\n",
       "<tr>\n",
       "      <td>R-squared:</td>               <td>0.906</td>               <td>Scale:</td>        <td>1.3084e+09</td>\n",
       "</tr>\n",
       "</table>\n",
       "<table class=\"simpletable\">\n",
       "<tr>\n",
       "           <td></td>              <th>Coef.</th>     <th>Std.Err.</th>     <th>t</th>     <th>P>|t|</th>    <th>[0.025</th>      <th>0.975]</th>   \n",
       "</tr>\n",
       "<tr>\n",
       "  <th>const</th>                <td>289.8653</td>   <td>35304.6394</td> <td>0.0082</td>  <td>0.9935</td>  <td>-69828.1959</td> <td>70407.9266</td> \n",
       "</tr>\n",
       "<tr>\n",
       "  <th>AGE</th>                  <td>-108.0572</td>   <td>354.4250</td>  <td>-0.3049</td> <td>0.7611</td>   <td>-811.9758</td>   <td>595.8614</td>  \n",
       "</tr>\n",
       "<tr>\n",
       "  <th>GENDER</th>               <td>1272.7156</td>   <td>8222.2781</td> <td>0.1548</td>  <td>0.8773</td>  <td>-15057.4383</td> <td>17602.8696</td> \n",
       "</tr>\n",
       "<tr>\n",
       "  <th>UNMARRIED</th>           <td>-6304.3083</td>  <td>16888.8288</td> <td>-0.3733</td> <td>0.7098</td>  <td>-39846.9801</td> <td>27238.3635</td> \n",
       "</tr>\n",
       "<tr>\n",
       "  <th>ACHD</th>                 <td>6735.4411</td>  <td>16674.6526</td> <td>0.4039</td>  <td>0.6872</td>  <td>-26381.8584</td> <td>39852.7406</td> \n",
       "</tr>\n",
       "<tr>\n",
       "  <th>CAD_DVD</th>             <td>25590.8505</td>  <td>15837.9770</td> <td>1.6158</td>  <td>0.1096</td>  <td>-5864.7388</td>  <td>57046.4399</td> \n",
       "</tr>\n",
       "<tr>\n",
       "  <th>CAD_SVD</th>             <td>30924.7896</td>  <td>32084.4466</td> <td>0.9639</td>  <td>0.3376</td>  <td>-32797.6908</td> <td>94647.2700</td> \n",
       "</tr>\n",
       "<tr>\n",
       "  <th>CAD_TVD</th>             <td>22097.1764</td>  <td>16582.9768</td> <td>1.3325</td>  <td>0.1860</td>  <td>-10838.0469</td> <td>55032.3998</td> \n",
       "</tr>\n",
       "<tr>\n",
       "  <th>CAD_VSD</th>               <td>-0.0000</td>     <td>0.0000</td>   <td>-0.5573</td> <td>0.5787</td>    <td>-0.0000</td>     <td>0.0000</td>   \n",
       "</tr>\n",
       "<tr>\n",
       "  <th>OS_ASD</th>                <td>50.7876</td>   <td>17614.6675</td> <td>0.0029</td>  <td>0.9977</td>  <td>-34933.4625</td> <td>35035.0376</td> \n",
       "</tr>\n",
       "<tr>\n",
       "  <th>other_heart</th>          <td>349.0227</td>   <td>14313.0809</td> <td>0.0244</td>  <td>0.9806</td>  <td>-28077.9914</td> <td>28776.0367</td> \n",
       "</tr>\n",
       "<tr>\n",
       "  <th>other_respiratory</th>   <td>10231.2297</td>  <td>24819.8256</td> <td>0.4122</td>  <td>0.6811</td>  <td>-39063.0862</td> <td>59525.5456</td> \n",
       "</tr>\n",
       "<tr>\n",
       "  <th>other_general</th>       <td>-50052.8107</td> <td>49736.4624</td> <td>-1.0064</td> <td>0.3169</td> <td>-148833.7182</td> <td>48728.0968</td> \n",
       "</tr>\n",
       "<tr>\n",
       "  <th>other_nervous</th>       <td>13284.9897</td>  <td>39701.5014</td> <td>0.3346</td>  <td>0.7387</td>  <td>-65565.6189</td> <td>92135.5984</td> \n",
       "</tr>\n",
       "<tr>\n",
       "  <th>other_tertalogy</th>     <td>29660.5745</td>  <td>20361.8148</td> <td>1.4567</td>  <td>0.1486</td>  <td>-10779.7472</td> <td>70100.8963</td> \n",
       "</tr>\n",
       "<tr>\n",
       "  <th>PM_VSD</th>              <td>42817.6599</td>  <td>30563.0477</td> <td>1.4010</td>  <td>0.1646</td>  <td>-17883.1910</td> <td>103518.5108</td>\n",
       "</tr>\n",
       "<tr>\n",
       "  <th>RHD</th>                 <td>-26958.8736</td> <td>18833.9711</td> <td>-1.4314</td> <td>0.1557</td>  <td>-64364.7660</td> <td>10447.0188</td> \n",
       "</tr>\n",
       "<tr>\n",
       "  <th>BODY_WEIGHT</th>          <td>-127.4191</td>   <td>475.3672</td>  <td>-0.2680</td> <td>0.7893</td>  <td>-1071.5393</td>   <td>816.7011</td>  \n",
       "</tr>\n",
       "<tr>\n",
       "  <th>BODY_HEIGHT</th>          <td>290.4006</td>    <td>193.1361</td>  <td>1.5036</td>  <td>0.1361</td>   <td>-93.1845</td>    <td>673.9856</td>  \n",
       "</tr>\n",
       "<tr>\n",
       "  <th>HR_PULSE</th>             <td>219.6600</td>    <td>225.6980</td>  <td>0.9732</td>  <td>0.3330</td>   <td>-228.5958</td>   <td>667.9157</td>  \n",
       "</tr>\n",
       "<tr>\n",
       "  <th>BP_HIGH</th>              <td>136.4618</td>    <td>272.2737</td>  <td>0.5012</td>  <td>0.6174</td>   <td>-404.2972</td>   <td>677.2208</td>  \n",
       "</tr>\n",
       "<tr>\n",
       "  <th>BP_LOW</th>                <td>4.5437</td>     <td>355.9393</td>  <td>0.0128</td>  <td>0.9898</td>   <td>-702.3825</td>   <td>711.4700</td>  \n",
       "</tr>\n",
       "<tr>\n",
       "  <th>RR</th>                  <td>-1299.6419</td>   <td>1247.2360</td> <td>-1.0420</td> <td>0.3001</td>  <td>-3776.7602</td>   <td>1177.4764</td> \n",
       "</tr>\n",
       "<tr>\n",
       "  <th>Diabetes1</th>           <td>17784.3707</td>  <td>22502.4793</td> <td>0.7903</td>  <td>0.4314</td>  <td>-26907.4956</td> <td>62476.2369</td> \n",
       "</tr>\n",
       "<tr>\n",
       "  <th>Diabetes2</th>           <td>28852.9872</td>  <td>21171.2771</td> <td>1.3628</td>  <td>0.1763</td>  <td>-13194.9965</td> <td>70900.9708</td> \n",
       "</tr>\n",
       "<tr>\n",
       "  <th>hypertension1</th>       <td>-10591.4723</td> <td>14051.4803</td> <td>-0.7538</td> <td>0.4529</td>  <td>-38498.9250</td> <td>17315.9805</td> \n",
       "</tr>\n",
       "<tr>\n",
       "  <th>hypertension2</th>       <td>-15410.4311</td> <td>15530.7617</td> <td>-0.9923</td> <td>0.3237</td>  <td>-46255.8644</td> <td>15435.0022</td> \n",
       "</tr>\n",
       "<tr>\n",
       "  <th>hypertension3</th>        <td>3591.2754</td>  <td>28679.2226</td> <td>0.1252</td>  <td>0.9006</td>  <td>-53368.1362</td> <td>60550.6871</td> \n",
       "</tr>\n",
       "<tr>\n",
       "  <th>other</th>               <td>-4733.6830</td>  <td>13580.8729</td> <td>-0.3486</td> <td>0.7282</td>  <td>-31706.4689</td> <td>22239.1028</td> \n",
       "</tr>\n",
       "<tr>\n",
       "  <th>HB</th>                   <td>-60.8138</td>    <td>1418.9723</td> <td>-0.0429</td> <td>0.9659</td>  <td>-2879.0153</td>   <td>2757.3876</td> \n",
       "</tr>\n",
       "<tr>\n",
       "  <th>UREA</th>                 <td>-500.2961</td>   <td>362.6162</td>  <td>-1.3797</td> <td>0.1710</td>  <td>-1220.4833</td>   <td>219.8910</td>  \n",
       "</tr>\n",
       "<tr>\n",
       "  <th>CREATININE</th>          <td>21007.9077</td>  <td>14096.3538</td> <td>1.4903</td>  <td>0.1396</td>  <td>-6988.6676</td>  <td>49004.4830</td> \n",
       "</tr>\n",
       "<tr>\n",
       "  <th>AMBULANCE</th>            <td>4189.9300</td>  <td>43488.7463</td> <td>0.0963</td>  <td>0.9235</td>  <td>-82182.4741</td> <td>90562.3340</td> \n",
       "</tr>\n",
       "<tr>\n",
       "  <th>TRANSFERRED</th>         <td>-15187.3410</td> <td>22031.1832</td> <td>-0.6894</td> <td>0.4923</td>  <td>-58943.1724</td> <td>28568.4904</td> \n",
       "</tr>\n",
       "<tr>\n",
       "  <th>ALERT</th>                <td>289.8653</td>   <td>35304.6394</td> <td>0.0082</td>  <td>0.9935</td>  <td>-69828.1959</td> <td>70407.9266</td> \n",
       "</tr>\n",
       "<tr>\n",
       "  <th>ELECTIVE</th>             <td>4276.6573</td>  <td>42688.4401</td> <td>0.1002</td>  <td>0.9204</td>  <td>-80506.2695</td> <td>89059.5841</td> \n",
       "</tr>\n",
       "<tr>\n",
       "  <th>LENGTH_OF_STAY_ICU</th>  <td>20343.1199</td>   <td>1280.3729</td> <td>15.8884</td> <td>0.0000</td>  <td>17800.1888</td>  <td>22886.0509</td> \n",
       "</tr>\n",
       "<tr>\n",
       "  <th>LENGTH_OF_STAY_WARD</th>  <td>7221.5358</td>   <td>1109.8346</td> <td>6.5069</td>  <td>0.0000</td>   <td>5017.3085</td>   <td>9425.7632</td> \n",
       "</tr>\n",
       "<tr>\n",
       "  <th>IMPLANT</th>             <td>11480.4282</td>  <td>23242.2349</td> <td>0.4939</td>  <td>0.6225</td>  <td>-34680.6564</td> <td>57641.5129</td> \n",
       "</tr>\n",
       "<tr>\n",
       "  <th>COST_OF_IMPLANT</th>       <td>2.2011</td>      <td>0.6035</td>   <td>3.6470</td>  <td>0.0004</td>    <td>1.0024</td>      <td>3.3998</td>   \n",
       "</tr>\n",
       "</table>\n",
       "<table class=\"simpletable\">\n",
       "<tr>\n",
       "     <td>Omnibus:</td>    <td>11.031</td>  <td>Durbin-Watson:</td>         <td>1.947</td>      \n",
       "</tr>\n",
       "<tr>\n",
       "  <td>Prob(Omnibus):</td>  <td>0.004</td> <td>Jarque-Bera (JB):</td>      <td>18.144</td>      \n",
       "</tr>\n",
       "<tr>\n",
       "       <td>Skew:</td>      <td>0.382</td>     <td>Prob(JB):</td>           <td>0.000</td>      \n",
       "</tr>\n",
       "<tr>\n",
       "     <td>Kurtosis:</td>    <td>4.663</td>  <td>Condition No.:</td>   <td>11080266477720942</td>\n",
       "</tr>\n",
       "</table>"
      ],
      "text/plain": [
       "<class 'statsmodels.iolib.summary2.Summary'>\n",
       "\"\"\"\n",
       "                         Results: Ordinary least squares\n",
       "==================================================================================\n",
       "Model:                 OLS                       Adj. R-squared:        0.868     \n",
       "Dependent Variable:    TOTAL_COST_TO_HOSPITAL    AIC:                   3128.9430 \n",
       "Date:                  2021-07-21 12:06          BIC:                   3237.9093 \n",
       "No. Observations:      130                       Log-Likelihood:        -1526.5   \n",
       "Df Model:              37                        F-statistic:           23.97     \n",
       "Df Residuals:          92                        Prob (F-statistic):    2.06e-33  \n",
       "R-squared:             0.906                     Scale:                 1.3084e+09\n",
       "----------------------------------------------------------------------------------\n",
       "                       Coef.     Std.Err.     t    P>|t|     [0.025       0.975]  \n",
       "----------------------------------------------------------------------------------\n",
       "const                  289.8653 35304.6394  0.0082 0.9935  -69828.1959  70407.9266\n",
       "AGE                   -108.0572   354.4250 -0.3049 0.7611    -811.9758    595.8614\n",
       "GENDER                1272.7156  8222.2781  0.1548 0.8773  -15057.4383  17602.8696\n",
       "UNMARRIED            -6304.3083 16888.8288 -0.3733 0.7098  -39846.9801  27238.3635\n",
       "ACHD                  6735.4411 16674.6526  0.4039 0.6872  -26381.8584  39852.7406\n",
       "CAD_DVD              25590.8505 15837.9770  1.6158 0.1096   -5864.7388  57046.4399\n",
       "CAD_SVD              30924.7896 32084.4466  0.9639 0.3376  -32797.6908  94647.2700\n",
       "CAD_TVD              22097.1764 16582.9768  1.3325 0.1860  -10838.0469  55032.3998\n",
       "CAD_VSD                 -0.0000     0.0000 -0.5573 0.5787      -0.0000      0.0000\n",
       "OS_ASD                  50.7876 17614.6675  0.0029 0.9977  -34933.4625  35035.0376\n",
       "other_heart            349.0227 14313.0809  0.0244 0.9806  -28077.9914  28776.0367\n",
       "other_respiratory    10231.2297 24819.8256  0.4122 0.6811  -39063.0862  59525.5456\n",
       "other_general       -50052.8107 49736.4624 -1.0064 0.3169 -148833.7182  48728.0968\n",
       "other_nervous        13284.9897 39701.5014  0.3346 0.7387  -65565.6189  92135.5984\n",
       "other_tertalogy      29660.5745 20361.8148  1.4567 0.1486  -10779.7472  70100.8963\n",
       "PM_VSD               42817.6599 30563.0477  1.4010 0.1646  -17883.1910 103518.5108\n",
       "RHD                 -26958.8736 18833.9711 -1.4314 0.1557  -64364.7660  10447.0188\n",
       "BODY_WEIGHT           -127.4191   475.3672 -0.2680 0.7893   -1071.5393    816.7011\n",
       "BODY_HEIGHT            290.4006   193.1361  1.5036 0.1361     -93.1845    673.9856\n",
       "HR_PULSE               219.6600   225.6980  0.9732 0.3330    -228.5958    667.9157\n",
       "BP_HIGH                136.4618   272.2737  0.5012 0.6174    -404.2972    677.2208\n",
       "BP_LOW                   4.5437   355.9393  0.0128 0.9898    -702.3825    711.4700\n",
       "RR                   -1299.6419  1247.2360 -1.0420 0.3001   -3776.7602   1177.4764\n",
       "Diabetes1            17784.3707 22502.4793  0.7903 0.4314  -26907.4956  62476.2369\n",
       "Diabetes2            28852.9872 21171.2771  1.3628 0.1763  -13194.9965  70900.9708\n",
       "hypertension1       -10591.4723 14051.4803 -0.7538 0.4529  -38498.9250  17315.9805\n",
       "hypertension2       -15410.4311 15530.7617 -0.9923 0.3237  -46255.8644  15435.0022\n",
       "hypertension3         3591.2754 28679.2226  0.1252 0.9006  -53368.1362  60550.6871\n",
       "other                -4733.6830 13580.8729 -0.3486 0.7282  -31706.4689  22239.1028\n",
       "HB                     -60.8138  1418.9723 -0.0429 0.9659   -2879.0153   2757.3876\n",
       "UREA                  -500.2961   362.6162 -1.3797 0.1710   -1220.4833    219.8910\n",
       "CREATININE           21007.9077 14096.3538  1.4903 0.1396   -6988.6676  49004.4830\n",
       "AMBULANCE             4189.9300 43488.7463  0.0963 0.9235  -82182.4741  90562.3340\n",
       "TRANSFERRED         -15187.3410 22031.1832 -0.6894 0.4923  -58943.1724  28568.4904\n",
       "ALERT                  289.8653 35304.6394  0.0082 0.9935  -69828.1959  70407.9266\n",
       "ELECTIVE              4276.6573 42688.4401  0.1002 0.9204  -80506.2695  89059.5841\n",
       "LENGTH_OF_STAY_ICU   20343.1199  1280.3729 15.8884 0.0000   17800.1888  22886.0509\n",
       "LENGTH_OF_STAY_WARD   7221.5358  1109.8346  6.5069 0.0000    5017.3085   9425.7632\n",
       "IMPLANT              11480.4282 23242.2349  0.4939 0.6225  -34680.6564  57641.5129\n",
       "COST_OF_IMPLANT          2.2011     0.6035  3.6470 0.0004       1.0024      3.3998\n",
       "----------------------------------------------------------------------------------\n",
       "Omnibus:                11.031         Durbin-Watson:            1.947            \n",
       "Prob(Omnibus):          0.004          Jarque-Bera (JB):         18.144           \n",
       "Skew:                   0.382          Prob(JB):                 0.000            \n",
       "Kurtosis:               4.663          Condition No.:            11080266477720942\n",
       "==================================================================================\n",
       "* The condition number is large (1e+16). This might indicate             strong\n",
       "multicollinearity or other numerical problems.\n",
       "\"\"\""
      ]
     },
     "execution_count": 14,
     "metadata": {},
     "output_type": "execute_result"
    }
   ],
   "source": [
    "# Building the model using training dataset\n",
    "# Model Building process will take several iterations\n",
    "model_1 = sm.OLS(train_y, train_X).fit()\n",
    "model_1.summary2()"
   ]
  },
  {
   "cell_type": "markdown",
   "metadata": {},
   "source": [
    "#### <font color='Green'>Extracting Significant Features</font>\n",
    "Look for pvalues < 0.05 in model object"
   ]
  },
  {
   "cell_type": "code",
   "execution_count": 15,
   "metadata": {},
   "outputs": [
    {
     "data": {
      "text/plain": [
       "LENGTH_OF_STAY_ICU     4.088413e-28\n",
       "LENGTH_OF_STAY_WARD    3.953510e-09\n",
       "COST_OF_IMPLANT        4.395835e-04\n",
       "dtype: float64"
      ]
     },
     "execution_count": 15,
     "metadata": {},
     "output_type": "execute_result"
    }
   ],
   "source": [
    "significant_vars = model_1.pvalues.where(model_1.pvalues < 0.05).dropna()\n",
    "significant_vars "
   ]
  },
  {
   "cell_type": "markdown",
   "metadata": {},
   "source": [
    "#### <font color='Green'>STEP 5: Multi-Collinearity: Measurement and Management</font>"
   ]
  },
  {
   "cell_type": "markdown",
   "metadata": {},
   "source": [
    "#### <font color='Green'>Multi-Collinearity</font>\n",
    "\n",
    "When a dataset has a large number of independent variables (features), it is possible that few of these independent variables\n",
    "  are highly correlated. The existence of high correlation between independent variables is called multicollinearity. \n",
    "  Multicollinearity may destabilize the model and have the following impacts.\n",
    "  1. The standard error (SD) of β is inflated\n",
    "  2. A statististically significant variable may be rendered insignificanct as its std error is inflated.\n",
    "  3. The sign of regression coefficient may be different\n",
    "  4. Adding / Removing regression coefficient may cause a large change in regression coefficient\n",
    "  \n",
    "#### <font color='Green'>Measurement using Variance Inflation Factor (VIF)</font>\n",
    "\n",
    "  VIF measures the variance in a variable that can be explained by other variables.\n",
    "  \n",
    "  VIF = X, means (1 - 1/X) % of variance in the variable can be explained by other variables\n",
    "  VIF = 1, means (1 - 1/1 = 0%)  of variance in the variable can be explained by other variables. \n",
    "  VIF = 1  means that the variable is not correlated with other variables\n",
    "  VIF = 2, means (1 - 1/2 = 50%) of variance in the variable can be explained by other variables\n",
    "  VIF = 3, means (1 - 1/3 = 67%) of variance in the variable can be explained by other variables\n",
    "  VIF = 4, means (1 - 1/2 = 75%) of variance in the variable can be explained by other variables\n",
    "  VIF = 5, means (1 - 1/5 = 80%) of variance in the variable can be explained by other variables\n",
    "  and so on.\n",
    "  \n",
    "  So higher VIF indicates heavy multicollinearity.\n",
    "  \n",
    "#### <font color='Green'>Multicollinearity Management</font>\n",
    "  1. Identify Variables with VIF > 4 [authors differ in opinion, but usually not higher than 10 is permitted]\n",
    "  2. Check correlations of variables with VIF > 4\n",
    "  3. Among a group of variables with VIF > 4, retain only one.\n",
    "  4. Reconstruct the model"
   ]
  },
  {
   "cell_type": "markdown",
   "metadata": {},
   "source": [
    "#### <font color='Green'>Determining VIF</font>"
   ]
  },
  {
   "cell_type": "code",
   "execution_count": 16,
   "metadata": {},
   "outputs": [],
   "source": [
    "def get_vif_factors( X ):\n",
    "    X_matrix = np.asmatrix(X)\n",
    "    vif = [ variance_inflation_factor( X_matrix, i ) for i in range( X_matrix.shape[1] ) ]\n",
    "    vif_factors = pd.DataFrame()\n",
    "    vif_factors['column'] = X.columns\n",
    "    vif_factors['vif'] = vif\n",
    "    return vif_factors"
   ]
  },
  {
   "cell_type": "code",
   "execution_count": 17,
   "metadata": {},
   "outputs": [
    {
     "data": {
      "text/html": [
       "<div>\n",
       "<style scoped>\n",
       "    .dataframe tbody tr th:only-of-type {\n",
       "        vertical-align: middle;\n",
       "    }\n",
       "\n",
       "    .dataframe tbody tr th {\n",
       "        vertical-align: top;\n",
       "    }\n",
       "\n",
       "    .dataframe thead th {\n",
       "        text-align: right;\n",
       "    }\n",
       "</style>\n",
       "<table border=\"1\" class=\"dataframe\">\n",
       "  <thead>\n",
       "    <tr style=\"text-align: right;\">\n",
       "      <th></th>\n",
       "      <th>column</th>\n",
       "      <th>vif</th>\n",
       "    </tr>\n",
       "  </thead>\n",
       "  <tbody>\n",
       "    <tr>\n",
       "      <th>4</th>\n",
       "      <td>BP_HIGH</td>\n",
       "      <td>85.993764</td>\n",
       "    </tr>\n",
       "    <tr>\n",
       "      <th>5</th>\n",
       "      <td>BP_LOW</td>\n",
       "      <td>60.915638</td>\n",
       "    </tr>\n",
       "    <tr>\n",
       "      <th>2</th>\n",
       "      <td>BODY_HEIGHT</td>\n",
       "      <td>47.620398</td>\n",
       "    </tr>\n",
       "    <tr>\n",
       "      <th>6</th>\n",
       "      <td>RR</td>\n",
       "      <td>38.990157</td>\n",
       "    </tr>\n",
       "    <tr>\n",
       "      <th>1</th>\n",
       "      <td>BODY_WEIGHT</td>\n",
       "      <td>29.310957</td>\n",
       "    </tr>\n",
       "    <tr>\n",
       "      <th>3</th>\n",
       "      <td>HR_PULSE</td>\n",
       "      <td>27.967867</td>\n",
       "    </tr>\n",
       "    <tr>\n",
       "      <th>7</th>\n",
       "      <td>HB</td>\n",
       "      <td>22.275631</td>\n",
       "    </tr>\n",
       "    <tr>\n",
       "      <th>9</th>\n",
       "      <td>CREATININE</td>\n",
       "      <td>11.543841</td>\n",
       "    </tr>\n",
       "    <tr>\n",
       "      <th>0</th>\n",
       "      <td>AGE</td>\n",
       "      <td>11.214474</td>\n",
       "    </tr>\n",
       "    <tr>\n",
       "      <th>11</th>\n",
       "      <td>LENGTH_OF_STAY_WARD</td>\n",
       "      <td>7.153806</td>\n",
       "    </tr>\n",
       "    <tr>\n",
       "      <th>8</th>\n",
       "      <td>UREA</td>\n",
       "      <td>6.584523</td>\n",
       "    </tr>\n",
       "    <tr>\n",
       "      <th>10</th>\n",
       "      <td>LENGTH_OF_STAY_ICU</td>\n",
       "      <td>2.822453</td>\n",
       "    </tr>\n",
       "    <tr>\n",
       "      <th>12</th>\n",
       "      <td>COST_OF_IMPLANT</td>\n",
       "      <td>1.484402</td>\n",
       "    </tr>\n",
       "  </tbody>\n",
       "</table>\n",
       "</div>"
      ],
      "text/plain": [
       "                 column        vif\n",
       "4               BP_HIGH  85.993764\n",
       "5                BP_LOW  60.915638\n",
       "2           BODY_HEIGHT  47.620398\n",
       "6                    RR  38.990157\n",
       "1           BODY_WEIGHT  29.310957\n",
       "3              HR_PULSE  27.967867\n",
       "7                    HB  22.275631\n",
       "9            CREATININE  11.543841\n",
       "0                   AGE  11.214474\n",
       "11  LENGTH_OF_STAY_WARD   7.153806\n",
       "8                  UREA   6.584523\n",
       "10   LENGTH_OF_STAY_ICU   2.822453\n",
       "12      COST_OF_IMPLANT   1.484402"
      ]
     },
     "execution_count": 17,
     "metadata": {},
     "output_type": "execute_result"
    }
   ],
   "source": [
    "features_vif = ['AGE', 'BODY_WEIGHT', 'BODY_HEIGHT', 'HR_PULSE', 'BP_HIGH', 'BP_LOW', 'RR',\n",
    "                'HB', 'UREA', 'CREATININE', 'LENGTH_OF_STAY_ICU', 'LENGTH_OF_STAY_WARD', 'COST_OF_IMPLANT']\n",
    "vif_factors = get_vif_factors( X[features_vif] )\n",
    "vif_factors = vif_factors.sort_values('vif',ascending=False)\n",
    "vif_factors"
   ]
  },
  {
   "cell_type": "markdown",
   "metadata": {},
   "source": [
    "#### <font color='Green'>Extracting attributes with VIF > 10</font>"
   ]
  },
  {
   "cell_type": "code",
   "execution_count": 18,
   "metadata": {},
   "outputs": [
    {
     "name": "stdout",
     "output_type": "stream",
     "text": [
      "4        BP_HIGH\n",
      "5         BP_LOW\n",
      "2    BODY_HEIGHT\n",
      "6             RR\n",
      "1    BODY_WEIGHT\n",
      "3       HR_PULSE\n",
      "7             HB\n",
      "9     CREATININE\n",
      "0            AGE\n",
      "Name: column, dtype: object\n"
     ]
    }
   ],
   "source": [
    "columns_with_large_vif = vif_factors[vif_factors.vif > 10].column\n",
    "print(columns_with_large_vif)"
   ]
  },
  {
   "cell_type": "markdown",
   "metadata": {},
   "source": [
    "#### <font color='Green'>Plotting correlation map of attributes with VIF > 10</font>"
   ]
  },
  {
   "cell_type": "code",
   "execution_count": 19,
   "metadata": {},
   "outputs": [
    {
     "data": {
      "image/png": "[encoded data removed]",
      "text/plain": [
       "<Figure size 864x720 with 2 Axes>"
      ]
     },
     "metadata": {
      "needs_background": "light"
     },
     "output_type": "display_data"
    }
   ],
   "source": [
    "plt.figure( figsize = (12,10) )\n",
    "sn.heatmap( X[columns_with_large_vif].corr(), annot = True );\n",
    "plt.title( \"Figure - Heatmap depicting correlation between features\");"
   ]
  },
  {
   "cell_type": "markdown",
   "metadata": {},
   "source": [
    "#### <font color='Green'>Iterative process for removing Variables with VIF > 10</font>\n",
    "\n",
    "Start with variables [BP_HIGH] in descending order and keep removing attributes one by one. <br>\n",
    "Keep repeating the process unless there is no variable with VIF > 10.<br>\n",
    "After several iterations - found that has to be removed ['BP_HIGH','BODY_HEIGHT','RR','BP_LOW','BODY_WEIGHT','HR_PULSE'] <br>\n",
    "The remaining variables captured in X_N for regression"
   ]
  },
  {
   "cell_type": "markdown",
   "metadata": {},
   "source": [
    "#### <font color='Green'>Began Process with Columns</font>\n"
   ]
  },
  {
   "cell_type": "code",
   "execution_count": 20,
   "metadata": {},
   "outputs": [],
   "source": [
    "#columns_to_be_removed = ['BP_HIGH','BP_LOW','BODY_HEIGHT','RR','BODY_WEIGHT','HR_PULSE','HB','CREATININE','AGE']"
   ]
  },
  {
   "cell_type": "markdown",
   "metadata": {},
   "source": [
    "#### <font color='Green'>Ended Process with Columns</font>\n"
   ]
  },
  {
   "cell_type": "code",
   "execution_count": 21,
   "metadata": {},
   "outputs": [],
   "source": [
    "columns_to_be_removed = ['BP_HIGH','BODY_HEIGHT','RR','BP_LOW','BODY_WEIGHT','HR_PULSE']"
   ]
  },
  {
   "cell_type": "code",
   "execution_count": 22,
   "metadata": {},
   "outputs": [
    {
     "data": {
      "text/html": [
       "<div>\n",
       "<style scoped>\n",
       "    .dataframe tbody tr th:only-of-type {\n",
       "        vertical-align: middle;\n",
       "    }\n",
       "\n",
       "    .dataframe tbody tr th {\n",
       "        vertical-align: top;\n",
       "    }\n",
       "\n",
       "    .dataframe thead th {\n",
       "        text-align: right;\n",
       "    }\n",
       "</style>\n",
       "<table border=\"1\" class=\"dataframe\">\n",
       "  <thead>\n",
       "    <tr style=\"text-align: right;\">\n",
       "      <th></th>\n",
       "      <th>column</th>\n",
       "      <th>vif</th>\n",
       "    </tr>\n",
       "  </thead>\n",
       "  <tbody>\n",
       "    <tr>\n",
       "      <th>2</th>\n",
       "      <td>CREATININE</td>\n",
       "      <td>8.678469</td>\n",
       "    </tr>\n",
       "    <tr>\n",
       "      <th>6</th>\n",
       "      <td>HB</td>\n",
       "      <td>6.921289</td>\n",
       "    </tr>\n",
       "    <tr>\n",
       "      <th>4</th>\n",
       "      <td>LENGTH_OF_STAY_WARD</td>\n",
       "      <td>5.976150</td>\n",
       "    </tr>\n",
       "    <tr>\n",
       "      <th>3</th>\n",
       "      <td>UREA</td>\n",
       "      <td>5.759588</td>\n",
       "    </tr>\n",
       "    <tr>\n",
       "      <th>5</th>\n",
       "      <td>AGE</td>\n",
       "      <td>5.023875</td>\n",
       "    </tr>\n",
       "    <tr>\n",
       "      <th>0</th>\n",
       "      <td>LENGTH_OF_STAY_ICU</td>\n",
       "      <td>2.627927</td>\n",
       "    </tr>\n",
       "    <tr>\n",
       "      <th>1</th>\n",
       "      <td>COST_OF_IMPLANT</td>\n",
       "      <td>1.255000</td>\n",
       "    </tr>\n",
       "  </tbody>\n",
       "</table>\n",
       "</div>"
      ],
      "text/plain": [
       "                column       vif\n",
       "2           CREATININE  8.678469\n",
       "6                   HB  6.921289\n",
       "4  LENGTH_OF_STAY_WARD  5.976150\n",
       "3                 UREA  5.759588\n",
       "5                  AGE  5.023875\n",
       "0   LENGTH_OF_STAY_ICU  2.627927\n",
       "1      COST_OF_IMPLANT  1.255000"
      ]
     },
     "execution_count": 22,
     "metadata": {},
     "output_type": "execute_result"
    }
   ],
   "source": [
    "new_features_vif = list( set(features_vif) - set(columns_to_be_removed) )\n",
    "vif_factors = get_vif_factors( X[new_features_vif] )\n",
    "vif_factors = vif_factors.sort_values('vif',ascending=False)\n",
    "vif_factors"
   ]
  },
  {
   "cell_type": "markdown",
   "metadata": {},
   "source": [
    "<b> We shall use \"new_features_vif\" attributes along with categorical variables for re-building regression model. </b>"
   ]
  },
  {
   "cell_type": "code",
   "execution_count": 23,
   "metadata": {},
   "outputs": [
    {
     "name": "stdout",
     "output_type": "stream",
     "text": [
      "['other_nervous', 'Diabetes1', 'RHD', 'other_general', 'AGE', 'UNMARRIED', 'ACHD', 'IMPLANT', 'hypertension2', 'CREATININE', 'UREA', 'CAD_SVD', 'Diabetes2', 'hypertension1', 'TRANSFERRED', 'ELECTIVE', 'ALERT', 'hypertension3', 'other_respiratory', 'OS_ASD', 'LENGTH_OF_STAY_ICU', 'AMBULANCE', 'COST_OF_IMPLANT', 'LENGTH_OF_STAY_WARD', 'other_heart', 'other_tertalogy', 'other', 'HB', 'CAD_TVD', 'CAD_DVD', 'PM_VSD', 'CAD_VSD', 'GENDER']\n"
     ]
    }
   ],
   "source": [
    "X_new_features = list( set(X_features) - set(columns_to_be_removed) )\n",
    "print(X_new_features)"
   ]
  },
  {
   "cell_type": "markdown",
   "metadata": {},
   "source": [
    "#### <font color='Green'>Regenerate Train and Test</font>"
   ]
  },
  {
   "cell_type": "code",
   "execution_count": 24,
   "metadata": {},
   "outputs": [
    {
     "name": "stdout",
     "output_type": "stream",
     "text": [
      "Rows Train X: 130 Columns Train X: 34\n",
      "Rows Test X: 56 Columns Test X: 34\n",
      "Length Train y: 130\n",
      "Length Test y: 56\n"
     ]
    }
   ],
   "source": [
    "#Re-add 'const' to X_new_features\n",
    "X_new_features.insert(0, 'const')\n",
    "train_X = train_X[X_new_features]\n",
    "test_X  = test_X[X_new_features]\n",
    "\n",
    "print(\"Rows Train X:\", len(train_X.index), \"Columns Train X:\", len(train_X.columns))\n",
    "print(\"Rows Test X:\", len(test_X.index), \"Columns Test X:\", len(test_X.columns))\n",
    "print(\"Length Train y:\", len(train_y))\n",
    "print(\"Length Test y:\", len(test_y))"
   ]
  },
  {
   "cell_type": "markdown",
   "metadata": {},
   "source": [
    "#### <font color='Green'>Regenerate Model</font>"
   ]
  },
  {
   "cell_type": "code",
   "execution_count": 25,
   "metadata": {},
   "outputs": [
    {
     "data": {
      "text/html": [
       "<table class=\"simpletable\">\n",
       "<tr>\n",
       "        <td>Model:</td>                  <td>OLS</td>            <td>Adj. R-squared:</td>      <td>0.869</td>  \n",
       "</tr>\n",
       "<tr>\n",
       "  <td>Dependent Variable:</td> <td>TOTAL_COST_TO_HOSPITAL</td>        <td>AIC:</td>          <td>3123.9895</td>\n",
       "</tr>\n",
       "<tr>\n",
       "         <td>Date:</td>           <td>2021-07-21 12:06</td>           <td>BIC:</td>          <td>3215.7506</td>\n",
       "</tr>\n",
       "<tr>\n",
       "   <td>No. Observations:</td>            <td>130</td>            <td>Log-Likelihood:</td>     <td>-1530.0</td> \n",
       "</tr>\n",
       "<tr>\n",
       "       <td>Df Model:</td>                <td>31</td>              <td>F-statistic:</td>        <td>28.69</td>  \n",
       "</tr>\n",
       "<tr>\n",
       "     <td>Df Residuals:</td>              <td>98</td>           <td>Prob (F-statistic):</td>  <td>1.21e-36</td> \n",
       "</tr>\n",
       "<tr>\n",
       "      <td>R-squared:</td>               <td>0.901</td>               <td>Scale:</td>        <td>1.2967e+09</td>\n",
       "</tr>\n",
       "</table>\n",
       "<table class=\"simpletable\">\n",
       "<tr>\n",
       "           <td></td>              <th>Coef.</th>     <th>Std.Err.</th>     <th>t</th>     <th>P>|t|</th>    <th>[0.025</th>      <th>0.975]</th>  \n",
       "</tr>\n",
       "<tr>\n",
       "  <th>const</th>                <td>9561.7770</td>  <td>25996.8664</td> <td>0.3678</td>  <td>0.7138</td>  <td>-42028.1583</td> <td>61151.7122</td>\n",
       "</tr>\n",
       "<tr>\n",
       "  <th>other_nervous</th>        <td>7324.5961</td>  <td>39025.2919</td> <td>0.1877</td>  <td>0.8515</td>  <td>-70119.8255</td> <td>84769.0178</td>\n",
       "</tr>\n",
       "<tr>\n",
       "  <th>Diabetes1</th>           <td>17662.2384</td>  <td>21914.8314</td> <td>0.8059</td>  <td>0.4222</td>  <td>-25827.0313</td> <td>61151.5082</td>\n",
       "</tr>\n",
       "<tr>\n",
       "  <th>RHD</th>                 <td>-21858.4061</td> <td>18410.6214</td> <td>-1.1873</td> <td>0.2380</td>  <td>-58393.6851</td> <td>14676.8730</td>\n",
       "</tr>\n",
       "<tr>\n",
       "  <th>other_general</th>       <td>-52987.6795</td> <td>48728.3860</td> <td>-1.0874</td> <td>0.2795</td> <td>-149687.5756</td> <td>43712.2166</td>\n",
       "</tr>\n",
       "<tr>\n",
       "  <th>AGE</th>                  <td>180.9266</td>    <td>317.7999</td>  <td>0.5693</td>  <td>0.5704</td>   <td>-449.7370</td>   <td>811.5903</td> \n",
       "</tr>\n",
       "<tr>\n",
       "  <th>UNMARRIED</th>           <td>-4226.2255</td>  <td>15711.9458</td> <td>-0.2690</td> <td>0.7885</td>  <td>-35406.0706</td> <td>26953.6197</td>\n",
       "</tr>\n",
       "<tr>\n",
       "  <th>ACHD</th>                 <td>6688.8487</td>  <td>16250.6012</td> <td>0.4116</td>  <td>0.6815</td>  <td>-25559.9405</td> <td>38937.6378</td>\n",
       "</tr>\n",
       "<tr>\n",
       "  <th>IMPLANT</th>             <td>13781.8267</td>  <td>22816.3399</td> <td>0.6040</td>  <td>0.5472</td>  <td>-31496.4572</td> <td>59060.1105</td>\n",
       "</tr>\n",
       "<tr>\n",
       "  <th>hypertension2</th>       <td>-17107.5243</td> <td>15032.7191</td> <td>-1.1380</td> <td>0.2579</td>  <td>-46939.4662</td> <td>12724.4176</td>\n",
       "</tr>\n",
       "<tr>\n",
       "  <th>CREATININE</th>          <td>26043.0402</td>  <td>13343.6159</td> <td>1.9517</td>  <td>0.0538</td>   <td>-436.9312</td>  <td>52523.0116</td>\n",
       "</tr>\n",
       "<tr>\n",
       "  <th>UREA</th>                 <td>-507.9012</td>   <td>355.2135</td>  <td>-1.4298</td> <td>0.1559</td>  <td>-1212.8109</td>   <td>197.0084</td> \n",
       "</tr>\n",
       "<tr>\n",
       "  <th>CAD_SVD</th>             <td>31628.6590</td>  <td>31227.3569</td> <td>1.0129</td>  <td>0.3136</td>  <td>-30341.0144</td> <td>93598.3324</td>\n",
       "</tr>\n",
       "<tr>\n",
       "  <th>Diabetes2</th>           <td>32482.9471</td>  <td>20559.0150</td> <td>1.5800</td>  <td>0.1173</td>  <td>-8315.7491</td>  <td>73281.6432</td>\n",
       "</tr>\n",
       "<tr>\n",
       "  <th>hypertension1</th>       <td>-18139.7009</td> <td>13375.3636</td> <td>-1.3562</td> <td>0.1782</td>  <td>-44682.6747</td>  <td>8403.2728</td>\n",
       "</tr>\n",
       "<tr>\n",
       "  <th>TRANSFERRED</th>         <td>-17586.5686</td> <td>21754.0956</td> <td>-0.8084</td> <td>0.4208</td>  <td>-60756.8633</td> <td>25583.7261</td>\n",
       "</tr>\n",
       "<tr>\n",
       "  <th>ELECTIVE</th>             <td>9902.7340</td>  <td>40474.1392</td> <td>0.2447</td>  <td>0.8072</td>  <td>-70416.8780</td> <td>90222.3459</td>\n",
       "</tr>\n",
       "<tr>\n",
       "  <th>ALERT</th>                <td>9561.7770</td>  <td>25996.8664</td> <td>0.3678</td>  <td>0.7138</td>  <td>-42028.1583</td> <td>61151.7122</td>\n",
       "</tr>\n",
       "<tr>\n",
       "  <th>hypertension3</th>       <td>10497.2979</td>  <td>27604.5701</td> <td>0.3803</td>  <td>0.7046</td>  <td>-44283.0731</td> <td>65277.6689</td>\n",
       "</tr>\n",
       "<tr>\n",
       "  <th>other_respiratory</th>    <td>6369.3514</td>  <td>24463.5168</td> <td>0.2604</td>  <td>0.7951</td>  <td>-42177.7014</td> <td>54916.4043</td>\n",
       "</tr>\n",
       "<tr>\n",
       "  <th>OS_ASD</th>               <td>4910.1455</td>  <td>17012.6797</td> <td>0.2886</td>  <td>0.7735</td>  <td>-28850.9637</td> <td>38671.2548</td>\n",
       "</tr>\n",
       "<tr>\n",
       "  <th>LENGTH_OF_STAY_ICU</th>  <td>20120.0287</td>   <td>1220.2366</td> <td>16.4886</td> <td>0.0000</td>  <td>17698.5088</td>  <td>22541.5485</td>\n",
       "</tr>\n",
       "<tr>\n",
       "  <th>AMBULANCE</th>            <td>6442.0557</td>  <td>41179.5222</td> <td>0.1564</td>  <td>0.8760</td>  <td>-75277.3658</td> <td>88161.4772</td>\n",
       "</tr>\n",
       "<tr>\n",
       "  <th>COST_OF_IMPLANT</th>       <td>2.1963</td>      <td>0.5722</td>   <td>3.8381</td>  <td>0.0002</td>    <td>1.0607</td>      <td>3.3319</td>  \n",
       "</tr>\n",
       "<tr>\n",
       "  <th>LENGTH_OF_STAY_WARD</th>  <td>6931.1306</td>   <td>1066.2043</td> <td>6.5008</td>  <td>0.0000</td>   <td>4815.2829</td>   <td>9046.9783</td>\n",
       "</tr>\n",
       "<tr>\n",
       "  <th>other_heart</th>         <td>-3366.7447</td>  <td>13401.6212</td> <td>-0.2512</td> <td>0.8022</td>  <td>-29961.8258</td> <td>23228.3364</td>\n",
       "</tr>\n",
       "<tr>\n",
       "  <th>other_tertalogy</th>     <td>33327.4830</td>  <td>19373.9491</td> <td>1.7202</td>  <td>0.0885</td>  <td>-5119.4885</td>  <td>71774.4544</td>\n",
       "</tr>\n",
       "<tr>\n",
       "  <th>other</th>               <td>-9419.1127</td>  <td>13177.0636</td> <td>-0.7148</td> <td>0.4764</td>  <td>-35568.5666</td> <td>16730.3412</td>\n",
       "</tr>\n",
       "<tr>\n",
       "  <th>HB</th>                   <td>454.3024</td>    <td>1341.8099</td> <td>0.3386</td>  <td>0.7357</td>  <td>-2208.4756</td>   <td>3117.0805</td>\n",
       "</tr>\n",
       "<tr>\n",
       "  <th>CAD_TVD</th>             <td>21571.9740</td>  <td>15797.7862</td> <td>1.3655</td>  <td>0.1752</td>  <td>-9778.2186</td>  <td>52922.1666</td>\n",
       "</tr>\n",
       "<tr>\n",
       "  <th>CAD_DVD</th>             <td>27402.3829</td>  <td>15012.1059</td> <td>1.8254</td>  <td>0.0710</td>  <td>-2388.6528</td>  <td>57193.4185</td>\n",
       "</tr>\n",
       "<tr>\n",
       "  <th>PM_VSD</th>              <td>36778.0930</td>  <td>28435.0691</td> <td>1.2934</td>  <td>0.1989</td>  <td>-19650.3761</td> <td>93206.5621</td>\n",
       "</tr>\n",
       "<tr>\n",
       "  <th>CAD_VSD</th>               <td>0.0000</td>      <td>0.0000</td>     <td>nan</td>     <td>nan</td>     <td>0.0000</td>      <td>0.0000</td>  \n",
       "</tr>\n",
       "<tr>\n",
       "  <th>GENDER</th>               <td>131.9325</td>    <td>8023.9268</td> <td>0.0164</td>  <td>0.9869</td>  <td>-15791.2892</td> <td>16055.1542</td>\n",
       "</tr>\n",
       "</table>\n",
       "<table class=\"simpletable\">\n",
       "<tr>\n",
       "     <td>Omnibus:</td>    <td>9.157</td>  <td>Durbin-Watson:</td>         <td>1.917</td>      \n",
       "</tr>\n",
       "<tr>\n",
       "  <td>Prob(Omnibus):</td> <td>0.010</td> <td>Jarque-Bera (JB):</td>      <td>12.506</td>      \n",
       "</tr>\n",
       "<tr>\n",
       "       <td>Skew:</td>     <td>0.380</td>     <td>Prob(JB):</td>           <td>0.002</td>      \n",
       "</tr>\n",
       "<tr>\n",
       "     <td>Kurtosis:</td>   <td>4.316</td>  <td>Condition No.:</td>   <td>20828854412956132</td>\n",
       "</tr>\n",
       "</table>"
      ],
      "text/plain": [
       "<class 'statsmodels.iolib.summary2.Summary'>\n",
       "\"\"\"\n",
       "                         Results: Ordinary least squares\n",
       "=================================================================================\n",
       "Model:                  OLS                      Adj. R-squared:       0.869     \n",
       "Dependent Variable:     TOTAL_COST_TO_HOSPITAL   AIC:                  3123.9895 \n",
       "Date:                   2021-07-21 12:06         BIC:                  3215.7506 \n",
       "No. Observations:       130                      Log-Likelihood:       -1530.0   \n",
       "Df Model:               31                       F-statistic:          28.69     \n",
       "Df Residuals:           98                       Prob (F-statistic):   1.21e-36  \n",
       "R-squared:              0.901                    Scale:                1.2967e+09\n",
       "---------------------------------------------------------------------------------\n",
       "                       Coef.     Std.Err.     t    P>|t|     [0.025      0.975]  \n",
       "---------------------------------------------------------------------------------\n",
       "const                 9561.7770 25996.8664  0.3678 0.7138  -42028.1583 61151.7122\n",
       "other_nervous         7324.5961 39025.2919  0.1877 0.8515  -70119.8255 84769.0178\n",
       "Diabetes1            17662.2384 21914.8314  0.8059 0.4222  -25827.0313 61151.5082\n",
       "RHD                 -21858.4061 18410.6214 -1.1873 0.2380  -58393.6851 14676.8730\n",
       "other_general       -52987.6795 48728.3860 -1.0874 0.2795 -149687.5756 43712.2166\n",
       "AGE                    180.9266   317.7999  0.5693 0.5704    -449.7370   811.5903\n",
       "UNMARRIED            -4226.2255 15711.9458 -0.2690 0.7885  -35406.0706 26953.6197\n",
       "ACHD                  6688.8487 16250.6012  0.4116 0.6815  -25559.9405 38937.6378\n",
       "IMPLANT              13781.8267 22816.3399  0.6040 0.5472  -31496.4572 59060.1105\n",
       "hypertension2       -17107.5243 15032.7191 -1.1380 0.2579  -46939.4662 12724.4176\n",
       "CREATININE           26043.0402 13343.6159  1.9517 0.0538    -436.9312 52523.0116\n",
       "UREA                  -507.9012   355.2135 -1.4298 0.1559   -1212.8109   197.0084\n",
       "CAD_SVD              31628.6590 31227.3569  1.0129 0.3136  -30341.0144 93598.3324\n",
       "Diabetes2            32482.9471 20559.0150  1.5800 0.1173   -8315.7491 73281.6432\n",
       "hypertension1       -18139.7009 13375.3636 -1.3562 0.1782  -44682.6747  8403.2728\n",
       "TRANSFERRED         -17586.5686 21754.0956 -0.8084 0.4208  -60756.8633 25583.7261\n",
       "ELECTIVE              9902.7340 40474.1392  0.2447 0.8072  -70416.8780 90222.3459\n",
       "ALERT                 9561.7770 25996.8664  0.3678 0.7138  -42028.1583 61151.7122\n",
       "hypertension3        10497.2979 27604.5701  0.3803 0.7046  -44283.0731 65277.6689\n",
       "other_respiratory     6369.3514 24463.5168  0.2604 0.7951  -42177.7014 54916.4043\n",
       "OS_ASD                4910.1455 17012.6797  0.2886 0.7735  -28850.9637 38671.2548\n",
       "LENGTH_OF_STAY_ICU   20120.0287  1220.2366 16.4886 0.0000   17698.5088 22541.5485\n",
       "AMBULANCE             6442.0557 41179.5222  0.1564 0.8760  -75277.3658 88161.4772\n",
       "COST_OF_IMPLANT          2.1963     0.5722  3.8381 0.0002       1.0607     3.3319\n",
       "LENGTH_OF_STAY_WARD   6931.1306  1066.2043  6.5008 0.0000    4815.2829  9046.9783\n",
       "other_heart          -3366.7447 13401.6212 -0.2512 0.8022  -29961.8258 23228.3364\n",
       "other_tertalogy      33327.4830 19373.9491  1.7202 0.0885   -5119.4885 71774.4544\n",
       "other                -9419.1127 13177.0636 -0.7148 0.4764  -35568.5666 16730.3412\n",
       "HB                     454.3024  1341.8099  0.3386 0.7357   -2208.4756  3117.0805\n",
       "CAD_TVD              21571.9740 15797.7862  1.3655 0.1752   -9778.2186 52922.1666\n",
       "CAD_DVD              27402.3829 15012.1059  1.8254 0.0710   -2388.6528 57193.4185\n",
       "PM_VSD               36778.0930 28435.0691  1.2934 0.1989  -19650.3761 93206.5621\n",
       "CAD_VSD                  0.0000     0.0000     nan    nan       0.0000     0.0000\n",
       "GENDER                 131.9325  8023.9268  0.0164 0.9869  -15791.2892 16055.1542\n",
       "---------------------------------------------------------------------------------\n",
       "Omnibus:                9.157         Durbin-Watson:            1.917            \n",
       "Prob(Omnibus):          0.010         Jarque-Bera (JB):         12.506           \n",
       "Skew:                   0.380         Prob(JB):                 0.002            \n",
       "Kurtosis:               4.316         Condition No.:            20828854412956132\n",
       "=================================================================================\n",
       "* The condition number is large (2e+16). This might indicate             strong\n",
       "multicollinearity or other numerical problems.\n",
       "\"\"\""
      ]
     },
     "execution_count": 25,
     "metadata": {},
     "output_type": "execute_result"
    }
   ],
   "source": [
    "# Building the model using training dataset\n",
    "# Model Building process will take several iterations\n",
    "model_2 = sm.OLS(train_y, train_X).fit()\n",
    "model_2.summary2()"
   ]
  },
  {
   "cell_type": "markdown",
   "metadata": {},
   "source": [
    "#### <font color='Green'>Extracting Significant Features</font>\n",
    "Look for pvalues < 0.05 in model object"
   ]
  },
  {
   "cell_type": "code",
   "execution_count": 26,
   "metadata": {},
   "outputs": [
    {
     "data": {
      "text/plain": [
       "['LENGTH_OF_STAY_ICU', 'COST_OF_IMPLANT', 'LENGTH_OF_STAY_WARD']"
      ]
     },
     "execution_count": 26,
     "metadata": {},
     "output_type": "execute_result"
    }
   ],
   "source": [
    "significant_vars = model_2.pvalues.where(model_2.pvalues < 0.05).dropna()\n",
    "significant_vars = significant_vars.index.tolist()\n",
    "significant_vars"
   ]
  },
  {
   "cell_type": "code",
   "execution_count": 27,
   "metadata": {},
   "outputs": [
    {
     "name": "stdout",
     "output_type": "stream",
     "text": [
      "Rows Train X: 130 Columns Train X: 4\n",
      "Rows Test X: 56 Columns Test X: 4\n",
      "Length Train y: 130\n",
      "Length Test y: 56\n"
     ]
    }
   ],
   "source": [
    "significant_vars = ['const', 'LENGTH_OF_STAY_ICU', 'COST_OF_IMPLANT', 'LENGTH_OF_STAY_WARD']\n",
    "train_X = train_X[significant_vars]\n",
    "test_X  = test_X[significant_vars]\n",
    "\n",
    "print(\"Rows Train X:\", len(train_X.index), \"Columns Train X:\", len(train_X.columns))\n",
    "print(\"Rows Test X:\", len(test_X.index), \"Columns Test X:\", len(test_X.columns))\n",
    "print(\"Length Train y:\", len(train_y))\n",
    "print(\"Length Test y:\", len(test_y))"
   ]
  },
  {
   "cell_type": "markdown",
   "metadata": {},
   "source": [
    "#### <font color='Green'>Regenerate Model</font>"
   ]
  },
  {
   "cell_type": "code",
   "execution_count": 28,
   "metadata": {},
   "outputs": [
    {
     "data": {
      "text/html": [
       "<table class=\"simpletable\">\n",
       "<tr>\n",
       "        <td>Model:</td>                  <td>OLS</td>            <td>Adj. R-squared:</td>      <td>0.837</td>  \n",
       "</tr>\n",
       "<tr>\n",
       "  <td>Dependent Variable:</td> <td>TOTAL_COST_TO_HOSPITAL</td>        <td>AIC:</td>          <td>3129.5121</td>\n",
       "</tr>\n",
       "<tr>\n",
       "         <td>Date:</td>           <td>2021-07-21 12:06</td>           <td>BIC:</td>          <td>3140.9822</td>\n",
       "</tr>\n",
       "<tr>\n",
       "   <td>No. Observations:</td>            <td>130</td>            <td>Log-Likelihood:</td>     <td>-1560.8</td> \n",
       "</tr>\n",
       "<tr>\n",
       "       <td>Df Model:</td>                 <td>3</td>              <td>F-statistic:</td>        <td>221.7</td>  \n",
       "</tr>\n",
       "<tr>\n",
       "     <td>Df Residuals:</td>              <td>126</td>          <td>Prob (F-statistic):</td>  <td>4.54e-50</td> \n",
       "</tr>\n",
       "<tr>\n",
       "      <td>R-squared:</td>               <td>0.841</td>               <td>Scale:</td>        <td>1.6189e+09</td>\n",
       "</tr>\n",
       "</table>\n",
       "<table class=\"simpletable\">\n",
       "<tr>\n",
       "           <td></td>              <th>Coef.</th>   <th>Std.Err.</th>     <th>t</th>     <th>P>|t|</th>   <th>[0.025</th>     <th>0.975]</th>  \n",
       "</tr>\n",
       "<tr>\n",
       "  <th>const</th>               <td>38256.9839</td> <td>9794.9353</td> <td>3.9058</td>  <td>0.0002</td> <td>18873.0949</td> <td>57640.8728</td>\n",
       "</tr>\n",
       "<tr>\n",
       "  <th>LENGTH_OF_STAY_ICU</th>  <td>23373.2228</td> <td>1073.0257</td> <td>21.7825</td> <td>0.0000</td> <td>21249.7364</td> <td>25496.7092</td>\n",
       "</tr>\n",
       "<tr>\n",
       "  <th>COST_OF_IMPLANT</th>       <td>2.1696</td>    <td>0.2219</td>   <td>9.7791</td>  <td>0.0000</td>   <td>1.7306</td>     <td>2.6087</td>  \n",
       "</tr>\n",
       "<tr>\n",
       "  <th>LENGTH_OF_STAY_WARD</th>  <td>7244.8670</td> <td>1070.3281</td> <td>6.7688</td>  <td>0.0000</td>  <td>5126.7191</td>  <td>9363.0149</td>\n",
       "</tr>\n",
       "</table>\n",
       "<table class=\"simpletable\">\n",
       "<tr>\n",
       "     <td>Omnibus:</td>    <td>10.320</td>  <td>Durbin-Watson:</td>    <td>1.903</td>\n",
       "</tr>\n",
       "<tr>\n",
       "  <td>Prob(Omnibus):</td>  <td>0.006</td> <td>Jarque-Bera (JB):</td> <td>25.497</td>\n",
       "</tr>\n",
       "<tr>\n",
       "       <td>Skew:</td>     <td>-0.004</td>     <td>Prob(JB):</td>      <td>0.000</td>\n",
       "</tr>\n",
       "<tr>\n",
       "     <td>Kurtosis:</td>    <td>5.170</td>  <td>Condition No.:</td>    <td>49135</td>\n",
       "</tr>\n",
       "</table>"
      ],
      "text/plain": [
       "<class 'statsmodels.iolib.summary2.Summary'>\n",
       "\"\"\"\n",
       "                       Results: Ordinary least squares\n",
       "=============================================================================\n",
       "Model:                OLS                     Adj. R-squared:      0.837     \n",
       "Dependent Variable:   TOTAL_COST_TO_HOSPITAL  AIC:                 3129.5121 \n",
       "Date:                 2021-07-21 12:06        BIC:                 3140.9822 \n",
       "No. Observations:     130                     Log-Likelihood:      -1560.8   \n",
       "Df Model:             3                       F-statistic:         221.7     \n",
       "Df Residuals:         126                     Prob (F-statistic):  4.54e-50  \n",
       "R-squared:            0.841                   Scale:               1.6189e+09\n",
       "-----------------------------------------------------------------------------\n",
       "                      Coef.     Std.Err.    t    P>|t|    [0.025     0.975]  \n",
       "-----------------------------------------------------------------------------\n",
       "const               38256.9839 9794.9353  3.9058 0.0002 18873.0949 57640.8728\n",
       "LENGTH_OF_STAY_ICU  23373.2228 1073.0257 21.7825 0.0000 21249.7364 25496.7092\n",
       "COST_OF_IMPLANT         2.1696    0.2219  9.7791 0.0000     1.7306     2.6087\n",
       "LENGTH_OF_STAY_WARD  7244.8670 1070.3281  6.7688 0.0000  5126.7191  9363.0149\n",
       "-----------------------------------------------------------------------------\n",
       "Omnibus:                  10.320           Durbin-Watson:              1.903 \n",
       "Prob(Omnibus):            0.006            Jarque-Bera (JB):           25.497\n",
       "Skew:                     -0.004           Prob(JB):                   0.000 \n",
       "Kurtosis:                 5.170            Condition No.:              49135 \n",
       "=============================================================================\n",
       "* The condition number is large (5e+04). This might indicate\n",
       "strong multicollinearity or other numerical problems.\n",
       "\"\"\""
      ]
     },
     "execution_count": 28,
     "metadata": {},
     "output_type": "execute_result"
    }
   ],
   "source": [
    "model_3 = sm.OLS(train_y, train_X).fit()\n",
    "model_3.summary2()"
   ]
  },
  {
   "cell_type": "markdown",
   "metadata": {},
   "source": [
    "### <font color='Green'>STEP 5: Model Diagnostics </font>"
   ]
  },
  {
   "cell_type": "markdown",
   "metadata": {},
   "source": [
    "#### <font color='Green'>5.1: Perform Model Diagnostics: Linearity of Relationship</font>"
   ]
  },
  {
   "cell_type": "markdown",
   "metadata": {},
   "source": [
    "We can check this by plotting scatterplot of X and Y. Scatterplot shows that SOLD PRICE is linearly related with SIXERS and ODI-WKTS"
   ]
  },
  {
   "cell_type": "code",
   "execution_count": 29,
   "metadata": {},
   "outputs": [
    {
     "data": {
      "image/png": "[encoded data removed]",
      "text/plain": [
       "<Figure size 720x720 with 20 Axes>"
      ]
     },
     "metadata": {
      "needs_background": "light"
     },
     "output_type": "display_data"
    }
   ],
   "source": [
    "columns = ['LENGTH_OF_STAY_ICU', 'COST_OF_IMPLANT', 'LENGTH_OF_STAY_WARD','TOTAL_COST_TO_HOSPITAL']\n",
    "df = data_df_cleaned[columns]\n",
    "sn.pairplot(df)  \n",
    "plt.show()"
   ]
  },
  {
   "cell_type": "markdown",
   "metadata": {},
   "source": [
    "#### <font color='Green'>5.2: Perform Model Diagnostics: Independence of Residuals</font>"
   ]
  },
  {
   "cell_type": "markdown",
   "metadata": {},
   "source": [
    "How do we check this?\n",
    "    This is hard to check. If the data is naturally chronological, then the plot of residuals over time may be observed for any specific pattern. Usually, in time-series data, Durbin-Watson Test may be used for assess the independence of time-series data. <br>\n",
    "    \n",
    "<b> Durbin Watson Test: </b> <br>\n",
    "The Durbin Watson Test is a measure of autocorrelation (also called serial correlation) in residuals from regression analysis. Autocorrelation is the similarity of a time series over successive time intervals. The Durbin Watson test reports a test statistic, with a value from 0 to 4, where: <br>\n",
    "\n",
    "    (A). 2 is no autocorrelation <br>\n",
    "    (B). 0 to <2 is positive autocorrelation (common in time series data) <br>\n",
    "    (C). >2 to 4 is negative autocorrelation (less common in time series data) <br>\n",
    "    Usually value of 1.5 to 2.5 is considered acceptable. <br>\n",
    "    \n",
    "In our case, the data is not time series, so we assume independence of residuals. Further, the Durbin Watson test statistic is in acceptable range."
   ]
  },
  {
   "cell_type": "markdown",
   "metadata": {},
   "source": [
    "#### <font color='Green'>5.3: Perform Model Diagnostics: Normality of Residuals</font>"
   ]
  },
  {
   "cell_type": "code",
   "execution_count": 30,
   "metadata": {},
   "outputs": [],
   "source": [
    "# Standardization function\n",
    "def get_standardized_values( vals ):\n",
    "    return (vals - vals.mean())/vals.std()"
   ]
  },
  {
   "cell_type": "code",
   "execution_count": 31,
   "metadata": {},
   "outputs": [
    {
     "data": {
      "image/png": "[encoded data removed]",
      "text/plain": [
       "<Figure size 432x288 with 1 Axes>"
      ]
     },
     "metadata": {
      "needs_background": "light"
     },
     "output_type": "display_data"
    },
    {
     "data": {
      "image/png": "[encoded data removed]",
      "text/plain": [
       "<Figure size 432x288 with 1 Axes>"
      ]
     },
     "metadata": {
      "needs_background": "light"
     },
     "output_type": "display_data"
    }
   ],
   "source": [
    "# Gathering residuals and standardizing them\n",
    "resid = model_3.resid\n",
    "resid_std =get_standardized_values(resid)\n",
    "\n",
    "# QQ plot\n",
    "sm.qqplot(resid_std) \n",
    "plt.title( \"Q-Q Plot of Standardized Regression Residuals\" );\n",
    "plt.show()\n",
    "\n",
    "# Density Plot\n",
    "sn.distplot(resid_std, color = 'darkblue',hist_kws={'edgecolor':'black'});"
   ]
  },
  {
   "cell_type": "markdown",
   "metadata": {},
   "source": [
    "<b> Both QQ Plot and Distribution Plot show that residuals are approximately normally distributed </b> <br>\n",
    "<b> We are working with a small sample size </b>"
   ]
  },
  {
   "cell_type": "markdown",
   "metadata": {},
   "source": [
    "#### <font color='Green'>STEP 5.4: Perform Model Diagnostics: Homoscedasticity of residuals  </font>\n",
    "\n",
    "The homoscedasticity can be observed by a drawing a residual plot, which is a plot between standardised residual value and standardized predicted value. The plot must be random and any pattern (especially fan-shape) indicates heteroscedasticity"
   ]
  },
  {
   "cell_type": "code",
   "execution_count": 32,
   "metadata": {},
   "outputs": [
    {
     "data": {
      "image/png": "[encoded data removed]",
      "text/plain": [
       "<Figure size 432x288 with 1 Axes>"
      ]
     },
     "metadata": {
      "needs_background": "light"
     },
     "output_type": "display_data"
    }
   ],
   "source": [
    "fittedvalues_std = get_standardized_values( model_3.fittedvalues )\n",
    "plt.scatter( fittedvalues_std, resid_std)\n",
    "plt.title( \" Residual Plot: IPL Sold Price Prediction\" );\n",
    "plt.xlabel( \"Standardized predicted values\")\n",
    "plt.ylabel( \"Standardized Residuals\");"
   ]
  },
  {
   "cell_type": "markdown",
   "metadata": {},
   "source": [
    "Plot shows that residuals are random and doesnot show any pattern. So residuals are homoscedastic\n",
    "\n",
    "Incases, where normality and homoscedasticity does not hold, it means that we are unable to build a model that can predict well. We may look at variable transformations. May also, look at respecification of model, by including predictors. Weighted-least squares can help overcome heteroscedasticity."
   ]
  },
  {
   "cell_type": "markdown",
   "metadata": {},
   "source": [
    "### <font color='Green'>STEP 6.0: Influencer Analysis  </font>"
   ]
  },
  {
   "cell_type": "markdown",
   "metadata": {},
   "source": [
    "#### <font color='Green'>STEP 6.1: Leverage Values  </font>"
   ]
  },
  {
   "cell_type": "code",
   "execution_count": 33,
   "metadata": {},
   "outputs": [
    {
     "name": "stdout",
     "output_type": "stream",
     "text": [
      "Number of variables: 4  and number of observations: 130\n",
      "Cutoff for leverage value:  0.115\n"
     ]
    }
   ],
   "source": [
    "# Detecting Influencers\n",
    "\n",
    "k = train_X.shape[1]\n",
    "n = train_X.shape[0]\n",
    "print( \"Number of variables:\", k, \" and number of observations:\", n)\n",
    "\n",
    "# Threshold for influence = 3*((k + 1)/n)\n",
    "leverage_cutoff = 3*((k + 1)/n)\n",
    "print( \"Cutoff for leverage value: \", round(leverage_cutoff, 3) )"
   ]
  },
  {
   "cell_type": "code",
   "execution_count": 34,
   "metadata": {},
   "outputs": [
    {
     "data": {
      "image/png": "[encoded data removed]",
      "text/plain": [
       "<Figure size 864x864 with 1 Axes>"
      ]
     },
     "metadata": {
      "needs_background": "light"
     },
     "output_type": "display_data"
    }
   ],
   "source": [
    "# Influence plot\n",
    "\n",
    "from statsmodels.graphics.regressionplots import influence_plot\n",
    "fig, ax = plt.subplots(figsize=(12, 12))\n",
    "fig = influence_plot(model_3, ax=ax)\n",
    "plt.title( \"Leverage Value Vs Residuals\")\n",
    "plt.grid()"
   ]
  },
  {
   "cell_type": "markdown",
   "metadata": {},
   "source": [
    "<b> We can remove observations #92, #116 and #11 and rerrun the model </b>"
   ]
  },
  {
   "cell_type": "markdown",
   "metadata": {},
   "source": [
    "#### <font color='Green'>STEP 6.2: Cook's Distance  </font>\n",
    "\n",
    "Cook's distance measures how much the predicted value of the dependent variable changes for all the observations in the sample when a particular observation is excluded from the sample for the estimation of regression parameters. A Cook's distance value of > 1 indicates highly influential observation.\n",
    "\n",
    "No influential variables as per Cooks Distance"
   ]
  },
  {
   "cell_type": "code",
   "execution_count": 35,
   "metadata": {},
   "outputs": [
    {
     "name": "stdout",
     "output_type": "stream",
     "text": [
      "values and indices [] (array([], dtype=int64),)\n"
     ]
    },
    {
     "data": {
      "image/png": "[encoded data removed]",
      "text/plain": [
       "<Figure size 432x288 with 1 Axes>"
      ]
     },
     "metadata": {
      "needs_background": "light"
     },
     "output_type": "display_data"
    }
   ],
   "source": [
    "model_influence = model_3.get_influence()\n",
    "(c, p) = model_influence.cooks_distance\n",
    "plt.stem( np.arange( len( train_X) ), np.round( c, 3 ), markerfmt=\",\" );\n",
    "plt.title( \"Cooks distance for all observations in IPL data set\" );\n",
    "plt.xlabel( \"Row index\")\n",
    "plt.ylabel( \"Cooks Distance\");\n",
    "print(\"values and indices\",c[c>1.0],np.nonzero(c>1.0))"
   ]
  },
  {
   "cell_type": "markdown",
   "metadata": {},
   "source": [
    "### <font color='Green'>STEP 7.0: Measure model accuracy and validate model  </font>"
   ]
  },
  {
   "cell_type": "code",
   "execution_count": 36,
   "metadata": {},
   "outputs": [
    {
     "name": "stdout",
     "output_type": "stream",
     "text": [
      "R-Square_Train:  0.8407  RMSE_Train:  39611.5944\n",
      "R-Square_Valid:  0.8642  RMSE_Valid:  32577.5161\n"
     ]
    }
   ],
   "source": [
    "pred_y = model_3.predict( test_X[train_X.columns] )\n",
    "\n",
    "rsquare_train = round(r2_score(train_y, model_3.fittedvalues),4)\n",
    "rsquare_valid = round(r2_score(test_y, pred_y),4)\n",
    "\n",
    "rmse_train = round(np.sqrt(mean_squared_error(train_y,model_3.fittedvalues)),4)\n",
    "rmse_valid = round(np.sqrt(mean_squared_error(test_y,pred_y)),4)\n",
    "\n",
    "print(\"R-Square_Train: \", rsquare_train, \" RMSE_Train: \", rmse_train)\n",
    "print(\"R-Square_Valid: \", rsquare_valid, \" RMSE_Valid: \", rmse_valid)"
   ]
  },
  {
   "cell_type": "markdown",
   "metadata": {},
   "source": [
    "### <font color='Green'>STEP 8.0: Making Predictions  </font>"
   ]
  },
  {
   "cell_type": "code",
   "execution_count": 37,
   "metadata": {},
   "outputs": [
    {
     "data": {
      "text/html": [
       "<div>\n",
       "<style scoped>\n",
       "    .dataframe tbody tr th:only-of-type {\n",
       "        vertical-align: middle;\n",
       "    }\n",
       "\n",
       "    .dataframe tbody tr th {\n",
       "        vertical-align: top;\n",
       "    }\n",
       "\n",
       "    .dataframe thead th {\n",
       "        text-align: right;\n",
       "    }\n",
       "</style>\n",
       "<table border=\"1\" class=\"dataframe\">\n",
       "  <thead>\n",
       "    <tr style=\"text-align: right;\">\n",
       "      <th></th>\n",
       "      <th>test_y</th>\n",
       "      <th>pred_y</th>\n",
       "      <th>pred_y_left</th>\n",
       "      <th>pred_y_right</th>\n",
       "      <th>pred_interval_size</th>\n",
       "    </tr>\n",
       "  </thead>\n",
       "  <tbody>\n",
       "    <tr>\n",
       "      <th>153</th>\n",
       "      <td>140545.00</td>\n",
       "      <td>141323.74</td>\n",
       "      <td>60872.76</td>\n",
       "      <td>221774.73</td>\n",
       "      <td>160901.97</td>\n",
       "    </tr>\n",
       "    <tr>\n",
       "      <th>220</th>\n",
       "      <td>205998.00</td>\n",
       "      <td>159090.72</td>\n",
       "      <td>79063.49</td>\n",
       "      <td>239117.95</td>\n",
       "      <td>160054.46</td>\n",
       "    </tr>\n",
       "    <tr>\n",
       "      <th>227</th>\n",
       "      <td>212287.00</td>\n",
       "      <td>198592.30</td>\n",
       "      <td>118397.99</td>\n",
       "      <td>278786.61</td>\n",
       "      <td>160388.62</td>\n",
       "    </tr>\n",
       "    <tr>\n",
       "      <th>139</th>\n",
       "      <td>84002.50</td>\n",
       "      <td>105099.41</td>\n",
       "      <td>24854.30</td>\n",
       "      <td>185344.52</td>\n",
       "      <td>160490.22</td>\n",
       "    </tr>\n",
       "    <tr>\n",
       "      <th>138</th>\n",
       "      <td>97060.80</td>\n",
       "      <td>126834.01</td>\n",
       "      <td>46632.96</td>\n",
       "      <td>207035.06</td>\n",
       "      <td>160402.10</td>\n",
       "    </tr>\n",
       "    <tr>\n",
       "      <th>20</th>\n",
       "      <td>341109.00</td>\n",
       "      <td>315458.41</td>\n",
       "      <td>234071.35</td>\n",
       "      <td>396845.48</td>\n",
       "      <td>162774.13</td>\n",
       "    </tr>\n",
       "    <tr>\n",
       "      <th>239</th>\n",
       "      <td>124860.00</td>\n",
       "      <td>121227.76</td>\n",
       "      <td>40948.54</td>\n",
       "      <td>201506.99</td>\n",
       "      <td>160558.45</td>\n",
       "    </tr>\n",
       "    <tr>\n",
       "      <th>46</th>\n",
       "      <td>133130.00</td>\n",
       "      <td>128472.63</td>\n",
       "      <td>48324.57</td>\n",
       "      <td>208620.70</td>\n",
       "      <td>160296.13</td>\n",
       "    </tr>\n",
       "    <tr>\n",
       "      <th>160</th>\n",
       "      <td>155352.00</td>\n",
       "      <td>196850.22</td>\n",
       "      <td>116581.24</td>\n",
       "      <td>277119.21</td>\n",
       "      <td>160537.97</td>\n",
       "    </tr>\n",
       "    <tr>\n",
       "      <th>201</th>\n",
       "      <td>109117.00</td>\n",
       "      <td>119589.14</td>\n",
       "      <td>39429.35</td>\n",
       "      <td>199748.93</td>\n",
       "      <td>160319.58</td>\n",
       "    </tr>\n",
       "    <tr>\n",
       "      <th>30</th>\n",
       "      <td>247473.00</td>\n",
       "      <td>211443.41</td>\n",
       "      <td>131183.66</td>\n",
       "      <td>291703.16</td>\n",
       "      <td>160519.50</td>\n",
       "    </tr>\n",
       "    <tr>\n",
       "      <th>108</th>\n",
       "      <td>129684.00</td>\n",
       "      <td>112344.28</td>\n",
       "      <td>32169.79</td>\n",
       "      <td>192518.76</td>\n",
       "      <td>160348.97</td>\n",
       "    </tr>\n",
       "    <tr>\n",
       "      <th>207</th>\n",
       "      <td>73218.00</td>\n",
       "      <td>121227.76</td>\n",
       "      <td>40948.54</td>\n",
       "      <td>201506.99</td>\n",
       "      <td>160558.45</td>\n",
       "    </tr>\n",
       "    <tr>\n",
       "      <th>159</th>\n",
       "      <td>49700.00</td>\n",
       "      <td>59991.58</td>\n",
       "      <td>-20937.21</td>\n",
       "      <td>140920.38</td>\n",
       "      <td>161857.59</td>\n",
       "    </tr>\n",
       "    <tr>\n",
       "      <th>100</th>\n",
       "      <td>179613.25</td>\n",
       "      <td>200921.30</td>\n",
       "      <td>119026.18</td>\n",
       "      <td>282816.42</td>\n",
       "      <td>163790.24</td>\n",
       "    </tr>\n",
       "    <tr>\n",
       "      <th>21</th>\n",
       "      <td>288960.00</td>\n",
       "      <td>232487.63</td>\n",
       "      <td>150409.39</td>\n",
       "      <td>314565.87</td>\n",
       "      <td>164156.48</td>\n",
       "    </tr>\n",
       "    <tr>\n",
       "      <th>164</th>\n",
       "      <td>141232.17</td>\n",
       "      <td>148568.61</td>\n",
       "      <td>67909.47</td>\n",
       "      <td>229227.75</td>\n",
       "      <td>161318.28</td>\n",
       "    </tr>\n",
       "    <tr>\n",
       "      <th>40</th>\n",
       "      <td>144037.23</td>\n",
       "      <td>112344.28</td>\n",
       "      <td>32169.79</td>\n",
       "      <td>192518.76</td>\n",
       "      <td>160348.97</td>\n",
       "    </tr>\n",
       "    <tr>\n",
       "      <th>180</th>\n",
       "      <td>160250.00</td>\n",
       "      <td>173580.46</td>\n",
       "      <td>93545.09</td>\n",
       "      <td>253615.82</td>\n",
       "      <td>160070.73</td>\n",
       "    </tr>\n",
       "    <tr>\n",
       "      <th>24</th>\n",
       "      <td>361738.00</td>\n",
       "      <td>377808.88</td>\n",
       "      <td>293311.28</td>\n",
       "      <td>462306.48</td>\n",
       "      <td>168995.20</td>\n",
       "    </tr>\n",
       "    <tr>\n",
       "      <th>107</th>\n",
       "      <td>253471.00</td>\n",
       "      <td>305439.04</td>\n",
       "      <td>218757.29</td>\n",
       "      <td>392120.79</td>\n",
       "      <td>173363.50</td>\n",
       "    </tr>\n",
       "    <tr>\n",
       "      <th>155</th>\n",
       "      <td>131727.00</td>\n",
       "      <td>112344.28</td>\n",
       "      <td>32169.79</td>\n",
       "      <td>192518.76</td>\n",
       "      <td>160348.97</td>\n",
       "    </tr>\n",
       "    <tr>\n",
       "      <th>168</th>\n",
       "      <td>253368.00</td>\n",
       "      <td>283201.70</td>\n",
       "      <td>202605.99</td>\n",
       "      <td>363797.41</td>\n",
       "      <td>161191.42</td>\n",
       "    </tr>\n",
       "    <tr>\n",
       "      <th>195</th>\n",
       "      <td>135019.00</td>\n",
       "      <td>105099.41</td>\n",
       "      <td>24854.30</td>\n",
       "      <td>185344.52</td>\n",
       "      <td>160490.22</td>\n",
       "    </tr>\n",
       "    <tr>\n",
       "      <th>101</th>\n",
       "      <td>151156.52</td>\n",
       "      <td>142962.37</td>\n",
       "      <td>62908.96</td>\n",
       "      <td>223015.77</td>\n",
       "      <td>160106.81</td>\n",
       "    </tr>\n",
       "    <tr>\n",
       "      <th>14</th>\n",
       "      <td>495968.70</td>\n",
       "      <td>412228.55</td>\n",
       "      <td>325766.38</td>\n",
       "      <td>498690.72</td>\n",
       "      <td>172924.34</td>\n",
       "    </tr>\n",
       "    <tr>\n",
       "      <th>170</th>\n",
       "      <td>293271.00</td>\n",
       "      <td>358973.79</td>\n",
       "      <td>268604.33</td>\n",
       "      <td>449343.25</td>\n",
       "      <td>180738.92</td>\n",
       "    </tr>\n",
       "    <tr>\n",
       "      <th>181</th>\n",
       "      <td>193543.00</td>\n",
       "      <td>197191.40</td>\n",
       "      <td>116929.95</td>\n",
       "      <td>277452.84</td>\n",
       "      <td>160522.89</td>\n",
       "    </tr>\n",
       "    <tr>\n",
       "      <th>23</th>\n",
       "      <td>345590.00</td>\n",
       "      <td>350044.13</td>\n",
       "      <td>268309.50</td>\n",
       "      <td>431778.76</td>\n",
       "      <td>163469.26</td>\n",
       "    </tr>\n",
       "    <tr>\n",
       "      <th>222</th>\n",
       "      <td>175576.00</td>\n",
       "      <td>157452.10</td>\n",
       "      <td>77269.34</td>\n",
       "      <td>237634.86</td>\n",
       "      <td>160365.52</td>\n",
       "    </tr>\n",
       "    <tr>\n",
       "      <th>238</th>\n",
       "      <td>132997.00</td>\n",
       "      <td>121227.76</td>\n",
       "      <td>40948.54</td>\n",
       "      <td>201506.99</td>\n",
       "      <td>160558.45</td>\n",
       "    </tr>\n",
       "    <tr>\n",
       "      <th>230</th>\n",
       "      <td>133436.00</td>\n",
       "      <td>148568.61</td>\n",
       "      <td>67909.47</td>\n",
       "      <td>229227.75</td>\n",
       "      <td>161318.28</td>\n",
       "    </tr>\n",
       "    <tr>\n",
       "      <th>54</th>\n",
       "      <td>133009.00</td>\n",
       "      <td>135717.50</td>\n",
       "      <td>55644.76</td>\n",
       "      <td>215790.24</td>\n",
       "      <td>160145.48</td>\n",
       "    </tr>\n",
       "    <tr>\n",
       "      <th>150</th>\n",
       "      <td>72374.00</td>\n",
       "      <td>141323.74</td>\n",
       "      <td>60872.76</td>\n",
       "      <td>221774.73</td>\n",
       "      <td>160901.97</td>\n",
       "    </tr>\n",
       "    <tr>\n",
       "      <th>57</th>\n",
       "      <td>163372.00</td>\n",
       "      <td>180825.32</td>\n",
       "      <td>100701.86</td>\n",
       "      <td>260948.79</td>\n",
       "      <td>160246.93</td>\n",
       "    </tr>\n",
       "    <tr>\n",
       "      <th>99</th>\n",
       "      <td>208535.71</td>\n",
       "      <td>204198.55</td>\n",
       "      <td>124078.12</td>\n",
       "      <td>284318.97</td>\n",
       "      <td>160240.85</td>\n",
       "    </tr>\n",
       "    <tr>\n",
       "      <th>215</th>\n",
       "      <td>143482.00</td>\n",
       "      <td>142962.37</td>\n",
       "      <td>62908.96</td>\n",
       "      <td>223015.77</td>\n",
       "      <td>160106.81</td>\n",
       "    </tr>\n",
       "    <tr>\n",
       "      <th>39</th>\n",
       "      <td>162364.00</td>\n",
       "      <td>196953.68</td>\n",
       "      <td>116916.74</td>\n",
       "      <td>276990.62</td>\n",
       "      <td>160073.88</td>\n",
       "    </tr>\n",
       "    <tr>\n",
       "      <th>165</th>\n",
       "      <td>102537.85</td>\n",
       "      <td>150207.23</td>\n",
       "      <td>70117.13</td>\n",
       "      <td>230297.33</td>\n",
       "      <td>160180.20</td>\n",
       "    </tr>\n",
       "    <tr>\n",
       "      <th>179</th>\n",
       "      <td>144134.00</td>\n",
       "      <td>126834.01</td>\n",
       "      <td>46632.96</td>\n",
       "      <td>207035.06</td>\n",
       "      <td>160402.10</td>\n",
       "    </tr>\n",
       "    <tr>\n",
       "      <th>198</th>\n",
       "      <td>132585.00</td>\n",
       "      <td>144600.99</td>\n",
       "      <td>64357.93</td>\n",
       "      <td>224844.04</td>\n",
       "      <td>160486.11</td>\n",
       "    </tr>\n",
       "    <tr>\n",
       "      <th>41</th>\n",
       "      <td>183204.00</td>\n",
       "      <td>229210.39</td>\n",
       "      <td>148981.91</td>\n",
       "      <td>309438.87</td>\n",
       "      <td>160456.96</td>\n",
       "    </tr>\n",
       "    <tr>\n",
       "      <th>17</th>\n",
       "      <td>343984.00</td>\n",
       "      <td>287190.08</td>\n",
       "      <td>206572.77</td>\n",
       "      <td>367807.39</td>\n",
       "      <td>161234.62</td>\n",
       "    </tr>\n",
       "    <tr>\n",
       "      <th>53</th>\n",
       "      <td>162957.32</td>\n",
       "      <td>135717.50</td>\n",
       "      <td>55644.76</td>\n",
       "      <td>215790.24</td>\n",
       "      <td>160145.48</td>\n",
       "    </tr>\n",
       "    <tr>\n",
       "      <th>74</th>\n",
       "      <td>122892.00</td>\n",
       "      <td>119589.14</td>\n",
       "      <td>39429.35</td>\n",
       "      <td>199748.93</td>\n",
       "      <td>160319.58</td>\n",
       "    </tr>\n",
       "    <tr>\n",
       "      <th>83</th>\n",
       "      <td>334955.00</td>\n",
       "      <td>347242.32</td>\n",
       "      <td>264934.48</td>\n",
       "      <td>429550.17</td>\n",
       "      <td>164615.69</td>\n",
       "    </tr>\n",
       "    <tr>\n",
       "      <th>129</th>\n",
       "      <td>153445.00</td>\n",
       "      <td>148568.61</td>\n",
       "      <td>67909.47</td>\n",
       "      <td>229227.75</td>\n",
       "      <td>161318.28</td>\n",
       "    </tr>\n",
       "    <tr>\n",
       "      <th>126</th>\n",
       "      <td>145362.00</td>\n",
       "      <td>128472.63</td>\n",
       "      <td>48324.57</td>\n",
       "      <td>208620.70</td>\n",
       "      <td>160296.13</td>\n",
       "    </tr>\n",
       "    <tr>\n",
       "      <th>97</th>\n",
       "      <td>165000.00</td>\n",
       "      <td>231539.39</td>\n",
       "      <td>149260.65</td>\n",
       "      <td>313818.13</td>\n",
       "      <td>164557.48</td>\n",
       "    </tr>\n",
       "    <tr>\n",
       "      <th>50</th>\n",
       "      <td>120131.00</td>\n",
       "      <td>112344.28</td>\n",
       "      <td>32169.79</td>\n",
       "      <td>192518.76</td>\n",
       "      <td>160348.97</td>\n",
       "    </tr>\n",
       "    <tr>\n",
       "      <th>81</th>\n",
       "      <td>199268.00</td>\n",
       "      <td>189708.81</td>\n",
       "      <td>109699.35</td>\n",
       "      <td>269718.27</td>\n",
       "      <td>160018.92</td>\n",
       "    </tr>\n",
       "    <tr>\n",
       "      <th>136</th>\n",
       "      <td>131738.27</td>\n",
       "      <td>112344.28</td>\n",
       "      <td>32169.79</td>\n",
       "      <td>192518.76</td>\n",
       "      <td>160348.97</td>\n",
       "    </tr>\n",
       "    <tr>\n",
       "      <th>202</th>\n",
       "      <td>174074.00</td>\n",
       "      <td>135717.50</td>\n",
       "      <td>55644.76</td>\n",
       "      <td>215790.24</td>\n",
       "      <td>160145.48</td>\n",
       "    </tr>\n",
       "    <tr>\n",
       "      <th>134</th>\n",
       "      <td>79302.00</td>\n",
       "      <td>128472.63</td>\n",
       "      <td>48324.57</td>\n",
       "      <td>208620.70</td>\n",
       "      <td>160296.13</td>\n",
       "    </tr>\n",
       "    <tr>\n",
       "      <th>5</th>\n",
       "      <td>372357.00</td>\n",
       "      <td>408003.06</td>\n",
       "      <td>322165.39</td>\n",
       "      <td>493840.74</td>\n",
       "      <td>171675.35</td>\n",
       "    </tr>\n",
       "    <tr>\n",
       "      <th>152</th>\n",
       "      <td>142326.04</td>\n",
       "      <td>105099.41</td>\n",
       "      <td>24854.30</td>\n",
       "      <td>185344.52</td>\n",
       "      <td>160490.22</td>\n",
       "    </tr>\n",
       "  </tbody>\n",
       "</table>\n",
       "</div>"
      ],
      "text/plain": [
       "        test_y     pred_y  pred_y_left  pred_y_right  pred_interval_size\n",
       "153  140545.00  141323.74     60872.76     221774.73           160901.97\n",
       "220  205998.00  159090.72     79063.49     239117.95           160054.46\n",
       "227  212287.00  198592.30    118397.99     278786.61           160388.62\n",
       "139   84002.50  105099.41     24854.30     185344.52           160490.22\n",
       "138   97060.80  126834.01     46632.96     207035.06           160402.10\n",
       "20   341109.00  315458.41    234071.35     396845.48           162774.13\n",
       "239  124860.00  121227.76     40948.54     201506.99           160558.45\n",
       "46   133130.00  128472.63     48324.57     208620.70           160296.13\n",
       "160  155352.00  196850.22    116581.24     277119.21           160537.97\n",
       "201  109117.00  119589.14     39429.35     199748.93           160319.58\n",
       "30   247473.00  211443.41    131183.66     291703.16           160519.50\n",
       "108  129684.00  112344.28     32169.79     192518.76           160348.97\n",
       "207   73218.00  121227.76     40948.54     201506.99           160558.45\n",
       "159   49700.00   59991.58    -20937.21     140920.38           161857.59\n",
       "100  179613.25  200921.30    119026.18     282816.42           163790.24\n",
       "21   288960.00  232487.63    150409.39     314565.87           164156.48\n",
       "164  141232.17  148568.61     67909.47     229227.75           161318.28\n",
       "40   144037.23  112344.28     32169.79     192518.76           160348.97\n",
       "180  160250.00  173580.46     93545.09     253615.82           160070.73\n",
       "24   361738.00  377808.88    293311.28     462306.48           168995.20\n",
       "107  253471.00  305439.04    218757.29     392120.79           173363.50\n",
       "155  131727.00  112344.28     32169.79     192518.76           160348.97\n",
       "168  253368.00  283201.70    202605.99     363797.41           161191.42\n",
       "195  135019.00  105099.41     24854.30     185344.52           160490.22\n",
       "101  151156.52  142962.37     62908.96     223015.77           160106.81\n",
       "14   495968.70  412228.55    325766.38     498690.72           172924.34\n",
       "170  293271.00  358973.79    268604.33     449343.25           180738.92\n",
       "181  193543.00  197191.40    116929.95     277452.84           160522.89\n",
       "23   345590.00  350044.13    268309.50     431778.76           163469.26\n",
       "222  175576.00  157452.10     77269.34     237634.86           160365.52\n",
       "238  132997.00  121227.76     40948.54     201506.99           160558.45\n",
       "230  133436.00  148568.61     67909.47     229227.75           161318.28\n",
       "54   133009.00  135717.50     55644.76     215790.24           160145.48\n",
       "150   72374.00  141323.74     60872.76     221774.73           160901.97\n",
       "57   163372.00  180825.32    100701.86     260948.79           160246.93\n",
       "99   208535.71  204198.55    124078.12     284318.97           160240.85\n",
       "215  143482.00  142962.37     62908.96     223015.77           160106.81\n",
       "39   162364.00  196953.68    116916.74     276990.62           160073.88\n",
       "165  102537.85  150207.23     70117.13     230297.33           160180.20\n",
       "179  144134.00  126834.01     46632.96     207035.06           160402.10\n",
       "198  132585.00  144600.99     64357.93     224844.04           160486.11\n",
       "41   183204.00  229210.39    148981.91     309438.87           160456.96\n",
       "17   343984.00  287190.08    206572.77     367807.39           161234.62\n",
       "53   162957.32  135717.50     55644.76     215790.24           160145.48\n",
       "74   122892.00  119589.14     39429.35     199748.93           160319.58\n",
       "83   334955.00  347242.32    264934.48     429550.17           164615.69\n",
       "129  153445.00  148568.61     67909.47     229227.75           161318.28\n",
       "126  145362.00  128472.63     48324.57     208620.70           160296.13\n",
       "97   165000.00  231539.39    149260.65     313818.13           164557.48\n",
       "50   120131.00  112344.28     32169.79     192518.76           160348.97\n",
       "81   199268.00  189708.81    109699.35     269718.27           160018.92\n",
       "136  131738.27  112344.28     32169.79     192518.76           160348.97\n",
       "202  174074.00  135717.50     55644.76     215790.24           160145.48\n",
       "134   79302.00  128472.63     48324.57     208620.70           160296.13\n",
       "5    372357.00  408003.06    322165.39     493840.74           171675.35\n",
       "152  142326.04  105099.41     24854.30     185344.52           160490.22"
      ]
     },
     "execution_count": 37,
     "metadata": {},
     "output_type": "execute_result"
    }
   ],
   "source": [
    "# Calculating Prediction Intervals\n",
    "\n",
    "predictions = model_3.get_prediction(test_X[train_X.columns])\n",
    "predictions_df = round(predictions.summary_frame(alpha=0.05),2)\n",
    "predictions_df\n",
    "\n",
    "# Store all the values in a dataframe\n",
    "pred_y_df = pd.DataFrame( { 'test_y': test_y,\n",
    "                            'pred_y': predictions_df['mean'],\n",
    "                            'pred_y_left': predictions_df['obs_ci_lower'],\n",
    "                            'pred_y_right': predictions_df['obs_ci_upper'],\n",
    "                            'pred_interval_size':predictions_df['obs_ci_upper']-predictions_df['obs_ci_lower']} )\n",
    "pred_y_df"
   ]
  },
  {
   "cell_type": "code",
   "execution_count": null,
   "metadata": {},
   "outputs": [],
   "source": []
  },
  {
   "cell_type": "code",
   "execution_count": null,
   "metadata": {},
   "outputs": [],
   "source": []
  }
 ],
 "metadata": {
  "kernelspec": {
   "display_name": "Python 3",
   "language": "python",
   "name": "python3"
  },
  "language_info": {
   "codemirror_mode": {
    "name": "ipython",
    "version": 3
   },
   "file_extension": ".py",
   "mimetype": "text/x-python",
   "name": "python",
   "nbconvert_exporter": "python",
   "pygments_lexer": "ipython3",
   "version": "3.7.10"
  }
 },
 "nbformat": 4,
 "nbformat_minor": 4
}
