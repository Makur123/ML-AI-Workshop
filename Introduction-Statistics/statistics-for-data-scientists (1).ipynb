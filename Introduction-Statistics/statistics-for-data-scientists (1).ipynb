{
 "cells": [
  {
   "cell_type": "code",
   "execution_count": null,
   "metadata": {
    "execution": {
     "iopub.execute_input": "2024-08-17T08:12:57.669190Z",
     "iopub.status.busy": "2024-08-17T08:12:57.668381Z",
     "iopub.status.idle": "2024-08-17T08:12:58.685418Z",
     "shell.execute_reply": "2024-08-17T08:12:58.684654Z",
     "shell.execute_reply.started": "2022-07-02T15:09:03.375711Z"
    },
    "id": "glDLjfJXDbHZ",
    "papermill": {
     "duration": 1.137015,
     "end_time": "2024-08-17T08:12:58.685574",
     "exception": false,
     "start_time": "2024-08-17T08:12:57.548559",
     "status": "completed"
    },
    "tags": []
   },
   "outputs": [],
   "source": [
    "import numpy as np # linear algebra\n",
    "import pandas as pd # data processing, CSV file I/O (e.g. pd.read_csv)\n",
    "import matplotlib.pyplot as plt\n",
    "import seaborn as sns\n",
    "import scipy.stats as stats"
   ]
  },
  {
   "cell_type": "code",
   "execution_count": null,
   "metadata": {
    "execution": {
     "iopub.execute_input": "2024-08-17T08:12:58.946502Z",
     "iopub.status.busy": "2024-08-17T08:12:58.945596Z",
     "iopub.status.idle": "2024-08-17T08:12:58.950057Z",
     "shell.execute_reply": "2024-08-17T08:12:58.949525Z",
     "shell.execute_reply.started": "2022-03-03T17:43:16.349625Z"
    },
    "id": "Me1b8-rjDbHZ",
    "outputId": "dfb4c13a-c782-4c2d-e64c-c08f1477bdc2",
    "papermill": {
     "duration": 0.165972,
     "end_time": "2024-08-17T08:12:58.950243",
     "exception": false,
     "start_time": "2024-08-17T08:12:58.784271",
     "status": "completed"
    },
    "tags": []
   },
   "outputs": [
    {
     "data": {
      "text/plain": [
       "array([2.65613989e-005, 2.95126654e-004, 1.62319660e-003, 5.89160247e-003,\n",
       "       1.58745955e-002, 3.38658038e-002, 5.95787289e-002, 8.88952464e-002,\n",
       "       1.14823027e-001, 1.30416277e-001, 1.31865347e-001, 1.19877588e-001,\n",
       "       9.87880124e-002, 7.43020948e-002, 5.13038273e-002, 3.26824382e-002,\n",
       "       1.92917170e-002, 1.05915309e-002, 5.42652508e-003, 2.60219331e-003,\n",
       "       1.17098699e-003, 4.95655869e-004, 1.97761685e-004, 7.45188959e-005,\n",
       "       2.65646064e-005, 8.97293372e-006, 2.87594029e-006, 8.75800748e-007,\n",
       "       2.53704185e-007, 6.99873614e-008, 1.84040839e-008, 4.61751209e-009,\n",
       "       1.10627894e-009, 2.53289454e-010, 5.54588020e-011, 1.16199395e-011,\n",
       "       2.33116070e-012, 4.48030885e-013, 8.25320051e-014, 1.45783029e-014,\n",
       "       2.47021243e-015, 4.01660558e-016, 6.26930501e-017, 9.39585764e-018,\n",
       "       1.35243405e-018, 1.87003227e-019, 2.48434239e-020, 3.17150093e-021,\n",
       "       3.89096178e-022, 4.58798215e-023, 5.19971310e-024, 5.66417549e-025,\n",
       "       5.93044015e-026, 5.96773852e-027, 5.77126976e-028, 5.36320018e-029,\n",
       "       4.78857159e-030, 4.10715692e-031, 3.38329018e-032, 2.67604873e-033,\n",
       "       2.03181478e-034, 1.48037507e-035, 1.03467074e-036, 6.93430129e-038,\n",
       "       4.45432548e-039, 2.74112337e-040, 1.61514003e-041, 9.10692557e-043,\n",
       "       4.91059712e-044, 2.53042042e-045, 1.24512751e-046, 5.84566904e-048,\n",
       "       2.61611732e-049, 1.11493584e-050, 4.52001018e-052, 1.74104096e-053,\n",
       "       6.36345379e-055, 2.20379352e-056, 7.22040612e-058, 2.23416223e-059,\n",
       "       6.51630651e-061, 1.78773841e-062, 4.60257857e-064, 1.10905508e-065,\n",
       "       2.49390692e-067, 5.21601447e-069, 1.01085552e-070, 1.80740450e-072,\n",
       "       2.96669931e-074, 4.44449334e-076, 6.03573170e-078, 7.36963577e-080,\n",
       "       8.01047367e-082, 7.65636671e-084, 6.33505520e-086, 4.44565277e-088,\n",
       "       2.57271572e-090, 1.17879300e-092, 4.00950000e-095, 9.00000000e-098,\n",
       "       1.00000000e-100])"
      ]
     },
     "execution_count": 2,
     "metadata": {},
     "output_type": "execute_result"
    }
   ],
   "source": [
    "p=0.1\n",
    "n=100\n",
    "k=np.arange(0,101)\n",
    "binomial = stats.binom.pmf(k,n,p)\n",
    "binomial"
   ]
  },
  {
   "cell_type": "code",
   "execution_count": null,
   "metadata": {
    "execution": {
     "iopub.execute_input": "2024-08-17T08:12:59.153788Z",
     "iopub.status.busy": "2024-08-17T08:12:59.152958Z",
     "iopub.status.idle": "2024-08-17T08:12:59.371597Z",
     "shell.execute_reply": "2024-08-17T08:12:59.370822Z",
     "shell.execute_reply.started": "2022-03-03T17:43:16.368299Z"
    },
    "id": "KODudRFEDbHa",
    "outputId": "26355c7f-addd-402c-a9a7-5383dcac2577",
    "papermill": {
     "duration": 0.323488,
     "end_time": "2024-08-17T08:12:59.371738",
     "exception": false,
     "start_time": "2024-08-17T08:12:59.048250",
     "status": "completed"
    },
    "tags": []
   },
   "outputs": [
    {
     "data": {
      "text/plain": [
       "Text(0, 0.5, 'Prob of Defective Washing Machines')"
      ]
     },
     "execution_count": 3,
     "metadata": {},
     "output_type": "execute_result"
    },
    {
     "data": {
      "image/png": "[encoded data removed]",
      "text/plain": [
       "<Figure size 432x288 with 1 Axes>"
      ]
     },
     "metadata": {
      "needs_background": "light"
     },
     "output_type": "display_data"
    }
   ],
   "source": [
    "plt.plot(k,binomial, 'o-')\n",
    "plt.title('Binomial')\n",
    "plt.xlabel('Number of Def Washing Machines')\n",
    "plt.ylabel('Prob of Defective Washing Machines')"
   ]
  },
  {
   "cell_type": "code",
   "execution_count": null,
   "metadata": {},
   "outputs": [],
   "source": []
  },
  {
   "cell_type": "markdown",
   "metadata": {
    "id": "VzB8WN-sDbHa",
    "papermill": {
     "duration": 0.099756,
     "end_time": "2024-08-17T08:12:59.576206",
     "exception": false,
     "start_time": "2024-08-17T08:12:59.476450",
     "status": "completed"
    },
    "tags": []
   },
   "source": [
    "## 6.2 Poisson Distribution     <a class=\"anchor\" id=\"6.2\"></a>\n",
    "\n",
    "[**Table of Contents**](#0.1)\n",
    "\n",
    "The Poisson distribution can be used in quality control . The only difference is the binomial distribution deals with defective , but the Poisson distribution deals with the no of defects. Poisson distribution is described in terms of the rate (μ) at which the events happen. An event can occur 0, 1, 2, … times in an interval. The average number of events in an interval is designated λ (lambda). Lambda is the event rate, also called the rate parameter. The probability of observing k events in an interval is given by the equation:\n",
    "\n",
    "![image.png](attachment:image.png)\n",
    "\n",
    "Note that the normal distribution is a limiting case of Poisson distribution with the parameter λ→∞. Also, if the times between random events follow an exponential distribution with rate λ, then the total number of events in a time period of length t follows the Poisson distribution with parameter λt.\n",
    "\n",
    "Examples :-\n",
    "- A computer is defective is binomial while the type of defects in each defective computer is Poisson.\n",
    "- Number of defective pages in the Novel is binomial but number of defects per page is Poisson.\n",
    "- Dissatisfied customers percentage is binomial while number of complaints is Poisson\n",
    "- Other real life examples include a) no of cars arriving at a highway checkpoint per hour. b) The no of customers visiting the ATM machine per hour.\n",
    "\n",
    "Conditions for Poisson distribution :-\n",
    "\n",
    "- The probability of getting exactly one success in a continuous interval such as length, area , time and the like is constant.\n",
    "- The probability of a success in any one interval is independent of the probability of success occurring in any other interval.\n",
    "- The probability of getting more than one success in an interval is 0\n",
    "\n",
    "Please read the following article which describe it in detail :\n",
    "\n",
    "https://medium.com/datadriveninvestor/all-you-need-to-know-about-probability-distribution-ac5aa9c56222\n",
    "\n",
    "\n",
    "Lets see the following example how we can implement this is python"
   ]
  },
  {
   "cell_type": "markdown",
   "metadata": {
    "id": "Gh2GWMUxDbHa",
    "papermill": {
     "duration": 0.099343,
     "end_time": "2024-08-17T08:12:59.776899",
     "exception": false,
     "start_time": "2024-08-17T08:12:59.677556",
     "status": "completed"
    },
    "tags": []
   },
   "source": [
    "If on an average, 6 customers arrive every one minute at a shop during the busy hours of working, a) what is the probability that exactly four customers arrive in a given minute? b) What is the probability that more than three customers will arrive in a given minute?"
   ]
  },
  {
   "cell_type": "code",
   "execution_count": null,
   "metadata": {
    "_cell_guid": "79c7e3d0-c299-4dcb-8224-4455121ee9b0",
    "_uuid": "d629ff2d2480ee46fbb7e2d37f6b5fab8052498a",
    "execution": {
     "iopub.execute_input": "2024-08-17T08:12:59.982644Z",
     "iopub.status.busy": "2024-08-17T08:12:59.981733Z",
     "iopub.status.idle": "2024-08-17T08:12:59.986150Z",
     "shell.execute_reply": "2024-08-17T08:12:59.985465Z",
     "shell.execute_reply.started": "2022-03-03T17:43:16.599967Z"
    },
    "id": "yObHJbXhDbHa",
    "outputId": "3cbfb06f-7a60-4391-e320-c44dd06a252d",
    "papermill": {
     "duration": 0.110549,
     "end_time": "2024-08-17T08:12:59.986300",
     "exception": false,
     "start_time": "2024-08-17T08:12:59.875751",
     "status": "completed"
    },
    "tags": []
   },
   "outputs": [
    {
     "data": {
      "text/plain": [
       "array([2.47875218e-03, 1.48725131e-02, 4.46175392e-02, 8.92350784e-02,\n",
       "       1.33852618e-01, 1.60623141e-01, 1.60623141e-01, 1.37676978e-01,\n",
       "       1.03257734e-01, 6.88384890e-02, 4.13030934e-02, 2.25289600e-02,\n",
       "       1.12644800e-02, 5.19899078e-03, 2.22813891e-03, 8.91255562e-04,\n",
       "       3.34220836e-04, 1.17960295e-04, 3.93200983e-05, 1.24168732e-05])"
      ]
     },
     "execution_count": 4,
     "metadata": {},
     "output_type": "execute_result"
    }
   ],
   "source": [
    "rate=6\n",
    "n=np.arange(0,20)\n",
    "poisson = stats.poisson.pmf(n,rate)\n",
    "poisson"
   ]
  },
  {
   "cell_type": "code",
   "execution_count": null,
   "metadata": {
    "execution": {
     "iopub.execute_input": "2024-08-17T08:13:00.192490Z",
     "iopub.status.busy": "2024-08-17T08:13:00.191584Z",
     "iopub.status.idle": "2024-08-17T08:13:00.196459Z",
     "shell.execute_reply": "2024-08-17T08:13:00.195772Z",
     "shell.execute_reply.started": "2022-03-03T17:43:16.617241Z"
    },
    "id": "1RfA1vyMDbHa",
    "outputId": "c86b1304-dd76-4e43-ae1a-d935f9277629",
    "papermill": {
     "duration": 0.110917,
     "end_time": "2024-08-17T08:13:00.196600",
     "exception": false,
     "start_time": "2024-08-17T08:13:00.085683",
     "status": "completed"
    },
    "tags": []
   },
   "outputs": [
    {
     "data": {
      "text/plain": [
       "0.13385261753998332"
      ]
     },
     "execution_count": 5,
     "metadata": {},
     "output_type": "execute_result"
    }
   ],
   "source": [
    "poisson[4]"
   ]
  },
  {
   "cell_type": "code",
   "execution_count": null,
   "metadata": {
    "execution": {
     "iopub.execute_input": "2024-08-17T08:13:00.407336Z",
     "iopub.status.busy": "2024-08-17T08:13:00.406205Z",
     "iopub.status.idle": "2024-08-17T08:13:00.410494Z",
     "shell.execute_reply": "2024-08-17T08:13:00.409781Z",
     "shell.execute_reply.started": "2022-03-03T17:43:16.62751Z"
    },
    "id": "XoTFEDADDbHb",
    "outputId": "e9ff46d0-7185-4e08-9379-8e4655eda86a",
    "papermill": {
     "duration": 0.112954,
     "end_time": "2024-08-17T08:13:00.410628",
     "exception": false,
     "start_time": "2024-08-17T08:13:00.297674",
     "status": "completed"
    },
    "tags": []
   },
   "outputs": [
    {
     "data": {
      "text/plain": [
       "0.45509889963594335"
      ]
     },
     "execution_count": 6,
     "metadata": {},
     "output_type": "execute_result"
    }
   ],
   "source": [
    "poisson[4] + poisson[5] + poisson[6]"
   ]
  },
  {
   "cell_type": "markdown",
   "metadata": {
    "id": "VE4pfiz5DbHb",
    "papermill": {
     "duration": 0.099091,
     "end_time": "2024-08-17T08:13:00.612850",
     "exception": false,
     "start_time": "2024-08-17T08:13:00.513759",
     "status": "completed"
    },
    "tags": []
   },
   "source": [
    "## 6.3 Normal distribution   <a class=\"anchor\" id=\"6.3\"></a>\n",
    "\n",
    "[**Table of Contents**](#0.1)\n",
    "\n",
    "Normal distribution also called as Gaussian distribution is the most common type of distribution. It is a kind of symmetric distribution where most of the observed values of the random variable is clustered around it’s central peak and the other values are equally distributed in both the directions.A normal distribution has a bell-shaped density curve described by its mean μ and standard deviation σ. The density curve is symmetrical, centered about its mean, with its spread determined by its standard deviation showing that data near the mean are more frequent in occurrence than data far from the mean. The probability distribution function of a normal density curve with mean μ and standard deviation σ at a given point x is given by:\n",
    "\n",
    "![image.png](attachment:image.png)\n",
    "\n",
    "![image.png](attachment:image.png)\n",
    "\n",
    "Normal Distribution has the following features :-\n",
    "\n",
    "- It is a continuous distribution which looks like a bell . It is also termed as “Bell Shaped distribution”.\n",
    "- Mean , median and mode are all equal to each other,\n",
    "- It is symmetrical about it’s mean.\n",
    "- If the tails of the normal distribution are extended , they will run parallel to the horizontal axis without actual touching it. (asymptotic to the x-axis)\n",
    "- It has only two parameters namely it’s mean and the standard deviation.\n",
    "- Approximately 68% of the data in a bell shaped distribution is within the 1 standard deviation of the mean\n",
    "- Approximately 95% of the data in a bell shaped distribution lies within two standard deviations of the mean.\n",
    "- Approximately 99.7% of the data in a bell-shaped distribution lies within three standard deviations of the mean,\n",
    "\n",
    "Please read the following article which describe it in detail :\n",
    "\n",
    "https://medium.com/datadriveninvestor/all-you-need-to-know-about-probability-distribution-ac5aa9c56222\n",
    "\n",
    "Lets see the following example how we can implement this is python\n",
    "\n"
   ]
  },
  {
   "cell_type": "markdown",
   "metadata": {
    "id": "2DHVp6cPDbHb",
    "papermill": {
     "duration": 0.09995,
     "end_time": "2024-08-17T08:13:00.813580",
     "exception": false,
     "start_time": "2024-08-17T08:13:00.713630",
     "status": "completed"
    },
    "tags": []
   },
   "source": [
    "The mean salaries of Data Scientists working in Amsterdam, Netherlands is calculated to be 7,00,000 EUR with a standard deviation of 90,000 INR. The random variable salary of Data Scientists follows a normal distribution.\n",
    "\n",
    "- What is the probability that a Data Scientist in Amsterdam has a salary more than 10,00,000 EUR?\n",
    "- What is the probability that a Data Scientist in Amsterdam has a salary between 6,00,000 & 9,00,000 EUR?\n",
    "- What is the probability that a Data Scientist in Amsterdam has a salary less than 4,00,000 EUR?"
   ]
  },
  {
   "cell_type": "code",
   "execution_count": null,
   "metadata": {
    "execution": {
     "iopub.execute_input": "2024-08-17T08:13:01.019034Z",
     "iopub.status.busy": "2024-08-17T08:13:01.018170Z",
     "iopub.status.idle": "2024-08-17T08:13:01.022182Z",
     "shell.execute_reply": "2024-08-17T08:13:01.021600Z",
     "shell.execute_reply.started": "2022-03-03T17:43:16.643073Z"
    },
    "id": "kCWcGH8GDbHb",
    "outputId": "979418a0-b3ea-48f1-dfa2-4b1a8f743031",
    "papermill": {
     "duration": 0.109329,
     "end_time": "2024-08-17T08:13:01.022322",
     "exception": false,
     "start_time": "2024-08-17T08:13:00.912993",
     "status": "completed"
    },
    "tags": []
   },
   "outputs": [
    {
     "data": {
      "text/plain": [
       "3.3333333333333335"
      ]
     },
     "execution_count": 7,
     "metadata": {},
     "output_type": "execute_result"
    }
   ],
   "source": [
    "z=(1000000-700000)/90000\n",
    "z"
   ]
  },
  {
   "cell_type": "code",
   "execution_count": null,
   "metadata": {
    "execution": {
     "iopub.execute_input": "2024-08-17T08:13:01.232399Z",
     "iopub.status.busy": "2024-08-17T08:13:01.231368Z",
     "iopub.status.idle": "2024-08-17T08:13:01.234785Z",
     "shell.execute_reply": "2024-08-17T08:13:01.235359Z",
     "shell.execute_reply.started": "2022-03-03T17:43:16.655369Z"
    },
    "id": "z08i_7OcDbHb",
    "outputId": "7df91638-da45-4146-f73f-14dc0fb47f36",
    "papermill": {
     "duration": 0.113636,
     "end_time": "2024-08-17T08:13:01.235528",
     "exception": false,
     "start_time": "2024-08-17T08:13:01.121892",
     "status": "completed"
    },
    "tags": []
   },
   "outputs": [
    {
     "data": {
      "text/plain": [
       "0.00042957471189908336"
      ]
     },
     "execution_count": 8,
     "metadata": {},
     "output_type": "execute_result"
    }
   ],
   "source": [
    "1 - stats.norm.cdf(3.333)"
   ]
  },
  {
   "cell_type": "code",
   "execution_count": null,
   "metadata": {
    "execution": {
     "iopub.execute_input": "2024-08-17T08:13:01.446852Z",
     "iopub.status.busy": "2024-08-17T08:13:01.445767Z",
     "iopub.status.idle": "2024-08-17T08:13:01.449052Z",
     "shell.execute_reply": "2024-08-17T08:13:01.448438Z",
     "shell.execute_reply.started": "2022-03-03T17:43:16.671801Z"
    },
    "id": "9Q3Q3ZBLDbHb",
    "papermill": {
     "duration": 0.109404,
     "end_time": "2024-08-17T08:13:01.449213",
     "exception": false,
     "start_time": "2024-08-17T08:13:01.339809",
     "status": "completed"
    },
    "tags": []
   },
   "outputs": [],
   "source": [
    "z1= (600000-700000)/90000\n",
    "z2= (900000-700000)/90000"
   ]
  },
  {
   "cell_type": "code",
   "execution_count": null,
   "metadata": {
    "execution": {
     "iopub.execute_input": "2024-08-17T08:13:01.658648Z",
     "iopub.status.busy": "2024-08-17T08:13:01.657790Z",
     "iopub.status.idle": "2024-08-17T08:13:01.661882Z",
     "shell.execute_reply": "2024-08-17T08:13:01.661331Z",
     "shell.execute_reply.started": "2022-03-03T17:43:16.679035Z"
    },
    "id": "P0rflgp3DbHb",
    "outputId": "e2a28688-ce01-470e-dff5-4a0c75cc6875",
    "papermill": {
     "duration": 0.111301,
     "end_time": "2024-08-17T08:13:01.662006",
     "exception": false,
     "start_time": "2024-08-17T08:13:01.550705",
     "status": "completed"
    },
    "tags": []
   },
   "outputs": [
    {
     "data": {
      "text/plain": [
       "0.8536055914064735"
      ]
     },
     "execution_count": 10,
     "metadata": {},
     "output_type": "execute_result"
    }
   ],
   "source": [
    "stats.norm.cdf(z2) - stats.norm.cdf(z1)"
   ]
  },
  {
   "cell_type": "code",
   "execution_count": null,
   "metadata": {
    "execution": {
     "iopub.execute_input": "2024-08-17T08:13:01.869921Z",
     "iopub.status.busy": "2024-08-17T08:13:01.868949Z",
     "iopub.status.idle": "2024-08-17T08:13:01.871725Z",
     "shell.execute_reply": "2024-08-17T08:13:01.871008Z",
     "shell.execute_reply.started": "2022-03-03T17:43:16.695809Z"
    },
    "id": "gg_l76ppDbHb",
    "papermill": {
     "duration": 0.109189,
     "end_time": "2024-08-17T08:13:01.871856",
     "exception": false,
     "start_time": "2024-08-17T08:13:01.762667",
     "status": "completed"
    },
    "tags": []
   },
   "outputs": [],
   "source": [
    "z = (400000-70000)/90000"
   ]
  },
  {
   "cell_type": "code",
   "execution_count": null,
   "metadata": {
    "execution": {
     "iopub.execute_input": "2024-08-17T08:13:02.081446Z",
     "iopub.status.busy": "2024-08-17T08:13:02.080562Z",
     "iopub.status.idle": "2024-08-17T08:13:02.085442Z",
     "shell.execute_reply": "2024-08-17T08:13:02.084791Z",
     "shell.execute_reply.started": "2022-03-03T17:43:16.703854Z"
    },
    "id": "s476tiXsDbHb",
    "outputId": "e5036ef5-171b-4d64-ca37-f0a1e2aef2a7",
    "papermill": {
     "duration": 0.112357,
     "end_time": "2024-08-17T08:13:02.085584",
     "exception": false,
     "start_time": "2024-08-17T08:13:01.973227",
     "status": "completed"
    },
    "tags": []
   },
   "outputs": [
    {
     "data": {
      "text/plain": [
       "3.6666666666666665"
      ]
     },
     "execution_count": 12,
     "metadata": {},
     "output_type": "execute_result"
    }
   ],
   "source": [
    "z"
   ]
  },
  {
   "cell_type": "code",
   "execution_count": null,
   "metadata": {
    "execution": {
     "iopub.execute_input": "2024-08-17T08:13:02.295654Z",
     "iopub.status.busy": "2024-08-17T08:13:02.294797Z",
     "iopub.status.idle": "2024-08-17T08:13:02.299427Z",
     "shell.execute_reply": "2024-08-17T08:13:02.298734Z",
     "shell.execute_reply.started": "2022-03-03T17:43:16.720169Z"
    },
    "id": "Y1KuBZpqDbHb",
    "outputId": "929da86e-7a44-4e3a-aab1-af8ea32c2bfd",
    "papermill": {
     "duration": 0.11168,
     "end_time": "2024-08-17T08:13:02.299571",
     "exception": false,
     "start_time": "2024-08-17T08:13:02.187891",
     "status": "completed"
    },
    "tags": []
   },
   "outputs": [
    {
     "data": {
      "text/plain": [
       "0.36956714157750203"
      ]
     },
     "execution_count": 13,
     "metadata": {},
     "output_type": "execute_result"
    }
   ],
   "source": [
    "stats.norm.cdf(-0.333)"
   ]
  },
  {
   "cell_type": "markdown",
   "metadata": {
    "id": "sMzsI-LiDbHc",
    "papermill": {
     "duration": 0.101649,
     "end_time": "2024-08-17T08:13:02.502859",
     "exception": false,
     "start_time": "2024-08-17T08:13:02.401210",
     "status": "completed"
    },
    "tags": []
   },
   "source": [
    "## 6.4 Uniform distribution   <a class=\"anchor\" id=\"6.4\"></a>\n",
    "\n",
    "[**Table of Contents**](#0.1)\n",
    "\n",
    "The probability distribution function of the continuous uniform distribution is:\n",
    "\n",
    "![image.png](attachment:image.png)\n",
    "\n",
    "\n",
    "Since any interval of numbers of equal width has an equal probability of being observed, the curve describing the distribution is a rectangle, with constant height across the interval and 0 height elsewhere. Since the area under the curve must be equal to 1, the length of the interval determines the height of the curve.\n",
    "\n",
    "\n",
    "\n",
    "\n",
    "\n",
    "Let'see how we can implement this in python\n"
   ]
  },
  {
   "cell_type": "code",
   "execution_count": null,
   "metadata": {
    "execution": {
     "iopub.execute_input": "2024-08-17T08:13:02.711998Z",
     "iopub.status.busy": "2024-08-17T08:13:02.710988Z",
     "iopub.status.idle": "2024-08-17T08:13:02.714004Z",
     "shell.execute_reply": "2024-08-17T08:13:02.713326Z",
     "shell.execute_reply.started": "2022-03-03T17:43:16.733576Z"
    },
    "id": "wiGzzsF_DbHc",
    "papermill": {
     "duration": 0.108909,
     "end_time": "2024-08-17T08:13:02.714165",
     "exception": false,
     "start_time": "2024-08-17T08:13:02.605256",
     "status": "completed"
    },
    "tags": []
   },
   "outputs": [],
   "source": [
    "# import uniform distribution\n",
    "from scipy.stats import uniform"
   ]
  },
  {
   "cell_type": "code",
   "execution_count": null,
   "metadata": {
    "execution": {
     "iopub.execute_input": "2024-08-17T08:13:02.929035Z",
     "iopub.status.busy": "2024-08-17T08:13:02.928223Z",
     "iopub.status.idle": "2024-08-17T08:13:02.931869Z",
     "shell.execute_reply": "2024-08-17T08:13:02.931297Z",
     "shell.execute_reply.started": "2022-03-03T17:43:16.746241Z"
    },
    "id": "HbW2CI-DDbHc",
    "papermill": {
     "duration": 0.111586,
     "end_time": "2024-08-17T08:13:02.932016",
     "exception": false,
     "start_time": "2024-08-17T08:13:02.820430",
     "status": "completed"
    },
    "tags": []
   },
   "outputs": [],
   "source": [
    "# random numbers from uniform distribution\n",
    "n = 10000\n",
    "start = 10\n",
    "width = 20\n",
    "data_uniform = uniform.rvs(size=n, loc = start, scale=width)"
   ]
  },
  {
   "cell_type": "code",
   "execution_count": null,
   "metadata": {
    "execution": {
     "iopub.execute_input": "2024-08-17T08:13:03.156059Z",
     "iopub.status.busy": "2024-08-17T08:13:03.155194Z",
     "iopub.status.idle": "2024-08-17T08:13:03.478519Z",
     "shell.execute_reply": "2024-08-17T08:13:03.477918Z",
     "shell.execute_reply.started": "2022-03-03T17:43:16.762143Z"
    },
    "id": "yLzxi3o5DbHc",
    "outputId": "5e69d2fd-8423-43f2-8ec1-60a85cda79d6",
    "papermill": {
     "duration": 0.441827,
     "end_time": "2024-08-17T08:13:03.478675",
     "exception": false,
     "start_time": "2024-08-17T08:13:03.036848",
     "status": "completed"
    },
    "tags": []
   },
   "outputs": [
    {
     "data": {
      "text/plain": [
       "[Text(0, 0.5, 'Frequency'), Text(0.5, 0, 'Uniform Distribution ')]"
      ]
     },
     "execution_count": 16,
     "metadata": {},
     "output_type": "execute_result"
    },
    {
     "data": {
      "image/png": "[encoded data removed]",
      "text/plain": [
       "<Figure size 432x288 with 1 Axes>"
      ]
     },
     "metadata": {
      "needs_background": "light"
     },
     "output_type": "display_data"
    }
   ],
   "source": [
    "ax = sns.distplot(data_uniform,\n",
    "                  bins=100,\n",
    "                  kde=True,\n",
    "                  color='skyblue',\n",
    "                  hist_kws={\"linewidth\": 15,'alpha':1})\n",
    "ax.set(xlabel='Uniform Distribution ', ylabel='Frequency')"
   ]
  },
  {
   "cell_type": "markdown",
   "metadata": {
    "id": "idDb0D52DbHc",
    "papermill": {
     "duration": 0.104128,
     "end_time": "2024-08-17T08:13:03.688364",
     "exception": false,
     "start_time": "2024-08-17T08:13:03.584236",
     "status": "completed"
    },
    "tags": []
   },
   "source": [
    "## 6.5 Gamma distribution   <a class=\"anchor\" id=\"6.5\"></a>\n",
    "\n",
    "[**Table of Contents**](#0.1)\n",
    "\n",
    "The gamma distribution is a two-parameter family of continuous probability distributions. While it is used rarely in its raw form but other popularly used distributions like exponential, chi-squared, erlang distributions are special cases of the gamma distribution. The gamma distribution can be parameterized in terms of a shape parameter α=k and an inverse scale parameter β=1/θ, called a rate parameter., the symbol Γ(n) is the gamma function and is defined as (n−1)! :\n",
    "\n",
    "![image.png](attachment:image.png)\n",
    "\n",
    "We can generate a gamma distributed random variable using scipy.stats module's gamma.rvs() method which takes shape parameter a as its argument. When a is an integer, gamma reduces to the Erlang distribution, and when a=1 to the exponential distribution. To shift distribution use the loc argument, to scale use scale argument, size decides the number of random variates in the distribution. If we want to maintain reproducibility, include a random_state argument assigned to a number.\n"
   ]
  },
  {
   "cell_type": "code",
   "execution_count": null,
   "metadata": {
    "execution": {
     "iopub.execute_input": "2024-08-17T08:13:03.902922Z",
     "iopub.status.busy": "2024-08-17T08:13:03.902103Z",
     "iopub.status.idle": "2024-08-17T08:13:03.906311Z",
     "shell.execute_reply": "2024-08-17T08:13:03.905648Z",
     "shell.execute_reply.started": "2022-03-03T17:43:17.123566Z"
    },
    "id": "Kr_VofJEDbHc",
    "papermill": {
     "duration": 0.113103,
     "end_time": "2024-08-17T08:13:03.906458",
     "exception": false,
     "start_time": "2024-08-17T08:13:03.793355",
     "status": "completed"
    },
    "tags": []
   },
   "outputs": [],
   "source": [
    "from scipy.stats import gamma\n",
    "data_gamma = gamma.rvs(a=5, size=10000)"
   ]
  },
  {
   "cell_type": "code",
   "execution_count": null,
   "metadata": {
    "execution": {
     "iopub.execute_input": "2024-08-17T08:13:04.128733Z",
     "iopub.status.busy": "2024-08-17T08:13:04.127919Z",
     "iopub.status.idle": "2024-08-17T08:13:04.461952Z",
     "shell.execute_reply": "2024-08-17T08:13:04.462537Z",
     "shell.execute_reply.started": "2022-03-03T17:43:17.132371Z"
    },
    "id": "-FzOB2B1DbHc",
    "outputId": "58c925a1-45a4-4300-c85b-a9d6d0b252db",
    "papermill": {
     "duration": 0.452309,
     "end_time": "2024-08-17T08:13:04.462739",
     "exception": false,
     "start_time": "2024-08-17T08:13:04.010430",
     "status": "completed"
    },
    "tags": []
   },
   "outputs": [
    {
     "data": {
      "text/plain": [
       "[Text(0, 0.5, 'Frequency'), Text(0.5, 0, 'Gamma Distribution')]"
      ]
     },
     "execution_count": 18,
     "metadata": {},
     "output_type": "execute_result"
    },
    {
     "data": {
      "image/png": "[encoded data removed]",
      "text/plain": [
       "<Figure size 432x288 with 1 Axes>"
      ]
     },
     "metadata": {
      "needs_background": "light"
     },
     "output_type": "display_data"
    }
   ],
   "source": [
    "ax = sns.distplot(data_gamma,\n",
    "                  kde=True,\n",
    "                  bins=100,\n",
    "                  color='skyblue',\n",
    "                  hist_kws={\"linewidth\": 15,'alpha':1})\n",
    "ax.set(xlabel='Gamma Distribution', ylabel='Frequency')"
   ]
  },
  {
   "cell_type": "markdown",
   "metadata": {
    "id": "6__sOVZqDbHc",
    "papermill": {
     "duration": 0.10624,
     "end_time": "2024-08-17T08:13:04.678609",
     "exception": false,
     "start_time": "2024-08-17T08:13:04.572369",
     "status": "completed"
    },
    "tags": []
   },
   "source": [
    "## 6.6 Exponential distribution   <a class=\"anchor\" id=\"6.6\"></a>\n",
    "\n",
    "[**Table of Contents**](#0.1)\n",
    "\n",
    "\n",
    "The exponential distribution describes the time between events in a Poisson point process, i.e., a process in which events occur continuously and independently at a constant average rate. It has a parameter λ called rate parameter, and its equation is described as :\n",
    "\n",
    "![image.png](attachment:image.png)\n",
    "\n",
    "We can generate an exponentially distributed random variable using scipy.stats module's expon.rvs() method which takes shape parameter scale as its argument which is nothing but 1/lambda in the equation. To shift distribution use the loc argument, size decides the number of random variates in the distribution. If we  want to maintain reproducibility, include a random_state argument assigned to a number.\n"
   ]
  },
  {
   "cell_type": "code",
   "execution_count": null,
   "metadata": {
    "execution": {
     "iopub.execute_input": "2024-08-17T08:13:04.898412Z",
     "iopub.status.busy": "2024-08-17T08:13:04.897286Z",
     "iopub.status.idle": "2024-08-17T08:13:04.900864Z",
     "shell.execute_reply": "2024-08-17T08:13:04.899875Z",
     "shell.execute_reply.started": "2022-03-03T17:43:17.502968Z"
    },
    "id": "GKXdO2s1DbHf",
    "papermill": {
     "duration": 0.115307,
     "end_time": "2024-08-17T08:13:04.901084",
     "exception": false,
     "start_time": "2024-08-17T08:13:04.785777",
     "status": "completed"
    },
    "tags": []
   },
   "outputs": [],
   "source": [
    "from scipy.stats import expon\n",
    "data_expon = expon.rvs(scale=1,loc=0,size=1000)"
   ]
  },
  {
   "cell_type": "code",
   "execution_count": null,
   "metadata": {
    "execution": {
     "iopub.execute_input": "2024-08-17T08:13:05.212151Z",
     "iopub.status.busy": "2024-08-17T08:13:05.210950Z",
     "iopub.status.idle": "2024-08-17T08:13:05.523237Z",
     "shell.execute_reply": "2024-08-17T08:13:05.522584Z",
     "shell.execute_reply.started": "2022-03-03T17:43:17.511996Z"
    },
    "id": "fGHfY-fJDbHf",
    "outputId": "c35e6cfe-bbc2-4c32-bc4f-0e44938ffe8b",
    "papermill": {
     "duration": 0.513717,
     "end_time": "2024-08-17T08:13:05.523386",
     "exception": false,
     "start_time": "2024-08-17T08:13:05.009669",
     "status": "completed"
    },
    "tags": []
   },
   "outputs": [
    {
     "data": {
      "text/plain": [
       "[Text(0, 0.5, 'Frequency'), Text(0.5, 0, 'Exponential Distribution')]"
      ]
     },
     "execution_count": 20,
     "metadata": {},
     "output_type": "execute_result"
    },
    {
     "data": {
      "image/png": "[encoded data removed]",
      "text/plain": [
       "<Figure size 432x288 with 1 Axes>"
      ]
     },
     "metadata": {
      "needs_background": "light"
     },
     "output_type": "display_data"
    }
   ],
   "source": [
    "ax = sns.distplot(data_expon,\n",
    "                  kde=True,\n",
    "                  bins=100,\n",
    "                  color='skyblue',\n",
    "                  hist_kws={\"linewidth\": 15,'alpha':1})\n",
    "ax.set(xlabel='Exponential Distribution', ylabel='Frequency')"
   ]
  },
  {
   "cell_type": "markdown",
   "metadata": {
    "id": "UUDYWiCIDbHg",
    "papermill": {
     "duration": 0.113181,
     "end_time": "2024-08-17T08:13:05.745033",
     "exception": false,
     "start_time": "2024-08-17T08:13:05.631852",
     "status": "completed"
    },
    "tags": []
   },
   "source": [
    "## 6.7 Bernoulli distribution   <a class=\"anchor\" id=\"6.7\"></a>\n",
    "\n",
    "[**Table of Contents**](#0.1)\n",
    "\n",
    "A Bernoulli distribution has only two possible outcomes, namely 1 (success) and 0 (failure), and a single trial, for example, a coin toss. So the random variable X which has a Bernoulli distribution can take value 1 with the probability of success, p, and the value 0 with the probability of failure, q or 1−p. The probabilities of success and failure need not be equally likely. The Bernoulli distribution is a special case of the binomial distribution where a single trial is conducted (n=1). Its probability mass function is given by:\n",
    "\n",
    "![image.png](attachment:image.png)\n",
    "\n",
    "We can generate a bernoulli distributed discrete random variable using scipy.stats module's bernoulli.rvs() method which takes p (probability of success) as a shape parameter. To shift distribution use the loc parameter. size decides the number of times to repeat the trials. If we want to maintain reproducibility, include a random_state argument assigned to a number."
   ]
  },
  {
   "cell_type": "code",
   "execution_count": null,
   "metadata": {
    "execution": {
     "iopub.execute_input": "2024-08-17T08:13:05.962412Z",
     "iopub.status.busy": "2024-08-17T08:13:05.961591Z",
     "iopub.status.idle": "2024-08-17T08:13:05.965278Z",
     "shell.execute_reply": "2024-08-17T08:13:05.964672Z",
     "shell.execute_reply.started": "2022-03-03T17:43:18.011398Z"
    },
    "id": "sQSrnep3DbHg",
    "papermill": {
     "duration": 0.113664,
     "end_time": "2024-08-17T08:13:05.965426",
     "exception": false,
     "start_time": "2024-08-17T08:13:05.851762",
     "status": "completed"
    },
    "tags": []
   },
   "outputs": [],
   "source": [
    "from scipy.stats import bernoulli\n",
    "data_bern = bernoulli.rvs(size=10000,p=0.6)"
   ]
  },
  {
   "cell_type": "code",
   "execution_count": null,
   "metadata": {
    "execution": {
     "iopub.execute_input": "2024-08-17T08:13:06.183035Z",
     "iopub.status.busy": "2024-08-17T08:13:06.182278Z",
     "iopub.status.idle": "2024-08-17T08:13:06.351452Z",
     "shell.execute_reply": "2024-08-17T08:13:06.350667Z",
     "shell.execute_reply.started": "2022-03-03T17:43:18.019795Z"
    },
    "id": "58RF9zwxDbHg",
    "outputId": "1d11802b-754f-49cb-f1ed-5c2f8ac1dd56",
    "papermill": {
     "duration": 0.281417,
     "end_time": "2024-08-17T08:13:06.351595",
     "exception": false,
     "start_time": "2024-08-17T08:13:06.070178",
     "status": "completed"
    },
    "tags": []
   },
   "outputs": [
    {
     "data": {
      "text/plain": [
       "[Text(0, 0.5, 'Frequency'), Text(0.5, 0, 'Bernoulli Distribution')]"
      ]
     },
     "execution_count": 22,
     "metadata": {},
     "output_type": "execute_result"
    },
    {
     "data": {
      "image/png": "[encoded data removed]",
      "text/plain": [
       "<Figure size 432x288 with 1 Axes>"
      ]
     },
     "metadata": {
      "needs_background": "light"
     },
     "output_type": "display_data"
    }
   ],
   "source": [
    "ax= sns.distplot(data_bern,\n",
    "                 kde=False,\n",
    "                 color=\"skyblue\",\n",
    "                 hist_kws={\"linewidth\": 15,'alpha':1})\n",
    "ax.set(xlabel='Bernoulli Distribution', ylabel='Frequency')"
   ]
  },
  {
   "cell_type": "markdown",
   "metadata": {
    "id": "eO0aiEoCDbHg",
    "papermill": {
     "duration": 0.108262,
     "end_time": "2024-08-17T08:13:06.564763",
     "exception": false,
     "start_time": "2024-08-17T08:13:06.456501",
     "status": "completed"
    },
    "tags": []
   },
   "source": [
    "# 7. Expected Value ,Variance and Covariance   <a class=\"anchor\" id=\"7\"></a>\n",
    "\n",
    "[**Table of Contents**](#0.1)\n",
    "\n",
    "## Expected Value\n",
    "\n",
    "In probability, the average value of some random variable X is called the expected value or the expectation.The expected value uses the notation E with square brackets around the name of the variable; for example:\n",
    "\n",
    "E[X]\n",
    "\n",
    "It is calculated by the following formula\n",
    "\n",
    "E[X] = sum(x1 * p1, x2 * p2, x3 * p3, ..., xn * pn)\n",
    "\n",
    "The expected value can be calculated as the sum of all values multiplied by the reciprocal of the number of values.\n",
    "\n",
    "E[X] = sum(x1, x2, x3, ..., xn) . 1/n\n",
    "\n",
    "The expected value is a function of the probability distribution of the observed value in our population. The sample mean of our sample is the observed mean value of our data. If the experiment has been designed correctly, the sample mean should converge to the expected value as more and more samples are included in the analysis.It is confusing because mean, average, and expected value are used interchangeably.\n",
    "\n",
    "Mean can be denoted  in the following ways :\n",
    "\n",
    "- Greek letter mu can be used for this\n",
    "  \n",
    "mu = sum(x1, x2, x3, ..., xn) . 1/n\n",
    "\n",
    "- x is the vector of observations and P(x) is the calculated probability for each value.\n",
    "\n",
    "mu = sum(x . P(x)\n",
    "\n",
    "- When calculated for a specific variable, such as x, the mean is denoted as a lower case variable name with a line above, called x-bar.\n",
    "\n",
    "_\n",
    "x = sum from 1 to n (xi) . 1/n\n",
    "\n"
   ]
  },
  {
   "cell_type": "code",
   "execution_count": null,
   "metadata": {
    "execution": {
     "iopub.execute_input": "2024-08-17T08:13:06.781975Z",
     "iopub.status.busy": "2024-08-17T08:13:06.780980Z",
     "iopub.status.idle": "2024-08-17T08:13:06.785942Z",
     "shell.execute_reply": "2024-08-17T08:13:06.785334Z",
     "shell.execute_reply.started": "2022-03-03T17:43:18.206709Z"
    },
    "id": "mrQWzrpbDbHg",
    "outputId": "fe1695eb-a558-4828-fb00-73cdcf5aadcf",
    "papermill": {
     "duration": 0.116659,
     "end_time": "2024-08-17T08:13:06.786080",
     "exception": false,
     "start_time": "2024-08-17T08:13:06.669421",
     "status": "completed"
    },
    "tags": []
   },
   "outputs": [
    {
     "data": {
      "text/plain": [
       "4.0"
      ]
     },
     "execution_count": 23,
     "metadata": {},
     "output_type": "execute_result"
    }
   ],
   "source": [
    "from numpy import mean\n",
    "example = np.linspace(0,8)\n",
    "result = mean(example)\n",
    "result"
   ]
  },
  {
   "cell_type": "code",
   "execution_count": null,
   "metadata": {
    "execution": {
     "iopub.execute_input": "2024-08-17T08:13:07.007986Z",
     "iopub.status.busy": "2024-08-17T08:13:07.006983Z",
     "iopub.status.idle": "2024-08-17T08:13:07.011340Z",
     "shell.execute_reply": "2024-08-17T08:13:07.010707Z",
     "shell.execute_reply.started": "2022-03-03T17:43:18.217797Z"
    },
    "id": "5ozN9QXFDbHg",
    "outputId": "207e8bf5-9112-41ae-afd4-d6df63d54089",
    "papermill": {
     "duration": 0.119834,
     "end_time": "2024-08-17T08:13:07.011492",
     "exception": false,
     "start_time": "2024-08-17T08:13:06.891658",
     "status": "completed"
    },
    "tags": []
   },
   "outputs": [
    {
     "name": "stdout",
     "output_type": "stream",
     "text": [
      "[[1 2 3 4 5 6]\n",
      " [1 2 3 4 5 6]]\n",
      "[1. 2. 3. 4. 5. 6.]\n",
      "[3.5 3.5]\n"
     ]
    }
   ],
   "source": [
    "from numpy import array\n",
    "M = array([[1,2,3,4,5,6],[1,2,3,4,5,6]])\n",
    "print(M)\n",
    "col_mean = mean(M, axis=0)\n",
    "print(col_mean)\n",
    "row_mean = mean(M, axis=1)\n",
    "print(row_mean)"
   ]
  },
  {
   "cell_type": "markdown",
   "metadata": {
    "id": "7Vo5kiRODbHg",
    "papermill": {
     "duration": 0.107756,
     "end_time": "2024-08-17T08:13:07.225363",
     "exception": false,
     "start_time": "2024-08-17T08:13:07.117607",
     "status": "completed"
    },
    "tags": []
   },
   "source": [
    "## Variance\n",
    "\n",
    "The variance of some random variable X is a measure of how much values in the distribution vary on average with respect to the mean.The variance is denoted as the function Var() on the variable.\n",
    "\n",
    "Var[X]\n",
    "\n",
    "Variance is calculated as the average squared difference of each value in the distribution from the expected value. Or the expected squared difference from the expected value.\n",
    "\n",
    "Var[X] = sum (p(x1) . (x1 - E[X])^2, p(x2) . (x2 - E[X])^2, ..., p(x1) . (xn - E[X])^2)\n",
    "\n",
    "If the probability of each example in the distribution is equal, variance calculation can drop the individual probabilities and multiply the sum of squared differences by the reciprocal of the number of examples in the distribution.\n",
    "\n",
    "Var[X] = sum ((x1 - E[X])^2, (x2 - E[X])^2, ...,(xn - E[X])^2) . 1/n\n",
    "\n",
    "The sample variance is denoted by the lower case sigma with a 2 superscript indicating the units are squared,not that you must square the final value .The sum of the squared differences is multiplied by the reciprocal of the number of examples minus 1 to correct for a bias.\n",
    "\n",
    "\n",
    "sigma^2 = sum from 1 to n ( (xi - mu)^2 ) . 1 / (n - 1)\n",
    "\n",
    "\n",
    "\n"
   ]
  },
  {
   "cell_type": "code",
   "execution_count": null,
   "metadata": {
    "execution": {
     "iopub.execute_input": "2024-08-17T08:13:07.447727Z",
     "iopub.status.busy": "2024-08-17T08:13:07.446899Z",
     "iopub.status.idle": "2024-08-17T08:13:07.450766Z",
     "shell.execute_reply": "2024-08-17T08:13:07.450034Z",
     "shell.execute_reply.started": "2022-03-03T17:43:18.23Z"
    },
    "id": "u_aD7OMVDbHg",
    "outputId": "88ece61d-dc72-4542-8799-cda924c6d4aa",
    "papermill": {
     "duration": 0.120333,
     "end_time": "2024-08-17T08:13:07.450920",
     "exception": false,
     "start_time": "2024-08-17T08:13:07.330587",
     "status": "completed"
    },
    "tags": []
   },
   "outputs": [
    {
     "name": "stdout",
     "output_type": "stream",
     "text": [
      "[1 2 3 4 5 6]\n",
      "3.5\n"
     ]
    }
   ],
   "source": [
    "from numpy import var\n",
    "v = array([1,2,3,4,5,6])\n",
    "print(v)\n",
    "result = var(v, ddof=1)\n",
    "print(result)"
   ]
  },
  {
   "cell_type": "code",
   "execution_count": null,
   "metadata": {
    "execution": {
     "iopub.execute_input": "2024-08-17T08:13:07.698899Z",
     "iopub.status.busy": "2024-08-17T08:13:07.697989Z",
     "iopub.status.idle": "2024-08-17T08:13:07.701374Z",
     "shell.execute_reply": "2024-08-17T08:13:07.701918Z",
     "shell.execute_reply.started": "2022-03-03T17:43:18.245092Z"
    },
    "id": "r9ccbNgaDbHg",
    "outputId": "ee1d57b5-ba5d-4dad-da72-47b272f6643f",
    "papermill": {
     "duration": 0.129708,
     "end_time": "2024-08-17T08:13:07.702094",
     "exception": false,
     "start_time": "2024-08-17T08:13:07.572386",
     "status": "completed"
    },
    "tags": []
   },
   "outputs": [
    {
     "name": "stdout",
     "output_type": "stream",
     "text": [
      "[[1 2 3 4 5 6]\n",
      " [1 2 3 4 5 6]]\n",
      "[0. 0. 0. 0. 0. 0.]\n",
      "[3.5 3.5]\n"
     ]
    }
   ],
   "source": [
    "M = array([[1,2,3,4,5,6],[1,2,3,4,5,6]])\n",
    "print(M)\n",
    "col_mean = var(M, ddof=1, axis=0)\n",
    "print(col_mean)\n",
    "row_mean = var(M, ddof=1, axis=1)\n",
    "print(row_mean)"
   ]
  },
  {
   "cell_type": "markdown",
   "metadata": {
    "id": "rZtHhi9RDbHg",
    "papermill": {
     "duration": 0.1064,
     "end_time": "2024-08-17T08:13:07.915566",
     "exception": false,
     "start_time": "2024-08-17T08:13:07.809166",
     "status": "completed"
    },
    "tags": []
   },
   "source": [
    "The example below demonstrates how to calculate the sample standard deviation for the rows and columns of a matrix."
   ]
  },
  {
   "cell_type": "code",
   "execution_count": null,
   "metadata": {
    "execution": {
     "iopub.execute_input": "2024-08-17T08:13:08.138034Z",
     "iopub.status.busy": "2024-08-17T08:13:08.137033Z",
     "iopub.status.idle": "2024-08-17T08:13:08.140422Z",
     "shell.execute_reply": "2024-08-17T08:13:08.140964Z",
     "shell.execute_reply.started": "2022-03-03T17:43:18.257218Z"
    },
    "id": "A1wfOyrjDbHg",
    "outputId": "b5513094-f105-4430-ad91-eaf85f0ffef0",
    "papermill": {
     "duration": 0.118727,
     "end_time": "2024-08-17T08:13:08.141306",
     "exception": false,
     "start_time": "2024-08-17T08:13:08.022579",
     "status": "completed"
    },
    "tags": []
   },
   "outputs": [
    {
     "name": "stdout",
     "output_type": "stream",
     "text": [
      "[[1 2 3 4 5 6]\n",
      " [1 2 3 4 5 6]]\n",
      "[0. 0. 0. 0. 0. 0.]\n",
      "[1.87082869 1.87082869]\n"
     ]
    }
   ],
   "source": [
    "from numpy import array\n",
    "from numpy import std\n",
    "M = array([[1,2,3,4,5,6],[1,2,3,4,5,6]])\n",
    "print(M)\n",
    "col_mean = std(M, ddof=1, axis=0)\n",
    "print(col_mean)\n",
    "row_mean = std(M, ddof=1, axis=1)\n",
    "print(row_mean)"
   ]
  },
  {
   "cell_type": "markdown",
   "metadata": {
    "id": "6HKofXjODbHh",
    "papermill": {
     "duration": 0.108789,
     "end_time": "2024-08-17T08:13:08.361114",
     "exception": false,
     "start_time": "2024-08-17T08:13:08.252325",
     "status": "completed"
    },
    "tags": []
   },
   "source": [
    "## Covariance\n",
    "\n",
    "\n",
    "In probability, covariance is the measure of the joint probability for two random variables. It describes how the two variables change together.It is denoted as the function cov(X, Y), where X and Y are the two random variables being considered.\n",
    "\n",
    "cov(X,Y)\n",
    "\n",
    "Covariance is calculated as expected value or average of the product of the differences of each random variable from their expected values, where E[X] is the expected value for X and E[Y] is the expected value of y.\n",
    "\n",
    "cov(X, Y) = E[(X - E[X]) . (Y - E[Y])]\n",
    "\n",
    "The covariance can be calculated as the sum of the difference of x values from their expected value multiplied by the difference of the y values from their expected values multiplied by the reciprocal of the number of examples in the population.\n",
    "\n",
    "cov(X, Y) = sum (x - E[X]) * (y - E[Y]) * 1/n\n",
    "\n",
    "In statistics, the sample covariance can be calculated in the same way, although with a bias correction, the same as with the variance.\n",
    "\n",
    "\n",
    "cov(X, Y) = sum (x - E[X]) * (y - E[Y]) * 1/(n - 1)"
   ]
  },
  {
   "cell_type": "code",
   "execution_count": null,
   "metadata": {
    "execution": {
     "iopub.execute_input": "2024-08-17T08:13:08.591403Z",
     "iopub.status.busy": "2024-08-17T08:13:08.590328Z",
     "iopub.status.idle": "2024-08-17T08:13:08.596440Z",
     "shell.execute_reply": "2024-08-17T08:13:08.595589Z",
     "shell.execute_reply.started": "2022-03-03T17:43:18.271296Z"
    },
    "id": "Oq6HTj-cDbHh",
    "outputId": "c6f77f15-75c7-43f8-de5d-03d794e72847",
    "papermill": {
     "duration": 0.122987,
     "end_time": "2024-08-17T08:13:08.596592",
     "exception": false,
     "start_time": "2024-08-17T08:13:08.473605",
     "status": "completed"
    },
    "tags": []
   },
   "outputs": [
    {
     "name": "stdout",
     "output_type": "stream",
     "text": [
      "[1 2 3 4 5 6 7 8 9]\n",
      "[9 8 7 6 5 4 3 2 1]\n",
      "-7.5\n"
     ]
    }
   ],
   "source": [
    "from numpy import cov\n",
    "x = array([1,2,3,4,5,6,7,8,9])\n",
    "print(x)\n",
    "y = array([9,8,7,6,5,4,3,2,1])\n",
    "print(y)\n",
    "Sigma = cov(x,y)[0,1]\n",
    "print(Sigma)"
   ]
  },
  {
   "cell_type": "markdown",
   "metadata": {
    "id": "lJvjBC-dDbHh",
    "papermill": {
     "duration": 0.107439,
     "end_time": "2024-08-17T08:13:08.811749",
     "exception": false,
     "start_time": "2024-08-17T08:13:08.704310",
     "status": "completed"
    },
    "tags": []
   },
   "source": [
    "The covariance can be normalized to a score between -1 and 1 to make the magnitude interpretable by dividing it by the standard deviation of X and Y.  The result is called the correlation of the variables, also called the Pearson correlation coefficient, named for the developer of the method.\n",
    "\n",
    "\n",
    "r = cov(X, Y) / sX sY"
   ]
  },
  {
   "cell_type": "code",
   "execution_count": null,
   "metadata": {
    "execution": {
     "iopub.execute_input": "2024-08-17T08:13:09.039867Z",
     "iopub.status.busy": "2024-08-17T08:13:09.038929Z",
     "iopub.status.idle": "2024-08-17T08:13:09.042962Z",
     "shell.execute_reply": "2024-08-17T08:13:09.042395Z",
     "shell.execute_reply.started": "2022-03-03T17:43:18.287723Z"
    },
    "id": "tB6XMDfJDbHh",
    "outputId": "303955a1-a349-43fc-9335-d61c11b871af",
    "papermill": {
     "duration": 0.120199,
     "end_time": "2024-08-17T08:13:09.043103",
     "exception": false,
     "start_time": "2024-08-17T08:13:08.922904",
     "status": "completed"
    },
    "tags": []
   },
   "outputs": [
    {
     "name": "stdout",
     "output_type": "stream",
     "text": [
      "[1 2 3 4 5 6 7 8 9]\n",
      "[9 8 7 6 5 4 3 2 1]\n",
      "[[ 1. -1.]\n",
      " [-1.  1.]]\n"
     ]
    }
   ],
   "source": [
    "from numpy import corrcoef\n",
    "x = array([1,2,3,4,5,6,7,8,9])\n",
    "print(x)\n",
    "y = array([9,8,7,6,5,4,3,2,1])\n",
    "print(y)\n",
    "Sigma = corrcoef(x,y)\n",
    "print(Sigma)"
   ]
  },
  {
   "cell_type": "markdown",
   "metadata": {
    "id": "9VDdnKZLDbHh",
    "papermill": {
     "duration": 0.110321,
     "end_time": "2024-08-17T08:13:09.265830",
     "exception": false,
     "start_time": "2024-08-17T08:13:09.155509",
     "status": "completed"
    },
    "tags": []
   },
   "source": [
    "# 8.Degree of Freedom   <a class=\"anchor\" id=\"8\"></a>\n",
    "\n",
    "[**Table of Contents**](#0.1)\n",
    "\n",
    "In mechanics, a particle which moves in a plane has “2 DOF”: at each point in time, two parameters (the x=y-coordinates) define the location of the particle. If the particle moves about in space, it has “3 DOF”: the x=y=z-coordinates.\n",
    "\n",
    "In statistics, a group of n values has n DOF. If we look only at the shape of the distribution of the values, we can subtract from each value the sample mean. Then, the remaining data only have n -1 DOF. (This is clearest for n = 2: if we know the mean value and the value of sample1, then we can calculate the value of sample2 by val2 = 2 * mean - val1.)\n",
    "\n",
    "The case becomes more complex when we have many groups. For example,there is an example with 22 patients, divided into 3 groups. In the\n",
    "analysis of variance (ANOVA), the DOFs in this example are divided as follows:\n",
    "\n",
    "• 1 DOF for the total mean value.\n",
    "\n",
    "• 2 DOF for the mean value of each of the three groups (remember, if we know the mean values of two groups and the total mean, we can calculate the mean value of the third group).\n",
    "\n",
    "• 19 DOF (= 22-1-2) are left for the residual deviations from the group means.\n",
    "\n",
    "Degrees of freedom: Roughly, the minimum amount of data needed to calculate a statistic. More practically, it is a number, or numbers, used to approximate the number of observations in the data set for the purpose of determining statistical significance.\n"
   ]
  },
  {
   "cell_type": "markdown",
   "metadata": {
    "id": "T3M2NtDIDbHh",
    "papermill": {
     "duration": 0.10712,
     "end_time": "2024-08-17T08:13:09.483040",
     "exception": false,
     "start_time": "2024-08-17T08:13:09.375920",
     "status": "completed"
    },
    "tags": []
   },
   "source": [
    "# 9.Hypothesis Testing       <a class=\"anchor\" id=\"9\"></a>\n",
    "\n",
    "[**Table of Contents**](#0.1)\n",
    "\n",
    "The most common use of statistical tests are to assess whether an observation for e.g finding the relationship between features and coming to a conclusion that the relationship is either a statistical chance or is it real. Some of the important points :-\n",
    "\n",
    "- Null Hypothesis says that there is no relationship while alternate hypothesis says that there is a significant relationship\n",
    "- The data showing the apparent relationship have certain characteristics such as central values, spread , shape of the curve , direction of the speed.\n",
    "- Statistical techniques are used to asess the probability of collecting such data from real world data if there was no such relationship in the real  world.\n",
    "- The probability is expressed as p value. Usually p less than 0.05 % shows that there is the relationship between features.\n",
    "- P value is linked with the confidence level which is 95 % i.e the confidence in rejecting the null hypothesis.\n",
    "\n"
   ]
  },
  {
   "cell_type": "markdown",
   "metadata": {
    "id": "l_AsNOCpDbHh",
    "papermill": {
     "duration": 0.108741,
     "end_time": "2024-08-17T08:13:09.704247",
     "exception": false,
     "start_time": "2024-08-17T08:13:09.595506",
     "status": "completed"
    },
    "tags": []
   },
   "source": [
    "## 9.1 Statistical Hypothesis Testing   <a class=\"anchor\" id=\"9.1\"></a>\n",
    "\n",
    "[**Table of Contents**](#0.1)\n",
    "\n",
    "\n",
    "Statistics helps us in the interpretation of data which makes the data really interesting. We start creating questions and interpret the results. The statistical methods are used that provide confidence or likelihood about the answers. In general this class of methods is called statistical hypothesis testing or significance tests. In statistics, a hypothesis test calculates some quantity under a given assumption. The result of the test allows us to interpret whether the assumption holds or whether the assumption has been violated. Two concrete examples that we will use a lot in\n",
    "machine learning are:\n",
    "\n",
    "- A test that assumes that data has a normal distribution.\n",
    "- A test that assumes that two samples were drawn from the same underlying population distribution.\n",
    "\n",
    "\n",
    "The assumption of a statistical test is called the null hypothesis, or hypothesis zero (H0 for short). It is often called the default assumption, or the assumption that nothing has changed(there is no relationship).H1 is really a short hand for some other hypothesis.\n",
    "\n",
    "- Hypothesis 0 (H0): Assumption of the test fails to be rejected.\n",
    "- Hypothesis 1 (H1): Assumption of the test does not hold and is rejected at some level of significance.\n",
    "\n",
    "\n"
   ]
  },
  {
   "cell_type": "markdown",
   "metadata": {
    "id": "LxUqjh9sDbHh",
    "papermill": {
     "duration": 0.107591,
     "end_time": "2024-08-17T08:13:09.922275",
     "exception": false,
     "start_time": "2024-08-17T08:13:09.814684",
     "status": "completed"
    },
    "tags": []
   },
   "source": [
    "## 9.2 Statistical Test Intepretation   <a class=\"anchor\" id=\"9.2\"></a>\n",
    "\n",
    "[**Table of Contents**](#0.1)\n",
    "\n",
    "The results of a statistical hypothesis test must be interpreted for us to start making claims.There are two common forms that a result from a statistical hypothesis test may take,and they must be interpreted in different ways. They are the p-value and critical values.\n",
    "\n",
    "**Interpret the p-value**\n",
    "\n",
    "A statistical hypothesis test may return a value called p or the p-value. This is a quantity that we can use to interpret or quantify\n",
    "the result of the test and either reject or fail to reject the null hypothesis. This is done by comparing the p-value to a threshold value chosen beforehand called the significance level.\n",
    "\n",
    "- p-value <= alpha: signi\n",
    "cant result, reject null hypothesis (H1).\n",
    "- p-value > alpha: not signi\n",
    "cant result, fail to reject the null hypothesis (H0).\n",
    "\n",
    "The significance level can be inverted by subtracting it from 1 to give a confidence level of the hypothesis given the observed sample data.\n",
    "confidence level = 1-significance level\n",
    "\n",
    "The p-value is a measure of how likely the data sample would be observed if the null hypothesis were true. It is represented as\n",
    "\n",
    "**Pr(data|hypothesis)**\n",
    "\n",
    "\n",
    "\n"
   ]
  },
  {
   "cell_type": "markdown",
   "metadata": {
    "id": "ny1B86ZxDbHh",
    "papermill": {
     "duration": 0.110407,
     "end_time": "2024-08-17T08:13:10.140907",
     "exception": false,
     "start_time": "2024-08-17T08:13:10.030500",
     "status": "completed"
    },
    "tags": []
   },
   "source": [
    "## 9.3 Errors in Statistical Tests   <a class=\"anchor\" id=\"9.3\"></a>\n",
    "\n",
    "[**Table of Contents**](#0.1)\n",
    "\n",
    "\n",
    "There are two types of errors in statistical tests\n",
    "\n",
    "\n",
    "**Type 1 Error : Reject H0 when it is true**\n",
    "\n",
    "- The incorrect rejection of a true null hypothesis, called a false positive.\n",
    "- We think the new procedure introduced as part of process improvement has increased productivity but in long run the productivity remains same as it was before the procedure was introduced\n",
    "- While preparing to model loan status, you find strong link between income and loan status in the sample data and believe it to be true in population while it is not so\n",
    "- Significance level (α) or Type 1 error rate: is the probability of making this type of error I ( P value)\n",
    "- This P value is usually set to 0.05 as a standard. This translates to 5% chance of incorrectly rejecting H0\n",
    "\n",
    "\n",
    "**Type 2 error:Failing to reject H0 when it is false**\n",
    "\n",
    "- The incorrect failure of rejecting a false null hypothesis, called a false negative.\n",
    "- We think the new procedure introduced as part of process improvement has not had any effect but if we had used it long enough we would have noticed the productivity actually increased compare to before the procedure was introduced\n",
    "- While preparing to model loan status, we do not find strong link between income and loan status in the sample data and believe there is no relation between them in population while a larger sample would have shown the relation\n",
    "- The value β is the probability of a type 2 error or type 2 error rate\n",
    "\n",
    "\n",
    "\n",
    "Lets summarize our understanding in the following table where column represents the decision on the null hypothesis and row represents the state of null hypothesis\n",
    "\n",
    "|Confusion Matrix|Predicted Positive| Predicted Negative|\n",
    "|-----|-------|------|\n",
    "| Actual PositiveH0 is false|True Positive(Correctly rejected H0)Prob = 1-β|False Negative(failed to reject H0)β error / Type II error|\n",
    "|Actual Negative H0 is True|False Positive(incorrectly rejected H0)α error / Type I error|True Negative(correctly accepted H0)Prob = 1-α|\n"
   ]
  },
  {
   "cell_type": "markdown",
   "metadata": {
    "id": "IgVTR17jDbHh",
    "papermill": {
     "duration": 0.110428,
     "end_time": "2024-08-17T08:13:10.363540",
     "exception": false,
     "start_time": "2024-08-17T08:13:10.253112",
     "status": "completed"
    },
    "tags": []
   },
   "source": [
    "## 9.4 Power of Hypothesis Tests   <a class=\"anchor\" id=\"9.4\"></a>\n",
    "\n",
    "[**Table of Contents**](#0.1)\n",
    "\n",
    "The probability a test will reject H0 when it is supposed to. The estimated probability (power of test) is a function of sample size, variability, level of significance, and the difference between the null and alternative hypotheses.\n",
    "\n",
    "**Power: 1−β: probability of correctly rejecting H0 when it is fails**\n",
    "\n",
    "The power of a statistical test is function of\n",
    "\n",
    "- It increases as |μ 0- μ 1 | a.k.a. effect (magnitude of the differences in means) increases\n",
    "- It increases as the sample size n goes up\n",
    "- It goes up as standard deviation of the sample goes down\n",
    "- It goes up  as α value increases (probability of committing type 1 error increases)\n",
    "\n",
    "To keep the chances of making a correct decision high\n",
    "\n",
    "- the probability of a Type I error (α, the level of significance of a hypothesis test) is kept low, usually 0.05 or less,\n",
    "- the power of the test (1 β, the probability of rejecting H0 when H1 is true) is kept high, usually 0.8 or more.\n",
    "- In order to achieve a desirable power for a fixed level of significance, the sample size will generally need to increase\n",
    "- Increase in sample size will increasingly reflect the characteristics of the population and thus help in addressing both Type I and Type II error simultaneously\n",
    "\n",
    "Power analysis is the process of estimating one of the four parameters that the power of a test is dependent on, given values for three other\n",
    "parameters. It helps in design of experiment (sample size, power of test likely) and in analysis of the predictions of a model using hypothesis testing\n",
    "\n",
    "Effect size, a parameter we need to know for power analysis\n",
    "\n",
    "1.Measure of the minimum magnitude of the signal (difference between an observation and the Null distribution) that can be dete cte d by the test. For e.g.difference between the sample mean and population mean\n",
    "\n",
    "2.Effect size is calculated using a specific statistical measure, such as Pearson’s correlation coefficient for the relationshi p b etween variables or Cohen’s d for the difference between groups. It describes the difference in means in terms of the number of standard deviations"
   ]
  },
  {
   "cell_type": "markdown",
   "metadata": {
    "id": "5olyIJviDbHh",
    "papermill": {
     "duration": 0.11126,
     "end_time": "2024-08-17T08:13:10.585027",
     "exception": false,
     "start_time": "2024-08-17T08:13:10.473767",
     "status": "completed"
    },
    "tags": []
   },
   "source": [
    "## 9.5 Sensitivity and Specificity <a class=\"anchor\" id=\"9.5\"></a>\n",
    "\n",
    "[**Table of Contents**](#0.1)\n",
    "\n",
    "One of the most commonly used terms in statistical analysis are sensitivity and specificity. Please have a look at some of the definitions\n",
    "\n",
    "- Sensitivity :- It is called as power. Proportion of the positives that are correctly identified by a test (= probability of a positive test,   given the patient is ill). It is calculated by TP/(TP+FN)\n",
    "- Specificity :- Proportions of negative which are correctly identified by a test(=probability of a negative test , given that the patient is   well ). It is calualted by TN/(FP+TN)\n",
    "- Positive Prediction Value (PPV):- Proportion of patients with positive test results which are correctly diagonised.\n",
    "- Negative Prediction Value (NPV):- Proportion of patients with negative test results which are correctly diagonised.\n",
    "\n",
    "\n",
    "\n",
    "\n",
    "\n"
   ]
  },
  {
   "cell_type": "markdown",
   "metadata": {
    "id": "OKoFSwerDbHi",
    "papermill": {
     "duration": 0.1133,
     "end_time": "2024-08-17T08:13:10.808897",
     "exception": false,
     "start_time": "2024-08-17T08:13:10.695597",
     "status": "completed"
    },
    "tags": []
   },
   "source": [
    "# 10. Central Limit Theorem <a class=\"anchor\" id=\"10\"></a>\n",
    "\n",
    "[**Table of Contents**](#0.1)\n",
    "\n",
    "Central Limit theorem states that the sampling distribution of the sample means approaches a normal distribution as the sample size gets larger — no matter what the shape of the population distribution.\n",
    "\n",
    "**In other words we can also say that if we sample batches of data from any distribution and take the mean of each batch. Then the distribution of the means is going to resemble a Gaussian distribution. (Same goes for taking the sum).**\n",
    "\n",
    "It can be used in the scenario where we have to find following :-\n",
    "\n",
    "- We want to find the probability that the mean is greater than a certain number\n",
    "- We want to find the probability that the mean is less than a certain number\n",
    "- We want to find the probability that the mean is between a certain set of numbers either side of the mean\n",
    "\n",
    "Let's look into the details with the following example:-"
   ]
  },
  {
   "cell_type": "code",
   "execution_count": null,
   "metadata": {
    "execution": {
     "iopub.execute_input": "2024-08-17T08:13:11.047017Z",
     "iopub.status.busy": "2024-08-17T08:13:11.046225Z",
     "iopub.status.idle": "2024-08-17T08:13:11.076617Z",
     "shell.execute_reply": "2024-08-17T08:13:11.075866Z",
     "shell.execute_reply.started": "2022-03-03T17:43:18.301473Z"
    },
    "id": "iSmFWovVDbHi",
    "outputId": "a3536dd7-1028-42c1-fd56-53a2d5cdf922",
    "papermill": {
     "duration": 0.149443,
     "end_time": "2024-08-17T08:13:11.076759",
     "exception": false,
     "start_time": "2024-08-17T08:13:10.927316",
     "status": "completed"
    },
    "tags": []
   },
   "outputs": [
    {
     "data": {
      "text/html": [
       "<div>\n",
       "<style scoped>\n",
       "    .dataframe tbody tr th:only-of-type {\n",
       "        vertical-align: middle;\n",
       "    }\n",
       "\n",
       "    .dataframe tbody tr th {\n",
       "        vertical-align: top;\n",
       "    }\n",
       "\n",
       "    .dataframe thead th {\n",
       "        text-align: right;\n",
       "    }\n",
       "</style>\n",
       "<table border=\"1\" class=\"dataframe\">\n",
       "  <thead>\n",
       "    <tr style=\"text-align: right;\">\n",
       "      <th></th>\n",
       "      <th>Pregnancies</th>\n",
       "      <th>Glucose</th>\n",
       "      <th>BloodPressure</th>\n",
       "      <th>SkinThickness</th>\n",
       "      <th>Insulin</th>\n",
       "      <th>BMI</th>\n",
       "      <th>DiabetesPedigreeFunction</th>\n",
       "      <th>Age</th>\n",
       "      <th>Outcome</th>\n",
       "    </tr>\n",
       "  </thead>\n",
       "  <tbody>\n",
       "    <tr>\n",
       "      <th>0</th>\n",
       "      <td>6</td>\n",
       "      <td>148</td>\n",
       "      <td>72</td>\n",
       "      <td>35</td>\n",
       "      <td>0</td>\n",
       "      <td>33.6</td>\n",
       "      <td>0.627</td>\n",
       "      <td>50</td>\n",
       "      <td>1</td>\n",
       "    </tr>\n",
       "    <tr>\n",
       "      <th>1</th>\n",
       "      <td>1</td>\n",
       "      <td>85</td>\n",
       "      <td>66</td>\n",
       "      <td>29</td>\n",
       "      <td>0</td>\n",
       "      <td>26.6</td>\n",
       "      <td>0.351</td>\n",
       "      <td>31</td>\n",
       "      <td>0</td>\n",
       "    </tr>\n",
       "    <tr>\n",
       "      <th>2</th>\n",
       "      <td>8</td>\n",
       "      <td>183</td>\n",
       "      <td>64</td>\n",
       "      <td>0</td>\n",
       "      <td>0</td>\n",
       "      <td>23.3</td>\n",
       "      <td>0.672</td>\n",
       "      <td>32</td>\n",
       "      <td>1</td>\n",
       "    </tr>\n",
       "    <tr>\n",
       "      <th>3</th>\n",
       "      <td>1</td>\n",
       "      <td>89</td>\n",
       "      <td>66</td>\n",
       "      <td>23</td>\n",
       "      <td>94</td>\n",
       "      <td>28.1</td>\n",
       "      <td>0.167</td>\n",
       "      <td>21</td>\n",
       "      <td>0</td>\n",
       "    </tr>\n",
       "    <tr>\n",
       "      <th>4</th>\n",
       "      <td>0</td>\n",
       "      <td>137</td>\n",
       "      <td>40</td>\n",
       "      <td>35</td>\n",
       "      <td>168</td>\n",
       "      <td>43.1</td>\n",
       "      <td>2.288</td>\n",
       "      <td>33</td>\n",
       "      <td>1</td>\n",
       "    </tr>\n",
       "  </tbody>\n",
       "</table>\n",
       "</div>"
      ],
      "text/plain": [
       "   Pregnancies  Glucose  BloodPressure  SkinThickness  Insulin   BMI  \\\n",
       "0            6      148             72             35        0  33.6   \n",
       "1            1       85             66             29        0  26.6   \n",
       "2            8      183             64              0        0  23.3   \n",
       "3            1       89             66             23       94  28.1   \n",
       "4            0      137             40             35      168  43.1   \n",
       "\n",
       "   DiabetesPedigreeFunction  Age  Outcome  \n",
       "0                     0.627   50        1  \n",
       "1                     0.351   31        0  \n",
       "2                     0.672   32        1  \n",
       "3                     0.167   21        0  \n",
       "4                     2.288   33        1  "
      ]
     },
     "execution_count": 30,
     "metadata": {},
     "output_type": "execute_result"
    }
   ],
   "source": [
    "pima_df = pd.read_csv(\"/kaggle/input/pima-indians-diabetes-database/diabetes.csv\")\n",
    "pima_df.head()"
   ]
  },
  {
   "cell_type": "code",
   "execution_count": null,
   "metadata": {
    "execution": {
     "iopub.execute_input": "2024-08-17T08:13:11.309036Z",
     "iopub.status.busy": "2024-08-17T08:13:11.307843Z",
     "iopub.status.idle": "2024-08-17T08:13:11.314964Z",
     "shell.execute_reply": "2024-08-17T08:13:11.314229Z",
     "shell.execute_reply.started": "2022-03-03T17:43:18.353963Z"
    },
    "id": "ebes-ezgDbHi",
    "papermill": {
     "duration": 0.12622,
     "end_time": "2024-08-17T08:13:11.315102",
     "exception": false,
     "start_time": "2024-08-17T08:13:11.188882",
     "status": "completed"
    },
    "tags": []
   },
   "outputs": [],
   "source": [
    "#There are 0 values in the dataset in the Glucose,BloodPressure,SkinThickness, Insulin and BMI, we need to replace them with the NAN\n",
    "\n",
    "pima_df[[\"Glucose\",\"BloodPressure\",\"SkinThickness\",\"Insulin\",\"BMI\"]]=pima_df[[\"Glucose\",\"BloodPressure\",\"SkinThickness\",\"Insulin\",\"BMI\"]].replace(0, np.NaN)"
   ]
  },
  {
   "cell_type": "code",
   "execution_count": null,
   "metadata": {
    "execution": {
     "iopub.execute_input": "2024-08-17T08:13:11.546683Z",
     "iopub.status.busy": "2024-08-17T08:13:11.545622Z",
     "iopub.status.idle": "2024-08-17T08:13:11.549845Z",
     "shell.execute_reply": "2024-08-17T08:13:11.549151Z",
     "shell.execute_reply.started": "2022-03-03T17:43:18.371871Z"
    },
    "id": "8LcQ3dAVDbHi",
    "outputId": "cbc035c9-b597-4500-ff2c-dd8a07c943ae",
    "papermill": {
     "duration": 0.123414,
     "end_time": "2024-08-17T08:13:11.549973",
     "exception": false,
     "start_time": "2024-08-17T08:13:11.426559",
     "status": "completed"
    },
    "tags": []
   },
   "outputs": [
    {
     "data": {
      "text/plain": [
       "Pregnancies                 False\n",
       "Glucose                      True\n",
       "BloodPressure                True\n",
       "SkinThickness                True\n",
       "Insulin                      True\n",
       "BMI                          True\n",
       "DiabetesPedigreeFunction    False\n",
       "Age                         False\n",
       "Outcome                     False\n",
       "dtype: bool"
      ]
     },
     "execution_count": 32,
     "metadata": {},
     "output_type": "execute_result"
    }
   ],
   "source": [
    "pima_df.isnull().any()\n"
   ]
  },
  {
   "cell_type": "code",
   "execution_count": null,
   "metadata": {
    "execution": {
     "iopub.execute_input": "2024-08-17T08:13:11.777805Z",
     "iopub.status.busy": "2024-08-17T08:13:11.776652Z",
     "iopub.status.idle": "2024-08-17T08:13:11.781274Z",
     "shell.execute_reply": "2024-08-17T08:13:11.780531Z",
     "shell.execute_reply.started": "2022-03-03T17:43:18.38361Z"
    },
    "id": "D5tM-lpCDbHi",
    "outputId": "5bf5d456-dc2e-4f3f-fe65-19dd39aed188",
    "papermill": {
     "duration": 0.122193,
     "end_time": "2024-08-17T08:13:11.781419",
     "exception": false,
     "start_time": "2024-08-17T08:13:11.659226",
     "status": "completed"
    },
    "tags": []
   },
   "outputs": [
    {
     "data": {
      "text/plain": [
       "Pregnancies                   0\n",
       "Glucose                       5\n",
       "BloodPressure                35\n",
       "SkinThickness               227\n",
       "Insulin                     374\n",
       "BMI                          11\n",
       "DiabetesPedigreeFunction      0\n",
       "Age                           0\n",
       "Outcome                       0\n",
       "dtype: int64"
      ]
     },
     "execution_count": 33,
     "metadata": {},
     "output_type": "execute_result"
    }
   ],
   "source": [
    "#Checking for the missing values in the dataset\n",
    "\n",
    "pima_df.isna().sum()"
   ]
  },
  {
   "cell_type": "code",
   "execution_count": null,
   "metadata": {
    "execution": {
     "iopub.execute_input": "2024-08-17T08:13:12.009526Z",
     "iopub.status.busy": "2024-08-17T08:13:12.008701Z",
     "iopub.status.idle": "2024-08-17T08:13:12.014265Z",
     "shell.execute_reply": "2024-08-17T08:13:12.013489Z",
     "shell.execute_reply.started": "2022-03-03T17:43:18.394223Z"
    },
    "id": "1XK9JGOEDbHi",
    "outputId": "6ab217a4-dbc5-4d5b-ecdd-d7d99df154cf",
    "papermill": {
     "duration": 0.121592,
     "end_time": "2024-08-17T08:13:12.014427",
     "exception": false,
     "start_time": "2024-08-17T08:13:11.892835",
     "status": "completed"
    },
    "tags": []
   },
   "outputs": [
    {
     "data": {
      "text/plain": [
       "(768, 9)"
      ]
     },
     "execution_count": 34,
     "metadata": {},
     "output_type": "execute_result"
    }
   ],
   "source": [
    "pima_df.shape"
   ]
  },
  {
   "cell_type": "code",
   "execution_count": null,
   "metadata": {
    "execution": {
     "iopub.execute_input": "2024-08-17T08:13:12.247275Z",
     "iopub.status.busy": "2024-08-17T08:13:12.246347Z",
     "iopub.status.idle": "2024-08-17T08:13:12.249496Z",
     "shell.execute_reply": "2024-08-17T08:13:12.248778Z",
     "shell.execute_reply.started": "2022-03-03T17:43:18.408861Z"
    },
    "id": "pjQYuNScDbHi",
    "papermill": {
     "duration": 0.124421,
     "end_time": "2024-08-17T08:13:12.249636",
     "exception": false,
     "start_time": "2024-08-17T08:13:12.125215",
     "status": "completed"
    },
    "tags": []
   },
   "outputs": [],
   "source": [
    "#Replacing the null values with the mean and median respectively\n",
    "\n",
    "pima_df['Glucose'].fillna(pima_df['Glucose'].mean(), inplace = True)\n",
    "pima_df['BloodPressure'].fillna(pima_df['BloodPressure'].mean(),inplace=True)\n",
    "pima_df['SkinThickness'].fillna(pima_df['SkinThickness'].median(),inplace=True)\n",
    "pima_df['Insulin'].fillna(pima_df['Insulin'].median(),inplace=True)\n",
    "pima_df['BMI'].fillna(pima_df['BMI'].median(),inplace=True)"
   ]
  },
  {
   "cell_type": "code",
   "execution_count": null,
   "metadata": {
    "execution": {
     "iopub.execute_input": "2024-08-17T08:13:12.477591Z",
     "iopub.status.busy": "2024-08-17T08:13:12.476725Z",
     "iopub.status.idle": "2024-08-17T08:13:12.481280Z",
     "shell.execute_reply": "2024-08-17T08:13:12.480561Z",
     "shell.execute_reply.started": "2022-03-03T17:43:18.427405Z"
    },
    "id": "CF_qxrIBDbHi",
    "outputId": "a9648aa2-531c-482e-f1cd-68d1e48a696e",
    "papermill": {
     "duration": 0.120015,
     "end_time": "2024-08-17T08:13:12.481429",
     "exception": false,
     "start_time": "2024-08-17T08:13:12.361414",
     "status": "completed"
    },
    "tags": []
   },
   "outputs": [
    {
     "data": {
      "text/plain": [
       "dtype('float64')"
      ]
     },
     "execution_count": 36,
     "metadata": {},
     "output_type": "execute_result"
    }
   ],
   "source": [
    "series1 = pima_df.Insulin\n",
    "series1.dtype"
   ]
  },
  {
   "cell_type": "code",
   "execution_count": null,
   "metadata": {
    "execution": {
     "iopub.execute_input": "2024-08-17T08:13:12.721613Z",
     "iopub.status.busy": "2024-08-17T08:13:12.720522Z",
     "iopub.status.idle": "2024-08-17T08:13:12.724071Z",
     "shell.execute_reply": "2024-08-17T08:13:12.723384Z",
     "shell.execute_reply.started": "2022-03-03T17:43:18.439762Z"
    },
    "id": "gzqWLUA_DbHi",
    "papermill": {
     "duration": 0.126897,
     "end_time": "2024-08-17T08:13:12.724236",
     "exception": false,
     "start_time": "2024-08-17T08:13:12.597339",
     "status": "completed"
    },
    "tags": []
   },
   "outputs": [],
   "source": [
    "def central_limit_theorem(data,n_samples = 1000, sample_size = 500, min_value = 0, max_value = 768):\n",
    "    b = {}\n",
    "    for i in range(n_samples):\n",
    "        x = np.unique(np.random.randint(min_value, max_value, size = sample_size)) # set of random numbers with a specific size\n",
    "        b[i] = data[x].mean()   # Mean of each sample\n",
    "    c = pd.DataFrame()\n",
    "    c['sample'] = b.keys()  # Sample number\n",
    "    c['Mean'] = b.values()  # mean of that particular sample\n",
    "    plt.figure(figsize= (15,5))\n",
    "\n",
    "    plt.subplot(1,2,1)\n",
    "    sns.distplot(c.Mean)\n",
    "    plt.title(f\"Sampling Distribution of Insulin. \\n \\u03bc = {round(c.Mean.mean(), 3)} & SE = {round(c.Mean.std(),3)}\")\n",
    "    plt.xlabel('data')\n",
    "    plt.ylabel('freq')\n",
    "\n",
    "    plt.subplot(1,2,2)\n",
    "    sns.distplot(data)\n",
    "    plt.title(f\"population Distribution of Insulin. \\n \\u03bc = {round(data.mean(), 3)} & \\u03C3 = {round(data.std(),3)}\")\n",
    "    plt.xlabel('data')\n",
    "    plt.ylabel('freq')\n",
    "\n",
    "    plt.show()"
   ]
  },
  {
   "cell_type": "code",
   "execution_count": null,
   "metadata": {
    "execution": {
     "iopub.execute_input": "2024-08-17T08:13:12.956447Z",
     "iopub.status.busy": "2024-08-17T08:13:12.955665Z",
     "iopub.status.idle": "2024-08-17T08:13:15.942249Z",
     "shell.execute_reply": "2024-08-17T08:13:15.942834Z",
     "shell.execute_reply.started": "2022-03-03T17:43:18.45753Z"
    },
    "id": "oc7M6DKFDbHi",
    "outputId": "86482aa9-fda6-4c67-b706-e178c5320ec2",
    "papermill": {
     "duration": 3.104809,
     "end_time": "2024-08-17T08:13:15.943003",
     "exception": false,
     "start_time": "2024-08-17T08:13:12.838194",
     "status": "completed"
    },
    "tags": []
   },
   "outputs": [
    {
     "data": {
      "image/png": "[encoded data removed]",
      "text/plain": [
       "<Figure size 1080x360 with 2 Axes>"
      ]
     },
     "metadata": {
      "needs_background": "light"
     },
     "output_type": "display_data"
    }
   ],
   "source": [
    "central_limit_theorem(series1,n_samples = 5000, sample_size = 500)"
   ]
  },
  {
   "cell_type": "markdown",
   "metadata": {
    "id": "a4viXLIzDbHi",
    "papermill": {
     "duration": 0.114006,
     "end_time": "2024-08-17T08:13:16.174196",
     "exception": false,
     "start_time": "2024-08-17T08:13:16.060190",
     "status": "completed"
    },
    "tags": []
   },
   "source": [
    "# 11. Tests of mean of numerical data <a class=\"anchor\" id=\"11\"></a>\n",
    "\n",
    "[**Table of Contents**](#0.1)\n",
    "\n",
    "In this section , we are going to talk about the hypothesis tests for the mean value of groups, and how to implement them :\n",
    "\n",
    "- Comparison of one group with a fixed value\n",
    "- Comparison of two groups with respect to each other.\n",
    "- Comparison of three or more groups with each other\n",
    "\n",
    "In all the scenarios mentioned above we distinguish between the two cases. Two things we have to keep in mind :-\n",
    "\n",
    "- If the data is normally distributed then we can use the parametric tests like paired t -test , unpaired t -test and pearson correlation    etc.\n",
    "- If the data is not normally distributed then we can use the non parametric tests like spearman correlation , wilcoxon rank sum test etc.\n",
    "\n"
   ]
  },
  {
   "cell_type": "markdown",
   "metadata": {
    "id": "RE0ZA-tkDbHi",
    "papermill": {
     "duration": 0.112584,
     "end_time": "2024-08-17T08:13:16.401360",
     "exception": false,
     "start_time": "2024-08-17T08:13:16.288776",
     "status": "completed"
    },
    "tags": []
   },
   "source": [
    "## 11.1 One Sample T Test    <a class=\"anchor\" id=\"11.1\"></a>\n",
    "\n",
    "[**Table of Contents**](#0.1)\n",
    "\n",
    "If we have to check the mean value of the normally distributed data against a reference value, we use the one sample t test which is based on the t- distribution.\n",
    "\n",
    "If the mean and the standard deviation of a normally distributed population is known, we could calculate the corresponding standard error, and use values from the normal distribution to determine how likely it is to find a certain value."
   ]
  },
  {
   "cell_type": "markdown",
   "metadata": {
    "id": "31pLhXtIDbHj",
    "papermill": {
     "duration": 0.113497,
     "end_time": "2024-08-17T08:13:16.626835",
     "exception": false,
     "start_time": "2024-08-17T08:13:16.513338",
     "status": "completed"
    },
    "tags": []
   },
   "source": [
    "#### Formulate the null hypothesis\n",
    "\n",
    "- H0 - The difference in mean between sample BP column and population mean for BP is a statistical fluctuation. The given data represents the population distribution on the BP column\n",
    "\n",
    "- H1 - The difference in mean between sample BP column and population mean is significant. The difference is too high to be result of statistical fluctuation\n",
    "\n",
    "- If statistical tests result in rejecting H0, then building a model on the given sample data and expecting it to generalize may be a mistake"
   ]
  },
  {
   "cell_type": "code",
   "execution_count": null,
   "metadata": {
    "execution": {
     "iopub.execute_input": "2024-08-17T08:13:16.860740Z",
     "iopub.status.busy": "2024-08-17T08:13:16.859858Z",
     "iopub.status.idle": "2024-08-17T08:13:16.884921Z",
     "shell.execute_reply": "2024-08-17T08:13:16.884249Z",
     "shell.execute_reply.started": "2022-03-03T17:43:21.462494Z"
    },
    "id": "0L3AkLgrDbHj",
    "outputId": "182a884d-ede3-4dcd-a7bd-1a3d9c57c0d1",
    "papermill": {
     "duration": 0.146353,
     "end_time": "2024-08-17T08:13:16.885061",
     "exception": false,
     "start_time": "2024-08-17T08:13:16.738708",
     "status": "completed"
    },
    "tags": []
   },
   "outputs": [
    {
     "name": "stdout",
     "output_type": "stream",
     "text": [
      "Estimated Pop Stand Dev 4.029780981170755\n",
      "Sample Avg BP :  72.40518417462486\n",
      "Standard Error:  0.048470731963628534\n",
      "T Statistic 0.10695474185841736\n",
      "Pval 0.9148279889570086\n",
      "Samples are likely drawn from the same distributions (fail to reject H0)\n"
     ]
    }
   ],
   "source": [
    "import scipy.stats as st\n",
    "Mu = 72.4\n",
    "# Std = ?  Population standard deviatin is unknown\n",
    "\n",
    "x = pima_df['BloodPressure']  # Storing values in a list to avoid long names\n",
    "est_pop_std = np.sqrt(np.sum(abs(x - x.mean())**2) / (pima_df.size - 1))     #  sqrt(sum(xi - Xbar)^2 / (n -1))\n",
    "\n",
    "sample_avg_bp =(pima_df['BloodPressure']).mean()\n",
    "\n",
    "std_error_bp = est_pop_std / np.sqrt(pima_df.size) # Standard dev of the sampling mean distribution... estimated from population\n",
    "\n",
    "T_Statistic = (( sample_avg_bp - Mu) / std_error_bp)\n",
    "\n",
    "pvalue = st.t.sf(np.abs(T_Statistic), pima_df.size-1)*2\n",
    "print(\"Estimated Pop Stand Dev\" , est_pop_std)\n",
    "print(\"Sample Avg BP : \" , sample_avg_bp)\n",
    "print(\"Standard Error: \" , std_error_bp)\n",
    "print(\"T Statistic\" , T_Statistic)\n",
    "print(\"Pval\" , pvalue)\n",
    "\n",
    "if pvalue > 0.05:\n",
    "\tprint('Samples are likely drawn from the same distributions (fail to reject H0)')\n",
    "else:\n",
    "\tprint('Samples are likely drawn from different distributions (reject H0)')"
   ]
  },
  {
   "cell_type": "markdown",
   "metadata": {
    "id": "9ssluAZ8DbHj",
    "papermill": {
     "duration": 0.112233,
     "end_time": "2024-08-17T08:13:17.110539",
     "exception": false,
     "start_time": "2024-08-17T08:13:16.998306",
     "status": "completed"
    },
    "tags": []
   },
   "source": [
    "## 11.2 Wilcoxon Signed Rank Sum Test    <a class=\"anchor\" id=\"11.2\"></a>\n",
    "\n",
    "[**Table of Contents**](#0.1)\n",
    "\n",
    "If the data is not normally distributed , then one sample T test will not work. Instead we perform the non paremetric test on the mean value . We can do this by performing a Wilcoxon signed rank sum test. This Method has three steps\n",
    "\n",
    "- 1. Calculate the difference between each observation and the value of interest.\n",
    "- 2. Ignoring the signs of the differences, rank them in order of magnitude.\n",
    "- 3. Calculate the sum of the ranks of all the negative (or positive) ranks, corresponding to the observations below (or above) the chosen hypothetical value.\n",
    "\n",
    "The default assumption for the test, the null hypothesis, is that the two samples have the same distribution. In order for the Wilcoxon signed-rank test results to be trusted, the following assumptions need to be met:\n",
    "\n",
    "- The dependent variable (DV) must be continuous which is measured on an ordinal or continuous scale\n",
    "- The paired observations are randomly and independently drawn\n",
    "- The paired observations come from the same population\n",
    "- If any of these assumptions are violated, a different test should be used.\n",
    "\n",
    "**- Fail to Reject H0: Sample distributions are equal.**\n",
    "\n",
    "**- Reject H0: Sample distributions are not equal.**"
   ]
  },
  {
   "cell_type": "code",
   "execution_count": null,
   "metadata": {
    "execution": {
     "iopub.execute_input": "2024-08-17T08:13:17.346369Z",
     "iopub.status.busy": "2024-08-17T08:13:17.344841Z",
     "iopub.status.idle": "2024-08-17T08:13:17.350358Z",
     "shell.execute_reply": "2024-08-17T08:13:17.349812Z",
     "shell.execute_reply.started": "2022-03-03T17:43:21.507007Z"
    },
    "id": "IsJXy1qrDbHj",
    "outputId": "ad8f35de-5bba-4e4b-99a9-6109ccf9215d",
    "papermill": {
     "duration": 0.127347,
     "end_time": "2024-08-17T08:13:17.350490",
     "exception": false,
     "start_time": "2024-08-17T08:13:17.223143",
     "status": "completed"
    },
    "tags": []
   },
   "outputs": [
    {
     "name": "stdout",
     "output_type": "stream",
     "text": [
      "Statistics=1886.000, p=0.028\n",
      "Different distribution (reject H0)\n"
     ]
    }
   ],
   "source": [
    "# Wilcoxon signed-rank test\n",
    "from numpy.random import seed\n",
    "from numpy.random import randn\n",
    "from scipy.stats import wilcoxon\n",
    "# seed the random number generator\n",
    "seed(1)\n",
    "# generate two independent samples\n",
    "data1 = 5 * randn(100) + 50\n",
    "data2 = 5 * randn(100) + 51\n",
    "# compare samples\n",
    "stat, p = wilcoxon(data1, data2)\n",
    "print('Statistics=%.3f, p=%.3f' % (stat, p))\n",
    "# interpret\n",
    "alpha = 0.05\n",
    "if p > alpha:\n",
    "\tprint('Same distribution (fail to reject H0)')\n",
    "else:\n",
    "\tprint('Different distribution (reject H0)')"
   ]
  },
  {
   "cell_type": "markdown",
   "metadata": {
    "id": "ZnQyjd4IDbHj",
    "papermill": {
     "duration": 0.13296,
     "end_time": "2024-08-17T08:13:17.599340",
     "exception": false,
     "start_time": "2024-08-17T08:13:17.466380",
     "status": "completed"
    },
    "tags": []
   },
   "source": [
    "## 11.3 Paired T Test    <a class=\"anchor\" id=\"11.3\"></a>\n",
    "\n",
    "[**Table of Contents**](#0.1)\n",
    "\n",
    "In the comparison of two groups with each other, two cases have to be distinguished.In the first case, two values recorded from the same subject at different times are compared to each other.If the groups come from a single population (e.g. measuring before and after an experimental treatment), perform a paired t-test.\n",
    "\n",
    "**PAIRED SAMPLE T-TEST ASSUMPTIONS**\n",
    "\n",
    "In order for the paired sample t-test results to be trusted, the following assumptions need to be met:\n",
    "\n",
    "- The dependent variable (DV) must be continuous which is measured on an interval or ratio scale\n",
    "- The observations are independent\n",
    "- The DV should be approximately normally distributed\n",
    "- The paired sample t-test is robust to this violation. If there is a violation of normality, as long as it’s not in a major violation the test results can be considered valid\n",
    "- The DV should not contain any significant outliers\n",
    "\n",
    "For example, the size of students when they enter primary school and after their first year, to check if they have grown. Since we are only interested in the difference in each subject between the first and the second measurement, this test is called paired t-test, and is essentially equivalent to a onesample t-test for the mean difference\n",
    "\n",
    "\n",
    "\n",
    "\n",
    "\n"
   ]
  },
  {
   "cell_type": "code",
   "execution_count": null,
   "metadata": {
    "execution": {
     "iopub.execute_input": "2024-08-17T08:13:17.837319Z",
     "iopub.status.busy": "2024-08-17T08:13:17.836181Z",
     "iopub.status.idle": "2024-08-17T08:13:17.840535Z",
     "shell.execute_reply": "2024-08-17T08:13:17.839846Z",
     "shell.execute_reply.started": "2022-03-03T17:43:21.521748Z"
    },
    "id": "gXRzL_6RDbHj",
    "outputId": "cfe9ba13-38b1-4a21-800c-71ec6b6f278b",
    "papermill": {
     "duration": 0.125257,
     "end_time": "2024-08-17T08:13:17.840664",
     "exception": false,
     "start_time": "2024-08-17T08:13:17.715407",
     "status": "completed"
    },
    "tags": []
   },
   "outputs": [
    {
     "data": {
      "text/plain": [
       "Ttest_relResult(statistic=-0.1245849229873135, pvalue=0.9035904508547089)"
      ]
     },
     "execution_count": 41,
     "metadata": {},
     "output_type": "execute_result"
    }
   ],
   "source": [
    "np.random.seed(1234)\n",
    "data = np.random.randn(10)+0.1\n",
    "data1 = np.random.randn(10)*5 # dummy data\n",
    "data2 = data1 + data # same group-difference as \"data\"\n",
    "stats.ttest_1samp(data, 0)\n",
    "stats.ttest_rel(data2, data1)"
   ]
  },
  {
   "cell_type": "markdown",
   "metadata": {
    "id": "AT8YHELXDbHj",
    "papermill": {
     "duration": 0.113514,
     "end_time": "2024-08-17T08:13:18.066699",
     "exception": false,
     "start_time": "2024-08-17T08:13:17.953185",
     "status": "completed"
    },
    "tags": []
   },
   "source": [
    "## 11.4 Two Sample T Test    <a class=\"anchor\" id=\"11.4\"></a>\n",
    "\n",
    "[**Table of Contents**](#0.1)\n",
    "\n",
    "If the groups come from two different populations (e.g. two different species, or people from two separate cities), perform a two-sample t-test (a.k.a. independent t-test).An unpaired t-test, or t-test for two independent groups, compares two groups. An example would be the comparison of the effect of two  medications given to two different groups of patients.\n",
    "\n"
   ]
  },
  {
   "cell_type": "code",
   "execution_count": null,
   "metadata": {
    "execution": {
     "iopub.execute_input": "2024-08-17T08:13:18.308517Z",
     "iopub.status.busy": "2024-08-17T08:13:18.307361Z",
     "iopub.status.idle": "2024-08-17T08:13:18.310827Z",
     "shell.execute_reply": "2024-08-17T08:13:18.310102Z",
     "shell.execute_reply.started": "2022-03-03T17:43:21.535222Z"
    },
    "id": "W4tYYbbSDbHj",
    "papermill": {
     "duration": 0.128819,
     "end_time": "2024-08-17T08:13:18.310964",
     "exception": false,
     "start_time": "2024-08-17T08:13:18.182145",
     "status": "completed"
    },
    "tags": []
   },
   "outputs": [],
   "source": [
    "# Tests whether the means of two independent samples are significantly different.\n",
    "\n",
    "# Pima Indians Dataset has many missing values in multiple columns. Let us replace the missing values with median. Does this\n",
    "# step of handling missing values modify the distribution so much that statistically it is no more equivalent of original data?\n",
    "\n",
    "pima_df_mod = pima_df.copy()\n",
    "\n",
    "\n",
    "pima_df_mod['BloodPressure'] = pima_df_mod['BloodPressure'].mask(pima_df['BloodPressure'] == 0,pima_df['BloodPressure'].median())"
   ]
  },
  {
   "cell_type": "code",
   "execution_count": null,
   "metadata": {
    "execution": {
     "iopub.execute_input": "2024-08-17T08:13:18.552110Z",
     "iopub.status.busy": "2024-08-17T08:13:18.551365Z",
     "iopub.status.idle": "2024-08-17T08:13:18.555063Z",
     "shell.execute_reply": "2024-08-17T08:13:18.555642Z",
     "shell.execute_reply.started": "2022-03-03T17:43:21.545048Z"
    },
    "id": "emNUDWd0DbHj",
    "outputId": "64243501-0c09-42ac-c301-7fd04a94d03e",
    "papermill": {
     "duration": 0.130429,
     "end_time": "2024-08-17T08:13:18.555808",
     "exception": false,
     "start_time": "2024-08-17T08:13:18.425379",
     "status": "completed"
    },
    "tags": []
   },
   "outputs": [
    {
     "name": "stdout",
     "output_type": "stream",
     "text": [
      "compare means 72.40518417462486 72.40518417462486\n",
      "Tstatistic , Pvalue 0.0 1.0\n",
      "Samples are likely drawn from the same distributions (fail to reject H0)\n"
     ]
    }
   ],
   "source": [
    "from scipy.stats import ttest_ind\n",
    "\n",
    "stat, pvalue = ttest_ind(pima_df_mod['BloodPressure'] , pima_df['BloodPressure'])\n",
    "print(\"compare means\", pima_df_mod['BloodPressure'].mean() , pima_df['BloodPressure'].mean())\n",
    "print(\"Tstatistic , Pvalue\", stat, pvalue)\n",
    "\n",
    "if pvalue > 0.05:\n",
    "    print('Samples are likely drawn from the same distributions (fail to reject H0)')\n",
    "else:\n",
    "    print('Samples are likely drawn from different distributions (reject H0)')"
   ]
  },
  {
   "cell_type": "markdown",
   "metadata": {
    "id": "H8ap6k49DbHj",
    "papermill": {
     "duration": 0.11445,
     "end_time": "2024-08-17T08:13:18.784438",
     "exception": false,
     "start_time": "2024-08-17T08:13:18.669988",
     "status": "completed"
    },
    "tags": []
   },
   "source": [
    "## 11.5 Mann WHitney Test    <a class=\"anchor\" id=\"11.5\"></a>\n",
    "\n",
    "[**Table of Contents**](#0.1)\n",
    "\n",
    "When the two groups are not normally distributed we have to resort to a nonparametric test. The most common nonparametric test for the comparison of two independent groups is the Mann–Whitney(–Wilcoxon) test.\n",
    "\n",
    "The following are the assumptions of the Mann Whiteney Test :-\n",
    "\n",
    "- All the observations from both the group are independant of each other.\n",
    "- The values present in the dependent variable should be in the ordinal form.\n",
    "- The independent variable should be two independent, categorical groups.\n",
    "- The null hypothesis always remains the same i.e. there is no significant difference between the two samples\n",
    "- It is applied when the two groups are not normally distributed but should have the same curve shape which means if one is right skewed then the other should also be right skewed.\n",
    "\n",
    "This Test is not affected by the outliers as it uses the median but not mean for the test.\n",
    "\n",
    "Steps to perform the Mann Whitney Test\n",
    "\n",
    "1. Get two samples of data ,let'say sample 1 and sample 2\n",
    "2. Obtain the first observation from sample 1 and compare it with observations in sample 2. Count the number of observations in Sample 2 that are smaller than that and equal to it.  For, example, 8 observations in sample 2 are smaller than the first observation in sample 1 and 2 equal then out U statistics for this sample: 8 + 2(1/2) = 9\n",
    "3. Repeat Step 2 for all observations in sample 1\n",
    "4. Add up all of your totals from Steps 2 and 3. This is our rank sum.\n",
    "5. U statistics is calculated by\n",
    "\n",
    "![image.png](attachment:e6cbbcc6-7df1-4189-a3c9-fbe335d53ba6.png)![image.png](attachment:7e771e9c-c9fc-4a56-914c-a56653164652.png)\n",
    "\n",
    "![image.png](attachment:355dc295-ab67-47ab-a55f-91b6323fe38f.png)![image.png](attachment:8afc3e2a-9787-4b02-9fc1-9ba37ebb8bb9.png)\n",
    "\n",
    "where:\n",
    "- n1: number of samples in sample 1\n",
    "- n2: number of samples in sample 2\n",
    "- R1: Rank sum of sample 1\n",
    "- R2: Rank sum of sample 2\n",
    "\n",
    "6. Now, our test statistic (U) will be smaller of U1 and U2.\n",
    "7. Now, we look to the critical values in the table with respect to n1 and n2 (take it U0).\n",
    "   - if U <= U0 : we reject the null hypothesis.\n",
    "   - else, we do not reject the null hypothesis.\n",
    "\n",
    "In python ,it can be implmented by the following\n",
    "\n",
    "u_statistic, pVal = stats.mannwhitneyu(group1, group2)"
   ]
  },
  {
   "cell_type": "code",
   "execution_count": null,
   "metadata": {
    "execution": {
     "iopub.execute_input": "2024-08-17T08:13:19.021256Z",
     "iopub.status.busy": "2024-08-17T08:13:19.020452Z",
     "iopub.status.idle": "2024-08-17T08:13:19.023864Z",
     "shell.execute_reply": "2024-08-17T08:13:19.023349Z",
     "shell.execute_reply.started": "2022-03-03T17:43:21.5629Z"
    },
    "id": "TYw3cOnSDbHj",
    "outputId": "3defedc1-73d5-47c5-d969-cd4ac0493808",
    "papermill": {
     "duration": 0.124995,
     "end_time": "2024-08-17T08:13:19.023993",
     "exception": false,
     "start_time": "2024-08-17T08:13:18.898998",
     "status": "completed"
    },
    "tags": []
   },
   "outputs": [
    {
     "name": "stdout",
     "output_type": "stream",
     "text": [
      "Statistics = 4412.000, p = 0.076\n",
      "Same distribution (fail to reject H0)\n"
     ]
    }
   ],
   "source": [
    "#import necessary libraries\n",
    "\n",
    "from numpy.random import seed\n",
    "from numpy.random import randn\n",
    "from scipy.stats import mannwhitneyu\n",
    "from numpy.random import rand\n",
    "\n",
    "# Generating  two independent samples\n",
    "data1 = 50 + (rand(100) * 20)\n",
    "data2 = 51 + (rand(100) * 20)\n",
    "\n",
    "# Samples comparison\n",
    "stat, p = mannwhitneyu(data1, data2)\n",
    "print('Statistics = %.3f, p = %.3f' % (stat, p))\n",
    "\n",
    "# Interpretation\n",
    "alpha = 0.05\n",
    "if p > alpha:\n",
    "    print('Same distribution (fail to reject H0)')\n",
    "else:\n",
    "    print('Different distribution (reject H0)')"
   ]
  },
  {
   "cell_type": "markdown",
   "metadata": {
    "id": "xzQ0Pz1xDbHj",
    "papermill": {
     "duration": 0.114214,
     "end_time": "2024-08-17T08:13:19.250660",
     "exception": false,
     "start_time": "2024-08-17T08:13:19.136446",
     "status": "completed"
    },
    "tags": []
   },
   "source": [
    "## 11.6 Classical T Test    <a class=\"anchor\" id=\"11.6\"></a>\n",
    "\n",
    "[**Table of Contents**](#0.1)\n",
    "\n",
    "Let's take the performance score of students in two subjects (Maths and Physics). During maths tests , the students scored [79, 100,93, 75, 84, 107, 66, 86, 103, 81, 83, 89, 105, 84, 86, 86, 112, 112, 100, 94],and during Physics test the score of [92, 100, 76, 97, 72, 79, 94, 71, 84, 76, 82, 57, 67, 78, 94,83, 85, 92, 76, 88].\n",
    "\n",
    "It can be implemented following way :-\n"
   ]
  },
  {
   "cell_type": "code",
   "execution_count": null,
   "metadata": {
    "execution": {
     "iopub.execute_input": "2024-08-17T08:13:19.487817Z",
     "iopub.status.busy": "2024-08-17T08:13:19.486772Z",
     "iopub.status.idle": "2024-08-17T08:13:19.490287Z",
     "shell.execute_reply": "2024-08-17T08:13:19.490855Z",
     "shell.execute_reply.started": "2022-03-03T17:43:21.577491Z"
    },
    "id": "v7HEjZ5sDbHj",
    "outputId": "0254a907-a35e-4825-a669-33d847f83ec6",
    "papermill": {
     "duration": 0.127325,
     "end_time": "2024-08-17T08:13:19.491026",
     "exception": false,
     "start_time": "2024-08-17T08:13:19.363701",
     "status": "completed"
    },
    "tags": []
   },
   "outputs": [
    {
     "name": "stdout",
     "output_type": "stream",
     "text": [
      "The probability that the two distributions are equal is 0.661 .\n"
     ]
    }
   ],
   "source": [
    "import numpy as np\n",
    "from scipy import stats\n",
    "# Generate the data\n",
    "np.random.seed(123)\n",
    "maths = np.round(np.random.randn(10)*10+90)\n",
    "physics = np.round(np.random.randn(10)*10+85)\n",
    "# t-test\n",
    "(t, pVal) = stats.ttest_rel (maths, physics)\n",
    "# Show the result\n",
    "print('The probability that the two distributions '\n",
    "'are equal is {0:5.3f} .'.format(pVal))"
   ]
  },
  {
   "cell_type": "markdown",
   "metadata": {
    "id": "5MSA7OckDbHk",
    "papermill": {
     "duration": 0.113129,
     "end_time": "2024-08-17T08:13:19.721197",
     "exception": false,
     "start_time": "2024-08-17T08:13:19.608068",
     "status": "completed"
    },
    "tags": []
   },
   "source": [
    "## 11.7 Statistical Modelling    <a class=\"anchor\" id=\"11.7\"></a>\n",
    "\n",
    "[**Table of Contents**](#0.1)\n",
    "\n",
    "It can be also expressed as statistical model , we assume the difference between both the subjects as a constant value.( The null hypothesis value is equal to zero).This model has one parameter: the constant value. We can find this parameter, as well as its confidence interval and a lot of additional information, with the following Python code:"
   ]
  },
  {
   "cell_type": "code",
   "execution_count": null,
   "metadata": {
    "execution": {
     "iopub.execute_input": "2024-08-17T08:13:19.955802Z",
     "iopub.status.busy": "2024-08-17T08:13:19.954985Z",
     "iopub.status.idle": "2024-08-17T08:13:20.170453Z",
     "shell.execute_reply": "2024-08-17T08:13:20.171013Z",
     "shell.execute_reply.started": "2022-03-03T17:43:21.589003Z"
    },
    "id": "df4L7YM2DbHk",
    "outputId": "cfc70a26-8ba9-4299-e58c-e97980a38042",
    "papermill": {
     "duration": 0.335867,
     "end_time": "2024-08-17T08:13:20.171210",
     "exception": false,
     "start_time": "2024-08-17T08:13:19.835343",
     "status": "completed"
    },
    "tags": []
   },
   "outputs": [
    {
     "name": "stdout",
     "output_type": "stream",
     "text": [
      "                            OLS Regression Results                            \n",
      "==============================================================================\n",
      "Dep. Variable:     I(Physics - Maths)   R-squared:                       0.000\n",
      "Model:                            OLS   Adj. R-squared:                  0.000\n",
      "Method:                 Least Squares   F-statistic:                       nan\n",
      "Date:                Sat, 17 Aug 2024   Prob (F-statistic):                nan\n",
      "Time:                        08:13:20   Log-Likelihood:                -43.006\n",
      "No. Observations:                  10   AIC:                             88.01\n",
      "Df Residuals:                       9   BIC:                             88.31\n",
      "Df Model:                           0                                         \n",
      "Covariance Type:            nonrobust                                         \n",
      "==============================================================================\n",
      "                 coef    std err          t      P>|t|      [0.025      0.975]\n",
      "------------------------------------------------------------------------------\n",
      "Intercept      2.7000      5.948      0.454      0.661     -10.755      16.155\n",
      "==============================================================================\n",
      "Omnibus:                        1.755   Durbin-Watson:                   2.301\n",
      "Prob(Omnibus):                  0.416   Jarque-Bera (JB):                0.494\n",
      "Skew:                           0.544   Prob(JB):                        0.781\n",
      "Kurtosis:                       3.038   Cond. No.                         1.00\n",
      "==============================================================================\n",
      "\n",
      "Warnings:\n",
      "[1] Standard Errors assume that the covariance matrix of the errors is correctly specified.\n"
     ]
    },
    {
     "name": "stderr",
     "output_type": "stream",
     "text": [
      "/opt/conda/lib/python3.7/site-packages/scipy/stats/stats.py:1535: UserWarning: kurtosistest only valid for n>=20 ... continuing anyway, n=10\n",
      "  \"anyway, n=%i\" % int(n))\n"
     ]
    }
   ],
   "source": [
    "import pandas as pd\n",
    "import statsmodels.formula.api as sm\n",
    "np.random.seed(123)\n",
    "df = pd.DataFrame({'Maths': maths, 'Physics':physics})\n",
    "result = sm.ols(formula='I(Physics-Maths) ~ 1', data=df).fit()\n",
    "print(result.summary())"
   ]
  },
  {
   "cell_type": "markdown",
   "metadata": {
    "id": "JJPNz6R5DbHk",
    "papermill": {
     "duration": 0.115359,
     "end_time": "2024-08-17T08:13:20.403174",
     "exception": false,
     "start_time": "2024-08-17T08:13:20.287815",
     "status": "completed"
    },
    "tags": []
   },
   "source": [
    "## 11.8 One way ANOVA   <a class=\"anchor\" id=\"11.8\"></a>\n",
    "\n",
    "[**Table of Contents**](#0.1)\n",
    "\n",
    "ANOVA (Analysis of Variance) provides a statistical test of whether two or more population means are equal. Assume we want to determine whether multiple groups differ from one another in a measurement.\n",
    "\n",
    "Types of ANOVA Tests:\n",
    "\n",
    "- **One-way ANOVA**: When you want to test two or more groups to see if there’s a statistical difference between them. Both the t-test and one-way ANOVA test can compare the means for two groups, but only the one-way ANOVA test can compare the means of multiple groups at once,when we want to test two or more groups to see if there’s a statistical difference between them. Both the t-test and one-way ANOVA test can compare the means for two groups, but only the one-way ANOVA test can compare the means of multiple groups at once.\n",
    "\n",
    "- **Two-way ANOVA**:It is an extension of the one-way ANOVA test. A two-way ANOVA test allows us to test the effect of two independent variables at the same time. For example, if we want to compare the strength of athletes by country and by gender, we could use a two-way ANOVA test to accomplish this.\n",
    "\n",
    "- **Three-way ANOVA**: an extension of the one-way ANOVA test and two-way ANOVA test that allows you to test the effect of three independent variables at the same time. The three-way ANOVA test is also referred to as a three-factor ANOVA test.\n",
    "\n",
    "**Calculating ANOVA**\n",
    "\n",
    "For ANOVA tests, we would set up a null and alternative hypothesis like so:\n",
    "\n",
    "Hnull → µ1 = µ2 = µ3 = µ4\n",
    "\n",
    "Halternative → Hnull is not true.\n",
    "\n",
    "To calculate ANOVA, we would use the following formulas:\n",
    "\n",
    "![image.png](attachment:585d3c60-8c51-47ba-b05b-3a7f80e1c5b5.png)![image.png](attachment:5bb5f262-7d4b-428c-8c0c-1164161bc99b.png)\n",
    "\n",
    "**Degrees of Freedom for ANOVA:**\n",
    "\n",
    "DF between = k -1\n",
    "DF within = N-k\n",
    "DF total = N-1\n",
    "\n",
    "**Key:**\n",
    "\n",
    "k = number of groups\n",
    "\n",
    "N = total number of observations\n",
    "\n",
    "n = number of observations for each group\n",
    "\n",
    "**Limitations of the one-way ANOVA:**\n",
    "\n",
    "A one-way ANOVA helps us to determine whether the two or more groups are difference from each other, but it never tells you which specific groups were different from one another."
   ]
  },
  {
   "cell_type": "code",
   "execution_count": null,
   "metadata": {
    "execution": {
     "iopub.execute_input": "2024-08-17T08:13:20.652694Z",
     "iopub.status.busy": "2024-08-17T08:13:20.651932Z",
     "iopub.status.idle": "2024-08-17T08:13:20.672880Z",
     "shell.execute_reply": "2024-08-17T08:13:20.672170Z",
     "shell.execute_reply.started": "2022-03-03T17:43:21.839289Z"
    },
    "id": "9BvLq_X4DbHk",
    "outputId": "eb3c9a3b-96b1-4d6e-a2a7-683d590dabed",
    "papermill": {
     "duration": 0.151726,
     "end_time": "2024-08-17T08:13:20.673008",
     "exception": false,
     "start_time": "2024-08-17T08:13:20.521282",
     "status": "completed"
    },
    "tags": []
   },
   "outputs": [
    {
     "data": {
      "text/html": [
       "<div>\n",
       "<style scoped>\n",
       "    .dataframe tbody tr th:only-of-type {\n",
       "        vertical-align: middle;\n",
       "    }\n",
       "\n",
       "    .dataframe tbody tr th {\n",
       "        vertical-align: top;\n",
       "    }\n",
       "\n",
       "    .dataframe thead th {\n",
       "        text-align: right;\n",
       "    }\n",
       "</style>\n",
       "<table border=\"1\" class=\"dataframe\">\n",
       "  <thead>\n",
       "    <tr style=\"text-align: right;\">\n",
       "      <th></th>\n",
       "      <th>age</th>\n",
       "      <th>sex</th>\n",
       "      <th>bmi</th>\n",
       "      <th>children</th>\n",
       "      <th>smoker</th>\n",
       "      <th>region</th>\n",
       "      <th>charges</th>\n",
       "    </tr>\n",
       "  </thead>\n",
       "  <tbody>\n",
       "    <tr>\n",
       "      <th>0</th>\n",
       "      <td>19</td>\n",
       "      <td>female</td>\n",
       "      <td>27.900</td>\n",
       "      <td>0</td>\n",
       "      <td>yes</td>\n",
       "      <td>southwest</td>\n",
       "      <td>16884.92400</td>\n",
       "    </tr>\n",
       "    <tr>\n",
       "      <th>1</th>\n",
       "      <td>18</td>\n",
       "      <td>male</td>\n",
       "      <td>33.770</td>\n",
       "      <td>1</td>\n",
       "      <td>no</td>\n",
       "      <td>southeast</td>\n",
       "      <td>1725.55230</td>\n",
       "    </tr>\n",
       "    <tr>\n",
       "      <th>2</th>\n",
       "      <td>28</td>\n",
       "      <td>male</td>\n",
       "      <td>33.000</td>\n",
       "      <td>3</td>\n",
       "      <td>no</td>\n",
       "      <td>southeast</td>\n",
       "      <td>4449.46200</td>\n",
       "    </tr>\n",
       "    <tr>\n",
       "      <th>3</th>\n",
       "      <td>33</td>\n",
       "      <td>male</td>\n",
       "      <td>22.705</td>\n",
       "      <td>0</td>\n",
       "      <td>no</td>\n",
       "      <td>northwest</td>\n",
       "      <td>21984.47061</td>\n",
       "    </tr>\n",
       "    <tr>\n",
       "      <th>4</th>\n",
       "      <td>32</td>\n",
       "      <td>male</td>\n",
       "      <td>28.880</td>\n",
       "      <td>0</td>\n",
       "      <td>no</td>\n",
       "      <td>northwest</td>\n",
       "      <td>3866.85520</td>\n",
       "    </tr>\n",
       "  </tbody>\n",
       "</table>\n",
       "</div>"
      ],
      "text/plain": [
       "   age     sex     bmi  children smoker     region      charges\n",
       "0   19  female  27.900         0    yes  southwest  16884.92400\n",
       "1   18    male  33.770         1     no  southeast   1725.55230\n",
       "2   28    male  33.000         3     no  southeast   4449.46200\n",
       "3   33    male  22.705         0     no  northwest  21984.47061\n",
       "4   32    male  28.880         0     no  northwest   3866.85520"
      ]
     },
     "execution_count": 47,
     "metadata": {},
     "output_type": "execute_result"
    }
   ],
   "source": [
    "insurance_df = pd.read_csv(\"/kaggle/input/insurance/insurance.csv\")\n",
    "insurance_df.head()"
   ]
  },
  {
   "cell_type": "code",
   "execution_count": null,
   "metadata": {
    "execution": {
     "iopub.execute_input": "2024-08-17T08:13:20.916051Z",
     "iopub.status.busy": "2024-08-17T08:13:20.912671Z",
     "iopub.status.idle": "2024-08-17T08:13:20.920842Z",
     "shell.execute_reply": "2024-08-17T08:13:20.920272Z",
     "shell.execute_reply.started": "2022-03-03T17:43:21.872588Z"
    },
    "id": "E5s4LWJNDbHk",
    "outputId": "b6ee2a00-573f-47e6-e672-5e7fc4f01dbd",
    "papermill": {
     "duration": 0.134128,
     "end_time": "2024-08-17T08:13:20.920970",
     "exception": false,
     "start_time": "2024-08-17T08:13:20.786842",
     "status": "completed"
    },
    "tags": []
   },
   "outputs": [
    {
     "name": "stdout",
     "output_type": "stream",
     "text": [
      "No. of children has no effect on bmi as the p_value (0.716) > 0.05\n"
     ]
    }
   ],
   "source": [
    "# Test to see if the distributions of bmi values for females having different number of children, are significantly different\n",
    "import copy\n",
    "Ho = \"No. of children has no effect on bmi\"   # Stating the Null Hypothesis\n",
    "Ha = \"No. of children has an effect on bmi\"   # Stating the Alternate Hypothesis\n",
    "\n",
    "female_df = copy.deepcopy(insurance_df[insurance_df['sex'] == 'female'])\n",
    "\n",
    "zero = female_df[female_df.children == 0]['bmi']\n",
    "one = female_df[female_df.children == 1]['bmi']\n",
    "two = female_df[female_df.children == 2]['bmi']\n",
    "\n",
    "\n",
    "f_stat, p_value = stats.f_oneway(zero,one,two)\n",
    "\n",
    "\n",
    "if p_value < 0.05:  # Setting our significance level at 5%\n",
    "    print(f'{Ha} as the p_value ({p_value.round(3)}) < 0.05')\n",
    "else:\n",
    "    print(f'{Ho} as the p_value ({p_value.round(3)}) > 0.05')"
   ]
  },
  {
   "cell_type": "markdown",
   "metadata": {
    "id": "IdrM1JlnDbHk",
    "papermill": {
     "duration": 0.117359,
     "end_time": "2024-08-17T08:13:21.153977",
     "exception": false,
     "start_time": "2024-08-17T08:13:21.036618",
     "status": "completed"
    },
    "tags": []
   },
   "source": [
    "## 11.9 Tukey Test  <a class=\"anchor\" id=\"11.9\"></a>\n",
    "\n",
    "[**Table of Contents**](#0.1)\n",
    "\n",
    "One of the most commonly used post hoc tests is Tukey’s Test, which allows us to make pairwise comparisons between the means of each group while controlling for the family-wise error rate\n",
    "\n",
    "**What is family-wise error rate **\n",
    "\n",
    "As we have seen earlier that during hypothesis testing there is always a type I error rate that tells us the probability of rejecting a null hypothesis that is actually true. It’s the probability of getting a “false positive”. While performing the hypothesis testing the type I error rate is equal to the significance level (α), which is commonly chosen to be 0.01, 0.05, or 0.10. When we conduct multiple hypothesis tests at once, the probability of getting a false positive increases.\n",
    "\n",
    "The formula to estimate the family-wise error rate is as follows:\n",
    "\n",
    "Family-wise error rate = 1 – (1-α)^n where:\n",
    "\n",
    "α: The significance level for a single hypothesis test\n",
    "\n",
    "n: The total number of tests\n",
    "\n",
    "For example, imagine that we roll a 6-sided dice. Then the probability that the dice lands on a “1” is just 16.6%.But if we increase the no of tests then then the chances of getting the 1 increases.\n",
    "\n",
    "\n"
   ]
  },
  {
   "cell_type": "code",
   "execution_count": null,
   "metadata": {
    "execution": {
     "iopub.execute_input": "2024-08-17T08:13:21.401700Z",
     "iopub.status.busy": "2024-08-17T08:13:21.400860Z",
     "iopub.status.idle": "2024-08-17T08:13:21.412144Z",
     "shell.execute_reply": "2024-08-17T08:13:21.411542Z",
     "shell.execute_reply.started": "2022-03-03T17:43:21.892887Z"
    },
    "id": "wWks6V-UDbHk",
    "outputId": "2c7eb7a6-2733-4b08-ebb5-36653556e13a",
    "papermill": {
     "duration": 0.136776,
     "end_time": "2024-08-17T08:13:21.412276",
     "exception": false,
     "start_time": "2024-08-17T08:13:21.275500",
     "status": "completed"
    },
    "tags": []
   },
   "outputs": [
    {
     "name": "stdout",
     "output_type": "stream",
     "text": [
      "Group has affect on the values as the p_value (0.013) < 0.05\n"
     ]
    }
   ],
   "source": [
    "from scipy.stats import f_oneway\n",
    "from statsmodels.stats.multicomp import pairwise_tukeyhsd\n",
    "\n",
    "Ho = \"No affect of group on the values \"   # Stating the Null Hypothesis\n",
    "Ha = \"Group has affect on the values\"   # Stating the Alternate Hypothesis\n",
    "\n",
    "#enter data for three groups\n",
    "a = [85, 86, 88, 75, 78, 94, 98, 79, 71, 80]\n",
    "b = [91, 92, 93, 90, 97, 94, 82, 88, 95, 96]\n",
    "c = [79, 78, 88, 94, 92, 85, 83, 85, 82, 81]\n",
    "\n",
    "#perform one-way ANOVA\n",
    "\n",
    "f_stat, p_value = stats.f_oneway(a,b,c)\n",
    "\n",
    "\n",
    "if p_value < 0.05:  # Setting our significance level at 5%\n",
    "    print(f'{Ha} as the p_value ({p_value.round(3)}) < 0.05')\n",
    "else:\n",
    "    print(f'{Ho} as the p_value ({p_value.round(3)}) > 0.05')"
   ]
  },
  {
   "cell_type": "code",
   "execution_count": null,
   "metadata": {
    "execution": {
     "iopub.execute_input": "2024-08-17T08:13:21.656500Z",
     "iopub.status.busy": "2024-08-17T08:13:21.655629Z",
     "iopub.status.idle": "2024-08-17T08:13:21.734515Z",
     "shell.execute_reply": "2024-08-17T08:13:21.735223Z",
     "shell.execute_reply.started": "2022-03-03T17:43:21.915205Z"
    },
    "id": "CqbA54zpDbHk",
    "outputId": "04aabdb9-fe2a-4b3c-c593-b75e3d581ac6",
    "papermill": {
     "duration": 0.206356,
     "end_time": "2024-08-17T08:13:21.735410",
     "exception": false,
     "start_time": "2024-08-17T08:13:21.529054",
     "status": "completed"
    },
    "tags": []
   },
   "outputs": [
    {
     "name": "stdout",
     "output_type": "stream",
     "text": [
      " Multiple Comparison of Means - Tukey HSD, FWER=0.05 \n",
      "=====================================================\n",
      "group1 group2 meandiff p-adj   lower    upper  reject\n",
      "-----------------------------------------------------\n",
      "     a      b      8.4 0.0158   1.4272 15.3728   True\n",
      "     a      c      1.3 0.8864  -5.6728  8.2728  False\n",
      "     b      c     -7.1 0.0453 -14.0728 -0.1272   True\n",
      "-----------------------------------------------------\n"
     ]
    }
   ],
   "source": [
    "#create DataFrame to hold data\n",
    "df = pd.DataFrame({'score': [85, 86, 88, 75, 78, 94, 98, 79, 71, 80,\n",
    "                             91, 92, 93, 90, 97, 94, 82, 88, 95, 96,\n",
    "                             79, 78, 88, 94, 92, 85, 83, 85, 82, 81],\n",
    "                   'group': np.repeat(['a', 'b', 'c'], repeats=10)})\n",
    "\n",
    "# perform Tukey's test\n",
    "tukey_test = pairwise_tukeyhsd(endog=df['score'],\n",
    "                          groups=df['group'],\n",
    "                          alpha=0.05)\n",
    "#display results\n",
    "print(tukey_test)"
   ]
  },
  {
   "cell_type": "markdown",
   "metadata": {
    "id": "nEGVJ-5XDbHk",
    "papermill": {
     "duration": 0.116443,
     "end_time": "2024-08-17T08:13:21.967496",
     "exception": false,
     "start_time": "2024-08-17T08:13:21.851053",
     "status": "completed"
    },
    "tags": []
   },
   "source": [
    "## 11.10 Bonferroni Correction  <a class=\"anchor\" id=\"11.10\"></a>\n",
    "\n",
    "[**Table of Contents**](#0.1)\n",
    "\n",
    "The Bonferroni correction is the simplest and most conservative approach, which sets the α value for the entire set of comparisons equal to the division of the alpha value of an individual test by the number of tests performed.\n",
    "\n",
    "![image.png](attachment:808e7e59-9fba-4d82-a5cb-22cfd731f9e4.png)\n",
    "\n",
    "The α’ is the new threshold that needs to be reached for a single test to be classified as significant."
   ]
  },
  {
   "cell_type": "code",
   "execution_count": null,
   "metadata": {
    "execution": {
     "iopub.execute_input": "2024-08-17T08:13:22.212186Z",
     "iopub.status.busy": "2024-08-17T08:13:22.211446Z",
     "iopub.status.idle": "2024-08-17T08:13:22.368633Z",
     "shell.execute_reply": "2024-08-17T08:13:22.367667Z",
     "shell.execute_reply.started": "2022-03-03T17:43:22.023278Z"
    },
    "id": "Q4kvSE34DbHk",
    "outputId": "733883ed-bebe-4976-dbdb-f498d2a2d6b4",
    "papermill": {
     "duration": 0.285094,
     "end_time": "2024-08-17T08:13:22.368794",
     "exception": false,
     "start_time": "2024-08-17T08:13:22.083700",
     "status": "completed"
    },
    "tags": []
   },
   "outputs": [
    {
     "name": "stdout",
     "output_type": "stream",
     "text": [
      "0\n",
      "18\n"
     ]
    }
   ],
   "source": [
    "rand1 = stats.norm.rvs(loc=5, scale=10, size=1000, random_state=0)\n",
    "rand2 = stats.norm.rvs(loc=6.5, scale=8, size=1000, random_state=0)\n",
    "\n",
    "#Bonferroni correction function\n",
    "\n",
    "def bonferroni_correction_function(rvs, alpha, no_test):\n",
    "    alpha_bonferroni = alpha/no_test\n",
    "\n",
    "    counter = 0\n",
    "    for i in range(no_test):\n",
    "        rvs_random = stats.norm.rvs(loc=5, scale=10, size=1000, random_state=i+1)\n",
    "\n",
    "        statistic, pvalue = stats.ttest_ind(rvs, rvs_random, equal_var=False)\n",
    "\n",
    "        if pvalue <= alpha_bonferroni:\n",
    "            counter = counter + 1\n",
    "\n",
    "    print(counter)\n",
    "\n",
    "bonferroni_correction_function(rand1, alpha=0.05, no_test=100)\n",
    "bonferroni_correction_function(rand2, alpha=0.05, no_test=100)"
   ]
  },
  {
   "cell_type": "markdown",
   "metadata": {
    "id": "lvMl_vsuDbHk",
    "papermill": {
     "duration": 0.120702,
     "end_time": "2024-08-17T08:13:22.607089",
     "exception": false,
     "start_time": "2024-08-17T08:13:22.486387",
     "status": "completed"
    },
    "tags": []
   },
   "source": [
    "This shows how rand2 is the only distribution that is significant."
   ]
  },
  {
   "cell_type": "markdown",
   "metadata": {
    "id": "MjpB9szJDbHk",
    "papermill": {
     "duration": 0.12143,
     "end_time": "2024-08-17T08:13:22.845374",
     "exception": false,
     "start_time": "2024-08-17T08:13:22.723944",
     "status": "completed"
    },
    "tags": []
   },
   "source": [
    "## 11.11 Holm Correction  <a class=\"anchor\" id=\"11.11\"></a>\n",
    "\n",
    "[**Table of Contents**](#0.1)\n",
    "\n",
    "The Holm adjustment, sometimes also referred to as Holm–Bonferroni method, sequentially compares the lowest p-value with a Type I error rate that is reduced for each consecutive test. For example, if you have three groups (and thus three\n",
    "comparisons), this means that the first p-value is tested at the 0.05/3 level (0.017), the second at the 0.05/2 level (0.025), and third at the 0.05/1 level (0.05)\n",
    "\n",
    "The cost of the Bonferroni method is that by protecting against false-positive errors, the risk of failing to reject one or more false null hypotheses increases. Therefore, this other method improves the method above by sorting the obtained p-values from lowest to highest and comparing them to nominal alpha levels of α/m to α\n",
    "\n",
    "lowest p_value <α/m, 2nd_lowest p_value <α/(m-1), …, highest p_value <α\n",
    "\n"
   ]
  },
  {
   "cell_type": "code",
   "execution_count": null,
   "metadata": {
    "execution": {
     "iopub.execute_input": "2024-08-17T08:13:23.091906Z",
     "iopub.status.busy": "2024-08-17T08:13:23.090795Z",
     "iopub.status.idle": "2024-08-17T08:13:23.245593Z",
     "shell.execute_reply": "2024-08-17T08:13:23.244840Z",
     "shell.execute_reply.started": "2022-03-03T17:43:22.248952Z"
    },
    "id": "cUH73Ct2DbHk",
    "outputId": "dac9811c-0868-45fb-f121-edfd8118518b",
    "papermill": {
     "duration": 0.284249,
     "end_time": "2024-08-17T08:13:23.245734",
     "exception": false,
     "start_time": "2024-08-17T08:13:22.961485",
     "status": "completed"
    },
    "tags": []
   },
   "outputs": [
    {
     "name": "stdout",
     "output_type": "stream",
     "text": [
      "0\n",
      "19\n"
     ]
    }
   ],
   "source": [
    "def bonferroni_holm_correction_function(rvs, alpha, no_test):\n",
    "    pvalue_test = []\n",
    "    for i in range(no_test):\n",
    "        rvs_random = stats.norm.rvs(loc=5, scale=10, size=1000, random_state=i+1)\n",
    "\n",
    "        statistic, pvalue = stats.ttest_ind(rvs, rvs_random, equal_var=False)\n",
    "        pvalue_test.append(pvalue)\n",
    "\n",
    "    pvalue_test_sorted = sorted(pvalue_test, key=float)\n",
    "\n",
    "    counter = 0\n",
    "    for i in range(no_test):\n",
    "        if pvalue_test_sorted[i] <= alpha/(no_test-i):\n",
    "            counter = counter + 1\n",
    "\n",
    "    print(counter)\n",
    "\n",
    "bonferroni_holm_correction_function(rand1, alpha=0.05, no_test=100)\n",
    "bonferroni_holm_correction_function(rand2, alpha=0.05, no_test=100)"
   ]
  },
  {
   "cell_type": "markdown",
   "metadata": {
    "id": "9SIiJWgsDbHk",
    "papermill": {
     "duration": 0.115258,
     "end_time": "2024-08-17T08:13:23.477267",
     "exception": false,
     "start_time": "2024-08-17T08:13:23.362009",
     "status": "completed"
    },
    "tags": []
   },
   "source": [
    "This shows how rand2 is the only distribution that is significant.\n"
   ]
  },
  {
   "cell_type": "markdown",
   "metadata": {
    "id": "aEEpP6UmDbHk",
    "papermill": {
     "duration": 0.116544,
     "end_time": "2024-08-17T08:13:23.712765",
     "exception": false,
     "start_time": "2024-08-17T08:13:23.596221",
     "status": "completed"
    },
    "tags": []
   },
   "source": [
    "## 11.12 Kruskal–Wallis Test  <a class=\"anchor\" id=\"11.12\"></a>\n",
    "\n",
    "[**Table of Contents**](#0.1)\n",
    "\n",
    "When we compare two groups to each other, we use the t-test when the data are normally distributed, and the nonparametricMann–Whitney test otherwise. For three or more groups, the test for normally distributed data is the ANOVA-test; for notnormally distributed data, the corresponding test is the Kruskal–Wallis test. When the null hypothesis is true the test statistic for the Kruskal–Wallis test follows the chi-square distribution\n",
    "\n"
   ]
  },
  {
   "cell_type": "code",
   "execution_count": null,
   "metadata": {
    "execution": {
     "iopub.execute_input": "2024-08-17T08:13:23.962552Z",
     "iopub.status.busy": "2024-08-17T08:13:23.961758Z",
     "iopub.status.idle": "2024-08-17T08:13:23.967226Z",
     "shell.execute_reply": "2024-08-17T08:13:23.966573Z",
     "shell.execute_reply.started": "2022-03-03T17:43:22.451753Z"
    },
    "id": "f7Goys0mDbHk",
    "outputId": "9c5c13b8-e1eb-4a21-8a08-ac933eb62dac",
    "papermill": {
     "duration": 0.13197,
     "end_time": "2024-08-17T08:13:23.967383",
     "exception": false,
     "start_time": "2024-08-17T08:13:23.835413",
     "status": "completed"
    },
    "tags": []
   },
   "outputs": [
    {
     "name": "stdout",
     "output_type": "stream",
     "text": [
      "Statistics=1.202, p=0.548\n",
      "Same distributions (fail to reject H0)\n"
     ]
    }
   ],
   "source": [
    "# Kruskal-Wallis H-test\n",
    "from numpy.random import seed\n",
    "from numpy.random import randn\n",
    "from scipy.stats import kruskal\n",
    "# seed the random number generator\n",
    "seed(1)\n",
    "# generate three independent samples\n",
    "rand1 =50 + 10 * randn(100)\n",
    "rand2 =50 + 10 * randn(100)\n",
    "rand3 =52+ 10 * randn(100)\n",
    "# compare samples\n",
    "stat, p = kruskal(rand1, rand2, rand3)\n",
    "print('Statistics=%.3f, p=%.3f' % (stat, p))\n",
    "# interpret\n",
    "alpha = 0.05\n",
    "if p > alpha:\n",
    "    print('Same distributions (fail to reject H0)')\n",
    "else:\n",
    "    print('Different distributions (reject H0)')"
   ]
  },
  {
   "cell_type": "markdown",
   "metadata": {
    "id": "tcL6MbDlDbHl",
    "papermill": {
     "duration": 0.121377,
     "end_time": "2024-08-17T08:13:24.212307",
     "exception": false,
     "start_time": "2024-08-17T08:13:24.090930",
     "status": "completed"
    },
    "tags": []
   },
   "source": [
    "## 11.13 Two way ANOVA Test  <a class=\"anchor\" id=\"11.13\"></a>\n",
    "​\n",
    "[**Table of Contents**](#0.1)\n",
    "\n",
    "A two way ANOVA is similar to one way ANOVA test . In the two way ANOVA test each sample is defined in two ways, and resultingly put into two categorical groups.The two-way ANOVA therefore examines the effect of two factors on a dependent variable. A two-way ANOVA is used to estimate how the mean of a quantitative variable changes according to the levels of two categorical variables. Use a two-way ANOVA when you want to know how two independent variables, in combination, affect a dependent variable.\n",
    "\n",
    "**When to use the Two Way ANOVA Test**\n",
    "- When the Dependant variable is quantitative or numerical in nature\n",
    "- And the two independant variables are categorical in nature.\n",
    "when we have collected data on a quantitative dependent variable at multiple levels of two categorical independent variables.\n",
    "\n",
    "**How does the ANOVA test work?**\n",
    "A two-way ANOVA with interaction tests three null hypotheses at the same time:\n",
    "- There is no difference in group means at any level of the first independent variable.\n",
    "- There is no difference in group means at any level of the second independent variable.\n",
    "- The effect of one independent variable does not depend on the effect of the other independent variable (a.k.a. no interaction effect).\n",
    "\n",
    "**Assumptions of the two-way ANOVA**\n",
    "- Homogeneity of variance (a.k.a. homoscedasticity)\n",
    "The variation around the mean for each group being compared should be similar among all groups.\n",
    "- Independence of observations\n",
    "Our independent variables should not be dependent on one another (i.e. one should not cause the other). This is impossible to test with categorical variables – it can only be ensured by good experimental design.\n",
    "- Normally-distributed dependent variable\n",
    "The values of the dependent variable should follow a bell curve. If your data don’t meet this assumption, you can try a data transformation."
   ]
  },
  {
   "cell_type": "code",
   "execution_count": null,
   "metadata": {
    "execution": {
     "iopub.execute_input": "2024-08-17T08:13:24.470523Z",
     "iopub.status.busy": "2024-08-17T08:13:24.469317Z",
     "iopub.status.idle": "2024-08-17T08:13:24.474263Z",
     "shell.execute_reply": "2024-08-17T08:13:24.473483Z",
     "shell.execute_reply.started": "2022-03-03T18:19:47.508844Z"
    },
    "id": "eOXN2uyZDbHl",
    "outputId": "0edcddc1-f3cf-4974-f78e-94842f8db3d7",
    "papermill": {
     "duration": 0.137038,
     "end_time": "2024-08-17T08:13:24.474415",
     "exception": false,
     "start_time": "2024-08-17T08:13:24.337377",
     "status": "completed"
    },
    "tags": []
   },
   "outputs": [
    {
     "data": {
      "text/html": [
       "<div>\n",
       "<style scoped>\n",
       "    .dataframe tbody tr th:only-of-type {\n",
       "        vertical-align: middle;\n",
       "    }\n",
       "\n",
       "    .dataframe tbody tr th {\n",
       "        vertical-align: top;\n",
       "    }\n",
       "\n",
       "    .dataframe thead th {\n",
       "        text-align: right;\n",
       "    }\n",
       "</style>\n",
       "<table border=\"1\" class=\"dataframe\">\n",
       "  <thead>\n",
       "    <tr style=\"text-align: right;\">\n",
       "      <th></th>\n",
       "      <th>water</th>\n",
       "      <th>sun</th>\n",
       "      <th>height</th>\n",
       "    </tr>\n",
       "  </thead>\n",
       "  <tbody>\n",
       "    <tr>\n",
       "      <th>0</th>\n",
       "      <td>daily</td>\n",
       "      <td>low</td>\n",
       "      <td>6</td>\n",
       "    </tr>\n",
       "    <tr>\n",
       "      <th>1</th>\n",
       "      <td>daily</td>\n",
       "      <td>low</td>\n",
       "      <td>6</td>\n",
       "    </tr>\n",
       "    <tr>\n",
       "      <th>2</th>\n",
       "      <td>daily</td>\n",
       "      <td>low</td>\n",
       "      <td>6</td>\n",
       "    </tr>\n",
       "    <tr>\n",
       "      <th>3</th>\n",
       "      <td>daily</td>\n",
       "      <td>low</td>\n",
       "      <td>5</td>\n",
       "    </tr>\n",
       "    <tr>\n",
       "      <th>4</th>\n",
       "      <td>daily</td>\n",
       "      <td>low</td>\n",
       "      <td>6</td>\n",
       "    </tr>\n",
       "    <tr>\n",
       "      <th>5</th>\n",
       "      <td>daily</td>\n",
       "      <td>med</td>\n",
       "      <td>5</td>\n",
       "    </tr>\n",
       "    <tr>\n",
       "      <th>6</th>\n",
       "      <td>daily</td>\n",
       "      <td>med</td>\n",
       "      <td>5</td>\n",
       "    </tr>\n",
       "    <tr>\n",
       "      <th>7</th>\n",
       "      <td>daily</td>\n",
       "      <td>med</td>\n",
       "      <td>6</td>\n",
       "    </tr>\n",
       "    <tr>\n",
       "      <th>8</th>\n",
       "      <td>daily</td>\n",
       "      <td>med</td>\n",
       "      <td>4</td>\n",
       "    </tr>\n",
       "    <tr>\n",
       "      <th>9</th>\n",
       "      <td>daily</td>\n",
       "      <td>med</td>\n",
       "      <td>5</td>\n",
       "    </tr>\n",
       "  </tbody>\n",
       "</table>\n",
       "</div>"
      ],
      "text/plain": [
       "   water  sun  height\n",
       "0  daily  low       6\n",
       "1  daily  low       6\n",
       "2  daily  low       6\n",
       "3  daily  low       5\n",
       "4  daily  low       6\n",
       "5  daily  med       5\n",
       "6  daily  med       5\n",
       "7  daily  med       6\n",
       "8  daily  med       4\n",
       "9  daily  med       5"
      ]
     },
     "execution_count": 54,
     "metadata": {},
     "output_type": "execute_result"
    }
   ],
   "source": [
    "#create data\n",
    "df = pd.DataFrame({'water': np.repeat(['daily', 'weekly'], 15),\n",
    "                   'sun': np.tile(np.repeat(['low', 'med', 'high'], 5), 2),\n",
    "                   'height': [6, 6, 6, 5, 6, 5, 5, 6, 4, 5,\n",
    "                              6, 6, 7, 8, 7, 3, 4, 4, 4, 5,\n",
    "                              4, 4, 4, 4, 4, 5, 6, 6, 7, 8]})\n",
    "\n",
    "#view first ten rows of data\n",
    "df[:10]"
   ]
  },
  {
   "cell_type": "code",
   "execution_count": null,
   "metadata": {
    "execution": {
     "iopub.execute_input": "2024-08-17T08:13:24.721902Z",
     "iopub.status.busy": "2024-08-17T08:13:24.720998Z",
     "iopub.status.idle": "2024-08-17T08:13:25.234728Z",
     "shell.execute_reply": "2024-08-17T08:13:25.234070Z",
     "shell.execute_reply.started": "2022-03-03T18:20:38.394848Z"
    },
    "id": "hsUIXUK3DbHl",
    "outputId": "40517ef4-49af-46e4-fc11-4251a45a607f",
    "papermill": {
     "duration": 0.638796,
     "end_time": "2024-08-17T08:13:25.234873",
     "exception": false,
     "start_time": "2024-08-17T08:13:24.596077",
     "status": "completed"
    },
    "tags": []
   },
   "outputs": [
    {
     "data": {
      "text/html": [
       "<div>\n",
       "<style scoped>\n",
       "    .dataframe tbody tr th:only-of-type {\n",
       "        vertical-align: middle;\n",
       "    }\n",
       "\n",
       "    .dataframe tbody tr th {\n",
       "        vertical-align: top;\n",
       "    }\n",
       "\n",
       "    .dataframe thead th {\n",
       "        text-align: right;\n",
       "    }\n",
       "</style>\n",
       "<table border=\"1\" class=\"dataframe\">\n",
       "  <thead>\n",
       "    <tr style=\"text-align: right;\">\n",
       "      <th></th>\n",
       "      <th>sum_sq</th>\n",
       "      <th>df</th>\n",
       "      <th>F</th>\n",
       "      <th>PR(&gt;F)</th>\n",
       "    </tr>\n",
       "  </thead>\n",
       "  <tbody>\n",
       "    <tr>\n",
       "      <th>C(water)</th>\n",
       "      <td>8.533333</td>\n",
       "      <td>1.0</td>\n",
       "      <td>16.0000</td>\n",
       "      <td>0.000527</td>\n",
       "    </tr>\n",
       "    <tr>\n",
       "      <th>C(sun)</th>\n",
       "      <td>24.866667</td>\n",
       "      <td>2.0</td>\n",
       "      <td>23.3125</td>\n",
       "      <td>0.000002</td>\n",
       "    </tr>\n",
       "    <tr>\n",
       "      <th>C(water):C(sun)</th>\n",
       "      <td>2.466667</td>\n",
       "      <td>2.0</td>\n",
       "      <td>2.3125</td>\n",
       "      <td>0.120667</td>\n",
       "    </tr>\n",
       "    <tr>\n",
       "      <th>Residual</th>\n",
       "      <td>12.800000</td>\n",
       "      <td>24.0</td>\n",
       "      <td>NaN</td>\n",
       "      <td>NaN</td>\n",
       "    </tr>\n",
       "  </tbody>\n",
       "</table>\n",
       "</div>"
      ],
      "text/plain": [
       "                    sum_sq    df        F    PR(>F)\n",
       "C(water)          8.533333   1.0  16.0000  0.000527\n",
       "C(sun)           24.866667   2.0  23.3125  0.000002\n",
       "C(water):C(sun)   2.466667   2.0   2.3125  0.120667\n",
       "Residual         12.800000  24.0      NaN       NaN"
      ]
     },
     "execution_count": 55,
     "metadata": {},
     "output_type": "execute_result"
    }
   ],
   "source": [
    "import statsmodels.api as sm\n",
    "from statsmodels.formula.api import ols\n",
    "\n",
    "#perform two-way ANOVA\n",
    "model = ols('height ~ C(water) + C(sun) + C(water):C(sun)', data=df).fit() # https://www.statology.org/two-way-anova-python/\n",
    "sm.stats.anova_lm(model, typ=2)"
   ]
  },
  {
   "cell_type": "markdown",
   "metadata": {
    "id": "aFZwBVTaDbHl",
    "papermill": {
     "duration": 0.118081,
     "end_time": "2024-08-17T08:13:25.474240",
     "exception": false,
     "start_time": "2024-08-17T08:13:25.356159",
     "status": "completed"
    },
    "tags": []
   },
   "source": [
    "**Result Interpretation**\n",
    "\n",
    "Since the p-values for water and sun are both less than .05, this means that both factors have a statistically significant effect on plant height.And since the p-value for the interaction effect (.120667) is not less than .05, this tells us that there is no significant interaction effect between sunlight exposure and watering frequency.\n",
    "\n"
   ]
  },
  {
   "cell_type": "markdown",
   "metadata": {
    "id": "JkCt4SMFDbHl",
    "papermill": {
     "duration": 0.118065,
     "end_time": "2024-08-17T08:13:25.712464",
     "exception": false,
     "start_time": "2024-08-17T08:13:25.594399",
     "status": "completed"
    },
    "tags": []
   },
   "source": [
    "## 11.14 Three way ANOVA Test  <a class=\"anchor\" id=\"11.14\"></a>\n",
    "​\n",
    "[**Table of Contents**](#0.1)\n",
    "\n",
    "When we have more than two factors , there we can use the three way ANOVA test ( but statistical modelling is preferred).However, as always with the analysis of statistical data, we should first inspect the data visually. seaborn makes this quite\n",
    "simple.For example the pulse-rate after (1/15/30) minutes of (resting/walking/running), in two groups who are eating different diets.\n"
   ]
  },
  {
   "cell_type": "code",
   "execution_count": null,
   "metadata": {
    "execution": {
     "iopub.execute_input": "2024-08-17T08:13:25.961514Z",
     "iopub.status.busy": "2024-08-17T08:13:25.960431Z",
     "iopub.status.idle": "2024-08-17T08:13:27.346179Z",
     "shell.execute_reply": "2024-08-17T08:13:27.345501Z",
     "shell.execute_reply.started": "2022-03-03T18:40:43.394121Z"
    },
    "id": "WN9-lLnuDbHl",
    "outputId": "1433afe8-5072-4883-8d0b-1fe5562a235e",
    "papermill": {
     "duration": 1.510961,
     "end_time": "2024-08-17T08:13:27.346323",
     "exception": false,
     "start_time": "2024-08-17T08:13:25.835362",
     "status": "completed"
    },
    "tags": []
   },
   "outputs": [
    {
     "name": "stderr",
     "output_type": "stream",
     "text": [
      "/opt/conda/lib/python3.7/site-packages/seaborn/categorical.py:3669: UserWarning: The `factorplot` function has been renamed to `catplot`. The original name will be removed in a future release. Please update your code. Note that the default `kind` in `factorplot` (`'point'`) has changed `'strip'` in `catplot`.\n",
      "  warnings.warn(msg)\n"
     ]
    },
    {
     "data": {
      "image/png": "[encoded data removed]",
      "text/plain": [
       "<Figure size 622.225x360 with 2 Axes>"
      ]
     },
     "metadata": {},
     "output_type": "display_data"
    }
   ],
   "source": [
    "import matplotlib.pyplot as plt\n",
    "import seaborn as sns\n",
    "sns.set(style=\"whitegrid\")\n",
    "df = sns.load_dataset(\"exercise\")\n",
    "sns.factorplot(\"time\", \"pulse\", hue=\"kind\", col=\"diet\", data=df,\n",
    "hue_order=[\"rest\", \"walking\", \"running\"],\n",
    "palette=\"YlGnBu_d\", aspect=.75).despine(left=True)\n",
    "plt.show()"
   ]
  },
  {
   "cell_type": "markdown",
   "metadata": {
    "id": "NUb8C4ttDbHl",
    "papermill": {
     "duration": 0.144101,
     "end_time": "2024-08-17T08:13:27.617956",
     "exception": false,
     "start_time": "2024-08-17T08:13:27.473855",
     "status": "completed"
    },
    "tags": []
   },
   "source": [
    "## 11.15 Selecting the right test  <a class=\"anchor\" id=\"11.15\"></a>\n",
    "​\n",
    "[**Table of Contents**](#0.1)\n",
    "\n",
    "Below mentioned points is briefly describe which test to use depending on the nature of the data\n",
    "\n",
    "**- Group of nominal data**\n",
    "\n",
    "a) When the no of group is one and samples are independant :- One Sample T test or wilcoxon signed    rank sum test\n",
    "b) When the no of group is two or more and samples are independant :- Fisher exact test or chi-        square test\n",
    "c) When the no of group is two or more and samples are paired :- McNemar Test\n",
    "\n",
    "**- Group of ordinal data**\n",
    "\n",
    "a) When the no of group is two and samples are indepandent :- Mann-Whitney U test\n",
    "b) When the no of group is two and samples are paired :- Wilcoxon signed rank test\n",
    "c) When the no of group is three or more  and samples are independent :- Kruskal–Wallis test\n",
    "d) When the no of group is three or more and samples are paired :- Friedman test\n",
    "\n",
    "**- Group of continuous data**\n",
    "\n",
    "a) When the no of group is two and samples are indepandent :-Student’s t-test or Mann–\n",
    "   Whitney test\n",
    "b) When the no of group is two and samples are paired :- Paired t-test or Wilcoxon signedrank\n",
    "   sum test  \n",
    "c) When the no of group is three or more  and samples are independent :-ANOVA or Kruskal–Wallis        test\n",
    "d) When the no of group is three or more and samples are paired :- Repeated measures ANOVA or\n",
    "   Friedman test\n",
    "\n"
   ]
  },
  {
   "cell_type": "markdown",
   "metadata": {
    "id": "PmelSE0ADbHl",
    "papermill": {
     "duration": 0.120439,
     "end_time": "2024-08-17T08:13:27.857975",
     "exception": false,
     "start_time": "2024-08-17T08:13:27.737536",
     "status": "completed"
    },
    "tags": []
   },
   "source": [
    "# 12. Tests on categorical data <a class=\"anchor\" id=\"12\"></a>\n",
    "\n",
    "[**Table of Contents**](#0.1)\n",
    "\n",
    "In a data sample the number of data falling into a particular group is called the frequency, so the analysis of categorical data is the analysis of frequencies. When two or more groups are compared the data are often shown in the form of a frequency table, sometimes also called contingency table.If we have only one factor (i.e., a table with only one row), the analysis options\n",
    "are somewhat limited. Some of the most common statistical methods used for analysis of the frequency:-\n",
    "\n",
    "**- Chi Square Test :-**  This statistical tests checks that the entries in the individual cells in a frequency table all come from the same distribution.it checks the null hypothesis H0 that the\n",
    "results are independent of the row or column in which they appear. The alternative hypothesis Ha does not specify the type of association, so close attention to the data is required to interpret the information provided by the test.\n",
    "\n",
    "**- Fisher's Exact Test :-** The chi-square test is approximate, the Fisher’s Exact Test is an exact test. It is computationally more expensive and intricate than the chi-square test, and was originally used only for small sample numbers. It is more advisable to use.\n",
    "\n",
    "**-McNemar's Test :-** This is a matched pair test for 2 * 2 Tables. If we want to compare the  results of doctor when checking the same patients, we would use this test.\n",
    "\n",
    "**-Cochran's Q Test :-** It is an extension of the MeNemar's tests for related samples that provides a method for testing for differences between three or more matched/Paired sets of frequencies or proportion"
   ]
  },
  {
   "cell_type": "markdown",
   "metadata": {
    "id": "tpd6f22jDbHl",
    "papermill": {
     "duration": 0.119012,
     "end_time": "2024-08-17T08:13:28.097468",
     "exception": false,
     "start_time": "2024-08-17T08:13:27.978456",
     "status": "completed"
    },
    "tags": []
   },
   "source": [
    "## 12.1 Chi Sqauare Test  <a class=\"anchor\" id=\"12.1\"></a>\n",
    "​\n",
    "[**Table of Contents**](#0.1)\n",
    "\n",
    "A Chi-Square test is a test of statistical significance for categorical variables.Chi-square test in hypothesis testing is used to test the hypothesis about the distribution of observations/frequencies in different categories.\n",
    "\n",
    "**- Assumptions of the Chi-Square Test**\n",
    "\n",
    "a) The χ2 assumes that the data for the study is obtained through random selection, i.e. they are randomly picked from the population\n",
    "\n",
    "b) The categories are mutually exclusive i.e. each subject fits in only one category. For e.g.- from our above example – the number of people who lunched in your restaurant on Monday can’t be filled in the Tuesday category\n",
    "\n",
    "c) The data should be in the form of frequencies or counts of a particular category and not in percentages\n",
    "\n",
    "d) The data should not consist of paired samples or groups or we can say the observations should be independent of each other\n",
    "\n",
    "e) When more than 20% of the expected frequencies have a value of less than 5 then Chi-square cannot be used.  To tackle this problem: Either one should combine the categories only if it is relevant or obtain more data\n",
    "\n",
    "\n",
    "\n",
    "\n"
   ]
  },
  {
   "cell_type": "code",
   "execution_count": null,
   "metadata": {
    "execution": {
     "iopub.execute_input": "2024-08-17T08:13:28.346467Z",
     "iopub.status.busy": "2024-08-17T08:13:28.345671Z",
     "iopub.status.idle": "2024-08-17T08:13:28.348831Z",
     "shell.execute_reply": "2024-08-17T08:13:28.347898Z",
     "shell.execute_reply.started": "2022-07-02T15:09:15.903156Z"
    },
    "id": "ZQVl-jdbDbHl",
    "papermill": {
     "duration": 0.131415,
     "end_time": "2024-08-17T08:13:28.349002",
     "exception": false,
     "start_time": "2024-08-17T08:13:28.217587",
     "status": "completed"
    },
    "tags": []
   },
   "outputs": [],
   "source": [
    "#Example from :- https://analyticsindiamag.com/a-beginners-guide-to-chi-square-test-in-python-from-scratch/\n",
    "np.random.seed(10)\n",
    "# Sample data randomly at fixed probabilities\n",
    "type_bottle = np.random.choice(a= [\"paper\",\"cans\",\"glass\",\"others\",\"plastic\"],\n",
    "                              p = [0.05, 0.15 ,0.25, 0.05, 0.5],\n",
    "                              size=1000)"
   ]
  },
  {
   "cell_type": "code",
   "execution_count": null,
   "metadata": {
    "execution": {
     "iopub.execute_input": "2024-08-17T08:13:28.602054Z",
     "iopub.status.busy": "2024-08-17T08:13:28.600936Z",
     "iopub.status.idle": "2024-08-17T08:13:28.650902Z",
     "shell.execute_reply": "2024-08-17T08:13:28.650093Z",
     "shell.execute_reply.started": "2022-07-02T15:09:34.016219Z"
    },
    "id": "QCeT5m6HDbHl",
    "papermill": {
     "duration": 0.182738,
     "end_time": "2024-08-17T08:13:28.651038",
     "exception": false,
     "start_time": "2024-08-17T08:13:28.468300",
     "status": "completed"
    },
    "tags": []
   },
   "outputs": [],
   "source": [
    "# Sample data randomly at fixed probabilities\n",
    "month = np.random.choice(a= [\"January\",\"February\",\"March\"],\n",
    "                              p = [0.4, 0.2, 0.4],\n",
    "                              size=1000)\n",
    "\n",
    "bottles = pd.DataFrame({\"types\":type_bottle,\n",
    "                       \"months\":month})\n",
    "\n",
    "bottles_tab = pd.crosstab(bottles.types, bottles.months, margins = True)"
   ]
  },
  {
   "cell_type": "code",
   "execution_count": null,
   "metadata": {
    "execution": {
     "iopub.execute_input": "2024-08-17T08:13:28.907229Z",
     "iopub.status.busy": "2024-08-17T08:13:28.906200Z",
     "iopub.status.idle": "2024-08-17T08:13:28.911707Z",
     "shell.execute_reply": "2024-08-17T08:13:28.911076Z",
     "shell.execute_reply.started": "2022-07-02T15:09:52.109508Z"
    },
    "id": "ygkn7JNaDbHl",
    "outputId": "81c9d413-dba6-4a53-d617-3561e092f2c7",
    "papermill": {
     "duration": 0.141074,
     "end_time": "2024-08-17T08:13:28.911849",
     "exception": false,
     "start_time": "2024-08-17T08:13:28.770775",
     "status": "completed"
    },
    "tags": []
   },
   "outputs": [
    {
     "data": {
      "text/html": [
       "<div>\n",
       "<style scoped>\n",
       "    .dataframe tbody tr th:only-of-type {\n",
       "        vertical-align: middle;\n",
       "    }\n",
       "\n",
       "    .dataframe tbody tr th {\n",
       "        vertical-align: top;\n",
       "    }\n",
       "\n",
       "    .dataframe thead th {\n",
       "        text-align: right;\n",
       "    }\n",
       "</style>\n",
       "<table border=\"1\" class=\"dataframe\">\n",
       "  <thead>\n",
       "    <tr style=\"text-align: right;\">\n",
       "      <th></th>\n",
       "      <th>January</th>\n",
       "      <th>February</th>\n",
       "      <th>March</th>\n",
       "      <th>row_totals</th>\n",
       "    </tr>\n",
       "  </thead>\n",
       "  <tbody>\n",
       "    <tr>\n",
       "      <th>paper</th>\n",
       "      <td>25</td>\n",
       "      <td>65</td>\n",
       "      <td>64</td>\n",
       "      <td>154</td>\n",
       "    </tr>\n",
       "    <tr>\n",
       "      <th>cans</th>\n",
       "      <td>50</td>\n",
       "      <td>107</td>\n",
       "      <td>94</td>\n",
       "      <td>251</td>\n",
       "    </tr>\n",
       "    <tr>\n",
       "      <th>glass</th>\n",
       "      <td>8</td>\n",
       "      <td>15</td>\n",
       "      <td>15</td>\n",
       "      <td>38</td>\n",
       "    </tr>\n",
       "    <tr>\n",
       "      <th>others</th>\n",
       "      <td>7</td>\n",
       "      <td>21</td>\n",
       "      <td>32</td>\n",
       "      <td>60</td>\n",
       "    </tr>\n",
       "    <tr>\n",
       "      <th>plastic</th>\n",
       "      <td>96</td>\n",
       "      <td>189</td>\n",
       "      <td>212</td>\n",
       "      <td>497</td>\n",
       "    </tr>\n",
       "    <tr>\n",
       "      <th>col_totals</th>\n",
       "      <td>186</td>\n",
       "      <td>397</td>\n",
       "      <td>417</td>\n",
       "      <td>1000</td>\n",
       "    </tr>\n",
       "  </tbody>\n",
       "</table>\n",
       "</div>"
      ],
      "text/plain": [
       "            January  February  March  row_totals\n",
       "paper            25        65     64         154\n",
       "cans             50       107     94         251\n",
       "glass             8        15     15          38\n",
       "others            7        21     32          60\n",
       "plastic          96       189    212         497\n",
       "col_totals      186       397    417        1000"
      ]
     },
     "execution_count": 59,
     "metadata": {},
     "output_type": "execute_result"
    }
   ],
   "source": [
    "bottles_tab.columns = [\"January\",\"February\",\"March\",\"row_totals\"]\n",
    "\n",
    "bottles_tab.index = [\"paper\",\"cans\",\"glass\",\"others\",\"plastic\",\"col_totals\"]\n",
    "\n",
    "observed = bottles_tab.iloc[0:5,0:3]   # Get table without totals for later use\n",
    "bottles_tab"
   ]
  },
  {
   "cell_type": "code",
   "execution_count": null,
   "metadata": {
    "execution": {
     "iopub.execute_input": "2024-08-17T08:13:29.166427Z",
     "iopub.status.busy": "2024-08-17T08:13:29.165475Z",
     "iopub.status.idle": "2024-08-17T08:13:29.170223Z",
     "shell.execute_reply": "2024-08-17T08:13:29.169636Z",
     "shell.execute_reply.started": "2022-07-02T15:10:45.000039Z"
    },
    "id": "jWD2RvL2DbHl",
    "outputId": "ed3f2884-c405-4a4a-e5e2-05d4ee25c8bc",
    "papermill": {
     "duration": 0.138105,
     "end_time": "2024-08-17T08:13:29.170356",
     "exception": false,
     "start_time": "2024-08-17T08:13:29.032251",
     "status": "completed"
    },
    "tags": []
   },
   "outputs": [
    {
     "data": {
      "text/html": [
       "<div>\n",
       "<style scoped>\n",
       "    .dataframe tbody tr th:only-of-type {\n",
       "        vertical-align: middle;\n",
       "    }\n",
       "\n",
       "    .dataframe tbody tr th {\n",
       "        vertical-align: top;\n",
       "    }\n",
       "\n",
       "    .dataframe thead th {\n",
       "        text-align: right;\n",
       "    }\n",
       "</style>\n",
       "<table border=\"1\" class=\"dataframe\">\n",
       "  <thead>\n",
       "    <tr style=\"text-align: right;\">\n",
       "      <th></th>\n",
       "      <th>Janurary</th>\n",
       "      <th>Feburary</th>\n",
       "      <th>March</th>\n",
       "    </tr>\n",
       "  </thead>\n",
       "  <tbody>\n",
       "    <tr>\n",
       "      <th>paper</th>\n",
       "      <td>28.644</td>\n",
       "      <td>61.138</td>\n",
       "      <td>64.218</td>\n",
       "    </tr>\n",
       "    <tr>\n",
       "      <th>cans</th>\n",
       "      <td>46.686</td>\n",
       "      <td>99.647</td>\n",
       "      <td>104.667</td>\n",
       "    </tr>\n",
       "    <tr>\n",
       "      <th>glass</th>\n",
       "      <td>7.068</td>\n",
       "      <td>15.086</td>\n",
       "      <td>15.846</td>\n",
       "    </tr>\n",
       "    <tr>\n",
       "      <th>others</th>\n",
       "      <td>11.160</td>\n",
       "      <td>23.820</td>\n",
       "      <td>25.020</td>\n",
       "    </tr>\n",
       "    <tr>\n",
       "      <th>plastic</th>\n",
       "      <td>92.442</td>\n",
       "      <td>197.309</td>\n",
       "      <td>207.249</td>\n",
       "    </tr>\n",
       "  </tbody>\n",
       "</table>\n",
       "</div>"
      ],
      "text/plain": [
       "         Janurary  Feburary    March\n",
       "paper      28.644    61.138   64.218\n",
       "cans       46.686    99.647  104.667\n",
       "glass       7.068    15.086   15.846\n",
       "others     11.160    23.820   25.020\n",
       "plastic    92.442   197.309  207.249"
      ]
     },
     "execution_count": 60,
     "metadata": {},
     "output_type": "execute_result"
    }
   ],
   "source": [
    "#Calculating the expected values\n",
    "\n",
    "expected =  np.outer(bottles_tab[\"row_totals\"][0:5],\n",
    "                     bottles_tab.loc[\"col_totals\"][0:3]) / 1000\n",
    "\n",
    "expected = pd.DataFrame(expected)\n",
    "\n",
    "expected.columns = [\"Janurary\",\"Feburary\",\"March\"]\n",
    "expected.index = [\"paper\",\"cans\",\"glass\",\"others\",\"plastic\"]\n",
    "\n",
    "expected"
   ]
  },
  {
   "cell_type": "code",
   "execution_count": null,
   "metadata": {
    "execution": {
     "iopub.execute_input": "2024-08-17T08:13:29.427788Z",
     "iopub.status.busy": "2024-08-17T08:13:29.427028Z",
     "iopub.status.idle": "2024-08-17T08:13:29.430641Z",
     "shell.execute_reply": "2024-08-17T08:13:29.430011Z",
     "shell.execute_reply.started": "2022-07-02T15:11:02.995912Z"
    },
    "id": "q5c-lZciDbHm",
    "outputId": "598034f7-d51b-421b-b708-46d86115d868",
    "papermill": {
     "duration": 0.139371,
     "end_time": "2024-08-17T08:13:29.430775",
     "exception": false,
     "start_time": "2024-08-17T08:13:29.291404",
     "status": "completed"
    },
    "tags": []
   },
   "outputs": [
    {
     "name": "stdout",
     "output_type": "stream",
     "text": [
      "3.1891910015593856\n"
     ]
    }
   ],
   "source": [
    "chi_squared_stat = (((observed-expected)**2)/expected).sum().sum()\n",
    "print(chi_squared_stat)"
   ]
  },
  {
   "cell_type": "code",
   "execution_count": null,
   "metadata": {
    "execution": {
     "iopub.execute_input": "2024-08-17T08:13:29.683781Z",
     "iopub.status.busy": "2024-08-17T08:13:29.682966Z",
     "iopub.status.idle": "2024-08-17T08:13:29.686558Z",
     "shell.execute_reply": "2024-08-17T08:13:29.685859Z",
     "shell.execute_reply.started": "2022-07-02T15:12:32.571477Z"
    },
    "id": "HcLBYI8eDbHm",
    "outputId": "f77d70e5-ce47-493f-e62c-e578c8daa137",
    "papermill": {
     "duration": 0.133481,
     "end_time": "2024-08-17T08:13:29.686689",
     "exception": false,
     "start_time": "2024-08-17T08:13:29.553208",
     "status": "completed"
    },
    "tags": []
   },
   "outputs": [
    {
     "name": "stdout",
     "output_type": "stream",
     "text": [
      "Critical value: 15.50731305586545\n",
      "P value: 0.9219296414720469\n"
     ]
    }
   ],
   "source": [
    "from scipy.stats import chi2\n",
    "\n",
    "critical_value= chi2.ppf(q = 0.95, # Find the critical value for 95% confidence*\n",
    "                      df = 8)   # df= degree of freedom\n",
    "\n",
    "print(\"Critical value:\",critical_value)\n",
    "\n",
    "p_value = 1 - chi2.cdf(x=chi_squared_stat,  # Find the p-value\n",
    "                             df=8)\n",
    "print(\"P value:\",p_value)"
   ]
  },
  {
   "cell_type": "code",
   "execution_count": null,
   "metadata": {
    "execution": {
     "iopub.execute_input": "2024-08-17T08:13:29.935755Z",
     "iopub.status.busy": "2024-08-17T08:13:29.934916Z",
     "iopub.status.idle": "2024-08-17T08:13:29.939419Z",
     "shell.execute_reply": "2024-08-17T08:13:29.938794Z",
     "shell.execute_reply.started": "2022-07-02T15:13:34.798068Z"
    },
    "id": "7hKMDEghDbHm",
    "outputId": "07db2fd3-b309-4eb2-f9df-184425b15b7b",
    "papermill": {
     "duration": 0.132014,
     "end_time": "2024-08-17T08:13:29.939562",
     "exception": false,
     "start_time": "2024-08-17T08:13:29.807548",
     "status": "completed"
    },
    "tags": []
   },
   "outputs": [
    {
     "data": {
      "text/plain": [
       "(7.169321280162059,\n",
       " 0.518479392948842,\n",
       " 8,\n",
       " array([[ 28.644,  61.138,  64.218],\n",
       "        [ 46.686,  99.647, 104.667],\n",
       "        [  7.068,  15.086,  15.846],\n",
       "        [ 11.16 ,  23.82 ,  25.02 ],\n",
       "        [ 92.442, 197.309, 207.249]]))"
      ]
     },
     "execution_count": 63,
     "metadata": {},
     "output_type": "execute_result"
    }
   ],
   "source": [
    "import scipy\n",
    "scipy.stats.chi2_contingency(observed= observed)\n"
   ]
  },
  {
   "cell_type": "markdown",
   "metadata": {
    "id": "xz0XZidvDbHm",
    "papermill": {
     "duration": 0.12057,
     "end_time": "2024-08-17T08:13:30.182915",
     "exception": false,
     "start_time": "2024-08-17T08:13:30.062345",
     "status": "completed"
    },
    "tags": []
   },
   "source": [
    "Finally, we get a p-value of 0.51847 which is greater than 0.5. Therefore, we will accept the null hypothesis that says there is no relationship between the features. The test result does not detect a significant relationship between the variables."
   ]
  },
  {
   "cell_type": "markdown",
   "metadata": {
    "id": "Zq0Gf-5yDbHm",
    "papermill": {
     "duration": 0.122705,
     "end_time": "2024-08-17T08:13:30.428877",
     "exception": false,
     "start_time": "2024-08-17T08:13:30.306172",
     "status": "completed"
    },
    "tags": []
   },
   "source": [
    "## 12.2 Fisher Exact Test  <a class=\"anchor\" id=\"12.2\"></a>\n",
    "​\n",
    "[**Table of Contents**](#0.1)\n",
    "\n",
    "Fisher’s exact test is a statistical test used for testing the association between the two independent categorical variables. It is a non-parametric test and compares the proportion of categories in categorical variables.\n",
    "\n"
   ]
  },
  {
   "cell_type": "code",
   "execution_count": null,
   "metadata": {
    "execution": {
     "iopub.execute_input": "2024-08-17T08:13:30.690976Z",
     "iopub.status.busy": "2024-08-17T08:13:30.689798Z",
     "iopub.status.idle": "2024-08-17T08:13:30.694292Z",
     "shell.execute_reply": "2024-08-17T08:13:30.693573Z",
     "shell.execute_reply.started": "2022-07-02T15:18:43.877566Z"
    },
    "id": "SWTgGXP5DbHm",
    "outputId": "12682834-7169-421b-c9dd-fbcca0821b25",
    "papermill": {
     "duration": 0.139509,
     "end_time": "2024-08-17T08:13:30.694429",
     "exception": false,
     "start_time": "2024-08-17T08:13:30.554920",
     "status": "completed"
    },
    "tags": []
   },
   "outputs": [
    {
     "data": {
      "text/html": [
       "<div>\n",
       "<style scoped>\n",
       "    .dataframe tbody tr th:only-of-type {\n",
       "        vertical-align: middle;\n",
       "    }\n",
       "\n",
       "    .dataframe tbody tr th {\n",
       "        vertical-align: top;\n",
       "    }\n",
       "\n",
       "    .dataframe thead th {\n",
       "        text-align: right;\n",
       "    }\n",
       "</style>\n",
       "<table border=\"1\" class=\"dataframe\">\n",
       "  <thead>\n",
       "    <tr style=\"text-align: right;\">\n",
       "      <th></th>\n",
       "      <th>drug A</th>\n",
       "      <th>drug B</th>\n",
       "    </tr>\n",
       "  </thead>\n",
       "  <tbody>\n",
       "    <tr>\n",
       "      <th>no disease</th>\n",
       "      <td>80</td>\n",
       "      <td>48</td>\n",
       "    </tr>\n",
       "    <tr>\n",
       "      <th>disease</th>\n",
       "      <td>50</td>\n",
       "      <td>70</td>\n",
       "    </tr>\n",
       "  </tbody>\n",
       "</table>\n",
       "</div>"
      ],
      "text/plain": [
       "            drug A  drug B\n",
       "no disease      80      48\n",
       "disease         50      70"
      ]
     },
     "execution_count": 64,
     "metadata": {},
     "output_type": "execute_result"
    }
   ],
   "source": [
    "# Ref :- https://www.reneshbedre.com/blog/fisher-exact-test-python.html\n",
    "\n",
    "# create a pandas dataframe with row and column names\n",
    "import pandas as pd\n",
    "df = pd.DataFrame({'drug A':[80, 50], 'drug B':[48, 70]}, index=pd.Index(['no disease', 'disease']))\n",
    "df"
   ]
  },
  {
   "cell_type": "code",
   "execution_count": null,
   "metadata": {
    "execution": {
     "iopub.execute_input": "2024-08-17T08:13:30.945762Z",
     "iopub.status.busy": "2024-08-17T08:13:30.944997Z",
     "iopub.status.idle": "2024-08-17T08:13:31.100025Z",
     "shell.execute_reply": "2024-08-17T08:13:31.099323Z",
     "shell.execute_reply.started": "2022-07-02T15:19:13.38542Z"
    },
    "id": "-NijSuzoDbHm",
    "outputId": "50c8a7d0-09c5-4f8d-abda-0e82d4928f07",
    "papermill": {
     "duration": 0.283218,
     "end_time": "2024-08-17T08:13:31.100226",
     "exception": false,
     "start_time": "2024-08-17T08:13:30.817008",
     "status": "completed"
    },
    "tags": []
   },
   "outputs": [
    {
     "data": {
      "image/png": "[encoded data removed]",
      "text/plain": [
       "<Figure size 432x288 with 3 Axes>"
      ]
     },
     "metadata": {},
     "output_type": "display_data"
    }
   ],
   "source": [
    "from statsmodels.graphics.mosaicplot import mosaic\n",
    "\n",
    "df_dict = {('drug A', 'no disease'): 80, ('drug A', 'disease'): 50, ('drug B', 'no disease'): 48,\n",
    "           ('drug B', 'disease'): 70}\n",
    "mosaic(df_dict)\n",
    "plt.show()"
   ]
  },
  {
   "cell_type": "code",
   "execution_count": null,
   "metadata": {
    "execution": {
     "iopub.execute_input": "2024-08-17T08:13:31.357239Z",
     "iopub.status.busy": "2024-08-17T08:13:31.356157Z",
     "iopub.status.idle": "2024-08-17T08:13:31.371711Z",
     "shell.execute_reply": "2024-08-17T08:13:31.371076Z",
     "shell.execute_reply.started": "2022-07-02T15:19:36.643545Z"
    },
    "id": "QWSc_YXaDbHm",
    "outputId": "aa922e1c-a50f-4aa6-8c2e-7a800ce8c67e",
    "papermill": {
     "duration": 0.149395,
     "end_time": "2024-08-17T08:13:31.371840",
     "exception": false,
     "start_time": "2024-08-17T08:13:31.222445",
     "status": "completed"
    },
    "tags": []
   },
   "outputs": [
    {
     "data": {
      "text/plain": [
       "(2.3333333333333335, 0.001425903669576289)"
      ]
     },
     "execution_count": 66,
     "metadata": {},
     "output_type": "execute_result"
    }
   ],
   "source": [
    "from scipy.stats import fisher_exact\n",
    "oddsr, p = fisher_exact(table=df.to_numpy(), alternative='two-sided')\n",
    "oddsr, p"
   ]
  },
  {
   "cell_type": "markdown",
   "metadata": {
    "id": "I6o1sKgVDbHm",
    "papermill": {
     "duration": 0.12448,
     "end_time": "2024-08-17T08:13:31.619893",
     "exception": false,
     "start_time": "2024-08-17T08:13:31.495413",
     "status": "completed"
    },
    "tags": []
   },
   "source": [
    "The p value (two-tailed) obtained from Fisher’s exact test is significant [p = 0.00142, Odds ratio = 2.33] is statistically significant (p < 0.05) and therefore, we reject the null hypothesis. Thus, we can conclude that there is a significant association between drug treatment and disease status."
   ]
  },
  {
   "cell_type": "markdown",
   "metadata": {
    "id": "naf9xq2IDbHm",
    "papermill": {
     "duration": 0.125308,
     "end_time": "2024-08-17T08:13:31.868903",
     "exception": false,
     "start_time": "2024-08-17T08:13:31.743595",
     "status": "completed"
    },
    "tags": []
   },
   "source": [
    "## 12.3 McNemar Test  <a class=\"anchor\" id=\"12.3\"></a>\n",
    "​\n",
    "[**Table of Contents**](#0.1)\n",
    "\n",
    "It is a statistical method for comparing proportions from two dependent populations.It is a type of paired chi-square test (χ2), but this time, both populations are dependent.Only used for paired nominal data.\n",
    "\n",
    "1. Before-after comparison data, to uncover any changes in perception, attitude, behavior in marketing campaigns, drug testing, etc.\n",
    "2. Matched pair case-control:\n",
    "i. Each case has a matching control, i.e., matched on age, gender, race, etc.\n",
    "ii. Twins studies, i.e., the matched pairs are twins.\n",
    "\n",
    "Similar to the χ2 test, data need to be arranged in a 2×2 contingency table before calculating McNemar’s statistic\n",
    "\n",
    "![image.png](attachment:316c7ce7-9fb5-44ca-8f55-bc761172445d.png)\n",
    "\n",
    "The null hypothesis (H₀) in McNemar’s test is marginal homogeneity, i.e., two marginal probabilities for each outcome are the same (R₁ Total = C₁ Total and similarly R₂ Total = C₂ Total), if we expand the equation → A + B = A + C → B = C[1]\n",
    "\n",
    "The test statistic has an approximately χ2 distribution with 1 degree of freedom:\n",
    "\n",
    "![image.png](attachment:293fcb36-8dc7-47aa-b643-c47925084aa5.png)\n"
   ]
  },
  {
   "cell_type": "code",
   "execution_count": null,
   "metadata": {
    "execution": {
     "iopub.execute_input": "2024-08-17T08:13:32.125482Z",
     "iopub.status.busy": "2024-08-17T08:13:32.124509Z",
     "iopub.status.idle": "2024-08-17T08:13:32.127727Z",
     "shell.execute_reply": "2024-08-17T08:13:32.127173Z",
     "shell.execute_reply.started": "2022-07-02T15:27:18.827858Z"
    },
    "id": "CpWwR5duDbHm",
    "papermill": {
     "duration": 0.133953,
     "end_time": "2024-08-17T08:13:32.127860",
     "exception": false,
     "start_time": "2024-08-17T08:13:31.993907",
     "status": "completed"
    },
    "tags": []
   },
   "outputs": [],
   "source": [
    "# Reference :- https://towardsdatascience.com/mcnemars-test-with-python-e1bab328d15c"
   ]
  },
  {
   "cell_type": "code",
   "execution_count": null,
   "metadata": {
    "execution": {
     "iopub.execute_input": "2024-08-17T08:13:32.383865Z",
     "iopub.status.busy": "2024-08-17T08:13:32.382759Z",
     "iopub.status.idle": "2024-08-17T08:13:32.398854Z",
     "shell.execute_reply": "2024-08-17T08:13:32.398159Z",
     "shell.execute_reply.started": "2022-07-02T15:27:54.418713Z"
    },
    "id": "xjrR10seDbHm",
    "outputId": "65cba44c-0981-4365-b5c8-ce6cab30f3b4",
    "papermill": {
     "duration": 0.146425,
     "end_time": "2024-08-17T08:13:32.398991",
     "exception": false,
     "start_time": "2024-08-17T08:13:32.252566",
     "status": "completed"
    },
    "tags": []
   },
   "outputs": [
    {
     "data": {
      "text/html": [
       "<div>\n",
       "<style scoped>\n",
       "    .dataframe tbody tr th:only-of-type {\n",
       "        vertical-align: middle;\n",
       "    }\n",
       "\n",
       "    .dataframe tbody tr th {\n",
       "        vertical-align: top;\n",
       "    }\n",
       "\n",
       "    .dataframe thead th {\n",
       "        text-align: right;\n",
       "    }\n",
       "</style>\n",
       "<table border=\"1\" class=\"dataframe\">\n",
       "  <thead>\n",
       "    <tr style=\"text-align: right;\">\n",
       "      <th></th>\n",
       "      <th>Before Ad Screening</th>\n",
       "      <th>After Ad Screening</th>\n",
       "    </tr>\n",
       "  </thead>\n",
       "  <tbody>\n",
       "    <tr>\n",
       "      <th>0</th>\n",
       "      <td>Toyota</td>\n",
       "      <td>Toyota</td>\n",
       "    </tr>\n",
       "    <tr>\n",
       "      <th>1</th>\n",
       "      <td>Toyota</td>\n",
       "      <td>Toyota</td>\n",
       "    </tr>\n",
       "    <tr>\n",
       "      <th>2</th>\n",
       "      <td>Toyota</td>\n",
       "      <td>Toyota</td>\n",
       "    </tr>\n",
       "    <tr>\n",
       "      <th>3</th>\n",
       "      <td>Toyota</td>\n",
       "      <td>Toyota</td>\n",
       "    </tr>\n",
       "    <tr>\n",
       "      <th>4</th>\n",
       "      <td>Toyota</td>\n",
       "      <td>Toyota</td>\n",
       "    </tr>\n",
       "    <tr>\n",
       "      <th>...</th>\n",
       "      <td>...</td>\n",
       "      <td>...</td>\n",
       "    </tr>\n",
       "    <tr>\n",
       "      <th>95</th>\n",
       "      <td>Mitsubishi</td>\n",
       "      <td>Mitsubishi</td>\n",
       "    </tr>\n",
       "    <tr>\n",
       "      <th>96</th>\n",
       "      <td>Mitsubishi</td>\n",
       "      <td>Mitsubishi</td>\n",
       "    </tr>\n",
       "    <tr>\n",
       "      <th>97</th>\n",
       "      <td>Mitsubishi</td>\n",
       "      <td>Mitsubishi</td>\n",
       "    </tr>\n",
       "    <tr>\n",
       "      <th>98</th>\n",
       "      <td>Mitsubishi</td>\n",
       "      <td>Mitsubishi</td>\n",
       "    </tr>\n",
       "    <tr>\n",
       "      <th>99</th>\n",
       "      <td>Mitsubishi</td>\n",
       "      <td>Mitsubishi</td>\n",
       "    </tr>\n",
       "  </tbody>\n",
       "</table>\n",
       "<p>100 rows × 2 columns</p>\n",
       "</div>"
      ],
      "text/plain": [
       "   Before Ad Screening After Ad Screening\n",
       "0               Toyota             Toyota\n",
       "1               Toyota             Toyota\n",
       "2               Toyota             Toyota\n",
       "3               Toyota             Toyota\n",
       "4               Toyota             Toyota\n",
       "..                 ...                ...\n",
       "95          Mitsubishi         Mitsubishi\n",
       "96          Mitsubishi         Mitsubishi\n",
       "97          Mitsubishi         Mitsubishi\n",
       "98          Mitsubishi         Mitsubishi\n",
       "99          Mitsubishi         Mitsubishi\n",
       "\n",
       "[100 rows x 2 columns]"
      ]
     },
     "execution_count": 68,
     "metadata": {},
     "output_type": "execute_result"
    }
   ],
   "source": [
    "# create sample data according to survey\n",
    "data = [['Toyota', 'Toyota'] for i in range(55)] + \\\n",
    "       [['Toyota', 'Mitsubishi'] for i in range(5)] + \\\n",
    "       [['Mitsubishi', 'Toyota'] for i in range(15)] + \\\n",
    "       [['Mitsubishi', 'Mitsubishi'] for i in range(25)]\n",
    "df = pd.DataFrame(data, columns = ['Before Ad Screening', 'After Ad Screening'])\n",
    "df"
   ]
  },
  {
   "cell_type": "code",
   "execution_count": null,
   "metadata": {
    "execution": {
     "iopub.execute_input": "2024-08-17T08:13:32.670051Z",
     "iopub.status.busy": "2024-08-17T08:13:32.669303Z",
     "iopub.status.idle": "2024-08-17T08:13:32.708262Z",
     "shell.execute_reply": "2024-08-17T08:13:32.708820Z",
     "shell.execute_reply.started": "2022-07-02T15:28:24.454376Z"
    },
    "id": "KzpOge1cDbHn",
    "outputId": "32154602-08ed-4522-fd28-63d304ce61f5",
    "papermill": {
     "duration": 0.185306,
     "end_time": "2024-08-17T08:13:32.709000",
     "exception": false,
     "start_time": "2024-08-17T08:13:32.523694",
     "status": "completed"
    },
    "tags": []
   },
   "outputs": [
    {
     "data": {
      "text/html": [
       "<div>\n",
       "<style scoped>\n",
       "    .dataframe tbody tr th:only-of-type {\n",
       "        vertical-align: middle;\n",
       "    }\n",
       "\n",
       "    .dataframe tbody tr th {\n",
       "        vertical-align: top;\n",
       "    }\n",
       "\n",
       "    .dataframe thead th {\n",
       "        text-align: right;\n",
       "    }\n",
       "</style>\n",
       "<table border=\"1\" class=\"dataframe\">\n",
       "  <thead>\n",
       "    <tr style=\"text-align: right;\">\n",
       "      <th>After Ad Screening</th>\n",
       "      <th>Mitsubishi</th>\n",
       "      <th>Toyota</th>\n",
       "      <th>Total</th>\n",
       "    </tr>\n",
       "    <tr>\n",
       "      <th>Before Ad Screening</th>\n",
       "      <th></th>\n",
       "      <th></th>\n",
       "      <th></th>\n",
       "    </tr>\n",
       "  </thead>\n",
       "  <tbody>\n",
       "    <tr>\n",
       "      <th>Mitsubishi</th>\n",
       "      <td>25</td>\n",
       "      <td>15</td>\n",
       "      <td>40</td>\n",
       "    </tr>\n",
       "    <tr>\n",
       "      <th>Toyota</th>\n",
       "      <td>5</td>\n",
       "      <td>55</td>\n",
       "      <td>60</td>\n",
       "    </tr>\n",
       "    <tr>\n",
       "      <th>Total</th>\n",
       "      <td>30</td>\n",
       "      <td>70</td>\n",
       "      <td>100</td>\n",
       "    </tr>\n",
       "  </tbody>\n",
       "</table>\n",
       "</div>"
      ],
      "text/plain": [
       "After Ad Screening   Mitsubishi  Toyota  Total\n",
       "Before Ad Screening                           \n",
       "Mitsubishi                   25      15     40\n",
       "Toyota                        5      55     60\n",
       "Total                        30      70    100"
      ]
     },
     "execution_count": 69,
     "metadata": {},
     "output_type": "execute_result"
    }
   ],
   "source": [
    "# create contingency table\n",
    "data_crosstab = pd.crosstab(df['Before Ad Screening'],\n",
    "                            df['After Ad Screening'],\n",
    "                            margins=True, margins_name=\"Total\")\n",
    "data_crosstab"
   ]
  },
  {
   "cell_type": "code",
   "execution_count": null,
   "metadata": {
    "execution": {
     "iopub.execute_input": "2024-08-17T08:13:32.970079Z",
     "iopub.status.busy": "2024-08-17T08:13:32.968848Z",
     "iopub.status.idle": "2024-08-17T08:13:32.971332Z",
     "shell.execute_reply": "2024-08-17T08:13:32.971893Z",
     "shell.execute_reply.started": "2022-07-02T15:28:50.694669Z"
    },
    "id": "VIZwJip4DbHn",
    "papermill": {
     "duration": 0.136299,
     "end_time": "2024-08-17T08:13:32.972062",
     "exception": false,
     "start_time": "2024-08-17T08:13:32.835763",
     "status": "completed"
    },
    "tags": []
   },
   "outputs": [],
   "source": [
    "# significance level\n",
    "alpha = 0.01\n",
    "\n",
    "# Calcualtion of McNemar's statistic\n",
    "rows = df['Before Ad Screening'].unique()\n",
    "columns = df['After Ad Screening'].unique()\n",
    "mcnemar = (abs(data_crosstab['Toyota']['Mitsubishi'] - data_crosstab['Mitsubishi']['Toyota']) - 1)**2 / (data_crosstab['Toyota']['Mitsubishi'] + data_crosstab['Mitsubishi']['Toyota'])"
   ]
  },
  {
   "cell_type": "code",
   "execution_count": null,
   "metadata": {
    "execution": {
     "iopub.execute_input": "2024-08-17T08:13:33.229638Z",
     "iopub.status.busy": "2024-08-17T08:13:33.228489Z",
     "iopub.status.idle": "2024-08-17T08:13:33.233041Z",
     "shell.execute_reply": "2024-08-17T08:13:33.232167Z",
     "shell.execute_reply.started": "2022-07-02T15:29:16.372023Z"
    },
    "id": "Uh9igpBPDbHn",
    "outputId": "0c20a3e7-7811-4c31-85d3-6e985400bc18",
    "papermill": {
     "duration": 0.137819,
     "end_time": "2024-08-17T08:13:33.233216",
     "exception": false,
     "start_time": "2024-08-17T08:13:33.095397",
     "status": "completed"
    },
    "tags": []
   },
   "outputs": [
    {
     "name": "stdout",
     "output_type": "stream",
     "text": [
      "Approach 1: The p-value approach to hypothesis testing in the decision rule\n",
      "McNemar's statistic is: 4.05  and p value is: 0.044171344908442656\n",
      "Failed to reject the null hypothesis.\n"
     ]
    }
   ],
   "source": [
    "# The p-value approach\n",
    "print(\"Approach 1: The p-value approach to hypothesis testing in the decision rule\")\n",
    "p_value = 1 - stats.chi2.cdf(mcnemar, (len(rows)-1)*(len(columns)-1))\n",
    "conclusion = \"Failed to reject the null hypothesis.\"\n",
    "if p_value <= alpha:\n",
    "    conclusion = \"Null Hypothesis is rejected.\"\n",
    "\n",
    "print(\"McNemar's statistic is:\", mcnemar, \" and p value is:\", p_value)\n",
    "print(conclusion)"
   ]
  },
  {
   "cell_type": "code",
   "execution_count": null,
   "metadata": {
    "execution": {
     "iopub.execute_input": "2024-08-17T08:13:33.490582Z",
     "iopub.status.busy": "2024-08-17T08:13:33.489801Z",
     "iopub.status.idle": "2024-08-17T08:13:33.492757Z",
     "shell.execute_reply": "2024-08-17T08:13:33.493314Z",
     "shell.execute_reply.started": "2022-07-02T15:29:35.375919Z"
    },
    "id": "DP_yEebPDbHn",
    "outputId": "e12434df-6585-4467-8e47-42d4e8080670",
    "papermill": {
     "duration": 0.137058,
     "end_time": "2024-08-17T08:13:33.493481",
     "exception": false,
     "start_time": "2024-08-17T08:13:33.356423",
     "status": "completed"
    },
    "tags": []
   },
   "outputs": [
    {
     "name": "stdout",
     "output_type": "stream",
     "text": [
      "\n",
      "--------------------------------------------------------------------------------------\n",
      "Approach 2: The critical value approach to hypothesis testing in the decision rule\n",
      "McNemar's statistic is: 4.05  and critical value is: 6.6348966010212145\n",
      "Failed to reject the null hypothesis.\n"
     ]
    }
   ],
   "source": [
    "# The critical value approach\n",
    "print(\"\\n--------------------------------------------------------------------------------------\")\n",
    "print(\"Approach 2: The critical value approach to hypothesis testing in the decision rule\")\n",
    "critical_value = stats.chi2.ppf(1-alpha, (len(rows)-1)*(len(columns)-1))\n",
    "conclusion = \"Failed to reject the null hypothesis.\"\n",
    "if mcnemar > critical_value:\n",
    "    conclusion = \"Null Hypothesis is rejected.\"\n",
    "\n",
    "print(\"McNemar's statistic is:\", mcnemar, \" and critical value is:\", critical_value)\n",
    "print(conclusion)"
   ]
  },
  {
   "cell_type": "code",
   "execution_count": null,
   "metadata": {
    "execution": {
     "iopub.execute_input": "2024-08-17T08:13:33.761374Z",
     "iopub.status.busy": "2024-08-17T08:13:33.760477Z",
     "iopub.status.idle": "2024-08-17T08:13:33.808773Z",
     "shell.execute_reply": "2024-08-17T08:13:33.809383Z",
     "shell.execute_reply.started": "2022-07-02T15:31:17.807205Z"
    },
    "id": "vCx2x9TqDbHn",
    "outputId": "050995b3-c66a-40a0-a72b-d49c0ff9fd71",
    "papermill": {
     "duration": 0.191036,
     "end_time": "2024-08-17T08:13:33.809555",
     "exception": false,
     "start_time": "2024-08-17T08:13:33.618519",
     "status": "completed"
    },
    "tags": []
   },
   "outputs": [
    {
     "name": "stdout",
     "output_type": "stream",
     "text": [
      "Approach 1: The p-value approach to hypothesis testing in the decision rule\n",
      "McNemar's statistic is: 8.445945945945946  and p value is: 0.003658580873555639\n",
      "Null Hypothesis is rejected.\n",
      "\n",
      "--------------------------------------------------------------------------------------\n",
      "Approach 2: The critical value approach to hypothesis testing in the decision rule\n",
      "McNemar's statistic is: 8.445945945945946  and critical value is: 6.6348966010212145\n",
      "Null Hypothesis is rejected.\n"
     ]
    }
   ],
   "source": [
    "# McNemar’s Test on matched pair case-control data\n",
    "\n",
    "# create sample data according to survey\n",
    "data = [['Yes', 'Yes'] for i in range(71)] + \\\n",
    "       [['Yes', 'No'] for i in range(50)] + \\\n",
    "       [['No', 'Yes'] for i in range(24)] + \\\n",
    "       [['No', 'No'] for i in range(55)]\n",
    "df = pd.DataFrame(data, columns = ['Treatment B', 'Treatment A'])\n",
    "df.columns = pd.MultiIndex.from_product([['any_emergency_room_visit'], df.columns])\n",
    "\n",
    "# create contingency table\n",
    "data_crosstab = pd.crosstab(df['any_emergency_room_visit']['Treatment B'],\n",
    "                            df['any_emergency_room_visit']['Treatment A'],\n",
    "                            margins=True, margins_name=\"Total\")\n",
    "data_crosstab.columns = pd.MultiIndex.from_product([['any_emergency_room_visit'], data_crosstab.columns])\n",
    "\n",
    "# significance level\n",
    "alpha = 0.01\n",
    "\n",
    "# Calcualtion of McNemar's statistic\n",
    "rows = df['any_emergency_room_visit']['Treatment B'].unique()\n",
    "columns = df['any_emergency_room_visit']['Treatment A'].unique()\n",
    "mcnemar = (abs(data_crosstab['any_emergency_room_visit']['Yes']['No'] - data_crosstab['any_emergency_room_visit']['No']['Yes']) - 1)**2 / (data_crosstab['any_emergency_room_visit']['Yes']['No'] + data_crosstab['any_emergency_room_visit']['No']['Yes'])\n",
    "\n",
    "# The p-value approach\n",
    "print(\"Approach 1: The p-value approach to hypothesis testing in the decision rule\")\n",
    "p_value = 1 - stats.chi2.cdf(mcnemar, (len(rows)-1)*(len(columns)-1))\n",
    "conclusion = \"Failed to reject the null hypothesis.\"\n",
    "if p_value <= alpha:\n",
    "    conclusion = \"Null Hypothesis is rejected.\"\n",
    "\n",
    "print(\"McNemar's statistic is:\", mcnemar, \" and p value is:\", p_value)\n",
    "print(conclusion)\n",
    "\n",
    "# The critical value approach\n",
    "print(\"\\n--------------------------------------------------------------------------------------\")\n",
    "print(\"Approach 2: The critical value approach to hypothesis testing in the decision rule\")\n",
    "critical_value = stats.chi2.ppf(1-alpha, (len(rows)-1)*(len(columns)-1))\n",
    "conclusion = \"Failed to reject the null hypothesis.\"\n",
    "if mcnemar > critical_value:\n",
    "    conclusion = \"Null Hypothesis is rejected.\"\n",
    "\n",
    "print(\"McNemar's statistic is:\", mcnemar, \" and critical value is:\", critical_value)\n",
    "print(conclusion)\n"
   ]
  },
  {
   "cell_type": "markdown",
   "metadata": {
    "id": "bUh3ACcZDbHn",
    "papermill": {
     "duration": 0.166307,
     "end_time": "2024-08-17T08:13:34.100808",
     "exception": false,
     "start_time": "2024-08-17T08:13:33.934501",
     "status": "completed"
    },
    "tags": []
   },
   "source": [
    "## 12.4 Cochran Q Test  <a class=\"anchor\" id=\"12.4\"></a>\n",
    "​\n",
    "[**Table of Contents**](#0.1)\n",
    "\n",
    "Cochran’s Q test is a statistical test that is used to determine whether the proportion of “successes” is equal across three or more groups in which the same individuals appear in each group.For example, we may use Cochran’s Q test to determine if the proportion of students who pass a test is equal when using three different studying techniques.\n",
    "\n",
    "\n",
    "\n"
   ]
  },
  {
   "cell_type": "code",
   "execution_count": null,
   "metadata": {
    "execution": {
     "iopub.execute_input": "2024-08-17T08:13:34.359801Z",
     "iopub.status.busy": "2024-08-17T08:13:34.358889Z",
     "iopub.status.idle": "2024-08-17T08:13:34.524286Z",
     "shell.execute_reply": "2024-08-17T08:13:34.523627Z",
     "shell.execute_reply.started": "2022-07-02T15:39:06.134018Z"
    },
    "id": "7l8gGBNrDbHn",
    "papermill": {
     "duration": 0.298463,
     "end_time": "2024-08-17T08:13:34.524432",
     "exception": false,
     "start_time": "2024-08-17T08:13:34.225969",
     "status": "completed"
    },
    "tags": []
   },
   "outputs": [],
   "source": [
    "from mlxtend.evaluate import cochrans_q\n",
    "from mlxtend.evaluate import mcnemar_table\n",
    "from mlxtend.evaluate import mcnemar"
   ]
  },
  {
   "cell_type": "code",
   "execution_count": null,
   "metadata": {
    "execution": {
     "iopub.execute_input": "2024-08-17T08:13:34.801642Z",
     "iopub.status.busy": "2024-08-17T08:13:34.800575Z",
     "iopub.status.idle": "2024-08-17T08:13:34.803714Z",
     "shell.execute_reply": "2024-08-17T08:13:34.803104Z",
     "shell.execute_reply.started": "2022-07-02T15:39:29.238046Z"
    },
    "id": "hf7nB7u6DbHn",
    "papermill": {
     "duration": 0.153114,
     "end_time": "2024-08-17T08:13:34.803845",
     "exception": false,
     "start_time": "2024-08-17T08:13:34.650731",
     "status": "completed"
    },
    "tags": []
   },
   "outputs": [],
   "source": [
    "#Ref:- http://rasbt.github.io/mlxtend/user_guide/evaluate/cochrans_q/\n",
    "## Dataset:\n",
    "\n",
    "# ground truth labels of the test dataset:\n",
    "\n",
    "y_true = np.array([0, 0, 0, 0, 0, 0, 0, 0, 0, 0, 0, 0, 0, 0, 0, 0, 0, 0, 0,\n",
    "                   0, 0, 0, 0, 0, 0, 0, 0, 0, 0, 0, 0, 0, 0, 0, 0, 0, 0, 0,\n",
    "                   0, 0, 0, 0, 0, 0, 0, 0, 0, 0, 0, 0, 0, 0, 0, 0, 0, 0, 0,\n",
    "                   0, 0, 0, 0, 0, 0, 0, 0, 0, 0, 0, 0, 0, 0, 0, 0, 0, 0, 0,\n",
    "                   0, 0, 0, 0, 0, 0, 0, 0, 0, 0, 0, 0, 0, 0, 0, 0, 0, 0, 0,\n",
    "                   0, 0, 0, 0, 0])\n",
    "\n",
    "\n",
    "# predictions by 3 classifiers (`y_model_1`, `y_model_2`, and `y_model_3`):\n",
    "\n",
    "y_model_1 = np.array([1, 1, 1, 1, 1, 1, 1, 1, 1, 1, 1, 1, 1, 1, 1, 1, 0, 0, 0, 0,\n",
    "                      0, 0, 0, 0, 0, 0, 0, 0, 0, 0, 0, 0, 0, 0, 0, 0, 0, 0, 0, 0,\n",
    "                      0, 0, 0, 0, 0, 0, 0, 0, 0, 0, 0, 0, 0, 0, 0, 0, 0, 0, 0, 0,\n",
    "                      0, 0, 0, 0, 0, 0, 0, 0, 0, 0, 0, 0, 0, 0, 0, 0, 0, 0, 0, 0,\n",
    "                      0, 0, 0, 0, 0, 0, 0, 0, 0, 0, 0, 0, 0, 0, 0, 0, 0, 0,\n",
    "                      0, 0])\n",
    "\n",
    "y_model_2 = np.array([1, 1, 1, 1, 1, 1, 0, 0, 0, 0, 0, 0, 0, 0, 0, 0, 0, 0, 0, 0,\n",
    "                      1, 1, 0, 0, 0, 0, 0, 0, 0, 0, 0, 0, 0, 0, 0, 0, 0, 0, 0, 0,\n",
    "                      0, 0, 0, 0, 0, 0, 0, 0, 0, 0, 0, 0, 0, 0, 0, 0, 0, 0, 0, 0,\n",
    "                      0, 0, 0, 0, 0, 0, 0, 0, 0, 0, 0, 0, 0, 0, 0, 0, 0, 0, 0, 0,\n",
    "                      0, 0, 0, 0, 0, 0, 0, 0, 0, 0, 0, 0, 0, 0, 0, 0, 0, 0,\n",
    "                      0, 0])\n",
    "\n",
    "y_model_3 = np.array([1, 1, 1, 0, 0, 0, 1, 0, 0, 0, 0, 0, 0, 0, 0, 0, 0, 0, 0, 0,\n",
    "                      1, 1, 0, 0, 0, 0, 0, 0, 0, 0, 0, 0, 0, 0, 0, 0, 0, 0, 0, 0,\n",
    "                      0, 0, 0, 0, 0, 0, 0, 0, 0, 0, 0, 0, 0, 0, 0, 0, 0, 0, 0, 0,\n",
    "                      0, 0, 0, 0, 0, 0, 0, 0, 0, 0, 0, 0, 0, 0, 0, 0, 0, 0, 0, 0,\n",
    "                      0, 0, 0, 0, 0, 0, 0, 0, 0, 0, 0, 0, 0, 0, 0, 0, 0, 0,\n",
    "                      1, 1])"
   ]
  },
  {
   "cell_type": "code",
   "execution_count": null,
   "metadata": {
    "execution": {
     "iopub.execute_input": "2024-08-17T08:13:35.063586Z",
     "iopub.status.busy": "2024-08-17T08:13:35.062426Z",
     "iopub.status.idle": "2024-08-17T08:13:35.066038Z",
     "shell.execute_reply": "2024-08-17T08:13:35.066616Z",
     "shell.execute_reply.started": "2022-07-02T15:40:56.7863Z"
    },
    "id": "iBUfzuYPDbHn",
    "outputId": "43ce0611-d2f5-4833-ba4a-252992ede83c",
    "papermill": {
     "duration": 0.137469,
     "end_time": "2024-08-17T08:13:35.066795",
     "exception": false,
     "start_time": "2024-08-17T08:13:34.929326",
     "status": "completed"
    },
    "tags": []
   },
   "outputs": [
    {
     "name": "stdout",
     "output_type": "stream",
     "text": [
      "Q: 7.529\n",
      "p-value: 0.023\n"
     ]
    }
   ],
   "source": [
    "q, p_value = cochrans_q(y_true,\n",
    "                        y_model_1,\n",
    "                        y_model_2,\n",
    "                        y_model_3)\n",
    "\n",
    "print('Q: %.3f' % q)\n",
    "print('p-value: %.3f' % p_value)"
   ]
  },
  {
   "cell_type": "markdown",
   "metadata": {
    "id": "QfFk2U65DbHn",
    "papermill": {
     "duration": 0.129651,
     "end_time": "2024-08-17T08:13:35.323260",
     "exception": false,
     "start_time": "2024-08-17T08:13:35.193609",
     "status": "completed"
    },
    "tags": []
   },
   "source": [
    "Since the p-value is smaller than α, we can reject the null hypothesis and conclude that there is a difference between the classification accuracies.Lastly, let's illustrate that Cochran's Q test is indeed just a generalized version of McNemar's test:"
   ]
  },
  {
   "cell_type": "code",
   "execution_count": null,
   "metadata": {
    "execution": {
     "iopub.execute_input": "2024-08-17T08:13:35.585856Z",
     "iopub.status.busy": "2024-08-17T08:13:35.584799Z",
     "iopub.status.idle": "2024-08-17T08:13:35.588245Z",
     "shell.execute_reply": "2024-08-17T08:13:35.588772Z",
     "shell.execute_reply.started": "2022-07-02T15:42:27.218404Z"
    },
    "id": "kADaLZbMDbHn",
    "outputId": "3395a41e-e3bb-45a4-dd4c-b84bc7284787",
    "papermill": {
     "duration": 0.137578,
     "end_time": "2024-08-17T08:13:35.588932",
     "exception": false,
     "start_time": "2024-08-17T08:13:35.451354",
     "status": "completed"
    },
    "tags": []
   },
   "outputs": [
    {
     "name": "stdout",
     "output_type": "stream",
     "text": [
      "Cochran's Q Chi^2: 5.333\n",
      "Cochran's Q p-value: 0.021\n"
     ]
    }
   ],
   "source": [
    "chi2, p_value = cochrans_q(y_true,\n",
    "                           y_model_1,\n",
    "                           y_model_2)\n",
    "\n",
    "print('Cochran\\'s Q Chi^2: %.3f' % chi2)\n",
    "print('Cochran\\'s Q p-value: %.3f' % p_value)"
   ]
  },
  {
   "cell_type": "code",
   "execution_count": null,
   "metadata": {
    "execution": {
     "iopub.execute_input": "2024-08-17T08:13:35.852041Z",
     "iopub.status.busy": "2024-08-17T08:13:35.851292Z",
     "iopub.status.idle": "2024-08-17T08:13:35.854532Z",
     "shell.execute_reply": "2024-08-17T08:13:35.855017Z",
     "shell.execute_reply.started": "2022-07-02T15:42:49.115368Z"
    },
    "id": "W2_5ZymZDbHn",
    "outputId": "33142404-ca82-4ec4-bc15-06a87f6c7407",
    "papermill": {
     "duration": 0.139524,
     "end_time": "2024-08-17T08:13:35.855225",
     "exception": false,
     "start_time": "2024-08-17T08:13:35.715701",
     "status": "completed"
    },
    "tags": []
   },
   "outputs": [
    {
     "name": "stdout",
     "output_type": "stream",
     "text": [
      "McNemar's Chi^2: 5.333\n",
      "McNemar's p-value: 0.021\n"
     ]
    }
   ],
   "source": [
    "chi2, p_value = mcnemar(mcnemar_table(y_true,\n",
    "                                      y_model_1,\n",
    "                                      y_model_2),\n",
    "                        corrected=False)\n",
    "\n",
    "print('McNemar\\'s Chi^2: %.3f' % chi2)\n",
    "print('McNemar\\'s p-value: %.3f' % p_value)"
   ]
  }
 ],
 "metadata": {
  "colab": {
   "provenance": []
  },
  "kaggle": {
   "accelerator": "none",
   "dataSources": [
    {
     "datasetId": 228,
     "sourceId": 482,
     "sourceType": "datasetVersion"
    },
    {
     "datasetId": 13720,
     "sourceId": 18513,
     "sourceType": "datasetVersion"
    }
   ],
   "dockerImageVersionId": 30019,
   "isGpuEnabled": false,
   "isInternetEnabled": true,
   "language": "python",
   "sourceType": "notebook"
  },
  "kernelspec": {
   "display_name": "Python 3 (ipykernel)",
   "language": "python",
   "name": "python3"
  },
  "language_info": {
   "codemirror_mode": {
    "name": "ipython",
    "version": 3
   },
   "file_extension": ".py",
   "mimetype": "text/x-python",
   "name": "python",
   "nbconvert_exporter": "python",
   "pygments_lexer": "ipython3",
   "version": "3.12.3"
  },
  "papermill": {
   "duration": 46.192796,
   "end_time": "2024-08-17T08:13:36.339644",
   "environment_variables": {},
   "exception": null,
   "input_path": "__notebook__.ipynb",
   "output_path": "__notebook__.ipynb",
   "parameters": {},
   "start_time": "2024-08-17T08:12:50.146848",
   "version": "2.1.0"
  }
 },
 "nbformat": 4,
 "nbformat_minor": 4
}
