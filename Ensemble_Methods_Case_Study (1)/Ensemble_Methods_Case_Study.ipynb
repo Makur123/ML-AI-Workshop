{
 "cells": [
  {
   "cell_type": "markdown",
   "metadata": {},
   "source": [
    "# <font color='Blue'>Machine Learning - Ensemble Methods - Classification - Case Study</font>"
   ]
  },
  {
   "cell_type": "markdown",
   "metadata": {},
   "source": [
    "All models discussed so fare predict the value of the outcome variable based on a single model. Ensemble methods, on the \n",
    "other hand, are learning algorithms that take a set of estimators or classifiers (models) and classify new data points using\n",
    "strategy such as majority vote. The majority voting could be based on couning simply the vote for each class or could be \n",
    "weighted based on their individual accuracy measures. Ensemble methods can also be used for regression, where the prediction     of new data is simple average or weighted average of all the predictions from the set of regression models.There are two \n",
    "types of ensemble methods\n",
    "  \n",
    "### <font color='Blue'>Bagging</font>\n",
    "\n",
    "Bagging is a colloquial term for bootstrap aggregation. Bootstrap aggregation is a method that allows us to decrease the \n",
    "variance of an estimate by averaging multiple estimates that are measured from random subsamples of a population. It may  \n",
    "also involve feature bagging. \n",
    "  \n",
    "### <font color='Blue'>Boosting</font>\n",
    "\n",
    "In machine learning, boosting is an ensemble meta-algorithm for primarily reducing bias, and also variance in supervised \n",
    "learning, and a family of machine learning algorithms that convert weak learners to strong ones. Boosting is based on the \n",
    "question posed by Kearns and Valiant (1988, 1989): \"Can a set of weak learners create a single strong learner?\" A weak \n",
    "learner is defined to be a classifier that is only slightly correlated with the true classification (it can label examples \n",
    "better than random guessing). In contrast, a strong learner is a classifier that is arbitrarily well-correlated with the \n",
    "true classification. \n",
    "\n",
    "### <font color='Blue'>Random Forest</font>\n",
    "Random forest is one of the most popular ensemble techniques used in the industry due to its performance and scalability. A \n",
    "random forest is an ensemble of decision trees, where each tree is built from a bootstrapped sample and randomly selected set \n",
    "of features (feature bagging). The hyperparameters in a Random forest are\n",
    "  \n",
    "  1. Number of decision trees\n",
    "  2. Number of records and features to be sampled\n",
    "  3. Depth and search criteria# "
   ]
  },
  {
   "cell_type": "markdown",
   "metadata": {},
   "source": [
    "We implement the following Ensemble techniques in this code\n",
    "  \n",
    "      Random Forest\n",
    "      Adaptive Boosting\n",
    "      Gradient Boosting\n",
    "      Stochastic Gradient Boosting"
   ]
  },
  {
   "cell_type": "markdown",
   "metadata": {},
   "source": [
    "## <font color='Blue'>Importing Libraries</font>"
   ]
  },
  {
   "cell_type": "code",
   "execution_count": 46,
   "metadata": {},
   "outputs": [],
   "source": [
    "import warnings\n",
    "warnings.filterwarnings('ignore')\n",
    "import pandas as pd\n",
    "import numpy as np\n",
    "\n",
    "import matplotlib.pyplot as plt\n",
    "import seaborn as sn\n",
    "%matplotlib inline\n",
    "from sklearn import metrics\n",
    "\n",
    "from sklearn.model_selection import train_test_split\n",
    "\n",
    "## Importing Random Forest Classifier from the sklearn.ensemble\n",
    "from sklearn.ensemble import RandomForestClassifier"
   ]
  },
  {
   "cell_type": "markdown",
   "metadata": {},
   "source": [
    "## <font color='Blue'>ROC Function</font>"
   ]
  },
  {
   "cell_type": "code",
   "execution_count": 47,
   "metadata": {},
   "outputs": [],
   "source": [
    "# RoC Curve\n",
    "\n",
    "# RoC Curve can be used to understand the overall performance of a logistic regression model and used for model selection\n",
    "# RoC Curve is a plot between False positive rate [FP / (TN + FP)] and True positive rate [TP / (TP+FN)]\n",
    "# Higher the AUC, better the model\n",
    "# AUC < 0.5 model is inferior to a case of having no model\n",
    "# AUC > 0.7 model is useful\n",
    "\n",
    "def draw_roc( actual, probs ):\n",
    "    fpr, \\\n",
    "    tpr, \\\n",
    "    thresholds = metrics.roc_curve( actual,\n",
    "    probs,\n",
    "    drop_intermediate = False )\n",
    "    auc_score = metrics.roc_auc_score( actual, probs )\n",
    "    plt.figure(figsize=(8, 6))\n",
    "    plt.plot( fpr, tpr, label='ROC curve (area = %0.2f)' % auc_score )\n",
    "    plt.plot([0, 1], [0, 1], 'k--')\n",
    "    plt.xlim([0.0, 1.0])\n",
    "    plt.ylim([0.0, 1.05])\n",
    "    plt.xlabel('False Positive Rate or [1 - True Negative Rate]')\n",
    "    plt.ylabel('True Positive Rate')\n",
    "    plt.legend(loc=\"lower right\")\n",
    "    plt.show()\n",
    "    return fpr, tpr, thresholds\n",
    "\n",
    "#fpr, tpr, thresholds = draw_roc( y_pred_df.actual, y_pred_df.predicted_prob)\n",
    "#auc_score = metrics.roc_auc_score( y_pred_df.actual, y_pred_df.predicted_prob )"
   ]
  },
  {
   "cell_type": "markdown",
   "metadata": {},
   "source": [
    "# <font color='Blue'>Micro-Mortgage Analysis</font>\n",
    "\n",
    "Business wants to manage its \n",
    "\n",
    "    (a) risk in micro-mortgage loans\n",
    "    (b) to lower the cost of micro-mortgage loans\n",
    "    (c) adopt differential pricing for loans\n",
    "  \n",
    "In order to achieve its objectives, business needs to accurately predict whether a prospective borrower should be given a loan or not. Business has historical data which it can use for this purpose. The data contains the demographic, economic and social characteristics of borrowers along with loan repayment status (repaid or defaulted). Using SVM, we can build models that use the characteristics of prospective borrowers and obtain the probability of they repaying the loan.\n"
   ]
  },
  {
   "cell_type": "markdown",
   "metadata": {},
   "source": [
    "## <font color='Blue'>Micro-Mortgage Data</font>"
   ]
  },
  {
   "cell_type": "raw",
   "metadata": {},
   "source": [
    "  DV: Decision - Loan sanctioned or not [1=Sanction, 0 = Reject]\n",
    "  IVs\n",
    "  Selfcon_Code\n",
    "  Tier_1 : \t1 - Major City, else 0\n",
    "  Tier_2 :  1 -\tMinor City, else 0\n",
    "  AccoClass : 0 - Own, 1 - Rented\n",
    "  LoanType  : 1 - Home Loan, 0 - Home Improvement Loan\n",
    "  Gender :  1 - Male, 0 - Female\n",
    "  Etype  :  1 - Self employed, 0 - Salaried\n",
    "  Doc_pf :  1 - Documentary Proof Available, else 0\n",
    "  Marstat : 1 - Married, else 0\n",
    "  Emp_Type_1 : 1 - Business, else 0\n",
    "  Emp_Type_2 : 1 - Govt, else 0\n",
    "  Emp_Type_3 : 1 - Corporate, else 0\n",
    "  Educlass_1 : 1 - UG, else 0\n",
    "  Educlass_2 : 1 - PG+, , else 0\n",
    "  Oriclass_1 : 1 - Reference, else 0\n",
    "  Oriclass_2 : 1 - Field Visit, else 0\n",
    "  eom_25     : 1 - Application received after 25th\n",
    "  OldEmi_d   : 1 - Applicant has old loans\n",
    "  BankSave_d : 1 - Applicant has bank savings account\n",
    "  Age        : Age of the applicant\n",
    "  YrsAdd     : Years at current address\n",
    "  YrsJob     : Years at current job\n",
    "  Expen      : Monthly expenses of the applicant\n",
    "  TotInc     : Monthly income of the applicant\n",
    "  DispInc    : TotInc - Expen\n",
    "  MarVal     : Market value of property for which loan is sought\n",
    "  OldEmi\t : existing emi\n",
    "  LoanReq\t : Loan sought\n",
    "  Term       : Term of loan\n",
    "  Dwnpay\t : Down payment by applicant\n",
    "  BankSave\t : Bank savings by applicant\n",
    "  CalcEmi    : EMI calculated for requested loan\n",
    "  IIR\t     : CalcEmi / TotInc\n",
    "  IAR\t     : CalcEmi / DispInc\n",
    "  FOIR\t     : (CalcEmi + OldEmi)/ TotInc \n",
    "  LTV        : LoanReq / Marval\n",
    "  LVR\t     : LoanReq / Property registered value\n",
    "  dwnp_prop\t : Dwnpay /  (Dwnpay + LoanReq)\n",
    "  mfoir_p\t : (CalcEmi + OldEmi)/ DispInc\n",
    "  dwnp_prop_p: dwnp_prop_p*100\t\n",
    "  DispInc_s  : DispInc/10000 \t\n",
    "  MarVal_s   : MarVal/100000\t\n",
    "  LoanReq_s  : LoanReq/100000\t\n",
    "  banksave_s : BankSave/10000\n",
    "  CalcEmi_s  : CalcEmi/10000\t\n",
    "  OldEmi_s\t : OldEmi/10000\n",
    "  Tier2XAccoClass : Interaction of Tier_2 and AccoClas"
   ]
  },
  {
   "cell_type": "markdown",
   "metadata": {},
   "source": [
    "### <font color='Blue'>1.0 Data Preparation</font>"
   ]
  },
  {
   "cell_type": "code",
   "execution_count": 48,
   "metadata": {},
   "outputs": [
    {
     "name": "stdout",
     "output_type": "stream",
     "text": [
      "<class 'pandas.core.frame.DataFrame'>\n",
      "RangeIndex: 2223 entries, 0 to 2222\n",
      "Data columns (total 49 columns):\n",
      " #   Column           Non-Null Count  Dtype  \n",
      "---  ------           --------------  -----  \n",
      " 0   ID               2223 non-null   object \n",
      " 1   Decision         2223 non-null   int64  \n",
      " 2   Selfcon_Code     2223 non-null   int64  \n",
      " 3   Tier_1           2223 non-null   int64  \n",
      " 4   Tier_2           2223 non-null   int64  \n",
      " 5   AccoClass        2223 non-null   int64  \n",
      " 6   LoanType         2223 non-null   int64  \n",
      " 7   Gender           2223 non-null   int64  \n",
      " 8   Etype            2223 non-null   int64  \n",
      " 9   Doc_prf          2223 non-null   int64  \n",
      " 10  Marstat          2223 non-null   int64  \n",
      " 11  Emp_Type_1       2223 non-null   int64  \n",
      " 12  Emp_Type_2       2223 non-null   int64  \n",
      " 13  Emp_Type_3       2223 non-null   int64  \n",
      " 14  Educlass_1       2223 non-null   int64  \n",
      " 15  Educlass_2       2223 non-null   int64  \n",
      " 16  Oriclass_1       2223 non-null   int64  \n",
      " 17  Oriclass_2       2223 non-null   int64  \n",
      " 18  eom_25           2223 non-null   int64  \n",
      " 19  OldEmi_d         2223 non-null   int64  \n",
      " 20  BankSave_d       2223 non-null   int64  \n",
      " 21  Age              2223 non-null   int64  \n",
      " 22  YrsAdd           2223 non-null   int64  \n",
      " 23  YrsJob           2223 non-null   int64  \n",
      " 24  Expen            2223 non-null   int64  \n",
      " 25  TotInc           2223 non-null   int64  \n",
      " 26  DispInc          2223 non-null   int64  \n",
      " 27  MarVal           2223 non-null   int64  \n",
      " 28  OldEmi           2223 non-null   int64  \n",
      " 29  LoanReq          2223 non-null   int64  \n",
      " 30  Term             2223 non-null   int64  \n",
      " 31  Dwnpay           2223 non-null   int64  \n",
      " 32  BankSave         2223 non-null   int64  \n",
      " 33  CalcEmi          2223 non-null   float64\n",
      " 34  IIR              2223 non-null   float64\n",
      " 35  IAR              2223 non-null   float64\n",
      " 36  FOIR             2223 non-null   float64\n",
      " 37  LTV              2223 non-null   float64\n",
      " 38  LVR              2223 non-null   float64\n",
      " 39  dwnp_prop        2223 non-null   float64\n",
      " 40  mfoir_p          2223 non-null   float64\n",
      " 41  dwnp_prop_p      2223 non-null   float64\n",
      " 42  DispInc_s        2223 non-null   float64\n",
      " 43  MarVal_s         2223 non-null   float64\n",
      " 44  LoanReq_s        2223 non-null   float64\n",
      " 45  banksave_s       2223 non-null   float64\n",
      " 46  CalcEmi_s        2223 non-null   float64\n",
      " 47  OldEmi_s         2223 non-null   float64\n",
      " 48  Tier2XAccoClass  2223 non-null   int64  \n",
      "dtypes: float64(15), int64(33), object(1)\n",
      "memory usage: 851.1+ KB\n"
     ]
    }
   ],
   "source": [
    "credit_df = pd.read_excel( \"cleaned.xlsx\",sheet_name='cleaned')\n",
    "credit_df.info()\n",
    "\n",
    "# Dataset contains 2223 records and 48 columns\n",
    "# There are few categorical columns which are inferred as objects"
   ]
  },
  {
   "cell_type": "markdown",
   "metadata": {},
   "source": [
    "### <font color='Blue'>1.1 Data Preparation - Categorical Variables</font>"
   ]
  },
  {
   "cell_type": "code",
   "execution_count": 49,
   "metadata": {
    "scrolled": true
   },
   "outputs": [
    {
     "data": {
      "text/html": [
       "<div>\n",
       "<style scoped>\n",
       "    .dataframe tbody tr th:only-of-type {\n",
       "        vertical-align: middle;\n",
       "    }\n",
       "\n",
       "    .dataframe tbody tr th {\n",
       "        vertical-align: top;\n",
       "    }\n",
       "\n",
       "    .dataframe thead th {\n",
       "        text-align: right;\n",
       "    }\n",
       "</style>\n",
       "<table border=\"1\" class=\"dataframe\">\n",
       "  <thead>\n",
       "    <tr style=\"text-align: right;\">\n",
       "      <th></th>\n",
       "      <th>ID</th>\n",
       "      <th>Decision</th>\n",
       "      <th>Selfcon_Code</th>\n",
       "      <th>Tier_1</th>\n",
       "      <th>Tier_2</th>\n",
       "      <th>AccoClass</th>\n",
       "      <th>LoanType</th>\n",
       "      <th>Gender</th>\n",
       "      <th>Etype</th>\n",
       "      <th>Doc_prf</th>\n",
       "      <th>Marstat</th>\n",
       "      <th>Emp_Type_1</th>\n",
       "      <th>Emp_Type_2</th>\n",
       "      <th>Emp_Type_3</th>\n",
       "    </tr>\n",
       "  </thead>\n",
       "  <tbody>\n",
       "    <tr>\n",
       "      <th>0</th>\n",
       "      <td>AJM-39R8-519413</td>\n",
       "      <td>0</td>\n",
       "      <td>1</td>\n",
       "      <td>0</td>\n",
       "      <td>0</td>\n",
       "      <td>0</td>\n",
       "      <td>1</td>\n",
       "      <td>0</td>\n",
       "      <td>1</td>\n",
       "      <td>0</td>\n",
       "      <td>1</td>\n",
       "      <td>1</td>\n",
       "      <td>0</td>\n",
       "      <td>0</td>\n",
       "    </tr>\n",
       "    <tr>\n",
       "      <th>1</th>\n",
       "      <td>AJM-3A3Z-876970</td>\n",
       "      <td>0</td>\n",
       "      <td>1</td>\n",
       "      <td>0</td>\n",
       "      <td>0</td>\n",
       "      <td>0</td>\n",
       "      <td>1</td>\n",
       "      <td>0</td>\n",
       "      <td>0</td>\n",
       "      <td>1</td>\n",
       "      <td>1</td>\n",
       "      <td>0</td>\n",
       "      <td>0</td>\n",
       "      <td>0</td>\n",
       "    </tr>\n",
       "    <tr>\n",
       "      <th>2</th>\n",
       "      <td>AJM-7427-952085</td>\n",
       "      <td>1</td>\n",
       "      <td>1</td>\n",
       "      <td>0</td>\n",
       "      <td>0</td>\n",
       "      <td>0</td>\n",
       "      <td>0</td>\n",
       "      <td>0</td>\n",
       "      <td>1</td>\n",
       "      <td>1</td>\n",
       "      <td>1</td>\n",
       "      <td>0</td>\n",
       "      <td>0</td>\n",
       "      <td>0</td>\n",
       "    </tr>\n",
       "    <tr>\n",
       "      <th>3</th>\n",
       "      <td>AJM-8ZTZ-979040</td>\n",
       "      <td>1</td>\n",
       "      <td>1</td>\n",
       "      <td>0</td>\n",
       "      <td>0</td>\n",
       "      <td>1</td>\n",
       "      <td>1</td>\n",
       "      <td>0</td>\n",
       "      <td>1</td>\n",
       "      <td>1</td>\n",
       "      <td>1</td>\n",
       "      <td>1</td>\n",
       "      <td>0</td>\n",
       "      <td>0</td>\n",
       "    </tr>\n",
       "    <tr>\n",
       "      <th>4</th>\n",
       "      <td>AJM-9SP2-614810</td>\n",
       "      <td>1</td>\n",
       "      <td>1</td>\n",
       "      <td>0</td>\n",
       "      <td>0</td>\n",
       "      <td>0</td>\n",
       "      <td>1</td>\n",
       "      <td>0</td>\n",
       "      <td>1</td>\n",
       "      <td>1</td>\n",
       "      <td>1</td>\n",
       "      <td>1</td>\n",
       "      <td>0</td>\n",
       "      <td>0</td>\n",
       "    </tr>\n",
       "  </tbody>\n",
       "</table>\n",
       "</div>"
      ],
      "text/plain": [
       "                ID  Decision  Selfcon_Code  Tier_1  Tier_2  AccoClass  \\\n",
       "0  AJM-39R8-519413         0             1       0       0          0   \n",
       "1  AJM-3A3Z-876970         0             1       0       0          0   \n",
       "2  AJM-7427-952085         1             1       0       0          0   \n",
       "3  AJM-8ZTZ-979040         1             1       0       0          1   \n",
       "4  AJM-9SP2-614810         1             1       0       0          0   \n",
       "\n",
       "   LoanType  Gender  Etype  Doc_prf  Marstat  Emp_Type_1  Emp_Type_2  \\\n",
       "0         1       0      1        0        1           1           0   \n",
       "1         1       0      0        1        1           0           0   \n",
       "2         0       0      1        1        1           0           0   \n",
       "3         1       0      1        1        1           1           0   \n",
       "4         1       0      1        1        1           1           0   \n",
       "\n",
       "   Emp_Type_3  \n",
       "0           0  \n",
       "1           0  \n",
       "2           0  \n",
       "3           0  \n",
       "4           0  "
      ]
     },
     "execution_count": 49,
     "metadata": {},
     "output_type": "execute_result"
    }
   ],
   "source": [
    "credit_df.iloc[0:5,0:14]"
   ]
  },
  {
   "cell_type": "markdown",
   "metadata": {},
   "source": [
    "### <font color='Blue'>1.2 Class Distribution</font>"
   ]
  },
  {
   "cell_type": "code",
   "execution_count": 50,
   "metadata": {},
   "outputs": [
    {
     "data": {
      "text/plain": [
       "1    1792\n",
       "0     431\n",
       "Name: Decision, dtype: int64"
      ]
     },
     "execution_count": 50,
     "metadata": {},
     "output_type": "execute_result"
    }
   ],
   "source": [
    "# Decision variable stands for \"Sanction\" or \"Reject\"\n",
    "credit_df.Decision.value_counts()\n",
    "# Decision = 1 - Sanction\n",
    "# Decision = 0 - Reject"
   ]
  },
  {
   "cell_type": "markdown",
   "metadata": {},
   "source": [
    "### <font color='Blue'>1.3 Feature Extraction</font>"
   ]
  },
  {
   "cell_type": "code",
   "execution_count": 51,
   "metadata": {},
   "outputs": [
    {
     "data": {
      "text/plain": [
       "31"
      ]
     },
     "execution_count": 51,
     "metadata": {},
     "output_type": "execute_result"
    }
   ],
   "source": [
    "# Get the list of independent variables which would be used for classification\n",
    "X_features = list( credit_df.columns )\n",
    "len(X_features)\n",
    "\n",
    "# Some values can be removed as they are either not required or captured in another variable\n",
    "unwanted = ['ID','Decision','Expen','TotInc','DispInc','OldEmi','OldEmi_d', 'OldEmi_s','BankSave_d','LoanReq','MarVal','BankSave','Dwnpay',\n",
    "            'CalcEmi','IIR','IAR','FOIR','dwnp_prop']\n",
    "X_features = [ele for ele in X_features if ele not in unwanted] \n",
    "len(X_features)\n"
   ]
  },
  {
   "cell_type": "code",
   "execution_count": 52,
   "metadata": {},
   "outputs": [],
   "source": [
    "# Building Outcome and feature set\n",
    "Y = credit_df.Decision\n",
    "X = credit_df[X_features]"
   ]
  },
  {
   "cell_type": "markdown",
   "metadata": {},
   "source": [
    "### <font color='Blue'>1.4 Split into Train and Test Data</font>"
   ]
  },
  {
   "cell_type": "code",
   "execution_count": 53,
   "metadata": {},
   "outputs": [],
   "source": [
    "train_X, test_X, train_y, test_y = train_test_split(X,Y,test_size = 0.3,random_state = 42)"
   ]
  },
  {
   "cell_type": "markdown",
   "metadata": {},
   "source": [
    "### <font color='Blue'>2.0 Random Forest</font>"
   ]
  },
  {
   "cell_type": "markdown",
   "metadata": {},
   "source": [
    "Random forest is one of the most popular ensemble techniques used in the industry due to its performance and scalability. A \n",
    "random forest is an ensemble of decision trees, where each tree is built from a bootstrapped sample and randomly selected set \n",
    "of features (feature bagging). The hyperparameters in a Random forest are\n",
    "  \n",
    "  1. Number of decision trees\n",
    "  2. Number of records and features to be sampled\n",
    "  3. Depth and search criteria"
   ]
  },
  {
   "cell_type": "markdown",
   "metadata": {},
   "source": [
    "### <font color='Blue'>2.1 Building the Random Forest Model</font>"
   ]
  },
  {
   "cell_type": "code",
   "execution_count": 54,
   "metadata": {},
   "outputs": [
    {
     "data": {
      "text/plain": [
       "RandomForestClassifier(max_depth=10)"
      ]
     },
     "execution_count": 54,
     "metadata": {},
     "output_type": "execute_result"
    }
   ],
   "source": [
    "radm_clf = RandomForestClassifier( max_depth=10, n_estimators=100)\n",
    "radm_clf.fit( train_X, train_y )"
   ]
  },
  {
   "cell_type": "markdown",
   "metadata": {},
   "source": [
    "### <font color='Blue'>2.2 Extracting Probabilities</font>"
   ]
  },
  {
   "cell_type": "code",
   "execution_count": 55,
   "metadata": {},
   "outputs": [],
   "source": [
    "rf_predict = radm_clf.predict_proba( test_X )\n",
    "rf_predict = pd.DataFrame(rf_predict)[1]\n",
    "rf_predict = rf_predict.to_numpy()"
   ]
  },
  {
   "cell_type": "code",
   "execution_count": 56,
   "metadata": {},
   "outputs": [
    {
     "data": {
      "text/html": [
       "<div>\n",
       "<style scoped>\n",
       "    .dataframe tbody tr th:only-of-type {\n",
       "        vertical-align: middle;\n",
       "    }\n",
       "\n",
       "    .dataframe tbody tr th {\n",
       "        vertical-align: top;\n",
       "    }\n",
       "\n",
       "    .dataframe thead th {\n",
       "        text-align: right;\n",
       "    }\n",
       "</style>\n",
       "<table border=\"1\" class=\"dataframe\">\n",
       "  <thead>\n",
       "    <tr style=\"text-align: right;\">\n",
       "      <th></th>\n",
       "      <th>actual</th>\n",
       "      <th>predicted_prob</th>\n",
       "    </tr>\n",
       "  </thead>\n",
       "  <tbody>\n",
       "    <tr>\n",
       "      <th>96</th>\n",
       "      <td>1</td>\n",
       "      <td>0.927494</td>\n",
       "    </tr>\n",
       "    <tr>\n",
       "      <th>1401</th>\n",
       "      <td>1</td>\n",
       "      <td>0.975356</td>\n",
       "    </tr>\n",
       "    <tr>\n",
       "      <th>1994</th>\n",
       "      <td>1</td>\n",
       "      <td>0.895214</td>\n",
       "    </tr>\n",
       "    <tr>\n",
       "      <th>1987</th>\n",
       "      <td>1</td>\n",
       "      <td>0.959235</td>\n",
       "    </tr>\n",
       "    <tr>\n",
       "      <th>859</th>\n",
       "      <td>0</td>\n",
       "      <td>0.764036</td>\n",
       "    </tr>\n",
       "    <tr>\n",
       "      <th>707</th>\n",
       "      <td>1</td>\n",
       "      <td>0.819570</td>\n",
       "    </tr>\n",
       "    <tr>\n",
       "      <th>1263</th>\n",
       "      <td>1</td>\n",
       "      <td>0.878762</td>\n",
       "    </tr>\n",
       "    <tr>\n",
       "      <th>290</th>\n",
       "      <td>1</td>\n",
       "      <td>0.838913</td>\n",
       "    </tr>\n",
       "    <tr>\n",
       "      <th>1978</th>\n",
       "      <td>1</td>\n",
       "      <td>0.886427</td>\n",
       "    </tr>\n",
       "    <tr>\n",
       "      <th>1760</th>\n",
       "      <td>1</td>\n",
       "      <td>0.671049</td>\n",
       "    </tr>\n",
       "  </tbody>\n",
       "</table>\n",
       "</div>"
      ],
      "text/plain": [
       "      actual  predicted_prob\n",
       "96         1        0.927494\n",
       "1401       1        0.975356\n",
       "1994       1        0.895214\n",
       "1987       1        0.959235\n",
       "859        0        0.764036\n",
       "707        1        0.819570\n",
       "1263       1        0.878762\n",
       "290        1        0.838913\n",
       "1978       1        0.886427\n",
       "1760       1        0.671049"
      ]
     },
     "execution_count": 56,
     "metadata": {},
     "output_type": "execute_result"
    }
   ],
   "source": [
    "# Gathering probabilities\n",
    "y_pred_df = pd.DataFrame( { \"actual\": test_y, \n",
    "                            \"predicted_prob\": rf_predict \n",
    "                          } )\n",
    "y_pred_df.sample(10, random_state = 42)\n",
    "y_pred_df.head(10)"
   ]
  },
  {
   "cell_type": "markdown",
   "metadata": {},
   "source": [
    "### <font color='Blue'>2.3 Classifier Performance</font>"
   ]
  },
  {
   "cell_type": "code",
   "execution_count": 57,
   "metadata": {},
   "outputs": [
    {
     "data": {
      "image/png": "[encoded data removed]",
      "text/plain": [
       "<Figure size 576x432 with 1 Axes>"
      ]
     },
     "metadata": {
      "needs_background": "light"
     },
     "output_type": "display_data"
    },
    {
     "data": {
      "text/plain": [
       "0.7615731785944553"
      ]
     },
     "execution_count": 57,
     "metadata": {},
     "output_type": "execute_result"
    }
   ],
   "source": [
    "# Plotting AUC \n",
    "fpr, tpr, thresholds = draw_roc( test_y, y_pred_df.predicted_prob)\n",
    "\n",
    "# Measuring Test AUC\n",
    "metrics.roc_auc_score( test_y, y_pred_df.predicted_prob)"
   ]
  },
  {
   "cell_type": "markdown",
   "metadata": {},
   "source": [
    "### <font color='Blue'>2.4  Plotting Distributions and Identifying the optimum Probability</font>"
   ]
  },
  {
   "cell_type": "code",
   "execution_count": 58,
   "metadata": {},
   "outputs": [
    {
     "data": {
      "image/png": "[encoded data removed]",
      "text/plain": [
       "<Figure size 576x432 with 1 Axes>"
      ]
     },
     "metadata": {
      "needs_background": "light"
     },
     "output_type": "display_data"
    }
   ],
   "source": [
    "plt.figure( figsize = (8,6) )\n",
    "sn.kdeplot( y_pred_df[y_pred_df.actual == 1][\"predicted_prob\"], color = 'b', shade=True,label = 'Sanction' )\n",
    "sn.kdeplot( y_pred_df[y_pred_df.actual == 0][\"predicted_prob\"], color = 'g', shade=True,label = 'Reject' )\n",
    "plt.legend()\n",
    "plt.show()"
   ]
  },
  {
   "cell_type": "markdown",
   "metadata": {},
   "source": [
    "### <font color='Blue'>2.5 Confusion Matrix and Performance</font>"
   ]
  },
  {
   "cell_type": "code",
   "execution_count": 59,
   "metadata": {},
   "outputs": [
    {
     "data": {
      "text/html": [
       "<div>\n",
       "<style scoped>\n",
       "    .dataframe tbody tr th:only-of-type {\n",
       "        vertical-align: middle;\n",
       "    }\n",
       "\n",
       "    .dataframe tbody tr th {\n",
       "        vertical-align: top;\n",
       "    }\n",
       "\n",
       "    .dataframe thead th {\n",
       "        text-align: right;\n",
       "    }\n",
       "</style>\n",
       "<table border=\"1\" class=\"dataframe\">\n",
       "  <thead>\n",
       "    <tr style=\"text-align: right;\">\n",
       "      <th>predicted</th>\n",
       "      <th>0</th>\n",
       "      <th>1</th>\n",
       "      <th>Total</th>\n",
       "    </tr>\n",
       "    <tr>\n",
       "      <th>actual</th>\n",
       "      <th></th>\n",
       "      <th></th>\n",
       "      <th></th>\n",
       "    </tr>\n",
       "  </thead>\n",
       "  <tbody>\n",
       "    <tr>\n",
       "      <th>0</th>\n",
       "      <td>68</td>\n",
       "      <td>82</td>\n",
       "      <td>150</td>\n",
       "    </tr>\n",
       "    <tr>\n",
       "      <th>1</th>\n",
       "      <td>51</td>\n",
       "      <td>466</td>\n",
       "      <td>517</td>\n",
       "    </tr>\n",
       "    <tr>\n",
       "      <th>Total</th>\n",
       "      <td>119</td>\n",
       "      <td>548</td>\n",
       "      <td>667</td>\n",
       "    </tr>\n",
       "  </tbody>\n",
       "</table>\n",
       "</div>"
      ],
      "text/plain": [
       "predicted    0    1  Total\n",
       "actual                    \n",
       "0           68   82    150\n",
       "1           51  466    517\n",
       "Total      119  548    667"
      ]
     },
     "execution_count": 59,
     "metadata": {},
     "output_type": "execute_result"
    }
   ],
   "source": [
    "y_pred_df['pred_y'] = y_pred_df.predicted_prob.map(lambda x: 1 if x > 0.7 else 0)\n",
    "pd.crosstab(test_y, y_pred_df.pred_y,margins=True,colnames=['predicted'],rownames=['actual'],margins_name=\"Total\")"
   ]
  },
  {
   "cell_type": "code",
   "execution_count": 60,
   "metadata": {},
   "outputs": [
    {
     "data": {
      "image/png": "[encoded data removed]",
      "text/plain": [
       "<Figure size 432x288 with 2 Axes>"
      ]
     },
     "metadata": {
      "needs_background": "light"
     },
     "output_type": "display_data"
    }
   ],
   "source": [
    "from confusion_matrix import make_confusion_matrix\n",
    "cf_matrix = metrics.confusion_matrix(test_y, y_pred_df.pred_y)\n",
    "labels = [\"TN\",\"FP\",\"FN\",\"TP\"]\n",
    "categories = [\"Reject [0]\",\"Sanction [1]\"]\n",
    "make_confusion_matrix(cf_matrix, \n",
    "                      group_names=labels,\n",
    "                      categories=categories, \n",
    "                      cmap=\"Greens\")"
   ]
  },
  {
   "cell_type": "markdown",
   "metadata": {},
   "source": [
    "### <font color='Blue'>2.6 Finding Important Features</font>"
   ]
  },
  {
   "cell_type": "code",
   "execution_count": 61,
   "metadata": {},
   "outputs": [
    {
     "data": {
      "image/png": "[encoded data removed]",
      "text/plain": [
       "<Figure size 576x432 with 1 Axes>"
      ]
     },
     "metadata": {
      "needs_background": "light"
     },
     "output_type": "display_data"
    }
   ],
   "source": [
    "# Create a dataframe to store the featues and their corresponding importances\n",
    "feature_rank = pd.DataFrame( { 'feature': train_X.columns, 'importance': radm_clf.feature_importances_ } )\n",
    "\n",
    "## Sorting the features based on their importances with most important feature at top\n",
    "feature_rank = feature_rank.sort_values('importance', ascending = False)\n",
    "plt.figure(figsize=(8, 6))\n",
    "\n",
    "# plot the values\n",
    "sn.barplot( y = 'feature', x = 'importance', data = feature_rank );"
   ]
  },
  {
   "cell_type": "markdown",
   "metadata": {},
   "source": [
    "### <font color='Blue'>3.0 Boosting</font>"
   ]
  },
  {
   "cell_type": "markdown",
   "metadata": {},
   "source": [
    "Boosting is another popular ensemble technique which combines multiple weak classifiers into a single strong classifier. A weak classifier is one which is slightly better than random guessing. Any classification algoritm can be used for boosting and it is called base classifier. Boosting builds classifiers in a sequential manner as opposed as bagging, which can build classifiers in parallel. Boosting builds classifier by giving equal weights to each sample and then focuses on correctly classifying misclassified examples in subsequent classifiers. Two most widely used boosting algorithms are AdaBoost and Gradient Boosting."
   ]
  },
  {
   "cell_type": "markdown",
   "metadata": {},
   "source": [
    "### <font color='Blue'>3.1 AdaBoost</font>"
   ]
  },
  {
   "cell_type": "markdown",
   "metadata": {},
   "source": [
    "Adaboost assigns weight to each records in a training set, which determines the probability that a specific records is selected for training a classifier. For the first classifier, the weights af all examples will be equal (random sampling), but after training the first classifier, Adaboost increases the weight for the misclassified records so that these records will have a higher probability of selection in the training set in anticipation that the next classifier will learn to classify them correctly."
   ]
  },
  {
   "cell_type": "markdown",
   "metadata": {},
   "source": [
    "### <font color='Blue'>3.2 Model Building AdaBoost</font>"
   ]
  },
  {
   "cell_type": "code",
   "execution_count": 62,
   "metadata": {},
   "outputs": [
    {
     "data": {
      "text/plain": [
       "AdaBoostClassifier(base_estimator=LogisticRegression())"
      ]
     },
     "execution_count": 62,
     "metadata": {},
     "output_type": "execute_result"
    }
   ],
   "source": [
    "## Importing Adaboost classifier\n",
    "from sklearn.ensemble import AdaBoostClassifier\n",
    "\n",
    "## Importing Logistic regression\n",
    "from sklearn.linear_model import LogisticRegression\n",
    "\n",
    "## Initializing logistic regression to use as base classifier\n",
    "logreg_clf = LogisticRegression()\n",
    "\n",
    "## Initilizing adaboost classifier with 50 classifers\n",
    "ada_clf = AdaBoostClassifier(logreg_clf, n_estimators=50)\n",
    "\n",
    "## Fitting adaboost model to training set\n",
    "ada_clf.fit(train_X, train_y )"
   ]
  },
  {
   "cell_type": "markdown",
   "metadata": {},
   "source": [
    "### <font color='Blue'>3.3 Extracting Probabilities</font>"
   ]
  },
  {
   "cell_type": "code",
   "execution_count": 63,
   "metadata": {},
   "outputs": [],
   "source": [
    "ada_predict = ada_clf.predict_proba( test_X )\n",
    "ada_predict = pd.DataFrame(ada_predict)[1]\n",
    "ada_predict = ada_predict.to_numpy()"
   ]
  },
  {
   "cell_type": "code",
   "execution_count": 64,
   "metadata": {},
   "outputs": [
    {
     "data": {
      "text/html": [
       "<div>\n",
       "<style scoped>\n",
       "    .dataframe tbody tr th:only-of-type {\n",
       "        vertical-align: middle;\n",
       "    }\n",
       "\n",
       "    .dataframe tbody tr th {\n",
       "        vertical-align: top;\n",
       "    }\n",
       "\n",
       "    .dataframe thead th {\n",
       "        text-align: right;\n",
       "    }\n",
       "</style>\n",
       "<table border=\"1\" class=\"dataframe\">\n",
       "  <thead>\n",
       "    <tr style=\"text-align: right;\">\n",
       "      <th></th>\n",
       "      <th>actual</th>\n",
       "      <th>predicted_prob</th>\n",
       "    </tr>\n",
       "  </thead>\n",
       "  <tbody>\n",
       "    <tr>\n",
       "      <th>96</th>\n",
       "      <td>1</td>\n",
       "      <td>0.515953</td>\n",
       "    </tr>\n",
       "    <tr>\n",
       "      <th>1401</th>\n",
       "      <td>1</td>\n",
       "      <td>0.518937</td>\n",
       "    </tr>\n",
       "    <tr>\n",
       "      <th>1994</th>\n",
       "      <td>1</td>\n",
       "      <td>0.514259</td>\n",
       "    </tr>\n",
       "    <tr>\n",
       "      <th>1987</th>\n",
       "      <td>1</td>\n",
       "      <td>0.514806</td>\n",
       "    </tr>\n",
       "    <tr>\n",
       "      <th>859</th>\n",
       "      <td>0</td>\n",
       "      <td>0.503812</td>\n",
       "    </tr>\n",
       "    <tr>\n",
       "      <th>707</th>\n",
       "      <td>1</td>\n",
       "      <td>0.512595</td>\n",
       "    </tr>\n",
       "    <tr>\n",
       "      <th>1263</th>\n",
       "      <td>1</td>\n",
       "      <td>0.523587</td>\n",
       "    </tr>\n",
       "    <tr>\n",
       "      <th>290</th>\n",
       "      <td>1</td>\n",
       "      <td>0.506887</td>\n",
       "    </tr>\n",
       "    <tr>\n",
       "      <th>1978</th>\n",
       "      <td>1</td>\n",
       "      <td>0.508230</td>\n",
       "    </tr>\n",
       "    <tr>\n",
       "      <th>1760</th>\n",
       "      <td>1</td>\n",
       "      <td>0.510910</td>\n",
       "    </tr>\n",
       "  </tbody>\n",
       "</table>\n",
       "</div>"
      ],
      "text/plain": [
       "      actual  predicted_prob\n",
       "96         1        0.515953\n",
       "1401       1        0.518937\n",
       "1994       1        0.514259\n",
       "1987       1        0.514806\n",
       "859        0        0.503812\n",
       "707        1        0.512595\n",
       "1263       1        0.523587\n",
       "290        1        0.506887\n",
       "1978       1        0.508230\n",
       "1760       1        0.510910"
      ]
     },
     "execution_count": 64,
     "metadata": {},
     "output_type": "execute_result"
    }
   ],
   "source": [
    "# Gathering probabilities\n",
    "y_pred_df = pd.DataFrame( { \"actual\": test_y, \n",
    "                            \"predicted_prob\": ada_predict \n",
    "                          } )\n",
    "y_pred_df.sample(10, random_state = 42)\n",
    "y_pred_df.head(10)"
   ]
  },
  {
   "cell_type": "markdown",
   "metadata": {},
   "source": [
    "### <font color='Blue'>3.4 Classifier Performance</font>"
   ]
  },
  {
   "cell_type": "code",
   "execution_count": 65,
   "metadata": {},
   "outputs": [
    {
     "data": {
      "image/png": "[encoded data removed]",
      "text/plain": [
       "<Figure size 576x432 with 1 Axes>"
      ]
     },
     "metadata": {
      "needs_background": "light"
     },
     "output_type": "display_data"
    },
    {
     "data": {
      "text/plain": [
       "0.7893488072211476"
      ]
     },
     "execution_count": 65,
     "metadata": {},
     "output_type": "execute_result"
    }
   ],
   "source": [
    "# Plotting AUC \n",
    "fpr, tpr, thresholds = draw_roc( test_y, y_pred_df.predicted_prob)\n",
    "\n",
    "# Measuring Test AUC\n",
    "metrics.roc_auc_score( test_y, y_pred_df.predicted_prob)"
   ]
  },
  {
   "cell_type": "markdown",
   "metadata": {},
   "source": [
    "### <font color='Blue'>3.5 Plotting Distributions and Identifying the optimum Probability</font>"
   ]
  },
  {
   "cell_type": "code",
   "execution_count": 66,
   "metadata": {},
   "outputs": [
    {
     "data": {
      "image/png": "[encoded data removed]",
      "text/plain": [
       "<Figure size 576x432 with 1 Axes>"
      ]
     },
     "metadata": {
      "needs_background": "light"
     },
     "output_type": "display_data"
    }
   ],
   "source": [
    "plt.figure( figsize = (8,6) )\n",
    "sn.kdeplot( y_pred_df[y_pred_df.actual == 1][\"predicted_prob\"], color = 'b', shade=True,label = 'Sanction' )\n",
    "sn.kdeplot( y_pred_df[y_pred_df.actual == 0][\"predicted_prob\"], color = 'g', shade=True,label = 'Reject' )\n",
    "plt.legend()\n",
    "plt.show()"
   ]
  },
  {
   "cell_type": "markdown",
   "metadata": {},
   "source": [
    "### <font color='Blue'>3.6 Confusion Matrix and Performance Measures</font>"
   ]
  },
  {
   "cell_type": "code",
   "execution_count": 67,
   "metadata": {},
   "outputs": [],
   "source": [
    "y_pred_df['pred_y'] = y_pred_df.predicted_prob.map(lambda x: 1 if x > 0.51 else 0)"
   ]
  },
  {
   "cell_type": "code",
   "execution_count": 68,
   "metadata": {},
   "outputs": [
    {
     "data": {
      "text/html": [
       "<div>\n",
       "<style scoped>\n",
       "    .dataframe tbody tr th:only-of-type {\n",
       "        vertical-align: middle;\n",
       "    }\n",
       "\n",
       "    .dataframe tbody tr th {\n",
       "        vertical-align: top;\n",
       "    }\n",
       "\n",
       "    .dataframe thead th {\n",
       "        text-align: right;\n",
       "    }\n",
       "</style>\n",
       "<table border=\"1\" class=\"dataframe\">\n",
       "  <thead>\n",
       "    <tr style=\"text-align: right;\">\n",
       "      <th>predicted</th>\n",
       "      <th>0</th>\n",
       "      <th>1</th>\n",
       "      <th>Total</th>\n",
       "    </tr>\n",
       "    <tr>\n",
       "      <th>actual</th>\n",
       "      <th></th>\n",
       "      <th></th>\n",
       "      <th></th>\n",
       "    </tr>\n",
       "  </thead>\n",
       "  <tbody>\n",
       "    <tr>\n",
       "      <th>0</th>\n",
       "      <td>127</td>\n",
       "      <td>23</td>\n",
       "      <td>150</td>\n",
       "    </tr>\n",
       "    <tr>\n",
       "      <th>1</th>\n",
       "      <td>223</td>\n",
       "      <td>294</td>\n",
       "      <td>517</td>\n",
       "    </tr>\n",
       "    <tr>\n",
       "      <th>Total</th>\n",
       "      <td>350</td>\n",
       "      <td>317</td>\n",
       "      <td>667</td>\n",
       "    </tr>\n",
       "  </tbody>\n",
       "</table>\n",
       "</div>"
      ],
      "text/plain": [
       "predicted    0    1  Total\n",
       "actual                    \n",
       "0          127   23    150\n",
       "1          223  294    517\n",
       "Total      350  317    667"
      ]
     },
     "execution_count": 68,
     "metadata": {},
     "output_type": "execute_result"
    }
   ],
   "source": [
    "pd.crosstab(test_y, y_pred_df.pred_y,margins=True,colnames=['predicted'],rownames=['actual'],margins_name=\"Total\")"
   ]
  },
  {
   "cell_type": "code",
   "execution_count": 69,
   "metadata": {},
   "outputs": [
    {
     "data": {
      "image/png": "[encoded data removed]",
      "text/plain": [
       "<Figure size 432x288 with 2 Axes>"
      ]
     },
     "metadata": {
      "needs_background": "light"
     },
     "output_type": "display_data"
    }
   ],
   "source": [
    "from confusion_matrix import make_confusion_matrix\n",
    "cf_matrix = metrics.confusion_matrix(test_y, y_pred_df.pred_y)\n",
    "labels = [\"TN\",\"FP\",\"FN\",\"TP\"]\n",
    "categories = [\"Reject [0]\",\"Sanction [1]\"]\n",
    "make_confusion_matrix(cf_matrix, \n",
    "                      group_names=labels,\n",
    "                      categories=categories, \n",
    "                      cmap=\"Greens\")"
   ]
  },
  {
   "cell_type": "code",
   "execution_count": 70,
   "metadata": {},
   "outputs": [
    {
     "name": "stdout",
     "output_type": "stream",
     "text": [
      "              precision    recall  f1-score   support\n",
      "\n",
      "           0       0.36      0.85      0.51       150\n",
      "           1       0.93      0.57      0.71       517\n",
      "\n",
      "    accuracy                           0.63       667\n",
      "   macro avg       0.65      0.71      0.61       667\n",
      "weighted avg       0.80      0.63      0.66       667\n",
      "\n"
     ]
    }
   ],
   "source": [
    "print( metrics.classification_report( test_y, y_pred_df.pred_y ) )"
   ]
  },
  {
   "cell_type": "markdown",
   "metadata": {},
   "source": [
    "### <font color='Blue'>4.0 Gradient Boosting</font>"
   ]
  },
  {
   "cell_type": "markdown",
   "metadata": {},
   "source": [
    "AdaBoost (seen previously) focusses on the misclassified examples in the subsequent classifiers, whereas gradient boosting focusses on residuals from previous classifers and fits a models to the residuals. Gradient boosting algorithm repetitively leverages the patterns in the residuesls and strengthens the model with weak predictions and makes in better. Gradient boosting uses a deicison tree as a base classifier."
   ]
  },
  {
   "cell_type": "markdown",
   "metadata": {},
   "source": [
    "### <font color='Blue'>4.1 Executing Gradient Boosting</font>"
   ]
  },
  {
   "cell_type": "code",
   "execution_count": 71,
   "metadata": {
    "scrolled": true
   },
   "outputs": [
    {
     "data": {
      "text/plain": [
       "GradientBoostingClassifier(max_depth=10, n_estimators=500)"
      ]
     },
     "execution_count": 71,
     "metadata": {},
     "output_type": "execute_result"
    }
   ],
   "source": [
    "## Importing Gradient Boosting classifier\n",
    "from sklearn.ensemble import GradientBoostingClassifier\n",
    "\n",
    "## Initializing Gradient Boosting with 500 estimators and max depth as 10.\n",
    "gboost_clf = GradientBoostingClassifier( n_estimators=500, max_depth=10)\n",
    "\n",
    "## Fitting gradient boosting model to training set\n",
    "gboost_clf.fit(train_X, train_y )"
   ]
  },
  {
   "cell_type": "markdown",
   "metadata": {},
   "source": [
    "### <font color='Blue'>4.2 Extracting Probabilities</font>"
   ]
  },
  {
   "cell_type": "code",
   "execution_count": 72,
   "metadata": {},
   "outputs": [],
   "source": [
    "gra_predict = gboost_clf.predict_proba( test_X )\n",
    "gra_predict = pd.DataFrame(gra_predict)[1]\n",
    "gra_predict = gra_predict.to_numpy()"
   ]
  },
  {
   "cell_type": "code",
   "execution_count": 73,
   "metadata": {},
   "outputs": [
    {
     "data": {
      "text/html": [
       "<div>\n",
       "<style scoped>\n",
       "    .dataframe tbody tr th:only-of-type {\n",
       "        vertical-align: middle;\n",
       "    }\n",
       "\n",
       "    .dataframe tbody tr th {\n",
       "        vertical-align: top;\n",
       "    }\n",
       "\n",
       "    .dataframe thead th {\n",
       "        text-align: right;\n",
       "    }\n",
       "</style>\n",
       "<table border=\"1\" class=\"dataframe\">\n",
       "  <thead>\n",
       "    <tr style=\"text-align: right;\">\n",
       "      <th></th>\n",
       "      <th>actual</th>\n",
       "      <th>predicted_prob</th>\n",
       "    </tr>\n",
       "  </thead>\n",
       "  <tbody>\n",
       "    <tr>\n",
       "      <th>96</th>\n",
       "      <td>1</td>\n",
       "      <td>1.000000</td>\n",
       "    </tr>\n",
       "    <tr>\n",
       "      <th>1401</th>\n",
       "      <td>1</td>\n",
       "      <td>1.000000</td>\n",
       "    </tr>\n",
       "    <tr>\n",
       "      <th>1994</th>\n",
       "      <td>1</td>\n",
       "      <td>1.000000</td>\n",
       "    </tr>\n",
       "    <tr>\n",
       "      <th>1987</th>\n",
       "      <td>1</td>\n",
       "      <td>1.000000</td>\n",
       "    </tr>\n",
       "    <tr>\n",
       "      <th>859</th>\n",
       "      <td>0</td>\n",
       "      <td>0.005059</td>\n",
       "    </tr>\n",
       "    <tr>\n",
       "      <th>707</th>\n",
       "      <td>1</td>\n",
       "      <td>1.000000</td>\n",
       "    </tr>\n",
       "    <tr>\n",
       "      <th>1263</th>\n",
       "      <td>1</td>\n",
       "      <td>1.000000</td>\n",
       "    </tr>\n",
       "    <tr>\n",
       "      <th>290</th>\n",
       "      <td>1</td>\n",
       "      <td>0.987592</td>\n",
       "    </tr>\n",
       "    <tr>\n",
       "      <th>1978</th>\n",
       "      <td>1</td>\n",
       "      <td>1.000000</td>\n",
       "    </tr>\n",
       "    <tr>\n",
       "      <th>1760</th>\n",
       "      <td>1</td>\n",
       "      <td>0.207410</td>\n",
       "    </tr>\n",
       "  </tbody>\n",
       "</table>\n",
       "</div>"
      ],
      "text/plain": [
       "      actual  predicted_prob\n",
       "96         1        1.000000\n",
       "1401       1        1.000000\n",
       "1994       1        1.000000\n",
       "1987       1        1.000000\n",
       "859        0        0.005059\n",
       "707        1        1.000000\n",
       "1263       1        1.000000\n",
       "290        1        0.987592\n",
       "1978       1        1.000000\n",
       "1760       1        0.207410"
      ]
     },
     "execution_count": 73,
     "metadata": {},
     "output_type": "execute_result"
    }
   ],
   "source": [
    "# Gathering probabilities\n",
    "y_pred_df = pd.DataFrame( { \"actual\": test_y, \n",
    "                            \"predicted_prob\": gra_predict \n",
    "                          } )\n",
    "y_pred_df.sample(10, random_state = 42)\n",
    "y_pred_df.head(10)"
   ]
  },
  {
   "cell_type": "markdown",
   "metadata": {},
   "source": [
    "### <font color='Blue'>4.3 Classifier Performance</font>"
   ]
  },
  {
   "cell_type": "code",
   "execution_count": 74,
   "metadata": {},
   "outputs": [
    {
     "data": {
      "image/png": "[encoded data removed]",
      "text/plain": [
       "<Figure size 576x432 with 1 Axes>"
      ]
     },
     "metadata": {
      "needs_background": "light"
     },
     "output_type": "display_data"
    },
    {
     "data": {
      "text/plain": [
       "0.7681108961960026"
      ]
     },
     "execution_count": 74,
     "metadata": {},
     "output_type": "execute_result"
    }
   ],
   "source": [
    "# Plotting AUC \n",
    "fpr, tpr, thresholds = draw_roc( test_y, y_pred_df.predicted_prob)\n",
    "\n",
    "# Measuring Test AUC\n",
    "metrics.roc_auc_score( test_y, y_pred_df.predicted_prob)"
   ]
  },
  {
   "cell_type": "markdown",
   "metadata": {},
   "source": [
    "### <font color='Blue'>4.4 Plotting Distributions and Identifying the optimum Probability</font>"
   ]
  },
  {
   "cell_type": "code",
   "execution_count": 75,
   "metadata": {},
   "outputs": [
    {
     "data": {
      "image/png": "[encoded data removed]",
      "text/plain": [
       "<Figure size 576x432 with 1 Axes>"
      ]
     },
     "metadata": {
      "needs_background": "light"
     },
     "output_type": "display_data"
    }
   ],
   "source": [
    "plt.figure( figsize = (8,6) )\n",
    "g=sn.kdeplot( y_pred_df[y_pred_df.actual == 1][\"predicted_prob\"], color = 'b', shade=True,label = 'Sanction' )\n",
    "g=sn.kdeplot( y_pred_df[y_pred_df.actual == 0][\"predicted_prob\"], color = 'g', shade=True,label = 'Reject' )\n",
    "g = (g.set(xlim=(0,1),ylim=(0,10)))\n",
    "plt.legend()\n",
    "plt.show()"
   ]
  },
  {
   "cell_type": "markdown",
   "metadata": {},
   "source": [
    "### <font color='Blue'>4.5 Confusion Matrix and Performance Measures</font>"
   ]
  },
  {
   "cell_type": "code",
   "execution_count": 76,
   "metadata": {},
   "outputs": [],
   "source": [
    "y_pred_df['pred_y'] = y_pred_df.predicted_prob.map(lambda x: 1 if x > 0.85 else 0)"
   ]
  },
  {
   "cell_type": "code",
   "execution_count": 77,
   "metadata": {},
   "outputs": [
    {
     "data": {
      "text/html": [
       "<div>\n",
       "<style scoped>\n",
       "    .dataframe tbody tr th:only-of-type {\n",
       "        vertical-align: middle;\n",
       "    }\n",
       "\n",
       "    .dataframe tbody tr th {\n",
       "        vertical-align: top;\n",
       "    }\n",
       "\n",
       "    .dataframe thead th {\n",
       "        text-align: right;\n",
       "    }\n",
       "</style>\n",
       "<table border=\"1\" class=\"dataframe\">\n",
       "  <thead>\n",
       "    <tr style=\"text-align: right;\">\n",
       "      <th>predicted</th>\n",
       "      <th>0</th>\n",
       "      <th>1</th>\n",
       "      <th>Total</th>\n",
       "    </tr>\n",
       "    <tr>\n",
       "      <th>actual</th>\n",
       "      <th></th>\n",
       "      <th></th>\n",
       "      <th></th>\n",
       "    </tr>\n",
       "  </thead>\n",
       "  <tbody>\n",
       "    <tr>\n",
       "      <th>0</th>\n",
       "      <td>55</td>\n",
       "      <td>95</td>\n",
       "      <td>150</td>\n",
       "    </tr>\n",
       "    <tr>\n",
       "      <th>1</th>\n",
       "      <td>25</td>\n",
       "      <td>492</td>\n",
       "      <td>517</td>\n",
       "    </tr>\n",
       "    <tr>\n",
       "      <th>Total</th>\n",
       "      <td>80</td>\n",
       "      <td>587</td>\n",
       "      <td>667</td>\n",
       "    </tr>\n",
       "  </tbody>\n",
       "</table>\n",
       "</div>"
      ],
      "text/plain": [
       "predicted   0    1  Total\n",
       "actual                   \n",
       "0          55   95    150\n",
       "1          25  492    517\n",
       "Total      80  587    667"
      ]
     },
     "execution_count": 77,
     "metadata": {},
     "output_type": "execute_result"
    }
   ],
   "source": [
    "pd.crosstab(test_y, y_pred_df.pred_y,margins=True,colnames=['predicted'],rownames=['actual'],margins_name=\"Total\")"
   ]
  },
  {
   "cell_type": "code",
   "execution_count": 78,
   "metadata": {},
   "outputs": [
    {
     "data": {
      "image/png": "[encoded data removed]",
      "text/plain": [
       "<Figure size 432x288 with 2 Axes>"
      ]
     },
     "metadata": {
      "needs_background": "light"
     },
     "output_type": "display_data"
    }
   ],
   "source": [
    "from confusion_matrix import make_confusion_matrix\n",
    "cf_matrix = metrics.confusion_matrix(test_y, y_pred_df.pred_y)\n",
    "labels = [\"TN\",\"FP\",\"FN\",\"TP\"]\n",
    "categories = [\"Reject [0]\",\"Sanction [1]\"]\n",
    "make_confusion_matrix(cf_matrix, \n",
    "                      group_names=labels,\n",
    "                      categories=categories, \n",
    "                      cmap=\"Greens\")"
   ]
  },
  {
   "cell_type": "code",
   "execution_count": 79,
   "metadata": {},
   "outputs": [
    {
     "name": "stdout",
     "output_type": "stream",
     "text": [
      "              precision    recall  f1-score   support\n",
      "\n",
      "           0       0.69      0.37      0.48       150\n",
      "           1       0.84      0.95      0.89       517\n",
      "\n",
      "    accuracy                           0.82       667\n",
      "   macro avg       0.76      0.66      0.68       667\n",
      "weighted avg       0.80      0.82      0.80       667\n",
      "\n"
     ]
    }
   ],
   "source": [
    "print( metrics.classification_report( test_y, y_pred_df.pred_y ) )"
   ]
  },
  {
   "cell_type": "markdown",
   "metadata": {},
   "source": [
    "### <font color='Blue'>4.6 Indentifying Important Features</font>"
   ]
  },
  {
   "cell_type": "code",
   "execution_count": 80,
   "metadata": {},
   "outputs": [
    {
     "data": {
      "image/png": "[encoded data removed]",
      "text/plain": [
       "<Figure size 576x432 with 1 Axes>"
      ]
     },
     "metadata": {
      "needs_background": "light"
     },
     "output_type": "display_data"
    }
   ],
   "source": [
    "import numpy as np\n",
    "\n",
    "# Create a dataframe to store the featues and their corresponding importances\n",
    "feature_rank = pd.DataFrame( { 'feature': train_X.columns, 'importance': gboost_clf.feature_importances_ } )\n",
    "\n",
    "## Sorting the features based on their importances with most important feature at top\n",
    "feature_rank = feature_rank.sort_values('importance', ascending = False)\n",
    "plt.figure(figsize=(8, 6))\n",
    "\n",
    "# plot the values\n",
    "sn.barplot( y = 'feature', x = 'importance', data = feature_rank );"
   ]
  },
  {
   "cell_type": "markdown",
   "metadata": {},
   "source": [
    "### <font color='Blue'>5.0 Stochastic Gradient Boosting</font>\n",
    "\n",
    "    Useful when there is overfitting in gradient boosting\n",
    "    Here a sub-sample is used in every iteration"
   ]
  },
  {
   "cell_type": "markdown",
   "metadata": {},
   "source": [
    "### <font color='Blue'>5.1 Executing Stochastic Gradient Boosting</font>"
   ]
  },
  {
   "cell_type": "code",
   "execution_count": 81,
   "metadata": {},
   "outputs": [
    {
     "data": {
      "text/plain": [
       "GradientBoostingClassifier(max_depth=10, n_estimators=500, subsample=0.5)"
      ]
     },
     "execution_count": 81,
     "metadata": {},
     "output_type": "execute_result"
    }
   ],
   "source": [
    "# SGradient Boosting\n",
    "## Importing Gradient Boosting classifier\n",
    "from sklearn.ensemble import GradientBoostingClassifier\n",
    "\n",
    "## Initializing Gradient Boosting with 500 estimators and max depth as 10, subsample < 1.0\n",
    "## Sub-sample < 1.0 indicates stochastic gradient boosting\n",
    "sboost_clf = GradientBoostingClassifier( n_estimators=500, max_depth=10, subsample = 0.5)\n",
    "\n",
    "## Fitting gradient boosting model to training set\n",
    "sboost_clf.fit(train_X, train_y )"
   ]
  },
  {
   "cell_type": "markdown",
   "metadata": {},
   "source": [
    "### <font color='Blue'>5.2 Extracting Probabilities</font>"
   ]
  },
  {
   "cell_type": "code",
   "execution_count": 82,
   "metadata": {},
   "outputs": [],
   "source": [
    "sto_predict = sboost_clf.predict_proba( test_X )\n",
    "sto_predict = pd.DataFrame(sto_predict)[1]\n",
    "sto_predict = sto_predict.to_numpy()"
   ]
  },
  {
   "cell_type": "code",
   "execution_count": 83,
   "metadata": {},
   "outputs": [
    {
     "data": {
      "text/html": [
       "<div>\n",
       "<style scoped>\n",
       "    .dataframe tbody tr th:only-of-type {\n",
       "        vertical-align: middle;\n",
       "    }\n",
       "\n",
       "    .dataframe tbody tr th {\n",
       "        vertical-align: top;\n",
       "    }\n",
       "\n",
       "    .dataframe thead th {\n",
       "        text-align: right;\n",
       "    }\n",
       "</style>\n",
       "<table border=\"1\" class=\"dataframe\">\n",
       "  <thead>\n",
       "    <tr style=\"text-align: right;\">\n",
       "      <th></th>\n",
       "      <th>actual</th>\n",
       "      <th>predicted_prob</th>\n",
       "    </tr>\n",
       "  </thead>\n",
       "  <tbody>\n",
       "    <tr>\n",
       "      <th>96</th>\n",
       "      <td>1</td>\n",
       "      <td>1.000000</td>\n",
       "    </tr>\n",
       "    <tr>\n",
       "      <th>1401</th>\n",
       "      <td>1</td>\n",
       "      <td>1.000000</td>\n",
       "    </tr>\n",
       "    <tr>\n",
       "      <th>1994</th>\n",
       "      <td>1</td>\n",
       "      <td>1.000000</td>\n",
       "    </tr>\n",
       "    <tr>\n",
       "      <th>1987</th>\n",
       "      <td>1</td>\n",
       "      <td>1.000000</td>\n",
       "    </tr>\n",
       "    <tr>\n",
       "      <th>859</th>\n",
       "      <td>0</td>\n",
       "      <td>0.996192</td>\n",
       "    </tr>\n",
       "    <tr>\n",
       "      <th>707</th>\n",
       "      <td>1</td>\n",
       "      <td>1.000000</td>\n",
       "    </tr>\n",
       "    <tr>\n",
       "      <th>1263</th>\n",
       "      <td>1</td>\n",
       "      <td>1.000000</td>\n",
       "    </tr>\n",
       "    <tr>\n",
       "      <th>290</th>\n",
       "      <td>1</td>\n",
       "      <td>0.999129</td>\n",
       "    </tr>\n",
       "    <tr>\n",
       "      <th>1978</th>\n",
       "      <td>1</td>\n",
       "      <td>0.999999</td>\n",
       "    </tr>\n",
       "    <tr>\n",
       "      <th>1760</th>\n",
       "      <td>1</td>\n",
       "      <td>0.501714</td>\n",
       "    </tr>\n",
       "  </tbody>\n",
       "</table>\n",
       "</div>"
      ],
      "text/plain": [
       "      actual  predicted_prob\n",
       "96         1        1.000000\n",
       "1401       1        1.000000\n",
       "1994       1        1.000000\n",
       "1987       1        1.000000\n",
       "859        0        0.996192\n",
       "707        1        1.000000\n",
       "1263       1        1.000000\n",
       "290        1        0.999129\n",
       "1978       1        0.999999\n",
       "1760       1        0.501714"
      ]
     },
     "execution_count": 83,
     "metadata": {},
     "output_type": "execute_result"
    }
   ],
   "source": [
    "# Gathering probabilities\n",
    "y_pred_df = pd.DataFrame( { \"actual\": test_y, \n",
    "                            \"predicted_prob\": sto_predict \n",
    "                          } )\n",
    "y_pred_df.sample(10, random_state = 42)\n",
    "y_pred_df.head(10)"
   ]
  },
  {
   "cell_type": "markdown",
   "metadata": {},
   "source": [
    "### <font color='Blue'>5.3 Classifier Performance</font>"
   ]
  },
  {
   "cell_type": "code",
   "execution_count": 84,
   "metadata": {},
   "outputs": [
    {
     "data": {
      "image/png": "[encoded data removed]",
      "text/plain": [
       "<Figure size 576x432 with 1 Axes>"
      ]
     },
     "metadata": {
      "needs_background": "light"
     },
     "output_type": "display_data"
    },
    {
     "data": {
      "text/plain": [
       "0.7906640876853643"
      ]
     },
     "execution_count": 84,
     "metadata": {},
     "output_type": "execute_result"
    }
   ],
   "source": [
    "# Plotting AUC \n",
    "fpr, tpr, thresholds = draw_roc( test_y, y_pred_df.predicted_prob)\n",
    "\n",
    "# Measuring Test AUC\n",
    "metrics.roc_auc_score( test_y, y_pred_df.predicted_prob)"
   ]
  },
  {
   "cell_type": "markdown",
   "metadata": {},
   "source": [
    "### <font color='Blue'>5.4 Plotting Distributions and Identifying the optimum Probability</font>"
   ]
  },
  {
   "cell_type": "code",
   "execution_count": 85,
   "metadata": {},
   "outputs": [
    {
     "data": {
      "image/png": "[encoded data removed]",
      "text/plain": [
       "<Figure size 576x432 with 1 Axes>"
      ]
     },
     "metadata": {
      "needs_background": "light"
     },
     "output_type": "display_data"
    }
   ],
   "source": [
    "# Identifying the right probability\n",
    "plt.figure( figsize = (8,6) )\n",
    "g=sn.kdeplot( y_pred_df[y_pred_df.actual == 1][\"predicted_prob\"], color = 'b', shade=True,label = 'Sanction' )\n",
    "g=sn.kdeplot( y_pred_df[y_pred_df.actual == 0][\"predicted_prob\"], color = 'g', shade=True,label = 'Reject' )\n",
    "g = (g.set(xlim=(0,1),ylim=(0,10)))\n",
    "plt.legend()\n",
    "plt.show()"
   ]
  },
  {
   "cell_type": "markdown",
   "metadata": {},
   "source": [
    "### <font color='Blue'>5.5 Confusion Matrix and Performance Measures</font>"
   ]
  },
  {
   "cell_type": "code",
   "execution_count": 86,
   "metadata": {},
   "outputs": [],
   "source": [
    "y_pred_df['pred_y'] = y_pred_df.predicted_prob.map(lambda x: 1 if x > 0.9 else 0)"
   ]
  },
  {
   "cell_type": "code",
   "execution_count": 87,
   "metadata": {},
   "outputs": [
    {
     "data": {
      "text/html": [
       "<div>\n",
       "<style scoped>\n",
       "    .dataframe tbody tr th:only-of-type {\n",
       "        vertical-align: middle;\n",
       "    }\n",
       "\n",
       "    .dataframe tbody tr th {\n",
       "        vertical-align: top;\n",
       "    }\n",
       "\n",
       "    .dataframe thead th {\n",
       "        text-align: right;\n",
       "    }\n",
       "</style>\n",
       "<table border=\"1\" class=\"dataframe\">\n",
       "  <thead>\n",
       "    <tr style=\"text-align: right;\">\n",
       "      <th>predicted</th>\n",
       "      <th>0</th>\n",
       "      <th>1</th>\n",
       "      <th>Total</th>\n",
       "    </tr>\n",
       "    <tr>\n",
       "      <th>actual</th>\n",
       "      <th></th>\n",
       "      <th></th>\n",
       "      <th></th>\n",
       "    </tr>\n",
       "  </thead>\n",
       "  <tbody>\n",
       "    <tr>\n",
       "      <th>0</th>\n",
       "      <td>59</td>\n",
       "      <td>91</td>\n",
       "      <td>150</td>\n",
       "    </tr>\n",
       "    <tr>\n",
       "      <th>1</th>\n",
       "      <td>30</td>\n",
       "      <td>487</td>\n",
       "      <td>517</td>\n",
       "    </tr>\n",
       "    <tr>\n",
       "      <th>Total</th>\n",
       "      <td>89</td>\n",
       "      <td>578</td>\n",
       "      <td>667</td>\n",
       "    </tr>\n",
       "  </tbody>\n",
       "</table>\n",
       "</div>"
      ],
      "text/plain": [
       "predicted   0    1  Total\n",
       "actual                   \n",
       "0          59   91    150\n",
       "1          30  487    517\n",
       "Total      89  578    667"
      ]
     },
     "execution_count": 87,
     "metadata": {},
     "output_type": "execute_result"
    }
   ],
   "source": [
    "pd.crosstab(test_y, y_pred_df.pred_y,margins=True,colnames=['predicted'],rownames=['actual'],margins_name=\"Total\")"
   ]
  },
  {
   "cell_type": "code",
   "execution_count": 88,
   "metadata": {},
   "outputs": [
    {
     "data": {
      "image/png": "[encoded data removed]",
      "text/plain": [
       "<Figure size 432x288 with 2 Axes>"
      ]
     },
     "metadata": {
      "needs_background": "light"
     },
     "output_type": "display_data"
    }
   ],
   "source": [
    "from confusion_matrix import make_confusion_matrix\n",
    "cf_matrix = metrics.confusion_matrix(test_y, y_pred_df.pred_y)\n",
    "labels = [\"TN\",\"FP\",\"FN\",\"TP\"]\n",
    "categories = [\"Reject [0]\",\"Sanction [1]\"]\n",
    "make_confusion_matrix(cf_matrix, \n",
    "                      group_names=labels,\n",
    "                      categories=categories, \n",
    "                      cmap=\"Greens\")"
   ]
  },
  {
   "cell_type": "code",
   "execution_count": 89,
   "metadata": {},
   "outputs": [
    {
     "name": "stdout",
     "output_type": "stream",
     "text": [
      "              precision    recall  f1-score   support\n",
      "\n",
      "           0       0.66      0.39      0.49       150\n",
      "           1       0.84      0.94      0.89       517\n",
      "\n",
      "    accuracy                           0.82       667\n",
      "   macro avg       0.75      0.67      0.69       667\n",
      "weighted avg       0.80      0.82      0.80       667\n",
      "\n"
     ]
    }
   ],
   "source": [
    "print( metrics.classification_report( test_y, y_pred_df.pred_y ) )"
   ]
  },
  {
   "cell_type": "markdown",
   "metadata": {},
   "source": [
    "### <font color='Blue'>5.6 Indentifying Important Features</font>"
   ]
  },
  {
   "cell_type": "code",
   "execution_count": 90,
   "metadata": {},
   "outputs": [
    {
     "data": {
      "image/png": "[encoded data removed]",
      "text/plain": [
       "<Figure size 576x432 with 1 Axes>"
      ]
     },
     "metadata": {
      "needs_background": "light"
     },
     "output_type": "display_data"
    }
   ],
   "source": [
    "import numpy as np\n",
    "\n",
    "# Create a dataframe to store the featues and their corresponding importances\n",
    "feature_rank = pd.DataFrame( { 'feature': train_X.columns, 'importance': sboost_clf.feature_importances_ } )\n",
    "\n",
    "## Sorting the features based on their importances with most important feature at top\n",
    "feature_rank = feature_rank.sort_values('importance', ascending = False)\n",
    "plt.figure(figsize=(8, 6))\n",
    "\n",
    "# plot the values\n",
    "sn.barplot( y = 'feature', x = 'importance', data = feature_rank );"
   ]
  },
  {
   "cell_type": "markdown",
   "metadata": {},
   "source": [
    "### <font color='Blue'>5.7 Results Comparison</font>"
   ]
  },
  {
   "cell_type": "markdown",
   "metadata": {},
   "source": [
    "### Single Classifiers\n",
    "    Logistic Regression              - AUC  0.770 \n",
    "    Decision Tree                    - AUC  0.717 \n",
    "    Naive-Bayes                      - AUC  0.719\n",
    "       \n",
    "### Ensembles \n",
    "    Bagging                          \n",
    "       Random Forest                 - AUC  0.761\n",
    "    Boosting\n",
    "       Adaptive Boosting             - AUC  0.789\n",
    "       Gradient Boosting             - AUC  0.768\n",
    "       Stochastic Gradient Boosting  - AUC  0.790"
   ]
  }
 ],
 "metadata": {
  "kernelspec": {
   "display_name": "Python 3",
   "language": "python",
   "name": "python3"
  },
  "language_info": {
   "codemirror_mode": {
    "name": "ipython",
    "version": 3
   },
   "file_extension": ".py",
   "mimetype": "text/x-python",
   "name": "python",
   "nbconvert_exporter": "python",
   "pygments_lexer": "ipython3",
   "version": "3.12.4"
  }
 },
 "nbformat": 4,
 "nbformat_minor": 4
}
